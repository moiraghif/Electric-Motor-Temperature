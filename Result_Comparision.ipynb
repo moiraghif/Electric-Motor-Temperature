{
  "nbformat": 4,
  "nbformat_minor": 0,
  "metadata": {
    "kernelspec": {
      "name": "python3",
      "display_name": "Python 3"
    },
    "language_info": {
      "codemirror_mode": {
        "name": "ipython",
        "version": 3
      },
      "file_extension": ".py",
      "mimetype": "text/x-python",
      "name": "python",
      "nbconvert_exporter": "python",
      "pygments_lexer": "ipython3",
      "version": "3.7.5"
    },
    "colab": {
      "name": "Result_Comparision.ipynb",
      "provenance": [],
      "collapsed_sections": []
    },
    "accelerator": "GPU"
  },
  "cells": [
    {
      "cell_type": "code",
      "metadata": {
        "id": "2kREPFGTqfmi",
        "colab_type": "code",
        "colab": {}
      },
      "source": [
        "import pandas as pd\n",
        "import numpy as np\n",
        "\n",
        "import torch\n",
        "import torch.nn as nn\n",
        "import torch.nn.functional as F\n",
        "import torch.optim as optim"
      ],
      "execution_count": 0,
      "outputs": []
    },
    {
      "cell_type": "code",
      "metadata": {
        "id": "PNftIUO3qfmq",
        "colab_type": "code",
        "colab": {
          "base_uri": "https://localhost:8080/",
          "height": 34
        },
        "outputId": "e6a7a303-b40a-4fd0-9194-39b70b69adec"
      },
      "source": [
        "device = torch.device(\"cuda\" if torch.cuda.is_available() \\\n",
        "                      else \"cpu\")\n",
        "#device = \"cpu\"\n",
        "print(\"working on: \" + str(device))"
      ],
      "execution_count": 2,
      "outputs": [
        {
          "output_type": "stream",
          "text": [
            "working on: cuda\n"
          ],
          "name": "stdout"
        }
      ]
    },
    {
      "cell_type": "code",
      "metadata": {
        "id": "BbTeZTjGqnBm",
        "colab_type": "code",
        "colab": {
          "base_uri": "https://localhost:8080/",
          "height": 122
        },
        "outputId": "45adc2f6-fb8c-4605-b3f4-89bade661519"
      },
      "source": [
        "from google.colab import drive\n",
        "drive.mount('/content/drive')"
      ],
      "execution_count": 3,
      "outputs": [
        {
          "output_type": "stream",
          "text": [
            "Go to this URL in a browser: https://accounts.google.com/o/oauth2/auth?client_id=947318989803-6bn6qk8qdgf4n4g3pfee6491hc0brc4i.apps.googleusercontent.com&redirect_uri=urn%3aietf%3awg%3aoauth%3a2.0%3aoob&response_type=code&scope=email%20https%3a%2f%2fwww.googleapis.com%2fauth%2fdocs.test%20https%3a%2f%2fwww.googleapis.com%2fauth%2fdrive%20https%3a%2f%2fwww.googleapis.com%2fauth%2fdrive.photos.readonly%20https%3a%2f%2fwww.googleapis.com%2fauth%2fpeopleapi.readonly\n",
            "\n",
            "Enter your authorization code:\n",
            "··········\n",
            "Mounted at /content/drive\n"
          ],
          "name": "stdout"
        }
      ]
    },
    {
      "cell_type": "code",
      "metadata": {
        "id": "9fYyhCThqfmx",
        "colab_type": "code",
        "colab": {}
      },
      "source": [
        "path=\"drive/My Drive/AML/\"\n",
        "df = pd.read_csv(path + \"pmsm_temperature_data.csv\")"
      ],
      "execution_count": 0,
      "outputs": []
    },
    {
      "cell_type": "code",
      "metadata": {
        "id": "peZ34YdYqfm3",
        "colab_type": "code",
        "colab": {}
      },
      "source": [
        "df_sep = [df[df.profile_id==profile].drop(['profile_id','torque'], axis=1).reset_index(drop=True) for profile in df.profile_id.unique()]\n",
        "\n",
        "train_min = df[~df.profile_id.isin([4, 8, 16, 24, 32, 40, 48, 51, 35, 42])].drop(['profile_id','torque'], axis=1).min()\n",
        "train_max = df[~df.profile_id.isin([4, 8, 16, 24, 32, 40, 48, 51, 35, 42])].drop(['profile_id','torque'], axis=1).max()\n",
        "\n",
        "df_train = [(df_sep[i] - train_min)/(train_max - train_min)\\\n",
        "            for i in list(range(0,52)) if i not in [4, 8, 16, 24, 32, \n",
        "                                                    40, 48, 51, #val\n",
        "                                                    35, 42]] #test\n",
        "\n",
        "df_val = [(df_sep[i] - train_min)/(train_max - train_min)\\\n",
        "          for i in [4, 8, 16, 24, 32, 40, 48, 51]]\n",
        "\n",
        "df_test = [(df_sep[i] - train_min)/(train_max - train_min) for i in [35, 42]]"
      ],
      "execution_count": 0,
      "outputs": []
    },
    {
      "cell_type": "code",
      "metadata": {
        "id": "yHX97spNqfm-",
        "colab_type": "code",
        "colab": {}
      },
      "source": [
        "def dataloader(data, length, FEATURES, TARGET, shuffle=True, out=1):\n",
        "    while True:\n",
        "    # genera una lista di (i_serie, i_obs)\n",
        "        tuples = [[(df_i, i) for i, x in enumerate(data[df_i]) if i >= length + out]\n",
        "                  for df_i, _ in enumerate(data)]\n",
        "        tuples = sum(tuples, [])  # flattenizza\n",
        "        # shuffle\n",
        "        if shuffle:\n",
        "            np.random.shuffle(tuples)\n",
        "\n",
        "        # yielda le osservazioni\n",
        "        for df_i, i in tuples:\n",
        "            X_lagged = data[df_i][(i - length - out):(i - out), FEATURES + TARGET]\n",
        "            y = data[df_i][(i-out):(i), TARGET]\n",
        "            yield X_lagged, y"
      ],
      "execution_count": 0,
      "outputs": []
    },
    {
      "cell_type": "code",
      "metadata": {
        "id": "_V8ChUSTqfnD",
        "colab_type": "code",
        "colab": {}
      },
      "source": [
        "def outputSize(in_size, kernel_size, stride, padding):\n",
        "  output = int((in_size - kernel_size + 2*(padding)) / stride) + 1\n",
        "  return(output)\n",
        "\n",
        "class CNN_Net_2(nn.Module):\n",
        "    def __init__(self, batch, in_c, out, \n",
        "                 filtro1, filtro2,\n",
        "                 num_ser, \n",
        "                 neuroni1, neuroni2,\n",
        "                 kernel1, kernel2, kernel3, kernel4, \n",
        "                 #padding1, padding2, padding3, padding4, \n",
        "                 stride1, stride2, stride3, stride4):\n",
        "        super(CNN_Net_2, self).__init__()\n",
        "        self.batch_size = 1\n",
        "        self.in_c = in_c\n",
        "        l0 = num_ser\n",
        "        l1 = outputSize(l0,kernel1,stride1,0)\n",
        "        l2 = outputSize(l1,kernel2,stride2,0)\n",
        "        l3 = outputSize(l2,kernel3,stride3,0)\n",
        "        l4 = outputSize(l3,kernel4,stride4,0)\n",
        "        #print(l4)\n",
        "\n",
        "        self.conv1 = nn.Conv1d(in_channels= in_c, \n",
        "                               out_channels= filtro1, \n",
        "                               kernel_size= kernel1,\n",
        "                               stride= stride1,\n",
        "                               padding=0)    \n",
        "        self.pool1 = nn.MaxPool1d(kernel2,stride=stride2,padding=0) \n",
        "        self.conv2 = nn.Conv1d(filtro1,filtro2,kernel3,stride=stride3,padding=0)\n",
        "        self.pool2 = nn.MaxPool1d(kernel4,stride=stride4,padding=0)\n",
        "        self.fc1 = nn.Linear(filtro2*l4, neuroni1)\n",
        "        self.fc2 = nn.Linear(neuroni1, neuroni2)\n",
        "        self.fc3 = nn.Linear(neuroni2, out)\n",
        "\n",
        "    def forward(self, x):\n",
        "        batch_size, _, _ = x.shape\n",
        "        x =  self.pool1(F.relu(self.conv1(x)))\n",
        "        x = self.pool2(F.relu(self.conv2(x)))\n",
        "        x = x.view(batch_size, self.num_flat_features(x))\n",
        "        x = F.relu(self.fc1(x)) \n",
        "        x = F.relu(self.fc2(x))\n",
        "        return  self.fc3(x)\n",
        "\n",
        "    def num_flat_features(self, x):\n",
        "        size = x.size()[1:]  # all dimensions except the batch dimension\n",
        "        num_features = 1\n",
        "        for s in size:       # Get the products\n",
        "            num_features *= s\n",
        "        return num_features"
      ],
      "execution_count": 0,
      "outputs": []
    },
    {
      "cell_type": "code",
      "metadata": {
        "id": "HpSjmK3fqfnK",
        "colab_type": "code",
        "colab": {}
      },
      "source": [
        "best_mse = torch.load(path + \"models/best_model_cnn\").to(device)\n",
        "best_mse_stator = torch.load(path + \"models/best_model_cnn_stator\").to(device)"
      ],
      "execution_count": 0,
      "outputs": []
    },
    {
      "cell_type": "code",
      "metadata": {
        "id": "VeTmuMT9qfnR",
        "colab_type": "code",
        "colab": {}
      },
      "source": [
        "def check_performance(data_array, batch_size, look_back):\n",
        "    FEATURES = [0, 1, 2, 3, 4, 5, 6]\n",
        "    TARGET = [7]\n",
        "\n",
        "    gen = dataloader([df.values for df in data_array], look_back, FEATURES, TARGET, shuffle=False)\n",
        "    size = sum(df.shape[0] for df in data_array)\n",
        "\n",
        "    y_test = []\n",
        "    y_pred_all = []\n",
        "    for x in range(0, size, batch_size):\n",
        "        X_test = []\n",
        "        for i in range(batch_size):\n",
        "            try:\n",
        "                X,y = next(gen)\n",
        "                X_test.append(X)\n",
        "                y_test.append(y)\n",
        "            except:\n",
        "                break\n",
        "        inpt = np.array(X_test).reshape(-1, look_back, 8)\n",
        "        x_test_batch = torch.tensor(inpt,dtype=torch.float32).to(device)  \n",
        "        y_pred = best_mse(x_test_batch)\n",
        "\n",
        "        y_pred_all = np.append(y_pred_all,y_pred.cpu().detach().numpy())\n",
        "\n",
        "\n",
        "    pm_err = (y_pred_all - np.array(y_test).reshape(-1))**2\n",
        "\n",
        "    FEATURES = [0, 1, 2, 3, 4, 5, 6]\n",
        "    TARGET = [8, 9, 10]\n",
        "\n",
        "    torch.cuda.empty_cache()\n",
        "\n",
        "    gen = dataloader([df.values for df in data_array], look_back, FEATURES, TARGET, shuffle=False)\n",
        "\n",
        "    y_test = []\n",
        "    y_pred_all = []\n",
        "    for x in range(0, size, batch_size):\n",
        "        X_test = []\n",
        "        for i in range(batch_size):\n",
        "            try:\n",
        "                X,y = next(gen)\n",
        "                X_test.append(X)\n",
        "                y_test.append(y)\n",
        "            except:\n",
        "                break\n",
        "        inpt = np.array(X_test).reshape(-1, look_back, 10)\n",
        "        x_test_batch = torch.tensor(inpt,dtype=torch.float32).to(device)  \n",
        "        y_pred = best_mse_stator(x_test_batch)\n",
        "\n",
        "        y_pred_all = np.append(y_pred_all,y_pred.cpu().detach().numpy())\n",
        "\n",
        "\n",
        "    pm_err_stat = (y_pred_all.reshape(-1) - np.array(y_test).reshape(-1))**2\n",
        "\n",
        "\n",
        "    return np.mean(np.concatenate((pm_err, pm_err_stat)))"
      ],
      "execution_count": 0,
      "outputs": []
    },
    {
      "cell_type": "code",
      "metadata": {
        "id": "QexVjvjDqfnV",
        "colab_type": "code",
        "colab": {
          "base_uri": "https://localhost:8080/",
          "height": 34
        },
        "outputId": "2230592c-6491-4627-abbd-487fe72bfdd9"
      },
      "source": [
        "look_back = 60\n",
        "batch_size = 18803\n",
        "\n",
        "check_performance(df_train, batch_size, look_back)"
      ],
      "execution_count": 10,
      "outputs": [
        {
          "output_type": "execute_result",
          "data": {
            "text/plain": [
              "2.3169168124802886e-05"
            ]
          },
          "metadata": {
            "tags": []
          },
          "execution_count": 10
        }
      ]
    },
    {
      "cell_type": "code",
      "metadata": {
        "id": "FIQU3y3kqfn5",
        "colab_type": "code",
        "colab": {}
      },
      "source": [
        "#validation"
      ],
      "execution_count": 0,
      "outputs": []
    },
    {
      "cell_type": "code",
      "metadata": {
        "id": "qiW7ob6rrgWE",
        "colab_type": "code",
        "colab": {
          "base_uri": "https://localhost:8080/",
          "height": 34
        },
        "outputId": "07176a2b-11e5-4b1b-871c-10812dc9edbb"
      },
      "source": [
        "look_back = 60\n",
        "batch_size = 7403\n",
        "\n",
        "check_performance(df_val, batch_size, look_back)"
      ],
      "execution_count": 11,
      "outputs": [
        {
          "output_type": "execute_result",
          "data": {
            "text/plain": [
              "2.281504908293559e-05"
            ]
          },
          "metadata": {
            "tags": []
          },
          "execution_count": 11
        }
      ]
    },
    {
      "cell_type": "code",
      "metadata": {
        "id": "-hs9us4aqfoW",
        "colab_type": "code",
        "colab": {}
      },
      "source": [
        "#test"
      ],
      "execution_count": 0,
      "outputs": []
    },
    {
      "cell_type": "code",
      "metadata": {
        "id": "3pMacr-Wqfob",
        "colab_type": "code",
        "colab": {
          "base_uri": "https://localhost:8080/",
          "height": 34
        },
        "outputId": "7e783655-0849-4762-ad0a-f997fd03bb43"
      },
      "source": [
        "look_back = 60\n",
        "batch_size = 28439\n",
        "\n",
        "check_performance(df_test, batch_size, look_back)"
      ],
      "execution_count": 12,
      "outputs": [
        {
          "output_type": "execute_result",
          "data": {
            "text/plain": [
              "2.3870405136875294e-05"
            ]
          },
          "metadata": {
            "tags": []
          },
          "execution_count": 12
        }
      ]
    },
    {
      "cell_type": "markdown",
      "metadata": {
        "id": "DF0G2jLmqfok",
        "colab_type": "text"
      },
      "source": [
        "# LSTM"
      ]
    },
    {
      "cell_type": "code",
      "metadata": {
        "id": "PFMTOLOYqfol",
        "colab_type": "code",
        "colab": {}
      },
      "source": [
        "class LSTM_Net(nn.Module):\n",
        "    def __init__(self, features, hidden, h1, h2, out):\n",
        "        super(LSTM_Net, self).__init__()\n",
        "        self.h1 = h1\n",
        "        self.h2 = h2\n",
        "\n",
        "        self.hidden_size = hidden\n",
        "        self.features = features\n",
        "\n",
        "        self.lstm = nn.LSTM(self.features, self.hidden_size, 1, #feature_size, hidden_size, num_layer\n",
        "                            batch_first = True) \n",
        "        self.fc1 = nn.Linear(self.hidden_size, \n",
        "                                h1)\n",
        "        self.out = nn.Linear(h1, out)\n",
        "\n",
        "        if self.h2 != 0:\n",
        "            self.fc2 = nn.Linear(h1, h2)\n",
        "            self.out = nn.Linear(h2, out)\n",
        "        \n",
        "        #we do it stateless so there is no need for the hidden_state\n",
        "        #self.hidden = None #torch.randn(1, ??, self.hidden) #num_layer, batch, hidden_size\n",
        "\n",
        "    def forward(self, x):\n",
        "        batch_size, _, _ = x.shape \n",
        "        \n",
        "        x, _ =  self.lstm(x)\n",
        "        x = F.tanh(x[:,-1].view(batch_size, -1))\n",
        "        \n",
        "        x = F.relu(self.fc1(x))\n",
        "        if self.h2 != 0:\n",
        "            x = F.relu(self.fc2(x))\n",
        "        return self.out(x)"
      ],
      "execution_count": 0,
      "outputs": []
    },
    {
      "cell_type": "code",
      "metadata": {
        "id": "9lmct-cyqfop",
        "colab_type": "code",
        "colab": {
          "base_uri": "https://localhost:8080/",
          "height": 71
        },
        "outputId": "ce01d32e-6783-4762-916d-08870d85a187"
      },
      "source": [
        "best_mse = torch.load(path + \"models/best_model_lstm\").to(device)\n",
        "best_mse_stator = torch.load(path + \"models/best_model_lstm_stator\").to(device)"
      ],
      "execution_count": 15,
      "outputs": [
        {
          "output_type": "stream",
          "text": [
            "/usr/local/lib/python3.6/dist-packages/torch/serialization.py:493: SourceChangeWarning: source code of class 'torch.nn.modules.rnn.LSTM' has changed. you can retrieve the original source code by accessing the object's source attribute or set `torch.nn.Module.dump_patches = True` and use the patch tool to revert the changes.\n",
            "  warnings.warn(msg, SourceChangeWarning)\n"
          ],
          "name": "stderr"
        }
      ]
    },
    {
      "cell_type": "code",
      "metadata": {
        "id": "z5d1zsrBqfov",
        "colab_type": "code",
        "colab": {
          "base_uri": "https://localhost:8080/",
          "height": 68
        },
        "outputId": "bc6e4ed6-ee5d-4bbf-8461-2a06bbe1c0dc"
      },
      "source": [
        "look_back = 60\n",
        "batch_size = 18803\n",
        "\n",
        "check_performance(df_train, batch_size, look_back)"
      ],
      "execution_count": 16,
      "outputs": [
        {
          "output_type": "stream",
          "text": [
            "/usr/local/lib/python3.6/dist-packages/torch/nn/functional.py:1340: UserWarning: nn.functional.tanh is deprecated. Use torch.tanh instead.\n",
            "  warnings.warn(\"nn.functional.tanh is deprecated. Use torch.tanh instead.\")\n"
          ],
          "name": "stderr"
        },
        {
          "output_type": "execute_result",
          "data": {
            "text/plain": [
              "9.83681378898177e-06"
            ]
          },
          "metadata": {
            "tags": []
          },
          "execution_count": 16
        }
      ]
    },
    {
      "cell_type": "code",
      "metadata": {
        "id": "WXXeI5Zzqfo0",
        "colab_type": "code",
        "colab": {
          "base_uri": "https://localhost:8080/",
          "height": 68
        },
        "outputId": "d1e98005-6def-453e-9922-04ae27064fd9"
      },
      "source": [
        "look_back = 60\n",
        "batch_size = 7403\n",
        "\n",
        "check_performance(df_val, batch_size, look_back)"
      ],
      "execution_count": 17,
      "outputs": [
        {
          "output_type": "stream",
          "text": [
            "/usr/local/lib/python3.6/dist-packages/torch/nn/functional.py:1340: UserWarning: nn.functional.tanh is deprecated. Use torch.tanh instead.\n",
            "  warnings.warn(\"nn.functional.tanh is deprecated. Use torch.tanh instead.\")\n"
          ],
          "name": "stderr"
        },
        {
          "output_type": "execute_result",
          "data": {
            "text/plain": [
              "9.715135123805541e-06"
            ]
          },
          "metadata": {
            "tags": []
          },
          "execution_count": 17
        }
      ]
    },
    {
      "cell_type": "code",
      "metadata": {
        "id": "atDmVD0Gqfo4",
        "colab_type": "code",
        "colab": {
          "base_uri": "https://localhost:8080/",
          "height": 68
        },
        "outputId": "0b9a5cf3-bccc-4bac-c821-437f93340dcb"
      },
      "source": [
        "look_back = 60\n",
        "batch_size = 28439\n",
        "\n",
        "check_performance(df_test, batch_size, look_back)"
      ],
      "execution_count": 18,
      "outputs": [
        {
          "output_type": "stream",
          "text": [
            "/usr/local/lib/python3.6/dist-packages/torch/nn/functional.py:1340: UserWarning: nn.functional.tanh is deprecated. Use torch.tanh instead.\n",
            "  warnings.warn(\"nn.functional.tanh is deprecated. Use torch.tanh instead.\")\n"
          ],
          "name": "stderr"
        },
        {
          "output_type": "execute_result",
          "data": {
            "text/plain": [
              "1.0090488300309295e-05"
            ]
          },
          "metadata": {
            "tags": []
          },
          "execution_count": 18
        }
      ]
    }
  ]
}