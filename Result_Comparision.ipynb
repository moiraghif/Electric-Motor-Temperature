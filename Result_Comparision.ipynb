{
 "cells": [
  {
   "cell_type": "code",
   "execution_count": 1,
   "metadata": {
    "colab": {},
    "colab_type": "code",
    "id": "2kREPFGTqfmi"
   },
   "outputs": [],
   "source": [
    "import pandas as pd\n",
    "import numpy as np\n",
    "\n",
    "import torch\n",
    "import torch.nn as nn\n",
    "import torch.nn.functional as F\n",
    "import torch.optim as optim"
   ]
  },
  {
   "cell_type": "code",
   "execution_count": 2,
   "metadata": {
    "colab": {
     "base_uri": "https://localhost:8080/",
     "height": 34
    },
    "colab_type": "code",
    "id": "PNftIUO3qfmq",
    "outputId": "1d12830b-b53d-483f-f1af-aef042c978f3"
   },
   "outputs": [
    {
     "name": "stdout",
     "output_type": "stream",
     "text": [
      "working on: cuda\n"
     ]
    }
   ],
   "source": [
    "device = torch.device(\"cuda\" if torch.cuda.is_available() \\\n",
    "                      else \"cpu\")\n",
    "#device = \"cpu\"\n",
    "print(\"working on: \" + str(device))"
   ]
  },
  {
   "cell_type": "code",
   "execution_count": 4,
   "metadata": {
    "colab": {
     "base_uri": "https://localhost:8080/",
     "height": 122
    },
    "colab_type": "code",
    "id": "BbTeZTjGqnBm",
    "outputId": "245fc7c8-5c42-4c3d-eba2-868485fcbe4b"
   },
   "outputs": [],
   "source": [
    "#from google.colab import drive\n",
    "#drive.mount('/content/drive')"
   ]
  },
  {
   "cell_type": "code",
   "execution_count": 3,
   "metadata": {
    "colab": {},
    "colab_type": "code",
    "id": "9fYyhCThqfmx"
   },
   "outputs": [],
   "source": [
    "# path=\"drive/My Drive/AML/\"\n",
    "path=\"./\"\n",
    "\n",
    "df = pd.read_csv(path + \"pmsm_temperature_data.csv\")"
   ]
  },
  {
   "cell_type": "code",
   "execution_count": 4,
   "metadata": {
    "colab": {},
    "colab_type": "code",
    "id": "peZ34YdYqfm3"
   },
   "outputs": [],
   "source": [
    "df_sep = [df[df.profile_id==profile].drop(['profile_id','torque'], axis=1).reset_index(drop=True) for profile in df.profile_id.unique()]\n",
    "\n",
    "train_min = df[~df.profile_id.isin([4, 8, 16, 24, 32, 40, 48, 51, 35, 42])].drop(['profile_id','torque'], axis=1).min()\n",
    "train_max = df[~df.profile_id.isin([4, 8, 16, 24, 32, 40, 48, 51, 35, 42])].drop(['profile_id','torque'], axis=1).max()\n",
    "\n",
    "df_train = [(df_sep[i] - train_min)/(train_max - train_min)\\\n",
    "            for i in list(range(0,52)) if i not in [4, 8, 16, 24, 32, \n",
    "                                                    40, 48, 51, #val\n",
    "                                                    35, 42]] #test\n",
    "\n",
    "df_val = [(df_sep[i] - train_min)/(train_max - train_min)\\\n",
    "          for i in [4, 8, 16, 24, 32, 40, 48, 51]]\n",
    "\n",
    "df_test = [(df_sep[i] - train_min)/(train_max - train_min) for i in [35, 42]]"
   ]
  },
  {
   "cell_type": "code",
   "execution_count": 5,
   "metadata": {
    "colab": {},
    "colab_type": "code",
    "id": "yHX97spNqfm-"
   },
   "outputs": [],
   "source": [
    "def dataloader(data, length, FEATURES, TARGET, shuffle=True, out=1):\n",
    "    while True:\n",
    "    # genera una lista di (i_serie, i_obs)\n",
    "        tuples = [[(df_i, i) for i, x in enumerate(data[df_i]) if i >= length + out]\n",
    "                  for df_i, _ in enumerate(data)]\n",
    "        tuples = sum(tuples, [])  # flattenizza\n",
    "        # shuffle\n",
    "        if shuffle:\n",
    "            np.random.shuffle(tuples)\n",
    "\n",
    "        # yielda le osservazioni\n",
    "        for df_i, i in tuples:\n",
    "            X_lagged = data[df_i][(i - length - out):(i - out), FEATURES + TARGET]\n",
    "            y = data[df_i][(i-out):(i), TARGET]\n",
    "            yield X_lagged, y"
   ]
  },
  {
   "cell_type": "code",
   "execution_count": 6,
   "metadata": {
    "colab": {},
    "colab_type": "code",
    "id": "_V8ChUSTqfnD"
   },
   "outputs": [],
   "source": [
    "def outputSize(in_size, kernel_size, stride, padding):\n",
    "  output = int((in_size - kernel_size + 2*(padding)) / stride) + 1\n",
    "  return(output)\n",
    "\n",
    "class CNN_Net_2(nn.Module):\n",
    "    def __init__(self, batch, in_c, out, \n",
    "                 filtro1, filtro2,\n",
    "                 num_ser, \n",
    "                 neuroni1, neuroni2,\n",
    "                 kernel1, kernel2, kernel3, kernel4, \n",
    "                 #padding1, padding2, padding3, padding4, \n",
    "                 stride1, stride2, stride3, stride4):\n",
    "        super(CNN_Net_2, self).__init__()\n",
    "        self.batch_size = 1\n",
    "        self.in_c = in_c\n",
    "        l0 = num_ser\n",
    "        l1 = outputSize(l0,kernel1,stride1,0)\n",
    "        l2 = outputSize(l1,kernel2,stride2,0)\n",
    "        l3 = outputSize(l2,kernel3,stride3,0)\n",
    "        l4 = outputSize(l3,kernel4,stride4,0)\n",
    "        #print(l4)\n",
    "\n",
    "        self.conv1 = nn.Conv1d(in_channels= in_c, \n",
    "                               out_channels= filtro1, \n",
    "                               kernel_size= kernel1,\n",
    "                               stride= stride1,\n",
    "                               padding=0)    \n",
    "        self.pool1 = nn.MaxPool1d(kernel2,stride=stride2,padding=0) \n",
    "        self.conv2 = nn.Conv1d(filtro1,filtro2,kernel3,stride=stride3,padding=0)\n",
    "        self.pool2 = nn.MaxPool1d(kernel4,stride=stride4,padding=0)\n",
    "        self.fc1 = nn.Linear(filtro2*l4, neuroni1)\n",
    "        self.fc2 = nn.Linear(neuroni1, neuroni2)\n",
    "        self.fc3 = nn.Linear(neuroni2, out)\n",
    "\n",
    "    def forward(self, x):\n",
    "        batch_size, _, _ = x.shape\n",
    "        x =  self.pool1(F.relu(self.conv1(x)))\n",
    "        x = self.pool2(F.relu(self.conv2(x)))\n",
    "        x = x.view(batch_size, self.num_flat_features(x))\n",
    "        x = F.relu(self.fc1(x)) \n",
    "        x = F.relu(self.fc2(x))\n",
    "        return  self.fc3(x)\n",
    "\n",
    "    def num_flat_features(self, x):\n",
    "        size = x.size()[1:]  # all dimensions except the batch dimension\n",
    "        num_features = 1\n",
    "        for s in size:       # Get the products\n",
    "            num_features *= s\n",
    "        return num_features"
   ]
  },
  {
   "cell_type": "code",
   "execution_count": 0,
   "metadata": {
    "colab": {},
    "colab_type": "code",
    "id": "HpSjmK3fqfnK"
   },
   "outputs": [],
   "source": [
    "best_mse = torch.load(path + \"models/best_model_cnn\").to(device)\n",
    "best_mse_stator = torch.load(path + \"models/best_model_cnn_stator\").to(device)"
   ]
  },
  {
   "cell_type": "code",
   "execution_count": 0,
   "metadata": {
    "colab": {},
    "colab_type": "code",
    "id": "VeTmuMT9qfnR"
   },
   "outputs": [],
   "source": [
    "def check_performance(data_array, batch_size, look_back):\n",
    "    FEATURES = [0, 1, 2, 3, 4, 5, 6]\n",
    "    TARGET = [7]\n",
    "\n",
    "    gen = dataloader([df.values for df in data_array], look_back, FEATURES, TARGET, shuffle=False)\n",
    "    size = sum(df.shape[0] for df in data_array)\n",
    "\n",
    "    y_test = []\n",
    "    y_pred_all = []\n",
    "    for x in range(0, size, batch_size):\n",
    "        X_test = []\n",
    "        for i in range(batch_size):\n",
    "            try:\n",
    "                X,y = next(gen)\n",
    "                X_test.append(X)\n",
    "                y_test.append(y)\n",
    "            except:\n",
    "                break\n",
    "        inpt = np.array(X_test).reshape(-1, look_back, 8)\n",
    "        x_test_batch = torch.tensor(inpt,dtype=torch.float32).to(device)  \n",
    "        y_pred = best_mse(x_test_batch)\n",
    "\n",
    "        y_pred_all = np.append(y_pred_all,y_pred.cpu().detach().numpy())\n",
    "\n",
    "\n",
    "    pm_err = (y_pred_all - np.array(y_test).reshape(-1))**2\n",
    "\n",
    "    FEATURES = [0, 1, 2, 3, 4, 5, 6]\n",
    "    TARGET = [8, 9, 10]\n",
    "\n",
    "    torch.cuda.empty_cache()\n",
    "\n",
    "    gen = dataloader([df.values for df in data_array], look_back, FEATURES, TARGET, shuffle=False)\n",
    "\n",
    "    y_test = []\n",
    "    y_pred_all = []\n",
    "    for x in range(0, size, batch_size):\n",
    "        X_test = []\n",
    "        for i in range(batch_size):\n",
    "            try:\n",
    "                X,y = next(gen)\n",
    "                X_test.append(X)\n",
    "                y_test.append(y)\n",
    "            except:\n",
    "                break\n",
    "        inpt = np.array(X_test).reshape(-1, look_back, 10)\n",
    "        x_test_batch = torch.tensor(inpt,dtype=torch.float32).to(device)  \n",
    "        y_pred = best_mse_stator(x_test_batch)\n",
    "\n",
    "        y_pred_all = np.append(y_pred_all,y_pred.cpu().detach().numpy())\n",
    "\n",
    "\n",
    "    pm_err_stat = (y_pred_all.reshape(-1) - np.array(y_test).reshape(-1))**2\n",
    "\n",
    "\n",
    "    return np.mean(np.concatenate((pm_err, pm_err_stat)))"
   ]
  },
  {
   "cell_type": "code",
   "execution_count": 10,
   "metadata": {
    "colab": {
     "base_uri": "https://localhost:8080/",
     "height": 34
    },
    "colab_type": "code",
    "id": "QexVjvjDqfnV",
    "outputId": "c762064c-ab70-4296-87d9-0abd8e65bc16"
   },
   "outputs": [
    {
     "data": {
      "text/plain": [
       "2.3169168124802886e-05"
      ]
     },
     "execution_count": 10,
     "metadata": {
      "tags": []
     },
     "output_type": "execute_result"
    }
   ],
   "source": [
    "look_back = 60\n",
    "batch_size = 18803\n",
    "\n",
    "check_performance(df_train, batch_size, look_back)"
   ]
  },
  {
   "cell_type": "code",
   "execution_count": 0,
   "metadata": {
    "colab": {},
    "colab_type": "code",
    "id": "FIQU3y3kqfn5"
   },
   "outputs": [],
   "source": [
    "#validation"
   ]
  },
  {
   "cell_type": "code",
   "execution_count": 12,
   "metadata": {
    "colab": {
     "base_uri": "https://localhost:8080/",
     "height": 34
    },
    "colab_type": "code",
    "id": "qiW7ob6rrgWE",
    "outputId": "279250a9-f934-44a3-e8a4-2c98e9444396"
   },
   "outputs": [
    {
     "data": {
      "text/plain": [
       "2.281504908293559e-05"
      ]
     },
     "execution_count": 12,
     "metadata": {
      "tags": []
     },
     "output_type": "execute_result"
    }
   ],
   "source": [
    "look_back = 60\n",
    "batch_size = 7403\n",
    "\n",
    "check_performance(df_val, batch_size, look_back)"
   ]
  },
  {
   "cell_type": "code",
   "execution_count": 0,
   "metadata": {
    "colab": {},
    "colab_type": "code",
    "id": "-hs9us4aqfoW"
   },
   "outputs": [],
   "source": [
    "#test"
   ]
  },
  {
   "cell_type": "code",
   "execution_count": 14,
   "metadata": {
    "colab": {
     "base_uri": "https://localhost:8080/",
     "height": 34
    },
    "colab_type": "code",
    "id": "3pMacr-Wqfob",
    "outputId": "2b1b1408-42d8-4ba9-a9da-6784c0c2e89a"
   },
   "outputs": [
    {
     "data": {
      "text/plain": [
       "2.3870405136875294e-05"
      ]
     },
     "execution_count": 14,
     "metadata": {
      "tags": []
     },
     "output_type": "execute_result"
    }
   ],
   "source": [
    "look_back = 60\n",
    "batch_size = 28439\n",
    "\n",
    "check_performance(df_test, batch_size, look_back)"
   ]
  },
  {
   "cell_type": "markdown",
   "metadata": {
    "colab_type": "text",
    "id": "DF0G2jLmqfok"
   },
   "source": [
    "# LSTM"
   ]
  },
  {
   "cell_type": "code",
   "execution_count": 0,
   "metadata": {
    "colab": {},
    "colab_type": "code",
    "id": "PFMTOLOYqfol"
   },
   "outputs": [],
   "source": [
    "class LSTM_Net(nn.Module):\n",
    "    def __init__(self, features, hidden, h1, h2, out):\n",
    "        super(LSTM_Net, self).__init__()\n",
    "        self.h1 = h1\n",
    "        self.h2 = h2\n",
    "\n",
    "        self.hidden_size = hidden\n",
    "        self.features = features\n",
    "\n",
    "        self.lstm = nn.LSTM(self.features, self.hidden_size, 1, #feature_size, hidden_size, num_layer\n",
    "                            batch_first = True) \n",
    "        self.fc1 = nn.Linear(self.hidden_size, \n",
    "                                h1)\n",
    "        self.out = nn.Linear(h1, out)\n",
    "\n",
    "        if self.h2 != 0:\n",
    "            self.fc2 = nn.Linear(h1, h2)\n",
    "            self.out = nn.Linear(h2, out)\n",
    "        \n",
    "        #we do it stateless so there is no need for the hidden_state\n",
    "        #self.hidden = None #torch.randn(1, ??, self.hidden) #num_layer, batch, hidden_size\n",
    "\n",
    "    def forward(self, x):\n",
    "        batch_size, _, _ = x.shape \n",
    "        \n",
    "        x, _ =  self.lstm(x)\n",
    "        x = F.tanh(x[:,-1].view(batch_size, -1))\n",
    "        \n",
    "        x = F.relu(self.fc1(x))\n",
    "        if self.h2 != 0:\n",
    "            x = F.relu(self.fc2(x))\n",
    "        return self.out(x)"
   ]
  },
  {
   "cell_type": "code",
   "execution_count": 16,
   "metadata": {
    "colab": {
     "base_uri": "https://localhost:8080/",
     "height": 71
    },
    "colab_type": "code",
    "id": "9lmct-cyqfop",
    "outputId": "9444f408-6331-4c69-cd3d-d1b19642271c"
   },
   "outputs": [
    {
     "name": "stderr",
     "output_type": "stream",
     "text": [
      "/usr/local/lib/python3.6/dist-packages/torch/serialization.py:493: SourceChangeWarning: source code of class 'torch.nn.modules.rnn.LSTM' has changed. you can retrieve the original source code by accessing the object's source attribute or set `torch.nn.Module.dump_patches = True` and use the patch tool to revert the changes.\n",
      "  warnings.warn(msg, SourceChangeWarning)\n"
     ]
    }
   ],
   "source": [
    "best_mse = torch.load(path + \"models/best_model_lstm\").to(device)\n",
    "best_mse_stator = torch.load(path + \"models/best_model_lstm_stator\").to(device)"
   ]
  },
  {
   "cell_type": "code",
   "execution_count": 17,
   "metadata": {
    "colab": {
     "base_uri": "https://localhost:8080/",
     "height": 68
    },
    "colab_type": "code",
    "id": "z5d1zsrBqfov",
    "outputId": "24a78f16-5eae-48f8-bfcb-bc57eabeea95"
   },
   "outputs": [
    {
     "name": "stderr",
     "output_type": "stream",
     "text": [
      "/usr/local/lib/python3.6/dist-packages/torch/nn/functional.py:1340: UserWarning: nn.functional.tanh is deprecated. Use torch.tanh instead.\n",
      "  warnings.warn(\"nn.functional.tanh is deprecated. Use torch.tanh instead.\")\n"
     ]
    },
    {
     "data": {
      "text/plain": [
       "9.83681378898177e-06"
      ]
     },
     "execution_count": 17,
     "metadata": {
      "tags": []
     },
     "output_type": "execute_result"
    }
   ],
   "source": [
    "look_back = 60\n",
    "batch_size = 18803\n",
    "\n",
    "check_performance(df_train, batch_size, look_back)"
   ]
  },
  {
   "cell_type": "code",
   "execution_count": 18,
   "metadata": {
    "colab": {
     "base_uri": "https://localhost:8080/",
     "height": 68
    },
    "colab_type": "code",
    "id": "WXXeI5Zzqfo0",
    "outputId": "5afab2a6-5045-4dc0-bedd-d707aa6c6f5d"
   },
   "outputs": [
    {
     "name": "stderr",
     "output_type": "stream",
     "text": [
      "/usr/local/lib/python3.6/dist-packages/torch/nn/functional.py:1340: UserWarning: nn.functional.tanh is deprecated. Use torch.tanh instead.\n",
      "  warnings.warn(\"nn.functional.tanh is deprecated. Use torch.tanh instead.\")\n"
     ]
    },
    {
     "data": {
      "text/plain": [
       "9.715135123805541e-06"
      ]
     },
     "execution_count": 18,
     "metadata": {
      "tags": []
     },
     "output_type": "execute_result"
    }
   ],
   "source": [
    "look_back = 60\n",
    "batch_size = 7403\n",
    "\n",
    "check_performance(df_val, batch_size, look_back)"
   ]
  },
  {
   "cell_type": "code",
   "execution_count": 19,
   "metadata": {
    "colab": {
     "base_uri": "https://localhost:8080/",
     "height": 68
    },
    "colab_type": "code",
    "id": "atDmVD0Gqfo4",
    "outputId": "c6c868c9-995e-4503-af93-8e40cc034bc1"
   },
   "outputs": [
    {
     "name": "stderr",
     "output_type": "stream",
     "text": [
      "/usr/local/lib/python3.6/dist-packages/torch/nn/functional.py:1340: UserWarning: nn.functional.tanh is deprecated. Use torch.tanh instead.\n",
      "  warnings.warn(\"nn.functional.tanh is deprecated. Use torch.tanh instead.\")\n"
     ]
    },
    {
     "data": {
      "text/plain": [
       "1.0090488300309295e-05"
      ]
     },
     "execution_count": 19,
     "metadata": {
      "tags": []
     },
     "output_type": "execute_result"
    }
   ],
   "source": [
    "look_back = 60\n",
    "batch_size = 28439\n",
    "\n",
    "check_performance(df_test, batch_size, look_back)"
   ]
  },
  {
   "cell_type": "markdown",
   "metadata": {
    "colab_type": "text",
    "id": "TiTkBChCyVCh"
   },
   "source": [
    "# GRU"
   ]
  },
  {
   "cell_type": "code",
   "execution_count": 0,
   "metadata": {
    "colab": {},
    "colab_type": "code",
    "id": "m-fSKBRXyVCj"
   },
   "outputs": [],
   "source": [
    "class GRU_Net(nn.Module):\n",
    "    def __init__(self, features, hidden, h1, h2, out):\n",
    "        super(GRU_Net, self).__init__()\n",
    "        self.h1 = h1\n",
    "        self.h2 = h2\n",
    "\n",
    "        self.hidden_size = hidden\n",
    "        self.features = features\n",
    "\n",
    "        self.gru = nn.GRU(self.features, self.hidden_size, 1, #feature_size, hidden_size, num_layer\n",
    "                            batch_first = True) \n",
    "        self.fc1 = nn.Linear(self.hidden_size, \n",
    "                                h1)\n",
    "        self.out = nn.Linear(h1, out)\n",
    "\n",
    "        if self.h2 != 0:\n",
    "            self.fc2 = nn.Linear(h1, h2)\n",
    "            self.out = nn.Linear(h2, out)\n",
    "        \n",
    "        #we do it stateless so there is no need for the hidden_state\n",
    "        #self.hidden = None #torch.randn(1, ??, self.hidden) #num_layer, batch, hidden_size\n",
    "\n",
    "    def forward(self, x):\n",
    "        batch_size, _, _ = x.shape \n",
    "        \n",
    "        x, _ =  self.gru(x)\n",
    "        x = F.tanh(x[:,-1].view(batch_size, -1))\n",
    "        \n",
    "        x = F.relu(self.fc1(x))\n",
    "        if self.h2 != 0:\n",
    "            x = F.relu(self.fc2(x))\n",
    "        return self.out(x)"
   ]
  },
  {
   "cell_type": "code",
   "execution_count": 21,
   "metadata": {
    "colab": {
     "base_uri": "https://localhost:8080/",
     "height": 71
    },
    "colab_type": "code",
    "id": "uxGEt87wyVCn",
    "outputId": "9eb25557-6c18-4cb4-d0c4-a9e966fa6b30"
   },
   "outputs": [
    {
     "name": "stderr",
     "output_type": "stream",
     "text": [
      "/usr/local/lib/python3.6/dist-packages/torch/serialization.py:493: SourceChangeWarning: source code of class 'torch.nn.modules.rnn.GRU' has changed. you can retrieve the original source code by accessing the object's source attribute or set `torch.nn.Module.dump_patches = True` and use the patch tool to revert the changes.\n",
      "  warnings.warn(msg, SourceChangeWarning)\n"
     ]
    }
   ],
   "source": [
    "best_mse = torch.load(path + \"models/best_model_gru\").to(device)\n",
    "best_mse_stator = torch.load(path + \"models/best_model_gru_stator\").to(device)"
   ]
  },
  {
   "cell_type": "code",
   "execution_count": 22,
   "metadata": {
    "colab": {
     "base_uri": "https://localhost:8080/",
     "height": 68
    },
    "colab_type": "code",
    "id": "XnZpPDjFyVCr",
    "outputId": "2cb8b869-fc7f-405d-b9dc-67c7cc8d8dc2"
   },
   "outputs": [
    {
     "name": "stderr",
     "output_type": "stream",
     "text": [
      "/usr/local/lib/python3.6/dist-packages/torch/nn/functional.py:1340: UserWarning: nn.functional.tanh is deprecated. Use torch.tanh instead.\n",
      "  warnings.warn(\"nn.functional.tanh is deprecated. Use torch.tanh instead.\")\n"
     ]
    },
    {
     "data": {
      "text/plain": [
       "1.2924896068066209e-05"
      ]
     },
     "execution_count": 22,
     "metadata": {
      "tags": []
     },
     "output_type": "execute_result"
    }
   ],
   "source": [
    "look_back = 60\n",
    "batch_size = 18803\n",
    "\n",
    "check_performance(df_train, batch_size, look_back)"
   ]
  },
  {
   "cell_type": "code",
   "execution_count": 23,
   "metadata": {
    "colab": {
     "base_uri": "https://localhost:8080/",
     "height": 68
    },
    "colab_type": "code",
    "id": "wIXnr9_ByVCu",
    "outputId": "d8c22752-1171-43bd-c0df-1923382e4387"
   },
   "outputs": [
    {
     "name": "stderr",
     "output_type": "stream",
     "text": [
      "/usr/local/lib/python3.6/dist-packages/torch/nn/functional.py:1340: UserWarning: nn.functional.tanh is deprecated. Use torch.tanh instead.\n",
      "  warnings.warn(\"nn.functional.tanh is deprecated. Use torch.tanh instead.\")\n"
     ]
    },
    {
     "data": {
      "text/plain": [
       "1.24560280487781e-05"
      ]
     },
     "execution_count": 23,
     "metadata": {
      "tags": []
     },
     "output_type": "execute_result"
    }
   ],
   "source": [
    "look_back = 60\n",
    "batch_size = 7403\n",
    "\n",
    "check_performance(df_val, batch_size, look_back)"
   ]
  },
  {
   "cell_type": "code",
   "execution_count": 24,
   "metadata": {
    "colab": {
     "base_uri": "https://localhost:8080/",
     "height": 68
    },
    "colab_type": "code",
    "id": "4Iq9C3ruyVCy",
    "outputId": "8f1f51f8-483e-4657-baee-14d219c90e9a"
   },
   "outputs": [
    {
     "name": "stderr",
     "output_type": "stream",
     "text": [
      "/usr/local/lib/python3.6/dist-packages/torch/nn/functional.py:1340: UserWarning: nn.functional.tanh is deprecated. Use torch.tanh instead.\n",
      "  warnings.warn(\"nn.functional.tanh is deprecated. Use torch.tanh instead.\")\n"
     ]
    },
    {
     "data": {
      "text/plain": [
       "1.282211785752774e-05"
      ]
     },
     "execution_count": 24,
     "metadata": {
      "tags": []
     },
     "output_type": "execute_result"
    }
   ],
   "source": [
    "look_back = 60\n",
    "batch_size = 28439\n",
    "\n",
    "check_performance(df_test, batch_size, look_back)"
   ]
  },
  {
   "cell_type": "markdown",
   "metadata": {
    "colab_type": "text",
    "id": "6C9pNoVsyVC1"
   },
   "source": [
    "# Custom Loss"
   ]
  },
  {
   "cell_type": "code",
   "execution_count": 9,
   "metadata": {
    "colab": {},
    "colab_type": "code",
    "id": "6YwBQkE2yVC3"
   },
   "outputs": [],
   "source": [
    "def new_loss(w1=1, w2=1):\n",
    "    \"w1 is the weight for lower temperature and w2 for the upper So w1 <= w2\"\n",
    "    def high_low_loss(output, target):\n",
    "        weights = w1 + (w2 - w1)*F.relu(target - 0.5)\n",
    "        return torch.mean(weights*((output - target)**2))\n",
    "    \n",
    "    return high_low_loss\n",
    "\n",
    "criterion = new_loss(1,3)"
   ]
  },
  {
   "cell_type": "code",
   "execution_count": 0,
   "metadata": {
    "colab": {},
    "colab_type": "code",
    "id": "j5502Fu1yVC6"
   },
   "outputs": [],
   "source": [
    "def dataloader(data, length, FEATURES, TARGET, shuffle=True, out=1):\n",
    "    while True:\n",
    "    # genera una lista di (i_serie, i_obs)\n",
    "        tuples = [[(df_i, i) for i, x in enumerate(data[df_i]) if i >= length + out]\n",
    "                  for df_i, _ in enumerate(data)]\n",
    "        tuples = sum(tuples, [])  # flattenizza\n",
    "        # shuffle\n",
    "        if shuffle:\n",
    "            np.random.shuffle(tuples)\n",
    "\n",
    "        # yielda le osservazioni\n",
    "        for df_i, i in tuples:\n",
    "            X_lagged = data[df_i][(i - length - out):(i - out), FEATURES + TARGET]\n",
    "            y = data[df_i][(i-out):(i), TARGET]\n",
    "            yield X_lagged, y\n",
    "\n",
    "def check_performance(data_array, batch_size, look_back):\n",
    "    FEATURES = [0, 1, 2, 3, 4, 5, 6]\n",
    "    TARGET = [7, 8, 9, 10]\n",
    "\n",
    "    gen = dataloader([df.values for df in data_array], look_back, FEATURES, TARGET, shuffle=False)\n",
    "    size = sum(df.shape[0] for df in data_array)\n",
    "\n",
    "    y_test = []\n",
    "    y_pred_all = []\n",
    "    for x in range(0, size, batch_size):\n",
    "        X_test = []\n",
    "        for i in range(batch_size):\n",
    "            try:\n",
    "                X,y = next(gen)\n",
    "                X_test.append(X)\n",
    "                y_test.append(y)\n",
    "            except:\n",
    "                break\n",
    "        inpt = np.array(X_test).reshape(-1, look_back, 11)\n",
    "        x_test_batch = torch.tensor(inpt,dtype=torch.float32).to(device)  \n",
    "        y_pred = best_mse(x_test_batch)\n",
    "\n",
    "        y_pred_all = np.append(y_pred_all,y_pred.cpu().detach().numpy())\n",
    "\n",
    "\n",
    "    return np.mean(criterion(torch.tensor(y_pred_all.reshape(-1)), \n",
    "                              torch.tensor(np.array(y_test).reshape(-1))).item())"
   ]
  },
  {
   "cell_type": "markdown",
   "metadata": {
    "colab_type": "text",
    "id": "nwcHo0w1yVC-"
   },
   "source": [
    "### CNN"
   ]
  },
  {
   "cell_type": "code",
   "execution_count": 0,
   "metadata": {
    "colab": {},
    "colab_type": "code",
    "id": "zhYVfnlhyVC_"
   },
   "outputs": [],
   "source": [
    "best_mse = torch.load(path + \"models/best_model_cnn_newLoss\").to(device)"
   ]
  },
  {
   "cell_type": "code",
   "execution_count": 28,
   "metadata": {
    "colab": {
     "base_uri": "https://localhost:8080/",
     "height": 34
    },
    "colab_type": "code",
    "id": "_hlqstyIyVDD",
    "outputId": "83828e67-b4e4-4686-f46d-73698d18b03f"
   },
   "outputs": [
    {
     "data": {
      "text/plain": [
       "1.7844373493742228e-05"
      ]
     },
     "execution_count": 28,
     "metadata": {
      "tags": []
     },
     "output_type": "execute_result"
    }
   ],
   "source": [
    "look_back = 60\n",
    "batch_size = 18803\n",
    "\n",
    "check_performance(df_train, batch_size, look_back)"
   ]
  },
  {
   "cell_type": "code",
   "execution_count": 29,
   "metadata": {
    "colab": {
     "base_uri": "https://localhost:8080/",
     "height": 34
    },
    "colab_type": "code",
    "id": "Hple9XpqyVDH",
    "outputId": "ca7a77cb-279c-49d1-d29d-9a297196405e"
   },
   "outputs": [
    {
     "data": {
      "text/plain": [
       "1.806057731822506e-05"
      ]
     },
     "execution_count": 29,
     "metadata": {
      "tags": []
     },
     "output_type": "execute_result"
    }
   ],
   "source": [
    "look_back = 60\n",
    "batch_size = 7403\n",
    "\n",
    "check_performance(df_val, batch_size, look_back)"
   ]
  },
  {
   "cell_type": "code",
   "execution_count": 30,
   "metadata": {
    "colab": {
     "base_uri": "https://localhost:8080/",
     "height": 34
    },
    "colab_type": "code",
    "id": "SrtjAratyVDL",
    "outputId": "1f6471ba-2746-4cae-98d5-7c59f186a1ba"
   },
   "outputs": [
    {
     "data": {
      "text/plain": [
       "1.9762502941062025e-05"
      ]
     },
     "execution_count": 30,
     "metadata": {
      "tags": []
     },
     "output_type": "execute_result"
    }
   ],
   "source": [
    "look_back = 60\n",
    "batch_size = 28439\n",
    "\n",
    "check_performance(df_test, batch_size, look_back)"
   ]
  },
  {
   "cell_type": "markdown",
   "metadata": {
    "colab_type": "text",
    "id": "8RjXjVK0yVDO"
   },
   "source": [
    "### LSTM"
   ]
  },
  {
   "cell_type": "code",
   "execution_count": 0,
   "metadata": {
    "colab": {},
    "colab_type": "code",
    "id": "DHlnL218yVDP"
   },
   "outputs": [],
   "source": [
    "best_mse = torch.load(path + \"models/best_model_lstm_new_loss\").to(device)"
   ]
  },
  {
   "cell_type": "code",
   "execution_count": 32,
   "metadata": {
    "colab": {
     "base_uri": "https://localhost:8080/",
     "height": 68
    },
    "colab_type": "code",
    "id": "fNwPtoq4yVDT",
    "outputId": "b5e6793c-6c14-4181-b68b-0caa42e2412b"
   },
   "outputs": [
    {
     "name": "stderr",
     "output_type": "stream",
     "text": [
      "/usr/local/lib/python3.6/dist-packages/torch/nn/functional.py:1340: UserWarning: nn.functional.tanh is deprecated. Use torch.tanh instead.\n",
      "  warnings.warn(\"nn.functional.tanh is deprecated. Use torch.tanh instead.\")\n"
     ]
    },
    {
     "data": {
      "text/plain": [
       "2.2030059821718116e-05"
      ]
     },
     "execution_count": 32,
     "metadata": {
      "tags": []
     },
     "output_type": "execute_result"
    }
   ],
   "source": [
    "look_back = 60\n",
    "batch_size = 18803\n",
    "\n",
    "check_performance(df_train, batch_size, look_back)"
   ]
  },
  {
   "cell_type": "code",
   "execution_count": 33,
   "metadata": {
    "colab": {
     "base_uri": "https://localhost:8080/",
     "height": 68
    },
    "colab_type": "code",
    "id": "kQ7txChqyVDW",
    "outputId": "09285bd1-df07-4376-b78b-eb486f7d721a"
   },
   "outputs": [
    {
     "name": "stderr",
     "output_type": "stream",
     "text": [
      "/usr/local/lib/python3.6/dist-packages/torch/nn/functional.py:1340: UserWarning: nn.functional.tanh is deprecated. Use torch.tanh instead.\n",
      "  warnings.warn(\"nn.functional.tanh is deprecated. Use torch.tanh instead.\")\n"
     ]
    },
    {
     "data": {
      "text/plain": [
       "2.0004529911602242e-05"
      ]
     },
     "execution_count": 33,
     "metadata": {
      "tags": []
     },
     "output_type": "execute_result"
    }
   ],
   "source": [
    "look_back = 60\n",
    "batch_size = 7403\n",
    "\n",
    "check_performance(df_val, batch_size, look_back)"
   ]
  },
  {
   "cell_type": "code",
   "execution_count": 34,
   "metadata": {
    "colab": {
     "base_uri": "https://localhost:8080/",
     "height": 68
    },
    "colab_type": "code",
    "id": "tuoZjzlpyVDZ",
    "outputId": "9fa7d6da-14b3-486b-e911-d9a37480d3f8"
   },
   "outputs": [
    {
     "name": "stderr",
     "output_type": "stream",
     "text": [
      "/usr/local/lib/python3.6/dist-packages/torch/nn/functional.py:1340: UserWarning: nn.functional.tanh is deprecated. Use torch.tanh instead.\n",
      "  warnings.warn(\"nn.functional.tanh is deprecated. Use torch.tanh instead.\")\n"
     ]
    },
    {
     "data": {
      "text/plain": [
       "2.226042532008789e-05"
      ]
     },
     "execution_count": 34,
     "metadata": {
      "tags": []
     },
     "output_type": "execute_result"
    }
   ],
   "source": [
    "look_back = 60\n",
    "batch_size = 28439\n",
    "\n",
    "check_performance(df_test, batch_size, look_back)"
   ]
  },
  {
   "cell_type": "markdown",
   "metadata": {
    "colab_type": "text",
    "id": "W2a3iB-gyVDc"
   },
   "source": [
    "### GRU"
   ]
  },
  {
   "cell_type": "code",
   "execution_count": 0,
   "metadata": {
    "colab": {},
    "colab_type": "code",
    "id": "88k_0xzNyVDd"
   },
   "outputs": [],
   "source": [
    "best_mse = torch.load(path + \"models/best_model_gru_new_loss\").to(device)"
   ]
  },
  {
   "cell_type": "code",
   "execution_count": 36,
   "metadata": {
    "colab": {
     "base_uri": "https://localhost:8080/",
     "height": 68
    },
    "colab_type": "code",
    "id": "FJlWfEAdyVDh",
    "outputId": "04aac70d-e900-422b-a781-cda9d9929065"
   },
   "outputs": [
    {
     "name": "stderr",
     "output_type": "stream",
     "text": [
      "/usr/local/lib/python3.6/dist-packages/torch/nn/functional.py:1340: UserWarning: nn.functional.tanh is deprecated. Use torch.tanh instead.\n",
      "  warnings.warn(\"nn.functional.tanh is deprecated. Use torch.tanh instead.\")\n"
     ]
    },
    {
     "data": {
      "text/plain": [
       "2.4192960671682776e-05"
      ]
     },
     "execution_count": 36,
     "metadata": {
      "tags": []
     },
     "output_type": "execute_result"
    }
   ],
   "source": [
    "look_back = 60\n",
    "batch_size = 18803\n",
    "\n",
    "check_performance(df_train, batch_size, look_back)"
   ]
  },
  {
   "cell_type": "code",
   "execution_count": 37,
   "metadata": {
    "colab": {
     "base_uri": "https://localhost:8080/",
     "height": 68
    },
    "colab_type": "code",
    "id": "Jo7H6a40yVDk",
    "outputId": "84147999-1d7d-444b-b9ae-fd249e208143"
   },
   "outputs": [
    {
     "name": "stderr",
     "output_type": "stream",
     "text": [
      "/usr/local/lib/python3.6/dist-packages/torch/nn/functional.py:1340: UserWarning: nn.functional.tanh is deprecated. Use torch.tanh instead.\n",
      "  warnings.warn(\"nn.functional.tanh is deprecated. Use torch.tanh instead.\")\n"
     ]
    },
    {
     "data": {
      "text/plain": [
       "2.1767501112434216e-05"
      ]
     },
     "execution_count": 37,
     "metadata": {
      "tags": []
     },
     "output_type": "execute_result"
    }
   ],
   "source": [
    "look_back = 60\n",
    "batch_size = 7403\n",
    "\n",
    "check_performance(df_val, batch_size, look_back)"
   ]
  },
  {
   "cell_type": "code",
   "execution_count": 38,
   "metadata": {
    "colab": {
     "base_uri": "https://localhost:8080/",
     "height": 68
    },
    "colab_type": "code",
    "id": "YADEdIZYyVDn",
    "outputId": "2bfaaaa1-d1e4-4ab9-8dde-300d02155cdf"
   },
   "outputs": [
    {
     "name": "stderr",
     "output_type": "stream",
     "text": [
      "/usr/local/lib/python3.6/dist-packages/torch/nn/functional.py:1340: UserWarning: nn.functional.tanh is deprecated. Use torch.tanh instead.\n",
      "  warnings.warn(\"nn.functional.tanh is deprecated. Use torch.tanh instead.\")\n"
     ]
    },
    {
     "data": {
      "text/plain": [
       "2.4826416600684155e-05"
      ]
     },
     "execution_count": 38,
     "metadata": {
      "tags": []
     },
     "output_type": "execute_result"
    }
   ],
   "source": [
    "look_back = 60\n",
    "batch_size = 28439\n",
    "\n",
    "check_performance(df_test, batch_size, look_back)"
   ]
  },
  {
   "cell_type": "markdown",
   "metadata": {
    "colab_type": "text",
    "id": "fN9mWeyFyVDr"
   },
   "source": [
    "# Second TASK"
   ]
  },
  {
   "cell_type": "code",
   "execution_count": 7,
   "metadata": {
    "colab": {},
    "colab_type": "code",
    "id": "sH4Rwq-MyVDs"
   },
   "outputs": [],
   "source": [
    "def dataloader(data, length, FEATURES, TARGET, shuffle=True, out=1):\n",
    "    while True:\n",
    "    # genera una lista di (i_serie, i_obs)\n",
    "        tuples = [[(df_i, i) for i, x in enumerate(data[df_i]) if i >= length + out]\n",
    "                  for df_i, _ in enumerate(data)]\n",
    "        tuples = sum(tuples, [])  # flattenizza\n",
    "        # shuffle\n",
    "        if shuffle:\n",
    "            np.random.shuffle(tuples)\n",
    "\n",
    "        # yielda le osservazioni\n",
    "        for df_i, i in tuples:\n",
    "            X_lagged = data[df_i][(i - length - out):(i - out + 1), FEATURES]\n",
    "            y = data[df_i][(i-out):(i), TARGET]\n",
    "            yield X_lagged, y\n",
    "\n",
    "def check_performance(data_array, batch_size, look_back):\n",
    "    FEATURES = [0, 1, 2, 3, 4, 5, 6]\n",
    "    TARGET = [7, 8, 9, 10]\n",
    "\n",
    "    gen = dataloader([df.values for df in data_array], look_back, FEATURES, TARGET, shuffle=False)\n",
    "    size = sum(df.shape[0] for df in data_array)\n",
    "\n",
    "    y_test = []\n",
    "    y_pred_all = []\n",
    "    for x in range(0, size, batch_size):\n",
    "        X_test = []\n",
    "        for i in range(batch_size):\n",
    "            try:\n",
    "                X,y = next(gen)\n",
    "                X_test.append(X)\n",
    "                y_test.append(y)\n",
    "            except:\n",
    "                break\n",
    "        inpt = np.array(X_test).reshape(-1, look_back + 1, 7)\n",
    "        x_test_batch = torch.tensor(inpt,dtype=torch.float32).to(device)  \n",
    "        y_pred = best_mse(x_test_batch)\n",
    "\n",
    "        y_pred_all = np.append(y_pred_all,y_pred.cpu().detach().numpy())\n",
    "\n",
    "\n",
    "    return np.mean((y_pred_all.reshape(-1,) - np.array(y_test).reshape(-1,))**2)"
   ]
  },
  {
   "cell_type": "code",
   "execution_count": 8,
   "metadata": {
    "colab": {},
    "colab_type": "code",
    "id": "HYX0pQfEyVDy"
   },
   "outputs": [],
   "source": [
    "def outputSize(in_size, kernel_size, stride, padding):\n",
    "    output = int((in_size - kernel_size + 2*(padding)) / stride) + 1\n",
    "    return(output)\n",
    "\n",
    "class Reg_CNN_Net(nn.Module):\n",
    "    def __init__(self, features, seq_len, \n",
    "                 conv1, conv2, kernel1, kernel2,\n",
    "                 h1, h2, out):\n",
    "        super(Reg_CNN_Net, self).__init__()\n",
    "        #self.h1 = h1\n",
    "        self.h2 = h2\n",
    "        #self.conv1 = conv1\n",
    "        self.conv2 = conv2\n",
    "\n",
    "        self.features = features\n",
    "        self.seq_len = seq_len\n",
    "        \n",
    "        self.c1 = nn.Conv1d(self.seq_len, conv1, kernel1)\n",
    "        \n",
    "        h0 = outputSize(self.features, kernel1, 1, 0)*conv1\n",
    "        if conv2 != 0:\n",
    "            self.c2 = nn.Conv1d(conv1, conv2, kernel2)\n",
    "        \n",
    "        \n",
    "            h0 = outputSize(outputSize(self.features, kernel1, 1, 0), \n",
    "                            kernel2, 1 ,0)*conv2\n",
    "\n",
    "        self.fc1 = nn.Linear(h0, h1)\n",
    "        \n",
    "\n",
    "        if self.h2 != 0:\n",
    "            self.fc2 = nn.Linear(h1, h2)\n",
    "            \n",
    "            self.out = nn.Linear(h2, out)\n",
    "        else:\n",
    "            self.out = nn.Linear(h1, out)\n",
    "\n",
    "    def forward(self, x):\n",
    "        batch_size, _, _ = x.shape \n",
    "        \n",
    "        x1 = F.relu(self.c1(x))\n",
    "        if self.conv2!=0:\n",
    "            x = F.relu(self.c2(x1))\n",
    "        else:\n",
    "            x = x1\n",
    "        \n",
    "        x = x.view(batch_size,-1)\n",
    "        \n",
    "        x = F.relu(self.fc1(x))\n",
    "        if self.h2 != 0:\n",
    "            x = F.relu(self.fc2(x))\n",
    "        return self.out(x)"
   ]
  },
  {
   "cell_type": "code",
   "execution_count": 0,
   "metadata": {
    "colab": {},
    "colab_type": "code",
    "id": "qjx1tqN6yVD3"
   },
   "outputs": [],
   "source": [
    "best_mse = torch.load(path + \"models/best_model_cnn_reg_new\").to(device)"
   ]
  },
  {
   "cell_type": "code",
   "execution_count": 0,
   "metadata": {
    "colab": {},
    "colab_type": "code",
    "id": "v7vmIm1EyVD5",
    "outputId": "3be95c13-2135-40e5-9740-ca107f9b3ced"
   },
   "outputs": [
    {
     "data": {
      "text/plain": [
       "0.012139234685878044"
      ]
     },
     "execution_count": 40,
     "metadata": {
      "tags": []
     },
     "output_type": "execute_result"
    }
   ],
   "source": [
    "look_back = 20\n",
    "batch_size = 18803\n",
    "\n",
    "check_performance(df_train, batch_size, look_back)"
   ]
  },
  {
   "cell_type": "code",
   "execution_count": 0,
   "metadata": {
    "colab": {},
    "colab_type": "code",
    "id": "26Ja9rPdyVD9",
    "outputId": "cba8e95f-b9ce-4535-db2c-64cee0517ccc"
   },
   "outputs": [
    {
     "data": {
      "text/plain": [
       "0.012210616385553437"
      ]
     },
     "execution_count": 41,
     "metadata": {
      "tags": []
     },
     "output_type": "execute_result"
    }
   ],
   "source": [
    "look_back = 20\n",
    "batch_size = 7403\n",
    "\n",
    "check_performance(df_val, batch_size, look_back)"
   ]
  },
  {
   "cell_type": "code",
   "execution_count": 0,
   "metadata": {
    "colab": {},
    "colab_type": "code",
    "id": "XUlvgl9RyVED",
    "outputId": "7d710363-9310-4ff4-8148-900271bf94a9"
   },
   "outputs": [
    {
     "data": {
      "text/plain": [
       "0.012622386947383202"
      ]
     },
     "execution_count": 42,
     "metadata": {
      "tags": []
     },
     "output_type": "execute_result"
    }
   ],
   "source": [
    "look_back = 20\n",
    "batch_size = 28439\n",
    "\n",
    "check_performance(df_test, batch_size, look_back)"
   ]
  },
  {
   "cell_type": "code",
   "execution_count": 10,
   "metadata": {
    "colab": {},
    "colab_type": "code",
    "id": "Fhu_9YzCyVEI"
   },
   "outputs": [],
   "source": [
    "class LSTM_Net(nn.Module):\n",
    "    def __init__(self, features, hidden, h1, h2, out):\n",
    "        super(LSTM_Net, self).__init__()\n",
    "        self.h1 = h1\n",
    "        self.h2 = h2\n",
    "\n",
    "        self.hidden_size = hidden\n",
    "        self.features = features\n",
    "\n",
    "        self.lstm = nn.LSTM(self.features, self.hidden_size, 1, #feature_size, hidden_size, num_layer\n",
    "                            batch_first = True) \n",
    "        self.fc1 = nn.Linear(self.hidden_size, \n",
    "                                h1)\n",
    "        self.out = nn.Linear(h1, out)\n",
    "\n",
    "        if self.h2 != 0:\n",
    "            self.fc2 = nn.Linear(h1, h2)\n",
    "            self.out = nn.Linear(h2, out)\n",
    "        \n",
    "        #we do it stateless so there is no need for the hidden_state\n",
    "        #self.hidden = None #torch.randn(1, ??, self.hidden) #num_layer, batch, hidden_size\n",
    "\n",
    "    def forward(self, x):\n",
    "        batch_size, _, _ = x.shape \n",
    "        \n",
    "        x, _ =  self.lstm(x)\n",
    "        x = F.tanh(x[:,-1].view(batch_size, -1))\n",
    "        \n",
    "        x = F.relu(self.fc1(x))\n",
    "        if self.h2 != 0:\n",
    "            x = F.relu(self.fc2(x))\n",
    "        return self.out(x)"
   ]
  },
  {
   "cell_type": "code",
   "execution_count": 11,
   "metadata": {
    "colab": {},
    "colab_type": "code",
    "id": "Lvh5XcuVyVEK"
   },
   "outputs": [
    {
     "name": "stderr",
     "output_type": "stream",
     "text": [
      "/home/pranav/anaconda3/lib/python3.7/site-packages/torch/cuda/__init__.py:134: UserWarning: \n",
      "    Found GPU0 GeForce GT 750M which is of cuda capability 3.0.\n",
      "    PyTorch no longer supports this GPU because it is too old.\n",
      "    The minimum cuda capability that we support is 3.5.\n",
      "    \n",
      "  warnings.warn(old_gpu_warn % (d, name, major, capability[1]))\n"
     ]
    }
   ],
   "source": [
    "best_mse = torch.load(path + \"models/best_model_lstm_second_task\").to(device)"
   ]
  },
  {
   "cell_type": "code",
   "execution_count": 12,
   "metadata": {
    "colab": {},
    "colab_type": "code",
    "id": "mKyp4-xByVEN",
    "outputId": "7b97b8d8-3bd6-428c-ccb8-2233d91c0e19"
   },
   "outputs": [
    {
     "name": "stderr",
     "output_type": "stream",
     "text": [
      "/home/pranav/anaconda3/lib/python3.7/site-packages/torch/nn/functional.py:1347: UserWarning: nn.functional.tanh is deprecated. Use torch.tanh instead.\n",
      "  warnings.warn(\"nn.functional.tanh is deprecated. Use torch.tanh instead.\")\n"
     ]
    },
    {
     "data": {
      "text/plain": [
       "0.014260608323387646"
      ]
     },
     "execution_count": 12,
     "metadata": {},
     "output_type": "execute_result"
    }
   ],
   "source": [
    "look_back = 20\n",
    "batch_size = 18803\n",
    "\n",
    "check_performance(df_train, batch_size, look_back)"
   ]
  },
  {
   "cell_type": "code",
   "execution_count": 13,
   "metadata": {
    "colab": {},
    "colab_type": "code",
    "id": "smKVROYCyVER",
    "outputId": "2fb24129-5386-40df-cb26-09e39f268ac4"
   },
   "outputs": [
    {
     "data": {
      "text/plain": [
       "0.013939745721719347"
      ]
     },
     "execution_count": 13,
     "metadata": {},
     "output_type": "execute_result"
    }
   ],
   "source": [
    "look_back = 20\n",
    "batch_size = 7403\n",
    "\n",
    "check_performance(df_val, batch_size, look_back)"
   ]
  },
  {
   "cell_type": "code",
   "execution_count": 14,
   "metadata": {
    "colab": {},
    "colab_type": "code",
    "id": "oVG0Xq58yVET",
    "outputId": "7ed0e310-d724-41f8-95df-cb8d410543bc"
   },
   "outputs": [
    {
     "data": {
      "text/plain": [
       "0.014896523450238093"
      ]
     },
     "execution_count": 14,
     "metadata": {},
     "output_type": "execute_result"
    }
   ],
   "source": [
    "look_back = 20\n",
    "batch_size = 28439\n",
    "\n",
    "check_performance(df_test, batch_size, look_back)"
   ]
  },
  {
   "cell_type": "markdown",
   "metadata": {
    "colab": {},
    "colab_type": "code",
    "id": "MLVN0huPyVEX"
   },
   "source": [
    "# CNN with pk loss"
   ]
  },
  {
   "cell_type": "code",
   "execution_count": 21,
   "metadata": {},
   "outputs": [],
   "source": [
    "def dataloader(data, length, FEATURES, TARGET, shuffle=True, out=1):\n",
    "    while True:\n",
    "    # genera una lista di (i_serie, i_obs)\n",
    "        tuples = [[(df_i, i) for i, x in enumerate(data[df_i]) if i >= length + out]\n",
    "                  for df_i, _ in enumerate(data)]\n",
    "        tuples = sum(tuples, [])  # flattenizza\n",
    "        # shuffle\n",
    "        if shuffle:\n",
    "            np.random.shuffle(tuples)\n",
    "\n",
    "        # yielda le osservazioni\n",
    "        for df_i, i in tuples:\n",
    "            X_lagged = data[df_i][(i - length - out):(i - out + 1), FEATURES]\n",
    "            y = data[df_i][(i-out):(i), TARGET]\n",
    "            yield X_lagged, y\n",
    "            \n",
    "def check_performance(data_array, batch_size, look_back):\n",
    "    FEATURES = [0, 1, 2, 3, 4, 5, 6]\n",
    "    TARGET = [7, 8, 9, 10]\n",
    "\n",
    "    gen = dataloader([df.values for df in data_array], look_back, FEATURES, TARGET, shuffle=False)\n",
    "    size = sum(df.shape[0] for df in data_array)\n",
    "\n",
    "    y_test = []\n",
    "    y_pred_all = []\n",
    "    for x in range(0, size, batch_size):\n",
    "        X_test = []\n",
    "        for i in range(batch_size):\n",
    "            try:\n",
    "                X,y = next(gen)\n",
    "                X_test.append(X)\n",
    "                y_test.append(y)\n",
    "            except:\n",
    "                break\n",
    "        inpt = np.array(X_test).reshape(-1, look_back + 1, 7)\n",
    "        x_test_batch = torch.tensor(inpt,dtype=torch.float32).to(device)  \n",
    "        y_pred = best_mse(x_test_batch)\n",
    "\n",
    "        y_pred_all = np.append(y_pred_all,y_pred.cpu().detach().numpy())\n",
    "\n",
    "\n",
    "    return np.mean(criterion(torch.tensor(y_pred_all.reshape(-1)), \n",
    "                              torch.tensor(np.array(y_test).reshape(-1))).item())"
   ]
  },
  {
   "cell_type": "code",
   "execution_count": 22,
   "metadata": {},
   "outputs": [],
   "source": [
    "def outputSize(in_size, kernel_size, stride, padding):\n",
    "    output = int((in_size - kernel_size + 2*(padding)) / stride) + 1\n",
    "    return(output)\n",
    "\n",
    "class Reg_CNN_Net(nn.Module):\n",
    "    def __init__(self, features, seq_len, \n",
    "                 conv1, conv2, kernel1, kernel2,\n",
    "                 h1, h2, out):\n",
    "        super(Reg_CNN_Net, self).__init__()\n",
    "        #self.h1 = h1\n",
    "        self.h2 = h2\n",
    "        #self.conv1 = conv1\n",
    "        self.conv2 = conv2\n",
    "\n",
    "        self.features = features\n",
    "        self.seq_len = seq_len\n",
    "        \n",
    "        self.c1 = nn.Conv1d(self.seq_len, conv1, kernel1)\n",
    "        \n",
    "        h0 = outputSize(self.features, kernel1, 1, 0)*conv1\n",
    "        if conv2 != 0:\n",
    "            self.c2 = nn.Conv1d(conv1, conv2, kernel2)\n",
    "        \n",
    "        \n",
    "            h0 = outputSize(outputSize(self.features, kernel1, 1, 0), \n",
    "                            kernel2, 1 ,0)*conv2\n",
    "\n",
    "        self.fc1 = nn.Linear(h0, h1)\n",
    "        \n",
    "\n",
    "        if self.h2 != 0:\n",
    "            self.fc2 = nn.Linear(h1, h2)\n",
    "            \n",
    "            self.out = nn.Linear(h2, out)\n",
    "        else:\n",
    "            self.out = nn.Linear(h1, out)\n",
    "\n",
    "    def forward(self, x):\n",
    "        batch_size, _, _ = x.shape \n",
    "        \n",
    "        x1 = F.relu(self.c1(x))\n",
    "        if self.conv2!=0:\n",
    "            x = F.relu(self.c2(x1))\n",
    "        else:\n",
    "            x = x1\n",
    "        \n",
    "        x = x.view(batch_size,-1)\n",
    "        \n",
    "        x = F.relu(self.fc1(x))\n",
    "        if self.h2 != 0:\n",
    "            x = F.relu(self.fc2(x))\n",
    "        return self.out(x)"
   ]
  },
  {
   "cell_type": "code",
   "execution_count": 23,
   "metadata": {},
   "outputs": [],
   "source": [
    "best_mse = torch.load(path + \"models/best_model_cnn_reg_new_c_loss\").to(device)"
   ]
  },
  {
   "cell_type": "code",
   "execution_count": 24,
   "metadata": {},
   "outputs": [
    {
     "data": {
      "text/plain": [
       "0.013975514154603817"
      ]
     },
     "execution_count": 24,
     "metadata": {},
     "output_type": "execute_result"
    }
   ],
   "source": [
    "look_back = 20\n",
    "batch_size = 18803\n",
    "\n",
    "check_performance(df_train, batch_size, look_back)"
   ]
  },
  {
   "cell_type": "code",
   "execution_count": 25,
   "metadata": {},
   "outputs": [
    {
     "data": {
      "text/plain": [
       "0.014204421358402707"
      ]
     },
     "execution_count": 25,
     "metadata": {},
     "output_type": "execute_result"
    }
   ],
   "source": [
    "look_back = 20\n",
    "batch_size = 7403\n",
    "\n",
    "check_performance(df_val, batch_size, look_back)"
   ]
  },
  {
   "cell_type": "code",
   "execution_count": 26,
   "metadata": {},
   "outputs": [
    {
     "data": {
      "text/plain": [
       "0.014130565648339465"
      ]
     },
     "execution_count": 26,
     "metadata": {},
     "output_type": "execute_result"
    }
   ],
   "source": [
    "look_back = 20\n",
    "batch_size = 28439\n",
    "\n",
    "check_performance(df_test, batch_size, look_back)"
   ]
  },
  {
   "cell_type": "code",
   "execution_count": null,
   "metadata": {},
   "outputs": [],
   "source": []
  }
 ],
 "metadata": {
  "accelerator": "GPU",
  "colab": {
   "collapsed_sections": [],
   "name": "Result_Comparision.ipynb",
   "provenance": []
  },
  "kernelspec": {
   "display_name": "Python 3",
   "language": "python",
   "name": "python3"
  },
  "language_info": {
   "codemirror_mode": {
    "name": "ipython",
    "version": 3
   },
   "file_extension": ".py",
   "mimetype": "text/x-python",
   "name": "python",
   "nbconvert_exporter": "python",
   "pygments_lexer": "ipython3",
   "version": "3.7.5"
  }
 },
 "nbformat": 4,
 "nbformat_minor": 1
}
