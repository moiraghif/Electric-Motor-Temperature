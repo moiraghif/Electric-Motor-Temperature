{
 "cells": [
  {
   "cell_type": "code",
   "execution_count": 1,
   "metadata": {},
   "outputs": [],
   "source": [
    "import pandas as pd\n",
    "import numpy as np\n",
    "\n",
    "import torch\n",
    "import torch.nn as nn\n",
    "import torch.nn.functional as F\n",
    "import torch.optim as optim"
   ]
  },
  {
   "cell_type": "code",
   "execution_count": 2,
   "metadata": {},
   "outputs": [
    {
     "name": "stdout",
     "output_type": "stream",
     "text": [
      "working on: cpu\n"
     ]
    }
   ],
   "source": [
    "device = torch.device(\"cuda\" if torch.cuda.is_available() \\\n",
    "                      else \"cpu\")\n",
    "device = \"cpu\"\n",
    "print(\"working on: \" + str(device))"
   ]
  },
  {
   "cell_type": "code",
   "execution_count": 3,
   "metadata": {},
   "outputs": [],
   "source": [
    "df = pd.read_csv(\"pmsm_temperature_data.csv\")"
   ]
  },
  {
   "cell_type": "code",
   "execution_count": 4,
   "metadata": {},
   "outputs": [],
   "source": [
    "df_sep = [df[df.profile_id==profile].drop(['profile_id','torque'], axis=1).reset_index(drop=True) for profile in df.profile_id.unique()]\n",
    "\n",
    "train_min = df[~df.profile_id.isin([4, 8, 16, 24, 32, 40, 48, 51, 35, 42])].drop(['profile_id','torque'], axis=1).min()\n",
    "train_max = df[~df.profile_id.isin([4, 8, 16, 24, 32, 40, 48, 51, 35, 42])].drop(['profile_id','torque'], axis=1).max()\n",
    "\n",
    "df_train = [(df_sep[i] - train_min)/(train_max - train_min)\\\n",
    "            for i in list(range(0,52)) if i not in [4, 8, 16, 24, 32, \n",
    "                                                    40, 48, 51, #val\n",
    "                                                    35, 42]] #test\n",
    "\n",
    "df_val = [(df_sep[i] - train_min)/(train_max - train_min)\\\n",
    "          for i in [4, 8, 16, 24, 32, 40, 48, 51]]\n",
    "\n",
    "df_test = [(df_sep[i] - train_min)/(train_max - train_min) for i in [35, 42]]"
   ]
  },
  {
   "cell_type": "code",
   "execution_count": 5,
   "metadata": {},
   "outputs": [],
   "source": [
    "def dataloader(data, length, shuffle=True, out=1):\n",
    "    while True:\n",
    "    # genera una lista di (i_serie, i_obs)\n",
    "        tuples = [[(df_i, i) for i, x in enumerate(data[df_i]) if i >= length + out]\n",
    "                  for df_i, _ in enumerate(data)]\n",
    "        tuples = sum(tuples, [])  # flattenizza\n",
    "        # shuffle\n",
    "        if shuffle:\n",
    "            np.random.shuffle(tuples)\n",
    "\n",
    "        # yielda le osservazioni\n",
    "        for df_i, i in tuples:\n",
    "            X_lagged = data[df_i][(i - length - out):(i - out), FEATURES + TARGET]\n",
    "            y = data[df_i][(i-out):(i), TARGET]\n",
    "            yield X_lagged, y"
   ]
  },
  {
   "cell_type": "code",
   "execution_count": 6,
   "metadata": {},
   "outputs": [],
   "source": [
    "class Custom_RNN(torch.nn.Module):\n",
    "\n",
    "    def __init__(self, hiddens, recur,\n",
    "                 regressors,\n",
    "                 p_dropout=0.3):\n",
    "        self.recur_input, self.recur_output = recur\n",
    "        # recur_input in [0, len(hiddens))\n",
    "        # recur_output in [-1, len(hiddens)]\n",
    "        assert 0 <= self.recur_input <= len(hiddens)\n",
    "        assert -1 <= self.recur_output < len(hiddens)\n",
    "        assert len(regressors) == 2\n",
    "\n",
    "        super(Custom_RNN, self).__init__()\n",
    "        # input_shape = len(FEATURES)  # new task\n",
    "        input_shape = len(FEATURES) + len(TARGET)  # old task\n",
    "        self.previous_size = hiddens[self.recur_output] \\\n",
    "            if self.recur_output >= 0 else len(TARGET)\n",
    "        \n",
    "        hiddens_in = [input_shape] + hiddens\n",
    "\n",
    "        hiddens_in[self.recur_input] += self.previous_size\n",
    "\n",
    "        self.dropout = torch.nn.Dropout(p=p_dropout)\n",
    "        self.layers = torch.nn.ModuleList(\n",
    "            [torch.nn.Linear(in_shape, out_shape) \\\n",
    "             for in_shape, out_shape in zip(hiddens_in, hiddens)])\n",
    "        self.layers_fn = [torch.nn.functional.relu \\\n",
    "                          for _ in self.layers]\n",
    "\n",
    "        regressor_list = []\n",
    "        for features, regressor in zip([1, 3], regressors):\n",
    "            if type(regressor) != list:\n",
    "                regressor = [regressor]\n",
    "            input_shape = [hiddens[-1]] + regressor\n",
    "            y_net = [torch.nn.ReLU() for _ in input_shape + regressor]\n",
    "            y_net[::2] = [torch.nn.Linear(in_shape, out_shape)\n",
    "                          for in_shape, out_shape\n",
    "                          in zip(input_shape, regressor + [features])]\n",
    "            regressor_list.append(torch.nn.Sequential(*y_net))\n",
    "        self.regressors = torch.nn.ModuleList(regressor_list)\n",
    "\n",
    "    def initialize_prev(self, x):\n",
    "        return torch.zeros(len(x), self.previous_size).to(DEVICE)\n",
    "\n",
    "    def forward(self, data, lag=None):\n",
    "        _, l, _ = data.shape\n",
    "        x = data[:, 0, :]  # .reshape(-1, len(FEATURES))\n",
    "        if lag is None:  # first recursion\n",
    "            lag = self.initialize_prev(x)\n",
    "        for i, (layer, fn) in enumerate(zip(self.layers, self.layers_fn)):\n",
    "            if i == self.recur_input:\n",
    "                x = torch.cat([x, lag], axis=1)\n",
    "            x = fn(layer(x))\n",
    "            x = self.dropout(x)\n",
    "            if i == self.recur_output and l > 1:\n",
    "                return self.forward(data[:, 1:, :], x)\n",
    "        x = torch.cat([regressor(x) for regressor in self.regressors],\n",
    "                      axis=1)\n",
    "        if self.recur_output == -1 and l > 1:\n",
    "            return self.forward(data[:, 1:, :], x)\n",
    "        return x"
   ]
  },
  {
   "cell_type": "code",
   "execution_count": 7,
   "metadata": {},
   "outputs": [],
   "source": [
    "def outputSize(in_size, kernel_size, stride, padding):\n",
    "  output = int((in_size - kernel_size + 2*(padding)) / stride) + 1\n",
    "  return(output)\n",
    "\n",
    "class CNN_Net_2(nn.Module):\n",
    "    def __init__(self, batch, in_c, out, \n",
    "                 filtro1, filtro2,\n",
    "                 num_ser, \n",
    "                 neuroni1, neuroni2,\n",
    "                 kernel1, kernel2, kernel3, kernel4, \n",
    "                 #padding1, padding2, padding3, padding4, \n",
    "                 stride1, stride2, stride3, stride4):\n",
    "        super(CNN_Net_2, self).__init__()\n",
    "        self.batch_size = 1\n",
    "        self.in_c = in_c\n",
    "        l0 = num_ser\n",
    "        l1 = outputSize(l0,kernel1,stride1,0)\n",
    "        l2 = outputSize(l1,kernel2,stride2,0)\n",
    "        l3 = outputSize(l2,kernel3,stride3,0)\n",
    "        l4 = outputSize(l3,kernel4,stride4,0)\n",
    "        #print(l4)\n",
    "\n",
    "        self.conv1 = nn.Conv1d(in_channels= in_c, \n",
    "                               out_channels= filtro1, \n",
    "                               kernel_size= kernel1,\n",
    "                               stride= stride1,\n",
    "                               padding=0)    \n",
    "        self.pool1 = nn.MaxPool1d(kernel2,stride=stride2,padding=0) \n",
    "        self.conv2 = nn.Conv1d(filtro1,filtro2,kernel3,stride=stride3,padding=0)\n",
    "        self.pool2 = nn.MaxPool1d(kernel4,stride=stride4,padding=0)\n",
    "        self.fc1 = nn.Linear(filtro2*l4, neuroni1)\n",
    "        self.fc2 = nn.Linear(neuroni1, neuroni2)\n",
    "        self.fc3 = nn.Linear(neuroni2, out)\n",
    "\n",
    "    def forward(self, x):\n",
    "        batch_size, _, _ = x.shape\n",
    "        x =  self.pool1(F.relu(self.conv1(x)))\n",
    "        x = self.pool2(F.relu(self.conv2(x)))\n",
    "        x = x.view(batch_size, self.num_flat_features(x))\n",
    "        x = F.relu(self.fc1(x)) \n",
    "        x = F.relu(self.fc2(x))\n",
    "        return  self.fc3(x)\n",
    "\n",
    "    def num_flat_features(self, x):\n",
    "        size = x.size()[1:]  # all dimensions except the batch dimension\n",
    "        num_features = 1\n",
    "        for s in size:       # Get the products\n",
    "            num_features *= s\n",
    "        return num_features"
   ]
  },
  {
   "cell_type": "code",
   "execution_count": 8,
   "metadata": {},
   "outputs": [
    {
     "name": "stderr",
     "output_type": "stream",
     "text": [
      "/home/pranav/anaconda3/lib/python3.7/site-packages/torch/cuda/__init__.py:134: UserWarning: \n",
      "    Found GPU0 GeForce GT 750M which is of cuda capability 3.0.\n",
      "    PyTorch no longer supports this GPU because it is too old.\n",
      "    The minimum cuda capability that we support is 3.5.\n",
      "    \n",
      "  warnings.warn(old_gpu_warn % (d, name, major, capability[1]))\n"
     ]
    }
   ],
   "source": [
    "best_mse = torch.load(\"models/best_model_cnn\").to(device)\n",
    "best_mse_stator = torch.load(\"models/best_model_cnn_stator\").to(device)"
   ]
  },
  {
   "cell_type": "code",
   "execution_count": 9,
   "metadata": {},
   "outputs": [],
   "source": [
    "FEATURES = [0, 1, 2, 3, 4, 5, 6]\n",
    "TARGET = [7]"
   ]
  },
  {
   "cell_type": "code",
   "execution_count": 10,
   "metadata": {},
   "outputs": [
    {
     "name": "stderr",
     "output_type": "stream",
     "text": [
      "/home/pranav/anaconda3/lib/python3.7/site-packages/ipykernel_launcher.py:4: DeprecationWarning: Calling np.sum(generator) is deprecated, and in the future will give a different result. Use np.sum(np.fromiter(generator)) or the python sum builtin instead.\n",
      "  after removing the cwd from sys.path.\n"
     ]
    },
    {
     "name": "stdout",
     "output_type": "stream",
     "text": [
      "0\n",
      "18803\n",
      "37606\n",
      "56409\n",
      "75212\n",
      "94015\n",
      "112818\n",
      "131621\n",
      "150424\n",
      "169227\n",
      "188030\n",
      "206833\n",
      "225636\n",
      "244439\n",
      "263242\n",
      "282045\n",
      "300848\n",
      "319651\n",
      "338454\n",
      "357257\n",
      "376060\n",
      "394863\n",
      "413666\n",
      "432469\n",
      "451272\n",
      "470075\n",
      "488878\n",
      "507681\n",
      "526484\n",
      "545287\n",
      "564090\n",
      "582893\n",
      "601696\n",
      "620499\n",
      "639302\n",
      "658105\n",
      "676908\n",
      "695711\n",
      "714514\n",
      "733317\n",
      "752120\n"
     ]
    }
   ],
   "source": [
    "look_back  = 60\n",
    "\n",
    "train_gen = dataloader([df.values for df in df_train], look_back, shuffle=False)\n",
    "size = np.sum(df.shape[0] for df in df_train)\n",
    "\n",
    "\n",
    "batch_size = 18803\n",
    "\n",
    "y_test = []\n",
    "y_pred_all = []\n",
    "for x in range(0, size, batch_size):\n",
    "    print(x)\n",
    "    X_test = []\n",
    "    for i in range(batch_size):\n",
    "        try:\n",
    "            X,y = next(train_gen)\n",
    "            X_test.append(X)\n",
    "            y_test.append(y)\n",
    "        except:\n",
    "            break\n",
    "    inpt = np.array(X_test).reshape(-1, look_back, 8)\n",
    "    x_test_batch = torch.tensor(inpt,dtype=torch.float32).to(device)  \n",
    "    y_pred = best_mse(x_test_batch)\n",
    "\n",
    "    y_pred_all = np.append(y_pred_all,y_pred.cpu().detach().numpy())"
   ]
  },
  {
   "cell_type": "code",
   "execution_count": 11,
   "metadata": {},
   "outputs": [],
   "source": [
    "pm_err = (y_pred_all - np.array(y_test).reshape(-1))**2"
   ]
  },
  {
   "cell_type": "code",
   "execution_count": 12,
   "metadata": {},
   "outputs": [],
   "source": [
    "FEATURES = [0, 1, 2, 3, 4, 5, 6]\n",
    "TARGET = [8, 9, 10]"
   ]
  },
  {
   "cell_type": "code",
   "execution_count": 13,
   "metadata": {},
   "outputs": [
    {
     "name": "stderr",
     "output_type": "stream",
     "text": [
      "/home/pranav/anaconda3/lib/python3.7/site-packages/ipykernel_launcher.py:4: DeprecationWarning: Calling np.sum(generator) is deprecated, and in the future will give a different result. Use np.sum(np.fromiter(generator)) or the python sum builtin instead.\n",
      "  after removing the cwd from sys.path.\n"
     ]
    },
    {
     "name": "stdout",
     "output_type": "stream",
     "text": [
      "0\n",
      "18803\n",
      "37606\n",
      "56409\n",
      "75212\n",
      "94015\n",
      "112818\n",
      "131621\n",
      "150424\n",
      "169227\n",
      "188030\n",
      "206833\n",
      "225636\n",
      "244439\n",
      "263242\n",
      "282045\n",
      "300848\n",
      "319651\n",
      "338454\n",
      "357257\n",
      "376060\n",
      "394863\n",
      "413666\n",
      "432469\n",
      "451272\n",
      "470075\n",
      "488878\n",
      "507681\n",
      "526484\n",
      "545287\n",
      "564090\n",
      "582893\n",
      "601696\n",
      "620499\n",
      "639302\n",
      "658105\n",
      "676908\n",
      "695711\n",
      "714514\n",
      "733317\n",
      "752120\n"
     ]
    }
   ],
   "source": [
    "look_back  = 60\n",
    "\n",
    "train_gen = dataloader([df.values for df in df_train], look_back, shuffle=False)\n",
    "size = np.sum(df.shape[0] for df in df_train)\n",
    "\n",
    "\n",
    "batch_size = 18803\n",
    "\n",
    "y_test = []\n",
    "y_pred_all = []\n",
    "for x in range(0, size, batch_size):\n",
    "    print(x)\n",
    "    X_test = []\n",
    "    for i in range(batch_size):\n",
    "        try:\n",
    "            X,y = next(train_gen)\n",
    "            X_test.append(X)\n",
    "            y_test.append(y)\n",
    "        except:\n",
    "            break\n",
    "    inpt = np.array(X_test).reshape(-1, look_back, 10)\n",
    "    x_test_batch = torch.tensor(inpt,dtype=torch.float32).to(device)  \n",
    "    y_pred = best_mse_stator(x_test_batch)\n",
    "\n",
    "    y_pred_all = np.append(y_pred_all,y_pred.cpu().detach().numpy())"
   ]
  },
  {
   "cell_type": "code",
   "execution_count": 15,
   "metadata": {},
   "outputs": [],
   "source": [
    "pm_err_stat = (y_pred_all.reshape(-1) - np.array(y_test).reshape(-1))**2"
   ]
  },
  {
   "cell_type": "code",
   "execution_count": 18,
   "metadata": {},
   "outputs": [
    {
     "data": {
      "text/plain": [
       "2.3169167135008078e-05"
      ]
     },
     "execution_count": 18,
     "metadata": {},
     "output_type": "execute_result"
    }
   ],
   "source": [
    "np.mean(np.concatenate((pm_err, pm_err_stat)))"
   ]
  },
  {
   "cell_type": "code",
   "execution_count": null,
   "metadata": {},
   "outputs": [],
   "source": [
    "#validation"
   ]
  },
  {
   "cell_type": "code",
   "execution_count": 26,
   "metadata": {},
   "outputs": [
    {
     "name": "stderr",
     "output_type": "stream",
     "text": [
      "/home/pranav/anaconda3/lib/python3.7/site-packages/ipykernel_launcher.py:7: DeprecationWarning: Calling np.sum(generator) is deprecated, and in the future will give a different result. Use np.sum(np.fromiter(generator)) or the python sum builtin instead.\n",
      "  import sys\n"
     ]
    },
    {
     "name": "stdout",
     "output_type": "stream",
     "text": [
      "0\n",
      "7403\n",
      "14806\n",
      "22209\n",
      "29612\n",
      "37015\n",
      "44418\n",
      "51821\n",
      "59224\n",
      "66627\n",
      "74030\n",
      "81433\n",
      "88836\n",
      "96239\n",
      "103642\n",
      "111045\n",
      "118448\n",
      "125851\n",
      "133254\n",
      "140657\n",
      "148060\n",
      "155463\n",
      "162866\n"
     ]
    }
   ],
   "source": [
    "FEATURES = [0, 1, 2, 3, 4, 5, 6]\n",
    "TARGET = [7]\n",
    "\n",
    "look_back  = 60\n",
    "\n",
    "val_gen = dataloader([df.values for df in df_val], look_back, shuffle=False)\n",
    "size = np.sum(df.shape[0] for df in df_val)\n",
    "\n",
    "\n",
    "batch_size = 7403\n",
    "\n",
    "y_test = []\n",
    "y_pred_all = []\n",
    "for x in range(0, size, batch_size):\n",
    "    print(x)\n",
    "    X_test = []\n",
    "    for i in range(batch_size):\n",
    "        try:\n",
    "            X,y = next(val_gen)\n",
    "            X_test.append(X)\n",
    "            y_test.append(y)\n",
    "        except:\n",
    "            break\n",
    "    inpt = np.array(X_test).reshape(-1, look_back, 8)\n",
    "    x_test_batch = torch.tensor(inpt,dtype=torch.float32).to(device)  \n",
    "    y_pred = best_mse(x_test_batch)\n",
    "\n",
    "    y_pred_all = np.append(y_pred_all,y_pred.cpu().detach().numpy())"
   ]
  },
  {
   "cell_type": "code",
   "execution_count": 27,
   "metadata": {},
   "outputs": [],
   "source": [
    "pm_err = (y_pred_all - np.array(y_test).reshape(-1))**2"
   ]
  },
  {
   "cell_type": "code",
   "execution_count": 31,
   "metadata": {},
   "outputs": [
    {
     "name": "stderr",
     "output_type": "stream",
     "text": [
      "/home/pranav/anaconda3/lib/python3.7/site-packages/ipykernel_launcher.py:7: DeprecationWarning: Calling np.sum(generator) is deprecated, and in the future will give a different result. Use np.sum(np.fromiter(generator)) or the python sum builtin instead.\n",
      "  import sys\n"
     ]
    },
    {
     "name": "stdout",
     "output_type": "stream",
     "text": [
      "0\n",
      "7403\n",
      "14806\n",
      "22209\n",
      "29612\n",
      "37015\n",
      "44418\n",
      "51821\n",
      "59224\n",
      "66627\n",
      "74030\n",
      "81433\n",
      "88836\n",
      "96239\n",
      "103642\n",
      "111045\n",
      "118448\n",
      "125851\n",
      "133254\n",
      "140657\n",
      "148060\n",
      "155463\n",
      "162866\n"
     ]
    }
   ],
   "source": [
    "FEATURES = [0, 1, 2, 3, 4, 5, 6]\n",
    "TARGET = [8, 9, 10]\n",
    "\n",
    "look_back  = 60\n",
    "\n",
    "val_gen = dataloader([df.values for df in df_val], look_back, shuffle=False)\n",
    "size = np.sum(df.shape[0] for df in df_val)\n",
    "\n",
    "\n",
    "batch_size = 7403\n",
    "\n",
    "y_test = []\n",
    "y_pred_all = []\n",
    "for x in range(0, size, batch_size):\n",
    "    print(x)\n",
    "    X_test = []\n",
    "    for i in range(batch_size):\n",
    "        try:\n",
    "            X,y = next(val_gen)\n",
    "            X_test.append(X)\n",
    "            y_test.append(y)\n",
    "        except:\n",
    "            break\n",
    "    inpt = np.array(X_test).reshape(-1, look_back, 10)\n",
    "    x_test_batch = torch.tensor(inpt,dtype=torch.float32).to(device)  \n",
    "    y_pred = best_mse_stator(x_test_batch)\n",
    "\n",
    "    y_pred_all = np.append(y_pred_all,y_pred.cpu().detach().numpy())"
   ]
  },
  {
   "cell_type": "code",
   "execution_count": 32,
   "metadata": {},
   "outputs": [],
   "source": [
    "pm_err_stat = (y_pred_all.reshape(-1) - np.array(y_test).reshape(-1))**2"
   ]
  },
  {
   "cell_type": "code",
   "execution_count": 33,
   "metadata": {},
   "outputs": [
    {
     "data": {
      "text/plain": [
       "2.2815047581673798e-05"
      ]
     },
     "execution_count": 33,
     "metadata": {},
     "output_type": "execute_result"
    }
   ],
   "source": [
    "np.mean(np.concatenate((pm_err, pm_err_stat)))"
   ]
  },
  {
   "cell_type": "code",
   "execution_count": 34,
   "metadata": {},
   "outputs": [],
   "source": [
    "#test"
   ]
  },
  {
   "cell_type": "code",
   "execution_count": 36,
   "metadata": {},
   "outputs": [
    {
     "data": {
      "text/plain": [
       "56878"
      ]
     },
     "execution_count": 36,
     "metadata": {},
     "output_type": "execute_result"
    }
   ],
   "source": [
    "size"
   ]
  },
  {
   "cell_type": "code",
   "execution_count": 9,
   "metadata": {},
   "outputs": [
    {
     "name": "stderr",
     "output_type": "stream",
     "text": [
      "/home/pranav/anaconda3/lib/python3.7/site-packages/ipykernel_launcher.py:7: DeprecationWarning: Calling np.sum(generator) is deprecated, and in the future will give a different result. Use np.sum(np.fromiter(generator)) or the python sum builtin instead.\n",
      "  import sys\n"
     ]
    },
    {
     "name": "stdout",
     "output_type": "stream",
     "text": [
      "0\n",
      "28439\n"
     ]
    },
    {
     "name": "stderr",
     "output_type": "stream",
     "text": [
      "/home/pranav/anaconda3/lib/python3.7/site-packages/ipykernel_launcher.py:39: DeprecationWarning: Calling np.sum(generator) is deprecated, and in the future will give a different result. Use np.sum(np.fromiter(generator)) or the python sum builtin instead.\n"
     ]
    },
    {
     "name": "stdout",
     "output_type": "stream",
     "text": [
      "0\n",
      "28439\n"
     ]
    },
    {
     "data": {
      "text/plain": [
       "2.3870404711804732e-05"
      ]
     },
     "execution_count": 9,
     "metadata": {},
     "output_type": "execute_result"
    }
   ],
   "source": [
    "FEATURES = [0, 1, 2, 3, 4, 5, 6]\n",
    "TARGET = [7]\n",
    "\n",
    "look_back  = 60\n",
    "\n",
    "test_gen = dataloader([df.values for df in df_test], look_back, shuffle=False)\n",
    "size = np.sum(df.shape[0] for df in df_test)\n",
    "\n",
    "\n",
    "batch_size = 28439\n",
    "\n",
    "y_test = []\n",
    "y_pred_all = []\n",
    "for x in range(0, size, batch_size):\n",
    "    print(x)\n",
    "    X_test = []\n",
    "    for i in range(batch_size):\n",
    "        try:\n",
    "            X,y = next(test_gen)\n",
    "            X_test.append(X)\n",
    "            y_test.append(y)\n",
    "        except:\n",
    "            break\n",
    "    inpt = np.array(X_test).reshape(-1, look_back, 8)\n",
    "    x_test_batch = torch.tensor(inpt,dtype=torch.float32).to(device)  \n",
    "    y_pred = best_mse(x_test_batch)\n",
    "\n",
    "    y_pred_all = np.append(y_pred_all,y_pred.cpu().detach().numpy())\n",
    "    \n",
    "    \n",
    "pm_err = (y_pred_all - np.array(y_test).reshape(-1))**2\n",
    "\n",
    "FEATURES = [0, 1, 2, 3, 4, 5, 6]\n",
    "TARGET = [8, 9, 10]\n",
    "\n",
    "look_back  = 60\n",
    "\n",
    "test_gen = dataloader([df.values for df in df_test], look_back, shuffle=False)\n",
    "size = np.sum(df.shape[0] for df in df_test)\n",
    "\n",
    "\n",
    "batch_size = 28439\n",
    "\n",
    "y_test = []\n",
    "y_pred_all = []\n",
    "for x in range(0, size, batch_size):\n",
    "    print(x)\n",
    "    X_test = []\n",
    "    for i in range(batch_size):\n",
    "        try:\n",
    "            X,y = next(test_gen)\n",
    "            X_test.append(X)\n",
    "            y_test.append(y)\n",
    "        except:\n",
    "            break\n",
    "    inpt = np.array(X_test).reshape(-1, look_back, 10)\n",
    "    x_test_batch = torch.tensor(inpt,dtype=torch.float32).to(device)  \n",
    "    y_pred = best_mse_stator(x_test_batch)\n",
    "\n",
    "    y_pred_all = np.append(y_pred_all,y_pred.cpu().detach().numpy())\n",
    "    \n",
    "    \n",
    "pm_err_stat = (y_pred_all.reshape(-1) - np.array(y_test).reshape(-1))**2\n",
    "\n",
    "\n",
    "np.mean(np.concatenate((pm_err, pm_err_stat)))"
   ]
  },
  {
   "cell_type": "markdown",
   "metadata": {},
   "source": [
    "# LSTM"
   ]
  },
  {
   "cell_type": "code",
   "execution_count": 11,
   "metadata": {},
   "outputs": [],
   "source": [
    "class LSTM_Net(nn.Module):\n",
    "    def __init__(self, features, hidden, h1, h2, out):\n",
    "        super(LSTM_Net, self).__init__()\n",
    "        self.h1 = h1\n",
    "        self.h2 = h2\n",
    "\n",
    "        self.hidden_size = hidden\n",
    "        self.features = features\n",
    "\n",
    "        self.lstm = nn.LSTM(self.features, self.hidden_size, 1, #feature_size, hidden_size, num_layer\n",
    "                            batch_first = True) \n",
    "        self.fc1 = nn.Linear(self.hidden_size, \n",
    "                                h1)\n",
    "        self.out = nn.Linear(h1, out)\n",
    "\n",
    "        if self.h2 != 0:\n",
    "            self.fc2 = nn.Linear(h1, h2)\n",
    "            self.out = nn.Linear(h2, out)\n",
    "        \n",
    "        #we do it stateless so there is no need for the hidden_state\n",
    "        #self.hidden = None #torch.randn(1, ??, self.hidden) #num_layer, batch, hidden_size\n",
    "\n",
    "    def forward(self, x):\n",
    "        batch_size, _, _ = x.shape \n",
    "        \n",
    "        x, _ =  self.lstm(x)\n",
    "        x = F.tanh(x[:,-1].view(batch_size, -1))\n",
    "        \n",
    "        x = F.relu(self.fc1(x))\n",
    "        if self.h2 != 0:\n",
    "            x = F.relu(self.fc2(x))\n",
    "        return self.out(x)"
   ]
  },
  {
   "cell_type": "code",
   "execution_count": 12,
   "metadata": {},
   "outputs": [],
   "source": [
    "best_mse = torch.load(\"models/best_model_lstm\").to(device)\n",
    "best_mse_stator = torch.load(\"models/best_model_lstm_stator\").to(device)"
   ]
  },
  {
   "cell_type": "code",
   "execution_count": 13,
   "metadata": {},
   "outputs": [
    {
     "name": "stderr",
     "output_type": "stream",
     "text": [
      "/home/pranav/anaconda3/lib/python3.7/site-packages/ipykernel_launcher.py:7: DeprecationWarning: Calling np.sum(generator) is deprecated, and in the future will give a different result. Use np.sum(np.fromiter(generator)) or the python sum builtin instead.\n",
      "  import sys\n"
     ]
    },
    {
     "name": "stdout",
     "output_type": "stream",
     "text": [
      "0\n"
     ]
    },
    {
     "name": "stderr",
     "output_type": "stream",
     "text": [
      "/home/pranav/anaconda3/lib/python3.7/site-packages/torch/nn/functional.py:1347: UserWarning: nn.functional.tanh is deprecated. Use torch.tanh instead.\n",
      "  warnings.warn(\"nn.functional.tanh is deprecated. Use torch.tanh instead.\")\n"
     ]
    },
    {
     "name": "stdout",
     "output_type": "stream",
     "text": [
      "18803\n",
      "37606\n",
      "56409\n",
      "75212\n",
      "94015\n",
      "112818\n",
      "131621\n",
      "150424\n",
      "169227\n",
      "188030\n",
      "206833\n",
      "225636\n",
      "244439\n",
      "263242\n",
      "282045\n",
      "300848\n",
      "319651\n",
      "338454\n",
      "357257\n",
      "376060\n",
      "394863\n",
      "413666\n",
      "432469\n",
      "451272\n",
      "470075\n",
      "488878\n",
      "507681\n",
      "526484\n",
      "545287\n",
      "564090\n",
      "582893\n",
      "601696\n",
      "620499\n",
      "639302\n",
      "658105\n",
      "676908\n",
      "695711\n",
      "714514\n",
      "733317\n",
      "752120\n"
     ]
    },
    {
     "name": "stderr",
     "output_type": "stream",
     "text": [
      "/home/pranav/anaconda3/lib/python3.7/site-packages/ipykernel_launcher.py:39: DeprecationWarning: Calling np.sum(generator) is deprecated, and in the future will give a different result. Use np.sum(np.fromiter(generator)) or the python sum builtin instead.\n"
     ]
    },
    {
     "name": "stdout",
     "output_type": "stream",
     "text": [
      "0\n",
      "18803\n",
      "37606\n",
      "56409\n",
      "75212\n",
      "94015\n",
      "112818\n",
      "131621\n",
      "150424\n",
      "169227\n",
      "188030\n",
      "206833\n",
      "225636\n",
      "244439\n",
      "263242\n",
      "282045\n",
      "300848\n",
      "319651\n",
      "338454\n",
      "357257\n",
      "376060\n",
      "394863\n",
      "413666\n",
      "432469\n",
      "451272\n",
      "470075\n",
      "488878\n",
      "507681\n",
      "526484\n",
      "545287\n",
      "564090\n",
      "582893\n",
      "601696\n",
      "620499\n",
      "639302\n",
      "658105\n",
      "676908\n",
      "695711\n",
      "714514\n",
      "733317\n",
      "752120\n"
     ]
    },
    {
     "data": {
      "text/plain": [
       "9.836819436559445e-06"
      ]
     },
     "execution_count": 13,
     "metadata": {},
     "output_type": "execute_result"
    }
   ],
   "source": [
    "FEATURES = [0, 1, 2, 3, 4, 5, 6]\n",
    "TARGET = [7]\n",
    "\n",
    "look_back  = 60\n",
    "\n",
    "gen = dataloader([df.values for df in df_train], look_back, shuffle=False)\n",
    "size = np.sum(df.shape[0] for df in df_train)\n",
    "\n",
    "\n",
    "batch_size = 18803\n",
    "\n",
    "y_test = []\n",
    "y_pred_all = []\n",
    "for x in range(0, size, batch_size):\n",
    "    print(x)\n",
    "    X_test = []\n",
    "    for i in range(batch_size):\n",
    "        try:\n",
    "            X,y = next(gen)\n",
    "            X_test.append(X)\n",
    "            y_test.append(y)\n",
    "        except:\n",
    "            break\n",
    "    inpt = np.array(X_test).reshape(-1, look_back, 8)\n",
    "    x_test_batch = torch.tensor(inpt,dtype=torch.float32).to(device)  \n",
    "    y_pred = best_mse(x_test_batch)\n",
    "\n",
    "    y_pred_all = np.append(y_pred_all,y_pred.cpu().detach().numpy())\n",
    "    \n",
    "    \n",
    "pm_err = (y_pred_all - np.array(y_test).reshape(-1))**2\n",
    "\n",
    "FEATURES = [0, 1, 2, 3, 4, 5, 6]\n",
    "TARGET = [8, 9, 10]\n",
    "\n",
    "look_back  = 60\n",
    "\n",
    "gen = dataloader([df.values for df in df_train], look_back, shuffle=False)\n",
    "size = np.sum(df.shape[0] for df in df_train)\n",
    "\n",
    "y_test = []\n",
    "y_pred_all = []\n",
    "for x in range(0, size, batch_size):\n",
    "    print(x)\n",
    "    X_test = []\n",
    "    for i in range(batch_size):\n",
    "        try:\n",
    "            X,y = next(gen)\n",
    "            X_test.append(X)\n",
    "            y_test.append(y)\n",
    "        except:\n",
    "            break\n",
    "    inpt = np.array(X_test).reshape(-1, look_back, 10)\n",
    "    x_test_batch = torch.tensor(inpt,dtype=torch.float32).to(device)  \n",
    "    y_pred = best_mse_stator(x_test_batch)\n",
    "\n",
    "    y_pred_all = np.append(y_pred_all,y_pred.cpu().detach().numpy())\n",
    "    \n",
    "    \n",
    "pm_err_stat = (y_pred_all.reshape(-1) - np.array(y_test).reshape(-1))**2\n",
    "\n",
    "\n",
    "np.mean(np.concatenate((pm_err, pm_err_stat)))"
   ]
  },
  {
   "cell_type": "code",
   "execution_count": 14,
   "metadata": {},
   "outputs": [
    {
     "name": "stderr",
     "output_type": "stream",
     "text": [
      "/home/pranav/anaconda3/lib/python3.7/site-packages/ipykernel_launcher.py:7: DeprecationWarning: Calling np.sum(generator) is deprecated, and in the future will give a different result. Use np.sum(np.fromiter(generator)) or the python sum builtin instead.\n",
      "  import sys\n"
     ]
    },
    {
     "name": "stdout",
     "output_type": "stream",
     "text": [
      "0\n",
      "18803\n",
      "37606\n",
      "56409\n",
      "75212\n",
      "94015\n",
      "112818\n",
      "131621\n",
      "150424\n",
      "169227\n",
      "0\n",
      "18803\n",
      "37606\n",
      "56409\n",
      "75212\n",
      "94015\n",
      "112818\n",
      "131621\n",
      "150424\n",
      "169227\n"
     ]
    },
    {
     "data": {
      "text/plain": [
       "9.54949601349374e-06"
      ]
     },
     "execution_count": 14,
     "metadata": {},
     "output_type": "execute_result"
    }
   ],
   "source": [
    "FEATURES = [0, 1, 2, 3, 4, 5, 6]\n",
    "TARGET = [7]\n",
    "\n",
    "look_back  = 60\n",
    "\n",
    "gen = dataloader([df.values for df in df_val], look_back, shuffle=False)\n",
    "size = np.sum(df.shape[0] for df in df_val)\n",
    "\n",
    "\n",
    "batch_size = 18803\n",
    "\n",
    "y_test = []\n",
    "y_pred_all = []\n",
    "for x in range(0, size, batch_size):\n",
    "    print(x)\n",
    "    X_test = []\n",
    "    for i in range(batch_size):\n",
    "        try:\n",
    "            X,y = next(gen)\n",
    "            X_test.append(X)\n",
    "            y_test.append(y)\n",
    "        except:\n",
    "            break\n",
    "    inpt = np.array(X_test).reshape(-1, look_back, 8)\n",
    "    x_test_batch = torch.tensor(inpt,dtype=torch.float32).to(device)  \n",
    "    y_pred = best_mse(x_test_batch)\n",
    "\n",
    "    y_pred_all = np.append(y_pred_all,y_pred.cpu().detach().numpy())\n",
    "    \n",
    "    \n",
    "pm_err = (y_pred_all - np.array(y_test).reshape(-1))**2\n",
    "\n",
    "FEATURES = [0, 1, 2, 3, 4, 5, 6]\n",
    "TARGET = [8, 9, 10]\n",
    "\n",
    "gen = dataloader([df.values for df in df_val], look_back, shuffle=False)\n",
    "\n",
    "y_test = []\n",
    "y_pred_all = []\n",
    "for x in range(0, size, batch_size):\n",
    "    print(x)\n",
    "    X_test = []\n",
    "    for i in range(batch_size):\n",
    "        try:\n",
    "            X,y = next(gen)\n",
    "            X_test.append(X)\n",
    "            y_test.append(y)\n",
    "        except:\n",
    "            break\n",
    "    inpt = np.array(X_test).reshape(-1, look_back, 10)\n",
    "    x_test_batch = torch.tensor(inpt,dtype=torch.float32).to(device)  \n",
    "    y_pred = best_mse_stator(x_test_batch)\n",
    "\n",
    "    y_pred_all = np.append(y_pred_all,y_pred.cpu().detach().numpy())\n",
    "    \n",
    "    \n",
    "pm_err_stat = (y_pred_all.reshape(-1) - np.array(y_test).reshape(-1))**2\n",
    "\n",
    "\n",
    "np.mean(np.concatenate((pm_err, pm_err_stat)))"
   ]
  },
  {
   "cell_type": "code",
   "execution_count": 15,
   "metadata": {},
   "outputs": [
    {
     "name": "stderr",
     "output_type": "stream",
     "text": [
      "/home/pranav/anaconda3/lib/python3.7/site-packages/ipykernel_launcher.py:7: DeprecationWarning: Calling np.sum(generator) is deprecated, and in the future will give a different result. Use np.sum(np.fromiter(generator)) or the python sum builtin instead.\n",
      "  import sys\n"
     ]
    },
    {
     "name": "stdout",
     "output_type": "stream",
     "text": [
      "0\n",
      "28439\n",
      "0\n",
      "28439\n"
     ]
    },
    {
     "data": {
      "text/plain": [
       "1.009048952520101e-05"
      ]
     },
     "execution_count": 15,
     "metadata": {},
     "output_type": "execute_result"
    }
   ],
   "source": [
    "FEATURES = [0, 1, 2, 3, 4, 5, 6]\n",
    "TARGET = [7]\n",
    "\n",
    "look_back  = 60\n",
    "\n",
    "gen = dataloader([df.values for df in df_test], look_back, shuffle=False)\n",
    "size = np.sum(df.shape[0] for df in df_test)\n",
    "\n",
    "\n",
    "batch_size = 28439\n",
    "\n",
    "y_test = []\n",
    "y_pred_all = []\n",
    "for x in range(0, size, batch_size):\n",
    "    print(x)\n",
    "    X_test = []\n",
    "    for i in range(batch_size):\n",
    "        try:\n",
    "            X,y = next(gen)\n",
    "            X_test.append(X)\n",
    "            y_test.append(y)\n",
    "        except:\n",
    "            break\n",
    "    inpt = np.array(X_test).reshape(-1, look_back, 8)\n",
    "    x_test_batch = torch.tensor(inpt,dtype=torch.float32).to(device)  \n",
    "    y_pred = best_mse(x_test_batch)\n",
    "\n",
    "    y_pred_all = np.append(y_pred_all,y_pred.cpu().detach().numpy())\n",
    "    \n",
    "    \n",
    "pm_err = (y_pred_all - np.array(y_test).reshape(-1))**2\n",
    "\n",
    "FEATURES = [0, 1, 2, 3, 4, 5, 6]\n",
    "TARGET = [8, 9, 10]\n",
    "\n",
    "gen = dataloader([df.values for df in df_test], look_back, shuffle=False)\n",
    "\n",
    "y_test = []\n",
    "y_pred_all = []\n",
    "for x in range(0, size, batch_size):\n",
    "    print(x)\n",
    "    X_test = []\n",
    "    for i in range(batch_size):\n",
    "        try:\n",
    "            X,y = next(gen)\n",
    "            X_test.append(X)\n",
    "            y_test.append(y)\n",
    "        except:\n",
    "            break\n",
    "    inpt = np.array(X_test).reshape(-1, look_back, 10)\n",
    "    x_test_batch = torch.tensor(inpt,dtype=torch.float32).to(device)  \n",
    "    y_pred = best_mse_stator(x_test_batch)\n",
    "\n",
    "    y_pred_all = np.append(y_pred_all,y_pred.cpu().detach().numpy())\n",
    "    \n",
    "    \n",
    "pm_err_stat = (y_pred_all.reshape(-1) - np.array(y_test).reshape(-1))**2\n",
    "\n",
    "\n",
    "np.mean(np.concatenate((pm_err, pm_err_stat)))"
   ]
  },
  {
   "cell_type": "markdown",
   "metadata": {},
   "source": [
    "# GRU"
   ]
  },
  {
   "cell_type": "code",
   "execution_count": 16,
   "metadata": {},
   "outputs": [],
   "source": [
    "class GRU_Net(nn.Module):\n",
    "    def __init__(self, features, hidden, h1, h2, out):\n",
    "        super(GRU_Net, self).__init__()\n",
    "        self.h1 = h1\n",
    "        self.h2 = h2\n",
    "\n",
    "        self.hidden_size = hidden\n",
    "        self.features = features\n",
    "\n",
    "        self.gru = nn.GRU(self.features, self.hidden_size, 1, #feature_size, hidden_size, num_layer\n",
    "                            batch_first = True) \n",
    "        self.fc1 = nn.Linear(self.hidden_size, \n",
    "                                h1)\n",
    "        self.out = nn.Linear(h1, out)\n",
    "\n",
    "        if self.h2 != 0:\n",
    "            self.fc2 = nn.Linear(h1, h2)\n",
    "            self.out = nn.Linear(h2, out)\n",
    "        \n",
    "        #we do it stateless so there is no need for the hidden_state\n",
    "        #self.hidden = None #torch.randn(1, ??, self.hidden) #num_layer, batch, hidden_size\n",
    "\n",
    "    def forward(self, x):\n",
    "        batch_size, _, _ = x.shape \n",
    "        \n",
    "        x, _ =  self.gru(x)\n",
    "        x = F.tanh(x[:,-1].view(batch_size, -1))\n",
    "        \n",
    "        x = F.relu(self.fc1(x))\n",
    "        if self.h2 != 0:\n",
    "            x = F.relu(self.fc2(x))\n",
    "        return self.out(x)"
   ]
  },
  {
   "cell_type": "code",
   "execution_count": 17,
   "metadata": {},
   "outputs": [],
   "source": [
    "best_mse = torch.load(\"models/best_model_gru\").to(device)\n",
    "best_mse_stator = torch.load(\"models/best_model_gru_stator\").to(device)"
   ]
  },
  {
   "cell_type": "code",
   "execution_count": 18,
   "metadata": {},
   "outputs": [
    {
     "name": "stderr",
     "output_type": "stream",
     "text": [
      "/home/pranav/anaconda3/lib/python3.7/site-packages/ipykernel_launcher.py:7: DeprecationWarning: Calling np.sum(generator) is deprecated, and in the future will give a different result. Use np.sum(np.fromiter(generator)) or the python sum builtin instead.\n",
      "  import sys\n"
     ]
    },
    {
     "name": "stdout",
     "output_type": "stream",
     "text": [
      "0\n",
      "18803\n",
      "37606\n",
      "56409\n",
      "75212\n",
      "94015\n",
      "112818\n",
      "131621\n",
      "150424\n",
      "169227\n",
      "188030\n",
      "206833\n",
      "225636\n",
      "244439\n",
      "263242\n",
      "282045\n",
      "300848\n",
      "319651\n",
      "338454\n",
      "357257\n",
      "376060\n",
      "394863\n",
      "413666\n",
      "432469\n",
      "451272\n",
      "470075\n",
      "488878\n",
      "507681\n",
      "526484\n",
      "545287\n",
      "564090\n",
      "582893\n",
      "601696\n",
      "620499\n",
      "639302\n",
      "658105\n",
      "676908\n",
      "695711\n",
      "714514\n",
      "733317\n",
      "752120\n"
     ]
    },
    {
     "name": "stderr",
     "output_type": "stream",
     "text": [
      "/home/pranav/anaconda3/lib/python3.7/site-packages/ipykernel_launcher.py:39: DeprecationWarning: Calling np.sum(generator) is deprecated, and in the future will give a different result. Use np.sum(np.fromiter(generator)) or the python sum builtin instead.\n"
     ]
    },
    {
     "name": "stdout",
     "output_type": "stream",
     "text": [
      "0\n",
      "18803\n",
      "37606\n",
      "56409\n",
      "75212\n",
      "94015\n",
      "112818\n",
      "131621\n",
      "150424\n",
      "169227\n",
      "188030\n",
      "206833\n",
      "225636\n",
      "244439\n",
      "263242\n",
      "282045\n",
      "300848\n",
      "319651\n",
      "338454\n",
      "357257\n",
      "376060\n",
      "394863\n",
      "413666\n",
      "432469\n",
      "451272\n",
      "470075\n",
      "488878\n",
      "507681\n",
      "526484\n",
      "545287\n",
      "564090\n",
      "582893\n",
      "601696\n",
      "620499\n",
      "639302\n",
      "658105\n",
      "676908\n",
      "695711\n",
      "714514\n",
      "733317\n",
      "752120\n"
     ]
    },
    {
     "data": {
      "text/plain": [
       "1.2924898004638905e-05"
      ]
     },
     "execution_count": 18,
     "metadata": {},
     "output_type": "execute_result"
    }
   ],
   "source": [
    "FEATURES = [0, 1, 2, 3, 4, 5, 6]\n",
    "TARGET = [7]\n",
    "\n",
    "look_back  = 60\n",
    "\n",
    "gen = dataloader([df.values for df in df_train], look_back, shuffle=False)\n",
    "size = np.sum(df.shape[0] for df in df_train)\n",
    "\n",
    "\n",
    "batch_size = 18803\n",
    "\n",
    "y_test = []\n",
    "y_pred_all = []\n",
    "for x in range(0, size, batch_size):\n",
    "    print(x)\n",
    "    X_test = []\n",
    "    for i in range(batch_size):\n",
    "        try:\n",
    "            X,y = next(gen)\n",
    "            X_test.append(X)\n",
    "            y_test.append(y)\n",
    "        except:\n",
    "            break\n",
    "    inpt = np.array(X_test).reshape(-1, look_back, 8)\n",
    "    x_test_batch = torch.tensor(inpt,dtype=torch.float32).to(device)  \n",
    "    y_pred = best_mse(x_test_batch)\n",
    "\n",
    "    y_pred_all = np.append(y_pred_all,y_pred.cpu().detach().numpy())\n",
    "    \n",
    "    \n",
    "pm_err = (y_pred_all - np.array(y_test).reshape(-1))**2\n",
    "\n",
    "FEATURES = [0, 1, 2, 3, 4, 5, 6]\n",
    "TARGET = [8, 9, 10]\n",
    "\n",
    "look_back  = 60\n",
    "\n",
    "gen = dataloader([df.values for df in df_train], look_back, shuffle=False)\n",
    "size = np.sum(df.shape[0] for df in df_train)\n",
    "\n",
    "y_test = []\n",
    "y_pred_all = []\n",
    "for x in range(0, size, batch_size):\n",
    "    print(x)\n",
    "    X_test = []\n",
    "    for i in range(batch_size):\n",
    "        try:\n",
    "            X,y = next(gen)\n",
    "            X_test.append(X)\n",
    "            y_test.append(y)\n",
    "        except:\n",
    "            break\n",
    "    inpt = np.array(X_test).reshape(-1, look_back, 10)\n",
    "    x_test_batch = torch.tensor(inpt,dtype=torch.float32).to(device)  \n",
    "    y_pred = best_mse_stator(x_test_batch)\n",
    "\n",
    "    y_pred_all = np.append(y_pred_all,y_pred.cpu().detach().numpy())\n",
    "    \n",
    "    \n",
    "pm_err_stat = (y_pred_all.reshape(-1) - np.array(y_test).reshape(-1))**2\n",
    "\n",
    "\n",
    "np.mean(np.concatenate((pm_err, pm_err_stat)))"
   ]
  },
  {
   "cell_type": "code",
   "execution_count": 19,
   "metadata": {},
   "outputs": [
    {
     "name": "stderr",
     "output_type": "stream",
     "text": [
      "/home/pranav/anaconda3/lib/python3.7/site-packages/ipykernel_launcher.py:7: DeprecationWarning: Calling np.sum(generator) is deprecated, and in the future will give a different result. Use np.sum(np.fromiter(generator)) or the python sum builtin instead.\n",
      "  import sys\n"
     ]
    },
    {
     "name": "stdout",
     "output_type": "stream",
     "text": [
      "0\n",
      "18803\n",
      "37606\n",
      "56409\n",
      "75212\n",
      "94015\n",
      "112818\n",
      "131621\n",
      "150424\n",
      "169227\n",
      "0\n",
      "18803\n",
      "37606\n",
      "56409\n",
      "75212\n",
      "94015\n",
      "112818\n",
      "131621\n",
      "150424\n",
      "169227\n"
     ]
    },
    {
     "data": {
      "text/plain": [
       "1.2424951524082883e-05"
      ]
     },
     "execution_count": 19,
     "metadata": {},
     "output_type": "execute_result"
    }
   ],
   "source": [
    "FEATURES = [0, 1, 2, 3, 4, 5, 6]\n",
    "TARGET = [7]\n",
    "\n",
    "look_back  = 60\n",
    "\n",
    "gen = dataloader([df.values for df in df_val], look_back, shuffle=False)\n",
    "size = np.sum(df.shape[0] for df in df_val)\n",
    "\n",
    "\n",
    "batch_size = 18803\n",
    "\n",
    "y_test = []\n",
    "y_pred_all = []\n",
    "for x in range(0, size, batch_size):\n",
    "    print(x)\n",
    "    X_test = []\n",
    "    for i in range(batch_size):\n",
    "        try:\n",
    "            X,y = next(gen)\n",
    "            X_test.append(X)\n",
    "            y_test.append(y)\n",
    "        except:\n",
    "            break\n",
    "    inpt = np.array(X_test).reshape(-1, look_back, 8)\n",
    "    x_test_batch = torch.tensor(inpt,dtype=torch.float32).to(device)  \n",
    "    y_pred = best_mse(x_test_batch)\n",
    "\n",
    "    y_pred_all = np.append(y_pred_all,y_pred.cpu().detach().numpy())\n",
    "    \n",
    "    \n",
    "pm_err = (y_pred_all - np.array(y_test).reshape(-1))**2\n",
    "\n",
    "FEATURES = [0, 1, 2, 3, 4, 5, 6]\n",
    "TARGET = [8, 9, 10]\n",
    "\n",
    "gen = dataloader([df.values for df in df_val], look_back, shuffle=False)\n",
    "\n",
    "y_test = []\n",
    "y_pred_all = []\n",
    "for x in range(0, size, batch_size):\n",
    "    print(x)\n",
    "    X_test = []\n",
    "    for i in range(batch_size):\n",
    "        try:\n",
    "            X,y = next(gen)\n",
    "            X_test.append(X)\n",
    "            y_test.append(y)\n",
    "        except:\n",
    "            break\n",
    "    inpt = np.array(X_test).reshape(-1, look_back, 10)\n",
    "    x_test_batch = torch.tensor(inpt,dtype=torch.float32).to(device)  \n",
    "    y_pred = best_mse_stator(x_test_batch)\n",
    "\n",
    "    y_pred_all = np.append(y_pred_all,y_pred.cpu().detach().numpy())\n",
    "    \n",
    "    \n",
    "pm_err_stat = (y_pred_all.reshape(-1) - np.array(y_test).reshape(-1))**2\n",
    "\n",
    "\n",
    "np.mean(np.concatenate((pm_err, pm_err_stat)))"
   ]
  },
  {
   "cell_type": "code",
   "execution_count": 20,
   "metadata": {},
   "outputs": [
    {
     "name": "stderr",
     "output_type": "stream",
     "text": [
      "/home/pranav/anaconda3/lib/python3.7/site-packages/ipykernel_launcher.py:7: DeprecationWarning: Calling np.sum(generator) is deprecated, and in the future will give a different result. Use np.sum(np.fromiter(generator)) or the python sum builtin instead.\n",
      "  import sys\n"
     ]
    },
    {
     "name": "stdout",
     "output_type": "stream",
     "text": [
      "0\n",
      "28439\n",
      "0\n",
      "28439\n"
     ]
    },
    {
     "data": {
      "text/plain": [
       "1.2822127989885529e-05"
      ]
     },
     "execution_count": 20,
     "metadata": {},
     "output_type": "execute_result"
    }
   ],
   "source": [
    "FEATURES = [0, 1, 2, 3, 4, 5, 6]\n",
    "TARGET = [7]\n",
    "\n",
    "look_back  = 60\n",
    "\n",
    "gen = dataloader([df.values for df in df_test], look_back, shuffle=False)\n",
    "size = np.sum(df.shape[0] for df in df_test)\n",
    "\n",
    "\n",
    "batch_size = 28439\n",
    "\n",
    "y_test = []\n",
    "y_pred_all = []\n",
    "for x in range(0, size, batch_size):\n",
    "    print(x)\n",
    "    X_test = []\n",
    "    for i in range(batch_size):\n",
    "        try:\n",
    "            X,y = next(gen)\n",
    "            X_test.append(X)\n",
    "            y_test.append(y)\n",
    "        except:\n",
    "            break\n",
    "    inpt = np.array(X_test).reshape(-1, look_back, 8)\n",
    "    x_test_batch = torch.tensor(inpt,dtype=torch.float32).to(device)  \n",
    "    y_pred = best_mse(x_test_batch)\n",
    "\n",
    "    y_pred_all = np.append(y_pred_all,y_pred.cpu().detach().numpy())\n",
    "    \n",
    "    \n",
    "pm_err = (y_pred_all - np.array(y_test).reshape(-1))**2\n",
    "\n",
    "FEATURES = [0, 1, 2, 3, 4, 5, 6]\n",
    "TARGET = [8, 9, 10]\n",
    "\n",
    "gen = dataloader([df.values for df in df_test], look_back, shuffle=False)\n",
    "\n",
    "y_test = []\n",
    "y_pred_all = []\n",
    "for x in range(0, size, batch_size):\n",
    "    print(x)\n",
    "    X_test = []\n",
    "    for i in range(batch_size):\n",
    "        try:\n",
    "            X,y = next(gen)\n",
    "            X_test.append(X)\n",
    "            y_test.append(y)\n",
    "        except:\n",
    "            break\n",
    "    inpt = np.array(X_test).reshape(-1, look_back, 10)\n",
    "    x_test_batch = torch.tensor(inpt,dtype=torch.float32).to(device)  \n",
    "    y_pred = best_mse_stator(x_test_batch)\n",
    "\n",
    "    y_pred_all = np.append(y_pred_all,y_pred.cpu().detach().numpy())\n",
    "    \n",
    "    \n",
    "pm_err_stat = (y_pred_all.reshape(-1) - np.array(y_test).reshape(-1))**2\n",
    "\n",
    "\n",
    "np.mean(np.concatenate((pm_err, pm_err_stat)))"
   ]
  },
  {
   "cell_type": "code",
   "execution_count": null,
   "metadata": {},
   "outputs": [],
   "source": []
  }
 ],
 "metadata": {
  "kernelspec": {
   "display_name": "Python 3",
   "language": "python",
   "name": "python3"
  },
  "language_info": {
   "codemirror_mode": {
    "name": "ipython",
    "version": 3
   },
   "file_extension": ".py",
   "mimetype": "text/x-python",
   "name": "python",
   "nbconvert_exporter": "python",
   "pygments_lexer": "ipython3",
   "version": "3.7.5"
  }
 },
 "nbformat": 4,
 "nbformat_minor": 4
}
