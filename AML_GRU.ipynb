{
  "nbformat": 4,
  "nbformat_minor": 0,
  "metadata": {
    "accelerator": "GPU",
    "colab": {
      "name": "AML_GRU.ipynb",
      "provenance": [],
      "collapsed_sections": [],
      "machine_shape": "hm"
    },
    "kernelspec": {
      "display_name": "Python 3",
      "language": "python",
      "name": "python3"
    },
    "language_info": {
      "codemirror_mode": {
        "name": "ipython",
        "version": 3
      },
      "file_extension": ".py",
      "mimetype": "text/x-python",
      "name": "python",
      "nbconvert_exporter": "python",
      "pygments_lexer": "ipython3",
      "version": "3.7.5"
    }
  },
  "cells": [
    {
      "cell_type": "markdown",
      "metadata": {
        "id": "Gki-kdSYyMq_",
        "colab_type": "text"
      },
      "source": [
        "```\n",
        "function ConnectButton(){\n",
        "    console.log(\"Connect pushed\"); \n",
        "    document.querySelector(\"#connect\").click() \n",
        "}\n",
        "setInterval(ConnectButton,60000);\n",
        "```"
      ]
    },
    {
      "cell_type": "code",
      "metadata": {
        "colab_type": "code",
        "id": "vb3X0xFRUQXW",
        "outputId": "8b91be83-7516-4c69-fdf2-8f5a37dc1715",
        "colab": {
          "base_uri": "https://localhost:8080/",
          "height": 122
        }
      },
      "source": [
        "from google.colab import drive\n",
        "drive.mount('/content/drive')"
      ],
      "execution_count": 1,
      "outputs": [
        {
          "output_type": "stream",
          "text": [
            "Go to this URL in a browser: https://accounts.google.com/o/oauth2/auth?client_id=947318989803-6bn6qk8qdgf4n4g3pfee6491hc0brc4i.apps.googleusercontent.com&redirect_uri=urn%3aietf%3awg%3aoauth%3a2.0%3aoob&response_type=code&scope=email%20https%3a%2f%2fwww.googleapis.com%2fauth%2fdocs.test%20https%3a%2f%2fwww.googleapis.com%2fauth%2fdrive%20https%3a%2f%2fwww.googleapis.com%2fauth%2fdrive.photos.readonly%20https%3a%2f%2fwww.googleapis.com%2fauth%2fpeopleapi.readonly\n",
            "\n",
            "Enter your authorization code:\n",
            "··········\n",
            "Mounted at /content/drive\n"
          ],
          "name": "stdout"
        }
      ]
    },
    {
      "cell_type": "code",
      "metadata": {
        "id": "zZko5hYs60sN",
        "colab_type": "code",
        "colab": {}
      },
      "source": [
        "%%capture\n",
        "!pip install --upgrade tqdm\n",
        "!pip install parameter-sherpa"
      ],
      "execution_count": 0,
      "outputs": []
    },
    {
      "cell_type": "code",
      "metadata": {
        "colab_type": "code",
        "id": "SQ6LXKCwUllM",
        "outputId": "717c7cad-e0ae-4686-d394-0b2dcabae167",
        "colab": {
          "base_uri": "https://localhost:8080/",
          "height": 34
        }
      },
      "source": [
        "import pandas as pd\n",
        "import numpy as np\n",
        "\n",
        "import matplotlib.pyplot as plt\n",
        "%matplotlib inline\n",
        "import seaborn as sns\n",
        "\n",
        "import sherpa\n",
        "\n",
        "import torch\n",
        "import torch.nn as nn\n",
        "import torch.nn.functional as F\n",
        "import torch.optim as optim\n",
        "from tqdm import tqdm\n",
        "\n",
        "torch.__version__"
      ],
      "execution_count": 2,
      "outputs": [
        {
          "output_type": "execute_result",
          "data": {
            "text/plain": [
              "'1.3.1'"
            ]
          },
          "metadata": {
            "tags": []
          },
          "execution_count": 2
        }
      ]
    },
    {
      "cell_type": "code",
      "metadata": {
        "colab_type": "code",
        "id": "4vLeWHW389VX",
        "colab": {}
      },
      "source": [
        "device = \"cuda\" if torch.cuda.is_available() else \"cpu\""
      ],
      "execution_count": 0,
      "outputs": []
    },
    {
      "cell_type": "code",
      "metadata": {
        "colab_type": "code",
        "id": "VDOxJCCLUwS2",
        "colab": {}
      },
      "source": [
        "path = \"drive/My Drive/AML/\"\n",
        "#path = \"\"\n",
        "\n",
        "df = pd.read_csv(path + \"pmsm_temperature_data.csv\")"
      ],
      "execution_count": 0,
      "outputs": []
    },
    {
      "cell_type": "code",
      "metadata": {
        "colab_type": "code",
        "id": "9nE6HMesVkEX",
        "outputId": "ae970138-3388-44bb-d301-aded598a42de",
        "colab": {
          "base_uri": "https://localhost:8080/",
          "height": 204
        }
      },
      "source": [
        "df.head()"
      ],
      "execution_count": 5,
      "outputs": [
        {
          "output_type": "execute_result",
          "data": {
            "text/html": [
              "<div>\n",
              "<style scoped>\n",
              "    .dataframe tbody tr th:only-of-type {\n",
              "        vertical-align: middle;\n",
              "    }\n",
              "\n",
              "    .dataframe tbody tr th {\n",
              "        vertical-align: top;\n",
              "    }\n",
              "\n",
              "    .dataframe thead th {\n",
              "        text-align: right;\n",
              "    }\n",
              "</style>\n",
              "<table border=\"1\" class=\"dataframe\">\n",
              "  <thead>\n",
              "    <tr style=\"text-align: right;\">\n",
              "      <th></th>\n",
              "      <th>ambient</th>\n",
              "      <th>coolant</th>\n",
              "      <th>u_d</th>\n",
              "      <th>u_q</th>\n",
              "      <th>motor_speed</th>\n",
              "      <th>torque</th>\n",
              "      <th>i_d</th>\n",
              "      <th>i_q</th>\n",
              "      <th>pm</th>\n",
              "      <th>stator_yoke</th>\n",
              "      <th>stator_tooth</th>\n",
              "      <th>stator_winding</th>\n",
              "      <th>profile_id</th>\n",
              "    </tr>\n",
              "  </thead>\n",
              "  <tbody>\n",
              "    <tr>\n",
              "      <th>0</th>\n",
              "      <td>-0.752143</td>\n",
              "      <td>-1.118446</td>\n",
              "      <td>0.327935</td>\n",
              "      <td>-1.297858</td>\n",
              "      <td>-1.222428</td>\n",
              "      <td>-0.250182</td>\n",
              "      <td>1.029572</td>\n",
              "      <td>-0.245860</td>\n",
              "      <td>-2.522071</td>\n",
              "      <td>-1.831422</td>\n",
              "      <td>-2.066143</td>\n",
              "      <td>-2.018033</td>\n",
              "      <td>4</td>\n",
              "    </tr>\n",
              "    <tr>\n",
              "      <th>1</th>\n",
              "      <td>-0.771263</td>\n",
              "      <td>-1.117021</td>\n",
              "      <td>0.329665</td>\n",
              "      <td>-1.297686</td>\n",
              "      <td>-1.222429</td>\n",
              "      <td>-0.249133</td>\n",
              "      <td>1.029509</td>\n",
              "      <td>-0.245832</td>\n",
              "      <td>-2.522418</td>\n",
              "      <td>-1.830969</td>\n",
              "      <td>-2.064859</td>\n",
              "      <td>-2.017631</td>\n",
              "      <td>4</td>\n",
              "    </tr>\n",
              "    <tr>\n",
              "      <th>2</th>\n",
              "      <td>-0.782892</td>\n",
              "      <td>-1.116681</td>\n",
              "      <td>0.332771</td>\n",
              "      <td>-1.301822</td>\n",
              "      <td>-1.222428</td>\n",
              "      <td>-0.249431</td>\n",
              "      <td>1.029448</td>\n",
              "      <td>-0.245818</td>\n",
              "      <td>-2.522673</td>\n",
              "      <td>-1.830400</td>\n",
              "      <td>-2.064073</td>\n",
              "      <td>-2.017343</td>\n",
              "      <td>4</td>\n",
              "    </tr>\n",
              "    <tr>\n",
              "      <th>3</th>\n",
              "      <td>-0.780935</td>\n",
              "      <td>-1.116764</td>\n",
              "      <td>0.333700</td>\n",
              "      <td>-1.301852</td>\n",
              "      <td>-1.222430</td>\n",
              "      <td>-0.248636</td>\n",
              "      <td>1.032845</td>\n",
              "      <td>-0.246955</td>\n",
              "      <td>-2.521639</td>\n",
              "      <td>-1.830333</td>\n",
              "      <td>-2.063137</td>\n",
              "      <td>-2.017632</td>\n",
              "      <td>4</td>\n",
              "    </tr>\n",
              "    <tr>\n",
              "      <th>4</th>\n",
              "      <td>-0.774043</td>\n",
              "      <td>-1.116775</td>\n",
              "      <td>0.335206</td>\n",
              "      <td>-1.303118</td>\n",
              "      <td>-1.222429</td>\n",
              "      <td>-0.248701</td>\n",
              "      <td>1.031807</td>\n",
              "      <td>-0.246610</td>\n",
              "      <td>-2.521900</td>\n",
              "      <td>-1.830498</td>\n",
              "      <td>-2.062795</td>\n",
              "      <td>-2.018145</td>\n",
              "      <td>4</td>\n",
              "    </tr>\n",
              "  </tbody>\n",
              "</table>\n",
              "</div>"
            ],
            "text/plain": [
              "    ambient   coolant       u_d  ...  stator_tooth  stator_winding  profile_id\n",
              "0 -0.752143 -1.118446  0.327935  ...     -2.066143       -2.018033           4\n",
              "1 -0.771263 -1.117021  0.329665  ...     -2.064859       -2.017631           4\n",
              "2 -0.782892 -1.116681  0.332771  ...     -2.064073       -2.017343           4\n",
              "3 -0.780935 -1.116764  0.333700  ...     -2.063137       -2.017632           4\n",
              "4 -0.774043 -1.116775  0.335206  ...     -2.062795       -2.018145           4\n",
              "\n",
              "[5 rows x 13 columns]"
            ]
          },
          "metadata": {
            "tags": []
          },
          "execution_count": 5
        }
      ]
    },
    {
      "cell_type": "code",
      "metadata": {
        "colab_type": "code",
        "id": "o8-7isf4VnKt",
        "outputId": "49f1b92a-bb07-4304-f6df-f2c56dd75b48",
        "colab": {
          "base_uri": "https://localhost:8080/",
          "height": 335
        }
      },
      "source": [
        "plt.figure(figsize=(15,5))\n",
        "count = pd.DataFrame(df[['profile_id']].groupby('profile_id').size()).reset_index()\n",
        "count.columns = [\"profile_id\", \"total\"]\n",
        "sns.barplot(count.profile_id,count.total)\n",
        "plt.show()"
      ],
      "execution_count": 6,
      "outputs": [
        {
          "output_type": "display_data",
          "data": {
            "image/png": "[encoded data removed]",
            "text/plain": [
              "<Figure size 1080x360 with 1 Axes>"
            ]
          },
          "metadata": {
            "tags": []
          }
        }
      ]
    },
    {
      "cell_type": "code",
      "metadata": {
        "id": "pGtWJpb_66kg",
        "colab_type": "code",
        "outputId": "ac7290ff-b700-43bc-fe5b-ffaf73283bee",
        "colab": {
          "base_uri": "https://localhost:8080/",
          "height": 1000
        }
      },
      "source": [
        "count"
      ],
      "execution_count": 7,
      "outputs": [
        {
          "output_type": "execute_result",
          "data": {
            "text/html": [
              "<div>\n",
              "<style scoped>\n",
              "    .dataframe tbody tr th:only-of-type {\n",
              "        vertical-align: middle;\n",
              "    }\n",
              "\n",
              "    .dataframe tbody tr th {\n",
              "        vertical-align: top;\n",
              "    }\n",
              "\n",
              "    .dataframe thead th {\n",
              "        text-align: right;\n",
              "    }\n",
              "</style>\n",
              "<table border=\"1\" class=\"dataframe\">\n",
              "  <thead>\n",
              "    <tr style=\"text-align: right;\">\n",
              "      <th></th>\n",
              "      <th>profile_id</th>\n",
              "      <th>total</th>\n",
              "    </tr>\n",
              "  </thead>\n",
              "  <tbody>\n",
              "    <tr>\n",
              "      <th>0</th>\n",
              "      <td>4</td>\n",
              "      <td>33423</td>\n",
              "    </tr>\n",
              "    <tr>\n",
              "      <th>1</th>\n",
              "      <td>6</td>\n",
              "      <td>40387</td>\n",
              "    </tr>\n",
              "    <tr>\n",
              "      <th>2</th>\n",
              "      <td>10</td>\n",
              "      <td>15255</td>\n",
              "    </tr>\n",
              "    <tr>\n",
              "      <th>3</th>\n",
              "      <td>11</td>\n",
              "      <td>7886</td>\n",
              "    </tr>\n",
              "    <tr>\n",
              "      <th>4</th>\n",
              "      <td>20</td>\n",
              "      <td>43970</td>\n",
              "    </tr>\n",
              "    <tr>\n",
              "      <th>5</th>\n",
              "      <td>27</td>\n",
              "      <td>35360</td>\n",
              "    </tr>\n",
              "    <tr>\n",
              "      <th>6</th>\n",
              "      <td>29</td>\n",
              "      <td>21357</td>\n",
              "    </tr>\n",
              "    <tr>\n",
              "      <th>7</th>\n",
              "      <td>30</td>\n",
              "      <td>23862</td>\n",
              "    </tr>\n",
              "    <tr>\n",
              "      <th>8</th>\n",
              "      <td>31</td>\n",
              "      <td>15586</td>\n",
              "    </tr>\n",
              "    <tr>\n",
              "      <th>9</th>\n",
              "      <td>32</td>\n",
              "      <td>20959</td>\n",
              "    </tr>\n",
              "    <tr>\n",
              "      <th>10</th>\n",
              "      <td>36</td>\n",
              "      <td>22608</td>\n",
              "    </tr>\n",
              "    <tr>\n",
              "      <th>11</th>\n",
              "      <td>41</td>\n",
              "      <td>16699</td>\n",
              "    </tr>\n",
              "    <tr>\n",
              "      <th>12</th>\n",
              "      <td>42</td>\n",
              "      <td>16919</td>\n",
              "    </tr>\n",
              "    <tr>\n",
              "      <th>13</th>\n",
              "      <td>43</td>\n",
              "      <td>8442</td>\n",
              "    </tr>\n",
              "    <tr>\n",
              "      <th>14</th>\n",
              "      <td>44</td>\n",
              "      <td>26340</td>\n",
              "    </tr>\n",
              "    <tr>\n",
              "      <th>15</th>\n",
              "      <td>45</td>\n",
              "      <td>17141</td>\n",
              "    </tr>\n",
              "    <tr>\n",
              "      <th>16</th>\n",
              "      <td>46</td>\n",
              "      <td>2179</td>\n",
              "    </tr>\n",
              "    <tr>\n",
              "      <th>17</th>\n",
              "      <td>47</td>\n",
              "      <td>2175</td>\n",
              "    </tr>\n",
              "    <tr>\n",
              "      <th>18</th>\n",
              "      <td>48</td>\n",
              "      <td>21982</td>\n",
              "    </tr>\n",
              "    <tr>\n",
              "      <th>19</th>\n",
              "      <td>49</td>\n",
              "      <td>10815</td>\n",
              "    </tr>\n",
              "    <tr>\n",
              "      <th>20</th>\n",
              "      <td>50</td>\n",
              "      <td>10809</td>\n",
              "    </tr>\n",
              "    <tr>\n",
              "      <th>21</th>\n",
              "      <td>51</td>\n",
              "      <td>6260</td>\n",
              "    </tr>\n",
              "    <tr>\n",
              "      <th>22</th>\n",
              "      <td>52</td>\n",
              "      <td>3725</td>\n",
              "    </tr>\n",
              "    <tr>\n",
              "      <th>23</th>\n",
              "      <td>53</td>\n",
              "      <td>32441</td>\n",
              "    </tr>\n",
              "    <tr>\n",
              "      <th>24</th>\n",
              "      <td>54</td>\n",
              "      <td>10806</td>\n",
              "    </tr>\n",
              "    <tr>\n",
              "      <th>25</th>\n",
              "      <td>55</td>\n",
              "      <td>10806</td>\n",
              "    </tr>\n",
              "    <tr>\n",
              "      <th>26</th>\n",
              "      <td>56</td>\n",
              "      <td>33122</td>\n",
              "    </tr>\n",
              "    <tr>\n",
              "      <th>27</th>\n",
              "      <td>57</td>\n",
              "      <td>14402</td>\n",
              "    </tr>\n",
              "    <tr>\n",
              "      <th>28</th>\n",
              "      <td>58</td>\n",
              "      <td>33381</td>\n",
              "    </tr>\n",
              "    <tr>\n",
              "      <th>29</th>\n",
              "      <td>59</td>\n",
              "      <td>7474</td>\n",
              "    </tr>\n",
              "    <tr>\n",
              "      <th>30</th>\n",
              "      <td>60</td>\n",
              "      <td>14542</td>\n",
              "    </tr>\n",
              "    <tr>\n",
              "      <th>31</th>\n",
              "      <td>61</td>\n",
              "      <td>14515</td>\n",
              "    </tr>\n",
              "    <tr>\n",
              "      <th>32</th>\n",
              "      <td>62</td>\n",
              "      <td>25599</td>\n",
              "    </tr>\n",
              "    <tr>\n",
              "      <th>33</th>\n",
              "      <td>63</td>\n",
              "      <td>16667</td>\n",
              "    </tr>\n",
              "    <tr>\n",
              "      <th>34</th>\n",
              "      <td>64</td>\n",
              "      <td>6249</td>\n",
              "    </tr>\n",
              "    <tr>\n",
              "      <th>35</th>\n",
              "      <td>65</td>\n",
              "      <td>40093</td>\n",
              "    </tr>\n",
              "    <tr>\n",
              "      <th>36</th>\n",
              "      <td>66</td>\n",
              "      <td>36475</td>\n",
              "    </tr>\n",
              "    <tr>\n",
              "      <th>37</th>\n",
              "      <td>67</td>\n",
              "      <td>11134</td>\n",
              "    </tr>\n",
              "    <tr>\n",
              "      <th>38</th>\n",
              "      <td>68</td>\n",
              "      <td>23330</td>\n",
              "    </tr>\n",
              "    <tr>\n",
              "      <th>39</th>\n",
              "      <td>69</td>\n",
              "      <td>15349</td>\n",
              "    </tr>\n",
              "    <tr>\n",
              "      <th>40</th>\n",
              "      <td>70</td>\n",
              "      <td>25676</td>\n",
              "    </tr>\n",
              "    <tr>\n",
              "      <th>41</th>\n",
              "      <td>71</td>\n",
              "      <td>14655</td>\n",
              "    </tr>\n",
              "    <tr>\n",
              "      <th>42</th>\n",
              "      <td>72</td>\n",
              "      <td>15300</td>\n",
              "    </tr>\n",
              "    <tr>\n",
              "      <th>43</th>\n",
              "      <td>73</td>\n",
              "      <td>16785</td>\n",
              "    </tr>\n",
              "    <tr>\n",
              "      <th>44</th>\n",
              "      <td>74</td>\n",
              "      <td>23760</td>\n",
              "    </tr>\n",
              "    <tr>\n",
              "      <th>45</th>\n",
              "      <td>75</td>\n",
              "      <td>13471</td>\n",
              "    </tr>\n",
              "    <tr>\n",
              "      <th>46</th>\n",
              "      <td>76</td>\n",
              "      <td>22187</td>\n",
              "    </tr>\n",
              "    <tr>\n",
              "      <th>47</th>\n",
              "      <td>77</td>\n",
              "      <td>14621</td>\n",
              "    </tr>\n",
              "    <tr>\n",
              "      <th>48</th>\n",
              "      <td>78</td>\n",
              "      <td>8444</td>\n",
              "    </tr>\n",
              "    <tr>\n",
              "      <th>49</th>\n",
              "      <td>79</td>\n",
              "      <td>31153</td>\n",
              "    </tr>\n",
              "    <tr>\n",
              "      <th>50</th>\n",
              "      <td>80</td>\n",
              "      <td>23823</td>\n",
              "    </tr>\n",
              "    <tr>\n",
              "      <th>51</th>\n",
              "      <td>81</td>\n",
              "      <td>17671</td>\n",
              "    </tr>\n",
              "  </tbody>\n",
              "</table>\n",
              "</div>"
            ],
            "text/plain": [
              "    profile_id  total\n",
              "0            4  33423\n",
              "1            6  40387\n",
              "2           10  15255\n",
              "3           11   7886\n",
              "4           20  43970\n",
              "5           27  35360\n",
              "6           29  21357\n",
              "7           30  23862\n",
              "8           31  15586\n",
              "9           32  20959\n",
              "10          36  22608\n",
              "11          41  16699\n",
              "12          42  16919\n",
              "13          43   8442\n",
              "14          44  26340\n",
              "15          45  17141\n",
              "16          46   2179\n",
              "17          47   2175\n",
              "18          48  21982\n",
              "19          49  10815\n",
              "20          50  10809\n",
              "21          51   6260\n",
              "22          52   3725\n",
              "23          53  32441\n",
              "24          54  10806\n",
              "25          55  10806\n",
              "26          56  33122\n",
              "27          57  14402\n",
              "28          58  33381\n",
              "29          59   7474\n",
              "30          60  14542\n",
              "31          61  14515\n",
              "32          62  25599\n",
              "33          63  16667\n",
              "34          64   6249\n",
              "35          65  40093\n",
              "36          66  36475\n",
              "37          67  11134\n",
              "38          68  23330\n",
              "39          69  15349\n",
              "40          70  25676\n",
              "41          71  14655\n",
              "42          72  15300\n",
              "43          73  16785\n",
              "44          74  23760\n",
              "45          75  13471\n",
              "46          76  22187\n",
              "47          77  14621\n",
              "48          78   8444\n",
              "49          79  31153\n",
              "50          80  23823\n",
              "51          81  17671"
            ]
          },
          "metadata": {
            "tags": []
          },
          "execution_count": 7
        }
      ]
    },
    {
      "cell_type": "code",
      "metadata": {
        "colab_type": "code",
        "id": "7P2Z5K-2Yv5y",
        "outputId": "53f0e935-72cb-4cc9-af7b-d71c32fe290c",
        "colab": {
          "base_uri": "https://localhost:8080/",
          "height": 265
        }
      },
      "source": [
        "plt.plot(df[df.profile_id==56].pm)\n",
        "plt.show()"
      ],
      "execution_count": 10,
      "outputs": [
        {
          "output_type": "display_data",
          "data": {
            "image/png": "[encoded data removed]",
            "text/plain": [
              "<Figure size 432x288 with 1 Axes>"
            ]
          },
          "metadata": {
            "tags": []
          }
        }
      ]
    },
    {
      "cell_type": "code",
      "metadata": {
        "colab_type": "code",
        "id": "QspAjGn-6lFX",
        "colab": {}
      },
      "source": [
        "df_sep = [df[df.profile_id==profile].drop(['profile_id','torque'], axis=1).reset_index(drop=True) for profile in df.profile_id.unique()]"
      ],
      "execution_count": 0,
      "outputs": []
    },
    {
      "cell_type": "code",
      "metadata": {
        "colab_type": "code",
        "id": "RKAQhPBs616V",
        "colab": {}
      },
      "source": [
        "class GRU_Net(nn.Module):\n",
        "    def __init__(self, features, hidden, h1, h2, out):\n",
        "        super(GRU_Net, self).__init__()\n",
        "        self.h1 = h1\n",
        "        self.h2 = h2\n",
        "\n",
        "        self.hidden_size = hidden\n",
        "        self.features = features\n",
        "\n",
        "        self.gru = nn.GRU(self.features, self.hidden_size, 1, #feature_size, hidden_size, num_layer\n",
        "                            batch_first = True) \n",
        "        self.fc1 = nn.Linear(self.hidden_size, \n",
        "                                h1)\n",
        "        self.out = nn.Linear(h1, out)\n",
        "\n",
        "        if self.h2 != 0:\n",
        "            self.fc2 = nn.Linear(h1, h2)\n",
        "            self.out = nn.Linear(h2, out)\n",
        "        \n",
        "        #we do it stateless so there is no need for the hidden_state\n",
        "        #self.hidden = None #torch.randn(1, ??, self.hidden) #num_layer, batch, hidden_size\n",
        "\n",
        "    def forward(self, x):\n",
        "        batch_size, _, _ = x.shape \n",
        "        \n",
        "        x, _ =  self.gru(x)\n",
        "        x = F.tanh(x[:,-1].view(batch_size, -1))\n",
        "        \n",
        "        x = F.relu(self.fc1(x))\n",
        "        if self.h2 != 0:\n",
        "            x = F.relu(self.fc2(x))\n",
        "        return self.out(x)"
      ],
      "execution_count": 0,
      "outputs": []
    },
    {
      "cell_type": "code",
      "metadata": {
        "colab_type": "code",
        "id": "zq9xOY0AVoE8",
        "colab": {}
      },
      "source": [
        "def sliding_window(dataset, target_var, inp, out):\n",
        "    while True:\n",
        "        for X in dataset:\n",
        "            target = X[[target_var]]\n",
        "            num_features = len(X.columns)\n",
        "            \n",
        "            indice = list(range(inp + out - 1, X.shape[0]))\n",
        "            np.random.shuffle(indice)\n",
        "            for i in indice:\n",
        "                features = X.iloc[i-inp-out:i-out,].values.reshape(inp,num_features)\n",
        "                pred = target.iloc[i]\n",
        "\n",
        "                yield np.array(features), np.array(pred)"
      ],
      "execution_count": 0,
      "outputs": []
    },
    {
      "cell_type": "code",
      "metadata": {
        "id": "P5Zsp_d4oDoi",
        "colab_type": "code",
        "colab": {}
      },
      "source": [
        "train_min = df[~df.profile_id.isin([4, 8, 16, 24, 32, 40, 48, 51, 35, 42])].drop(['profile_id','torque'], axis=1).min()\n",
        "train_max = df[~df.profile_id.isin([4, 8, 16, 24, 32, 40, 48, 51, 35, 42])].drop(['profile_id','torque'], axis=1).max()"
      ],
      "execution_count": 0,
      "outputs": []
    },
    {
      "cell_type": "code",
      "metadata": {
        "id": "gBjhn7q5h21R",
        "colab_type": "code",
        "colab": {}
      },
      "source": [
        "df_train = [(df_sep[i] - train_min)/(train_max - train_min)\\\n",
        "            for i in list(range(0,52)) if i not in [4, 8, 16, 24, 32, \n",
        "                                                    40, 48, 51, #val\n",
        "                                                    35, 42]] #test\n",
        "\n",
        "df_val = [(df_sep[i] - train_min)/(train_max - train_min)\\\n",
        "          for i in [4, 8, 16, 24, 32, 40, 48, 51]]\n",
        "\n",
        "df_test = [(df_sep[i] - train_min)/(train_max - train_min) for i in [35, 42]]"
      ],
      "execution_count": 0,
      "outputs": []
    },
    {
      "cell_type": "code",
      "metadata": {
        "id": "anWEGUaapwPs",
        "colab_type": "code",
        "outputId": "7cd3423e-4444-4ebc-a0f0-824f960d0943",
        "colab": {
          "base_uri": "https://localhost:8080/",
          "height": 419
        }
      },
      "source": [
        "df_train[0]"
      ],
      "execution_count": 0,
      "outputs": [
        {
          "output_type": "execute_result",
          "data": {
            "text/html": [
              "<div>\n",
              "<style scoped>\n",
              "    .dataframe tbody tr th:only-of-type {\n",
              "        vertical-align: middle;\n",
              "    }\n",
              "\n",
              "    .dataframe tbody tr th {\n",
              "        vertical-align: top;\n",
              "    }\n",
              "\n",
              "    .dataframe thead th {\n",
              "        text-align: right;\n",
              "    }\n",
              "</style>\n",
              "<table border=\"1\" class=\"dataframe\">\n",
              "  <thead>\n",
              "    <tr style=\"text-align: right;\">\n",
              "      <th></th>\n",
              "      <th>ambient</th>\n",
              "      <th>coolant</th>\n",
              "      <th>u_d</th>\n",
              "      <th>u_q</th>\n",
              "      <th>motor_speed</th>\n",
              "      <th>i_d</th>\n",
              "      <th>i_q</th>\n",
              "      <th>pm</th>\n",
              "      <th>stator_yoke</th>\n",
              "      <th>stator_tooth</th>\n",
              "      <th>stator_winding</th>\n",
              "    </tr>\n",
              "  </thead>\n",
              "  <tbody>\n",
              "    <tr>\n",
              "      <th>0</th>\n",
              "      <td>0.677737</td>\n",
              "      <td>0.076232</td>\n",
              "      <td>0.504645</td>\n",
              "      <td>0.154203</td>\n",
              "      <td>0.005085</td>\n",
              "      <td>0.992717</td>\n",
              "      <td>0.494864</td>\n",
              "      <td>0.019217</td>\n",
              "      <td>0.000327</td>\n",
              "      <td>-0.000299</td>\n",
              "      <td>-0.001104</td>\n",
              "    </tr>\n",
              "    <tr>\n",
              "      <th>1</th>\n",
              "      <td>0.676080</td>\n",
              "      <td>0.076582</td>\n",
              "      <td>0.505085</td>\n",
              "      <td>0.154250</td>\n",
              "      <td>0.005084</td>\n",
              "      <td>0.992703</td>\n",
              "      <td>0.494868</td>\n",
              "      <td>0.019154</td>\n",
              "      <td>0.000433</td>\n",
              "      <td>-0.000006</td>\n",
              "      <td>-0.001018</td>\n",
              "    </tr>\n",
              "    <tr>\n",
              "      <th>2</th>\n",
              "      <td>0.675073</td>\n",
              "      <td>0.076665</td>\n",
              "      <td>0.505875</td>\n",
              "      <td>0.153118</td>\n",
              "      <td>0.005085</td>\n",
              "      <td>0.992688</td>\n",
              "      <td>0.494870</td>\n",
              "      <td>0.019108</td>\n",
              "      <td>0.000566</td>\n",
              "      <td>0.000173</td>\n",
              "      <td>-0.000956</td>\n",
              "    </tr>\n",
              "    <tr>\n",
              "      <th>3</th>\n",
              "      <td>0.675242</td>\n",
              "      <td>0.076644</td>\n",
              "      <td>0.506112</td>\n",
              "      <td>0.153110</td>\n",
              "      <td>0.005084</td>\n",
              "      <td>0.993477</td>\n",
              "      <td>0.494689</td>\n",
              "      <td>0.019294</td>\n",
              "      <td>0.000582</td>\n",
              "      <td>0.000386</td>\n",
              "      <td>-0.001018</td>\n",
              "    </tr>\n",
              "    <tr>\n",
              "      <th>4</th>\n",
              "      <td>0.675840</td>\n",
              "      <td>0.076642</td>\n",
              "      <td>0.506495</td>\n",
              "      <td>0.152764</td>\n",
              "      <td>0.005085</td>\n",
              "      <td>0.993236</td>\n",
              "      <td>0.494744</td>\n",
              "      <td>0.019247</td>\n",
              "      <td>0.000543</td>\n",
              "      <td>0.000464</td>\n",
              "      <td>-0.001128</td>\n",
              "    </tr>\n",
              "    <tr>\n",
              "      <th>...</th>\n",
              "      <td>...</td>\n",
              "      <td>...</td>\n",
              "      <td>...</td>\n",
              "      <td>...</td>\n",
              "      <td>...</td>\n",
              "      <td>...</td>\n",
              "      <td>...</td>\n",
              "      <td>...</td>\n",
              "      <td>...</td>\n",
              "      <td>...</td>\n",
              "      <td>...</td>\n",
              "    </tr>\n",
              "    <tr>\n",
              "      <th>33418</th>\n",
              "      <td>0.766887</td>\n",
              "      <td>0.083580</td>\n",
              "      <td>0.501501</td>\n",
              "      <td>0.315405</td>\n",
              "      <td>0.087996</td>\n",
              "      <td>0.992612</td>\n",
              "      <td>0.494884</td>\n",
              "      <td>0.108473</td>\n",
              "      <td>0.020009</td>\n",
              "      <td>0.018006</td>\n",
              "      <td>0.008830</td>\n",
              "    </tr>\n",
              "    <tr>\n",
              "      <th>33419</th>\n",
              "      <td>0.767634</td>\n",
              "      <td>0.083778</td>\n",
              "      <td>0.501554</td>\n",
              "      <td>0.315412</td>\n",
              "      <td>0.087991</td>\n",
              "      <td>0.992622</td>\n",
              "      <td>0.494887</td>\n",
              "      <td>0.108463</td>\n",
              "      <td>0.019999</td>\n",
              "      <td>0.018006</td>\n",
              "      <td>0.008821</td>\n",
              "    </tr>\n",
              "    <tr>\n",
              "      <th>33420</th>\n",
              "      <td>0.769181</td>\n",
              "      <td>0.084036</td>\n",
              "      <td>0.501460</td>\n",
              "      <td>0.315370</td>\n",
              "      <td>0.087991</td>\n",
              "      <td>0.992617</td>\n",
              "      <td>0.494885</td>\n",
              "      <td>0.108287</td>\n",
              "      <td>0.020007</td>\n",
              "      <td>0.018006</td>\n",
              "      <td>0.009058</td>\n",
              "    </tr>\n",
              "    <tr>\n",
              "      <th>33421</th>\n",
              "      <td>0.769674</td>\n",
              "      <td>0.084426</td>\n",
              "      <td>0.501442</td>\n",
              "      <td>0.315271</td>\n",
              "      <td>0.087996</td>\n",
              "      <td>0.992612</td>\n",
              "      <td>0.494884</td>\n",
              "      <td>0.108194</td>\n",
              "      <td>0.019990</td>\n",
              "      <td>0.018006</td>\n",
              "      <td>0.008984</td>\n",
              "    </tr>\n",
              "    <tr>\n",
              "      <th>33422</th>\n",
              "      <td>0.771214</td>\n",
              "      <td>0.084903</td>\n",
              "      <td>0.501387</td>\n",
              "      <td>0.315425</td>\n",
              "      <td>0.087993</td>\n",
              "      <td>0.992620</td>\n",
              "      <td>0.494888</td>\n",
              "      <td>0.108164</td>\n",
              "      <td>0.019969</td>\n",
              "      <td>0.018006</td>\n",
              "      <td>0.008931</td>\n",
              "    </tr>\n",
              "  </tbody>\n",
              "</table>\n",
              "<p>33423 rows × 11 columns</p>\n",
              "</div>"
            ],
            "text/plain": [
              "        ambient   coolant       u_d  ...  stator_yoke  stator_tooth  stator_winding\n",
              "0      0.677737  0.076232  0.504645  ...     0.000327     -0.000299       -0.001104\n",
              "1      0.676080  0.076582  0.505085  ...     0.000433     -0.000006       -0.001018\n",
              "2      0.675073  0.076665  0.505875  ...     0.000566      0.000173       -0.000956\n",
              "3      0.675242  0.076644  0.506112  ...     0.000582      0.000386       -0.001018\n",
              "4      0.675840  0.076642  0.506495  ...     0.000543      0.000464       -0.001128\n",
              "...         ...       ...       ...  ...          ...           ...             ...\n",
              "33418  0.766887  0.083580  0.501501  ...     0.020009      0.018006        0.008830\n",
              "33419  0.767634  0.083778  0.501554  ...     0.019999      0.018006        0.008821\n",
              "33420  0.769181  0.084036  0.501460  ...     0.020007      0.018006        0.009058\n",
              "33421  0.769674  0.084426  0.501442  ...     0.019990      0.018006        0.008984\n",
              "33422  0.771214  0.084903  0.501387  ...     0.019969      0.018006        0.008931\n",
              "\n",
              "[33423 rows x 11 columns]"
            ]
          },
          "metadata": {
            "tags": []
          },
          "execution_count": 15
        }
      ]
    },
    {
      "cell_type": "code",
      "metadata": {
        "id": "vCdl5XVU7TOo",
        "colab_type": "code",
        "colab": {}
      },
      "source": [
        "parameters = [sherpa.Discrete('gru_hidden',[20,80]),\n",
        "              sherpa.Discrete('hidden_unit1',[16,64]),\n",
        "              sherpa.Discrete('hidden_unit2',[0,64]),\n",
        "              sherpa.Continuous('lr',[0.005,0.05]),\n",
        "              sherpa.Choice('batch_size',[512, 1024, 2048])]\n",
        "\n",
        "alg = sherpa.algorithms.bayesian_optimization.GPyOpt(max_concurrent=1,\n",
        "                                         model_type='GP',\n",
        "                                         acquisition_type='EI',\n",
        "                                         max_num_trials=100)\n",
        "\n",
        "study = sherpa.Study(parameters=parameters,\n",
        "                     algorithm=alg,\n",
        "                     lower_is_better=True,\n",
        "                     disable_dashboard=True)"
      ],
      "execution_count": 0,
      "outputs": []
    },
    {
      "cell_type": "code",
      "metadata": {
        "colab_type": "code",
        "id": "5fpvTmjcnXqo",
        "outputId": "f0e5adb9-a614-45d2-a5b6-e1a74755f85f",
        "colab": {
          "base_uri": "https://localhost:8080/",
          "height": 1000
        }
      },
      "source": [
        "look_back = 60\n",
        "best_score = 99999\n",
        "\n",
        "for trial in study:\n",
        "\n",
        "    lstm = GRU_Net(features=11, hidden=int(trial.parameters[\"gru_hidden\"]), \n",
        "                  h1=int(trial.parameters[\"hidden_unit1\"]), \n",
        "                  h2=int(trial.parameters[\"hidden_unit2\"]),out=1).to(device)\n",
        "    \n",
        "    losses = []\n",
        "    criterion = torch.nn.MSELoss()\n",
        "    optimizer = torch.optim.Adam(lstm.parameters(), lr=trial.parameters[\"lr\"])\n",
        "\n",
        "    batch_size = int(trial.parameters[\"batch_size\"])\n",
        "\n",
        "    df_length = np.sum([x.shape[0] for x in df_train])\n",
        "\n",
        "    gen = sliding_window(df_train, \"pm\", look_back, 1)\n",
        "    progress_bar = tqdm(range(0, df_length, batch_size))\n",
        "\n",
        "    lstm.train()\n",
        "    for b in progress_bar:\n",
        "        X_train = []\n",
        "        y_train = []\n",
        "        for i in range(batch_size):\n",
        "            try:\n",
        "                X,y = next(gen)\n",
        "                X_train.append(X)\n",
        "                y_train.append(y)\n",
        "            except StopIteration:\n",
        "                #in case the datagen ends, recreate a new a one and continue\n",
        "                #it should not happen though since the the datagen\n",
        "                #should be infinite (theorically), it's more of a precaution\n",
        "                gen = sliding_window(df_train, \"pm\", look_back, 1)\n",
        "\n",
        "                X,y = next(gen)\n",
        "                X_train.append(X)\n",
        "                y_train.append(y)\n",
        "\n",
        "        inpt = np.array(X_train).reshape(-1, look_back, 11)\n",
        "        target = np.array(y_train)    \n",
        "        x_batch = torch.tensor(inpt,dtype=torch.float32).to(device)  \n",
        "        y_batch = torch.tensor(target,dtype=torch.float32).to(device)\n",
        "        try:\n",
        "            output = lstm(x_batch) \n",
        "            loss = criterion(output.view(-1), y_batch.view(-1))  \n",
        "\n",
        "            loss.backward()\n",
        "            optimizer.step()        \n",
        "            optimizer.zero_grad()\n",
        "\n",
        "            losses.append(loss.item())\n",
        "        except:\n",
        "            print(\"something strange happened\")\n",
        "            print(inpt.shape)\n",
        "            print(x_batch.size())\n",
        "            break\n",
        "            \n",
        "        progress_bar.set_description(\"Epoch:\"+str(int(b/batch_size)+1)+\" Loss:\"+str(round(np.mean(losses),3)))\n",
        "        \n",
        "\n",
        "    test_gen = sliding_window(df_val, \"pm\", look_back, 1)\n",
        "    batch_size = 510\n",
        "\n",
        "    lstm.eval()\n",
        "    y_test = []\n",
        "    y_pred_all = []\n",
        "\n",
        "    \n",
        "    tot_len = np.sum([x.shape[0] for x in df_val])\n",
        "    for x in range(0, tot_len, batch_size):\n",
        "        X_test = []\n",
        "        for i in range(batch_size):\n",
        "            try:\n",
        "                X,y = next(test_gen)\n",
        "                X_test.append(X)\n",
        "                y_test.append(y)\n",
        "            except:\n",
        "                print(\"You somehow created an exception hahaha!\")\n",
        "                break\n",
        "\n",
        "        inpt = np.array(X_test).reshape(-1, look_back, 11)\n",
        "        x_test_batch = torch.tensor(inpt,dtype=torch.float32).to(device)  \n",
        "        y_pred = lstm(x_test_batch)\n",
        "\n",
        "        y_pred_all = np.append(y_pred_all,y_pred.cpu().detach().numpy())\n",
        "\n",
        "    y_test = np.array(y_test).reshape(-1)\n",
        "    score = np.mean((y_test - y_pred_all)**2) #MSE\n",
        "    if score < best_score:\n",
        "        best_score = score\n",
        "        torch.save(lstm, path + \"best_model_gru\")\n",
        "        print(\"New Challanger with MSE on val:\", score, \"and confs:\", trial.parameters)\n",
        "    \n",
        "    #Sherpa PART\n",
        "    study.add_observation(trial, iteration=1, objective=score)\n",
        "    study.finalize(trial)\n",
        "    study.results.to_csv(path + \"AutoML_GRU.csv\")"
      ],
      "execution_count": 0,
      "outputs": [
        {
          "output_type": "stream",
          "text": [
            "Epoch:377 Loss:0.027: 100%|██████████| 377/377 [05:30<00:00,  1.14it/s]\n",
            "  0%|          | 0/1506 [00:00<?, ?it/s]"
          ],
          "name": "stderr"
        },
        {
          "output_type": "stream",
          "text": [
            "New Challanger with MSE on val: 0.03305556402446676 and confs: {'gru_hidden': 59, 'hidden_unit1': 53, 'hidden_unit2': 22, 'lr': 0.023409170573130397, 'batch_size': 2048}\n"
          ],
          "name": "stdout"
        },
        {
          "output_type": "stream",
          "text": [
            "Epoch:1506 Loss:0.028: 100%|██████████| 1506/1506 [05:52<00:00,  4.28it/s]\n",
            "Epoch:753 Loss:0.029: 100%|██████████| 753/753 [05:39<00:00,  2.22it/s]\n",
            "Epoch:1506 Loss:0.033: 100%|██████████| 1506/1506 [05:53<00:00,  4.25it/s]\n",
            "Epoch:753 Loss:0.025: 100%|██████████| 753/753 [05:44<00:00,  2.19it/s]\n",
            "Epoch:1506 Loss:0.027: 100%|██████████| 1506/1506 [06:01<00:00,  4.17it/s]\n",
            "INFO:GP:initializing Y\n",
            "INFO:GP:initializing inference method\n",
            "INFO:GP:adding kernel and likelihood as parameters\n",
            "Epoch:753 Loss:0.034: 100%|██████████| 753/753 [05:42<00:00,  2.20it/s]\n",
            "INFO:GP:initializing Y\n",
            "INFO:GP:initializing inference method\n",
            "INFO:GP:adding kernel and likelihood as parameters\n",
            "Epoch:753 Loss:0.024: 100%|██████████| 753/753 [05:42<00:00,  2.20it/s]\n",
            "INFO:GP:initializing Y\n",
            "INFO:GP:initializing inference method\n",
            "INFO:GP:adding kernel and likelihood as parameters\n"
          ],
          "name": "stderr"
        },
        {
          "output_type": "stream",
          "text": [
            "New Challanger with MSE on val: 0.010650875310410592 and confs: {'gru_hidden': 50.0, 'hidden_unit1': 55.0, 'hidden_unit2': 23.0, 'lr': 0.005, 'batch_size': 1024.0}\n"
          ],
          "name": "stdout"
        },
        {
          "output_type": "stream",
          "text": [
            "Epoch:753 Loss:0.018: 100%|██████████| 753/753 [05:44<00:00,  2.19it/s]\n",
            "INFO:GP:initializing Y\n",
            "INFO:GP:initializing inference method\n",
            "INFO:GP:adding kernel and likelihood as parameters\n"
          ],
          "name": "stderr"
        },
        {
          "output_type": "stream",
          "text": [
            "New Challanger with MSE on val: 0.0050476633011123425 and confs: {'gru_hidden': 49.0, 'hidden_unit1': 53.0, 'hidden_unit2': 25.0, 'lr': 0.005, 'batch_size': 1024.0}\n"
          ],
          "name": "stdout"
        },
        {
          "output_type": "stream",
          "text": [
            "Epoch:753 Loss:0.021: 100%|██████████| 753/753 [05:43<00:00,  2.19it/s]\n",
            "INFO:GP:initializing Y\n",
            "INFO:GP:initializing inference method\n",
            "INFO:GP:adding kernel and likelihood as parameters\n",
            "Epoch:753 Loss:0.019: 100%|██████████| 753/753 [05:46<00:00,  2.17it/s]\n",
            "INFO:GP:initializing Y\n",
            "INFO:GP:initializing inference method\n",
            "INFO:GP:adding kernel and likelihood as parameters\n",
            "Epoch:1506 Loss:0.041: 100%|██████████| 1506/1506 [06:00<00:00,  4.17it/s]\n",
            "INFO:GP:initializing Y\n",
            "INFO:GP:initializing inference method\n",
            "INFO:GP:adding kernel and likelihood as parameters\n",
            "Epoch:753 Loss:0.024: 100%|██████████| 753/753 [05:44<00:00,  2.18it/s]\n",
            "INFO:GP:initializing Y\n",
            "INFO:GP:initializing inference method\n",
            "INFO:GP:adding kernel and likelihood as parameters\n",
            "Epoch:1506 Loss:0.031: 100%|██████████| 1506/1506 [05:55<00:00,  4.23it/s]\n",
            "INFO:GP:initializing Y\n",
            "INFO:GP:initializing inference method\n",
            "INFO:GP:adding kernel and likelihood as parameters\n",
            "Epoch:377 Loss:0.04: 100%|██████████| 377/377 [05:33<00:00,  1.13it/s]\n",
            "INFO:GP:initializing Y\n",
            "INFO:GP:initializing inference method\n",
            "INFO:GP:adding kernel and likelihood as parameters\n",
            "Epoch:753 Loss:0.036: 100%|██████████| 753/753 [05:41<00:00,  2.20it/s]\n",
            "INFO:GP:initializing Y\n",
            "INFO:GP:initializing inference method\n",
            "INFO:GP:adding kernel and likelihood as parameters\n",
            "Epoch:377 Loss:0.059: 100%|██████████| 377/377 [05:33<00:00,  1.13it/s]\n",
            "INFO:GP:initializing Y\n",
            "INFO:GP:initializing inference method\n",
            "INFO:GP:adding kernel and likelihood as parameters\n",
            "Epoch:377 Loss:0.03: 100%|██████████| 377/377 [05:36<00:00,  1.12it/s]\n",
            "INFO:GP:initializing Y\n",
            "INFO:GP:initializing inference method\n",
            "INFO:GP:adding kernel and likelihood as parameters\n",
            "Epoch:377 Loss:0.035: 100%|██████████| 377/377 [05:24<00:00,  1.16it/s]\n",
            "INFO:GP:initializing Y\n",
            "INFO:GP:initializing inference method\n",
            "INFO:GP:adding kernel and likelihood as parameters\n",
            "Epoch:1506 Loss:0.034: 100%|██████████| 1506/1506 [05:48<00:00,  4.32it/s]\n",
            "INFO:GP:initializing Y\n",
            "INFO:GP:initializing inference method\n",
            "INFO:GP:adding kernel and likelihood as parameters\n",
            "Epoch:1506 Loss:0.03: 100%|██████████| 1506/1506 [05:48<00:00,  4.32it/s]\n",
            "INFO:GP:initializing Y\n",
            "INFO:GP:initializing inference method\n",
            "INFO:GP:adding kernel and likelihood as parameters\n",
            "Epoch:377 Loss:0.026: 100%|██████████| 377/377 [05:16<00:00,  1.19it/s]\n",
            "INFO:GP:initializing Y\n",
            "INFO:GP:initializing inference method\n",
            "INFO:GP:adding kernel and likelihood as parameters\n",
            "Epoch:753 Loss:0.032: 100%|██████████| 753/753 [05:26<00:00,  2.31it/s]\n",
            "INFO:GP:initializing Y\n",
            "INFO:GP:initializing inference method\n",
            "INFO:GP:adding kernel and likelihood as parameters\n",
            "Epoch:377 Loss:0.053: 100%|██████████| 377/377 [05:17<00:00,  1.19it/s]\n",
            "INFO:GP:initializing Y\n",
            "INFO:GP:initializing inference method\n",
            "INFO:GP:adding kernel and likelihood as parameters\n",
            "Epoch:377 Loss:0.036: 100%|██████████| 377/377 [05:21<00:00,  1.17it/s]\n",
            "INFO:GP:initializing Y\n",
            "INFO:GP:initializing inference method\n",
            "INFO:GP:adding kernel and likelihood as parameters\n",
            "Epoch:753 Loss:0.03: 100%|██████████| 753/753 [05:32<00:00,  2.26it/s]\n",
            "INFO:GP:initializing Y\n",
            "INFO:GP:initializing inference method\n",
            "INFO:GP:adding kernel and likelihood as parameters\n",
            "Epoch:377 Loss:0.027: 100%|██████████| 377/377 [05:23<00:00,  1.17it/s]\n",
            "INFO:GP:initializing Y\n",
            "INFO:GP:initializing inference method\n",
            "INFO:GP:adding kernel and likelihood as parameters\n",
            "Epoch:1506 Loss:0.033: 100%|██████████| 1506/1506 [05:42<00:00,  4.39it/s]\n",
            "INFO:GP:initializing Y\n",
            "INFO:GP:initializing inference method\n",
            "INFO:GP:adding kernel and likelihood as parameters\n",
            "Epoch:377 Loss:0.049: 100%|██████████| 377/377 [05:20<00:00,  1.18it/s]\n",
            "INFO:GP:initializing Y\n",
            "INFO:GP:initializing inference method\n",
            "INFO:GP:adding kernel and likelihood as parameters\n",
            "Epoch:377 Loss:0.028: 100%|██████████| 377/377 [05:27<00:00,  1.15it/s]\n",
            "INFO:GP:initializing Y\n",
            "INFO:GP:initializing inference method\n",
            "INFO:GP:adding kernel and likelihood as parameters\n",
            "Epoch:1506 Loss:0.035: 100%|██████████| 1506/1506 [05:53<00:00,  4.26it/s]\n",
            "INFO:GP:initializing Y\n",
            "INFO:GP:initializing inference method\n",
            "INFO:GP:adding kernel and likelihood as parameters\n",
            "Epoch:377 Loss:0.018: 100%|██████████| 377/377 [05:30<00:00,  1.14it/s]\n",
            "INFO:GP:initializing Y\n",
            "INFO:GP:initializing inference method\n",
            "INFO:GP:adding kernel and likelihood as parameters\n",
            "Epoch:1506 Loss:0.024: 100%|██████████| 1506/1506 [05:45<00:00,  4.35it/s]\n",
            "INFO:GP:initializing Y\n",
            "INFO:GP:initializing inference method\n",
            "INFO:GP:adding kernel and likelihood as parameters\n",
            "Epoch:377 Loss:0.019: 100%|██████████| 377/377 [05:27<00:00,  1.15it/s]\n",
            "INFO:GP:initializing Y\n",
            "INFO:GP:initializing inference method\n",
            "INFO:GP:adding kernel and likelihood as parameters\n",
            "Epoch:377 Loss:0.021: 100%|██████████| 377/377 [05:31<00:00,  1.14it/s]\n",
            "INFO:GP:initializing Y\n",
            "INFO:GP:initializing inference method\n",
            "INFO:GP:adding kernel and likelihood as parameters\n",
            "Epoch:753 Loss:0.021: 100%|██████████| 753/753 [05:42<00:00,  2.20it/s]\n",
            "INFO:GP:initializing Y\n",
            "INFO:GP:initializing inference method\n",
            "INFO:GP:adding kernel and likelihood as parameters\n",
            "Epoch:753 Loss:0.019: 100%|██████████| 753/753 [05:42<00:00,  2.20it/s]\n",
            "INFO:GP:initializing Y\n",
            "INFO:GP:initializing inference method\n",
            "INFO:GP:adding kernel and likelihood as parameters\n"
          ],
          "name": "stderr"
        },
        {
          "output_type": "stream",
          "text": [
            "New Challanger with MSE on val: 0.0039032749149211544 and confs: {'gru_hidden': 49.0, 'hidden_unit1': 53.0, 'hidden_unit2': 25.0, 'lr': 0.005, 'batch_size': 1024.0}\n"
          ],
          "name": "stdout"
        },
        {
          "output_type": "stream",
          "text": [
            "Epoch:377 Loss:0.056: 100%|██████████| 377/377 [05:34<00:00,  1.13it/s]\n",
            "INFO:GP:initializing Y\n",
            "INFO:GP:initializing inference method\n",
            "INFO:GP:adding kernel and likelihood as parameters\n",
            "Epoch:377 Loss:0.017: 100%|██████████| 377/377 [05:32<00:00,  1.13it/s]\n",
            "INFO:GP:initializing Y\n",
            "INFO:GP:initializing inference method\n",
            "INFO:GP:adding kernel and likelihood as parameters\n",
            "Epoch:753 Loss:0.019: 100%|██████████| 753/753 [05:46<00:00,  2.17it/s]\n",
            "INFO:GP:initializing Y\n",
            "INFO:GP:initializing inference method\n",
            "INFO:GP:adding kernel and likelihood as parameters\n",
            "Epoch:1506 Loss:0.026: 100%|██████████| 1506/1506 [05:59<00:00,  4.19it/s]\n",
            "INFO:GP:initializing Y\n",
            "INFO:GP:initializing inference method\n",
            "INFO:GP:adding kernel and likelihood as parameters\n",
            "Epoch:753 Loss:0.021: 100%|██████████| 753/753 [05:40<00:00,  2.21it/s]\n",
            "INFO:GP:initializing Y\n",
            "INFO:GP:initializing inference method\n",
            "INFO:GP:adding kernel and likelihood as parameters\n",
            "Epoch:1506 Loss:0.034: 100%|██████████| 1506/1506 [05:55<00:00,  4.23it/s]\n",
            "INFO:GP:initializing Y\n",
            "INFO:GP:initializing inference method\n",
            "INFO:GP:adding kernel and likelihood as parameters\n",
            "Epoch:339 Loss:0.033:  45%|████▍     | 338/753 [02:34<03:08,  2.20it/s]"
          ],
          "name": "stderr"
        },
        {
          "output_type": "stream",
          "text": [
            "Buffered data was truncated after reaching the output size limit."
          ],
          "name": "stdout"
        }
      ]
    },
    {
      "cell_type": "code",
      "metadata": {
        "id": "iHHb2__EzwYV",
        "colab_type": "code",
        "colab": {}
      },
      "source": [
        "best_model = torch.load(path + \"best_model_gru\")\n",
        "results = pd.read_csv(path + \"AutoML_GRU.csv\")\n",
        "results = results[results[\"Status\"]==\"COMPLETED\"]"
      ],
      "execution_count": 0,
      "outputs": []
    },
    {
      "cell_type": "code",
      "metadata": {
        "id": "wD-E06OV2Vhb",
        "colab_type": "code",
        "outputId": "f8c1f325-1b70-4009-e357-7bc9d7e4bc59",
        "colab": {
          "base_uri": "https://localhost:8080/",
          "height": 334
        }
      },
      "source": [
        "plt.figure(figsize=(15,5))\n",
        "best, = plt.plot(np.minimum.accumulate(np.array(results.Objective)),'*-')\n",
        "actual, = plt.plot(np.array(results.Objective),'*-')\n",
        "\n",
        "plt.legend([actual, best],\n",
        "           ['Calculated','Best Seen']) \n",
        "\n",
        "plt.xlabel('Iterations')\n",
        "plt.ylabel('MSE')\n",
        "plt.show()"
      ],
      "execution_count": 17,
      "outputs": [
        {
          "output_type": "display_data",
          "data": {
            "image/png": "[encoded data removed]",
            "text/plain": [
              "<Figure size 1080x360 with 1 Axes>"
            ]
          },
          "metadata": {
            "tags": []
          }
        }
      ]
    },
    {
      "cell_type": "code",
      "metadata": {
        "id": "CUOE0O-R6s-A",
        "colab_type": "code",
        "outputId": "3cea866f-f1ff-48ba-eb20-01dbda0c8b87",
        "colab": {
          "base_uri": "https://localhost:8080/",
          "height": 51
        }
      },
      "source": [
        "#look_back = 60\n",
        "\n",
        "test_gen = sliding_window([df_test[1]], \"pm\", look_back, 1)\n",
        "batch_size = 510\n",
        "\n",
        "y_test = []\n",
        "y_pred_all = []\n",
        "for x in range(0, df_test[1].shape[0], batch_size):\n",
        "    X_test = []\n",
        "    for i in range(batch_size):\n",
        "        try:\n",
        "            X,y = next(test_gen)\n",
        "            X_test.append(X)\n",
        "            y_test.append(y)\n",
        "        except:\n",
        "            break\n",
        "\n",
        "    inpt = np.array(X_test).reshape(-1, look_back, 11)\n",
        "    x_test_batch = torch.tensor(inpt,dtype=torch.float32).to(device)  \n",
        "    y_pred = best_model(x_test_batch)\n",
        "\n",
        "    y_pred_all = np.append(y_pred_all,y_pred.cpu().detach().numpy())"
      ],
      "execution_count": 21,
      "outputs": [
        {
          "output_type": "stream",
          "text": [
            "/usr/local/lib/python3.6/dist-packages/torch/nn/functional.py:1340: UserWarning: nn.functional.tanh is deprecated. Use torch.tanh instead.\n",
            "  warnings.warn(\"nn.functional.tanh is deprecated. Use torch.tanh instead.\")\n"
          ],
          "name": "stderr"
        }
      ]
    },
    {
      "cell_type": "code",
      "metadata": {
        "colab_type": "code",
        "id": "TETtDarx2qU4",
        "outputId": "ed8af926-ca05-4278-8003-3d416080732a",
        "colab": {
          "base_uri": "https://localhost:8080/",
          "height": 592
        }
      },
      "source": [
        "y_test = np.array(y_test).reshape(-1)\n",
        "plt.figure(figsize=(10,10))\n",
        "plt.plot(y_test)\n",
        "plt.plot(y_pred_all)\n",
        "\n",
        "plt.show()"
      ],
      "execution_count": 22,
      "outputs": [
        {
          "output_type": "display_data",
          "data": {
            "image/png": "[encoded data removed]",
            "text/plain": [
              "<Figure size 720x720 with 1 Axes>"
            ]
          },
          "metadata": {
            "tags": []
          }
        }
      ]
    },
    {
      "cell_type": "code",
      "metadata": {
        "colab_type": "code",
        "id": "awfQ0bE65q-Y",
        "outputId": "a0dedb99-a107-4c78-f86a-48f2f24741ad",
        "colab": {
          "base_uri": "https://localhost:8080/",
          "height": 34
        }
      },
      "source": [
        "np.mean(np.abs((y_test - y_pred_all)/np.abs(y_test)))"
      ],
      "execution_count": 20,
      "outputs": [
        {
          "output_type": "execute_result",
          "data": {
            "text/plain": [
              "0.10458880631005925"
            ]
          },
          "metadata": {
            "tags": []
          },
          "execution_count": 20
        }
      ]
    },
    {
      "cell_type": "code",
      "metadata": {
        "id": "FYppM-wv2gTo",
        "colab_type": "code",
        "colab": {}
      },
      "source": [
        ""
      ],
      "execution_count": 0,
      "outputs": []
    }
  ]
}