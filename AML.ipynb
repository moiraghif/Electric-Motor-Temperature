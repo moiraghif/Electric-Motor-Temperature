{
  "nbformat": 4,
  "nbformat_minor": 0,
  "metadata": {
    "accelerator": "GPU",
    "colab": {
      "name": "AML.ipynb",
      "provenance": [],
      "collapsed_sections": [],
      "machine_shape": "hm"
    },
    "kernelspec": {
      "display_name": "Python 3",
      "language": "python",
      "name": "python3"
    },
    "language_info": {
      "codemirror_mode": {
        "name": "ipython",
        "version": 3
      },
      "file_extension": ".py",
      "mimetype": "text/x-python",
      "name": "python",
      "nbconvert_exporter": "python",
      "pygments_lexer": "ipython3",
      "version": "3.7.5"
    },
    "widgets": {
      "application/vnd.jupyter.widget-state+json": {
        "eb4e499c8d1c46459e9ca52f414646fb": {
          "model_module": "@jupyter-widgets/controls",
          "model_name": "HBoxModel",
          "state": {
            "_view_name": "HBoxView",
            "_dom_classes": [],
            "_model_name": "HBoxModel",
            "_view_module": "@jupyter-widgets/controls",
            "_model_module_version": "1.5.0",
            "_view_count": null,
            "_view_module_version": "1.5.0",
            "box_style": "",
            "layout": "IPY_MODEL_81f2a57af6b54a04a2609f7c67d80b5a",
            "_model_module": "@jupyter-widgets/controls",
            "children": [
              "IPY_MODEL_9efc5e331c2343dfb70d25de78e50d1a",
              "IPY_MODEL_ccd688776d6d4f79a9a26e196ee8e7f6"
            ]
          }
        },
        "81f2a57af6b54a04a2609f7c67d80b5a": {
          "model_module": "@jupyter-widgets/base",
          "model_name": "LayoutModel",
          "state": {
            "_view_name": "LayoutView",
            "grid_template_rows": null,
            "right": null,
            "justify_content": null,
            "_view_module": "@jupyter-widgets/base",
            "overflow": null,
            "_model_module_version": "1.2.0",
            "_view_count": null,
            "flex_flow": null,
            "width": null,
            "min_width": null,
            "border": null,
            "align_items": null,
            "bottom": null,
            "_model_module": "@jupyter-widgets/base",
            "top": null,
            "grid_column": null,
            "overflow_y": null,
            "overflow_x": null,
            "grid_auto_flow": null,
            "grid_area": null,
            "grid_template_columns": null,
            "flex": null,
            "_model_name": "LayoutModel",
            "justify_items": null,
            "grid_row": null,
            "max_height": null,
            "align_content": null,
            "visibility": null,
            "align_self": null,
            "height": null,
            "min_height": null,
            "padding": null,
            "grid_auto_rows": null,
            "grid_gap": null,
            "max_width": null,
            "order": null,
            "_view_module_version": "1.2.0",
            "grid_template_areas": null,
            "object_position": null,
            "object_fit": null,
            "grid_auto_columns": null,
            "margin": null,
            "display": null,
            "left": null
          }
        },
        "9efc5e331c2343dfb70d25de78e50d1a": {
          "model_module": "@jupyter-widgets/controls",
          "model_name": "FloatProgressModel",
          "state": {
            "_view_name": "ProgressView",
            "style": "IPY_MODEL_2ff97f1144ff4331b5d98ef1897fb77b",
            "_dom_classes": [],
            "description": "Epoch:3839 Loss:0.0: 100%",
            "_model_name": "FloatProgressModel",
            "bar_style": "success",
            "max": 3839,
            "_view_module": "@jupyter-widgets/controls",
            "_model_module_version": "1.5.0",
            "value": 3839,
            "_view_count": null,
            "_view_module_version": "1.5.0",
            "orientation": "horizontal",
            "min": 0,
            "description_tooltip": null,
            "_model_module": "@jupyter-widgets/controls",
            "layout": "IPY_MODEL_57fa23b11c5a422292929c4671f1d3e3"
          }
        },
        "ccd688776d6d4f79a9a26e196ee8e7f6": {
          "model_module": "@jupyter-widgets/controls",
          "model_name": "HTMLModel",
          "state": {
            "_view_name": "HTMLView",
            "style": "IPY_MODEL_137a335b45f74e61afabceaf41b3b370",
            "_dom_classes": [],
            "description": "",
            "_model_name": "HTMLModel",
            "placeholder": "​",
            "_view_module": "@jupyter-widgets/controls",
            "_model_module_version": "1.5.0",
            "value": " 3839/3839 [07:14&lt;00:00,  8.83it/s]",
            "_view_count": null,
            "_view_module_version": "1.5.0",
            "description_tooltip": null,
            "_model_module": "@jupyter-widgets/controls",
            "layout": "IPY_MODEL_b6ddb93306f5462b85bd081d6d1472ae"
          }
        },
        "2ff97f1144ff4331b5d98ef1897fb77b": {
          "model_module": "@jupyter-widgets/controls",
          "model_name": "ProgressStyleModel",
          "state": {
            "_view_name": "StyleView",
            "_model_name": "ProgressStyleModel",
            "description_width": "initial",
            "_view_module": "@jupyter-widgets/base",
            "_model_module_version": "1.5.0",
            "_view_count": null,
            "_view_module_version": "1.2.0",
            "bar_color": null,
            "_model_module": "@jupyter-widgets/controls"
          }
        },
        "57fa23b11c5a422292929c4671f1d3e3": {
          "model_module": "@jupyter-widgets/base",
          "model_name": "LayoutModel",
          "state": {
            "_view_name": "LayoutView",
            "grid_template_rows": null,
            "right": null,
            "justify_content": null,
            "_view_module": "@jupyter-widgets/base",
            "overflow": null,
            "_model_module_version": "1.2.0",
            "_view_count": null,
            "flex_flow": null,
            "width": null,
            "min_width": null,
            "border": null,
            "align_items": null,
            "bottom": null,
            "_model_module": "@jupyter-widgets/base",
            "top": null,
            "grid_column": null,
            "overflow_y": null,
            "overflow_x": null,
            "grid_auto_flow": null,
            "grid_area": null,
            "grid_template_columns": null,
            "flex": null,
            "_model_name": "LayoutModel",
            "justify_items": null,
            "grid_row": null,
            "max_height": null,
            "align_content": null,
            "visibility": null,
            "align_self": null,
            "height": null,
            "min_height": null,
            "padding": null,
            "grid_auto_rows": null,
            "grid_gap": null,
            "max_width": null,
            "order": null,
            "_view_module_version": "1.2.0",
            "grid_template_areas": null,
            "object_position": null,
            "object_fit": null,
            "grid_auto_columns": null,
            "margin": null,
            "display": null,
            "left": null
          }
        },
        "137a335b45f74e61afabceaf41b3b370": {
          "model_module": "@jupyter-widgets/controls",
          "model_name": "DescriptionStyleModel",
          "state": {
            "_view_name": "StyleView",
            "_model_name": "DescriptionStyleModel",
            "description_width": "",
            "_view_module": "@jupyter-widgets/base",
            "_model_module_version": "1.5.0",
            "_view_count": null,
            "_view_module_version": "1.2.0",
            "_model_module": "@jupyter-widgets/controls"
          }
        },
        "b6ddb93306f5462b85bd081d6d1472ae": {
          "model_module": "@jupyter-widgets/base",
          "model_name": "LayoutModel",
          "state": {
            "_view_name": "LayoutView",
            "grid_template_rows": null,
            "right": null,
            "justify_content": null,
            "_view_module": "@jupyter-widgets/base",
            "overflow": null,
            "_model_module_version": "1.2.0",
            "_view_count": null,
            "flex_flow": null,
            "width": null,
            "min_width": null,
            "border": null,
            "align_items": null,
            "bottom": null,
            "_model_module": "@jupyter-widgets/base",
            "top": null,
            "grid_column": null,
            "overflow_y": null,
            "overflow_x": null,
            "grid_auto_flow": null,
            "grid_area": null,
            "grid_template_columns": null,
            "flex": null,
            "_model_name": "LayoutModel",
            "justify_items": null,
            "grid_row": null,
            "max_height": null,
            "align_content": null,
            "visibility": null,
            "align_self": null,
            "height": null,
            "min_height": null,
            "padding": null,
            "grid_auto_rows": null,
            "grid_gap": null,
            "max_width": null,
            "order": null,
            "_view_module_version": "1.2.0",
            "grid_template_areas": null,
            "object_position": null,
            "object_fit": null,
            "grid_auto_columns": null,
            "margin": null,
            "display": null,
            "left": null
          }
        },
        "4ab836e628e148b48e2ee3a9884297ba": {
          "model_module": "@jupyter-widgets/controls",
          "model_name": "HBoxModel",
          "state": {
            "_view_name": "HBoxView",
            "_dom_classes": [],
            "_model_name": "HBoxModel",
            "_view_module": "@jupyter-widgets/controls",
            "_model_module_version": "1.5.0",
            "_view_count": null,
            "_view_module_version": "1.5.0",
            "box_style": "",
            "layout": "IPY_MODEL_1f8328fd62074685843e39fec0a41f26",
            "_model_module": "@jupyter-widgets/controls",
            "children": [
              "IPY_MODEL_88205b4b164541d68003546b3f0bd0ee",
              "IPY_MODEL_13e132b9ea004f3a94fcad9d6d8db659"
            ]
          }
        },
        "1f8328fd62074685843e39fec0a41f26": {
          "model_module": "@jupyter-widgets/base",
          "model_name": "LayoutModel",
          "state": {
            "_view_name": "LayoutView",
            "grid_template_rows": null,
            "right": null,
            "justify_content": null,
            "_view_module": "@jupyter-widgets/base",
            "overflow": null,
            "_model_module_version": "1.2.0",
            "_view_count": null,
            "flex_flow": null,
            "width": null,
            "min_width": null,
            "border": null,
            "align_items": null,
            "bottom": null,
            "_model_module": "@jupyter-widgets/base",
            "top": null,
            "grid_column": null,
            "overflow_y": null,
            "overflow_x": null,
            "grid_auto_flow": null,
            "grid_area": null,
            "grid_template_columns": null,
            "flex": null,
            "_model_name": "LayoutModel",
            "justify_items": null,
            "grid_row": null,
            "max_height": null,
            "align_content": null,
            "visibility": null,
            "align_self": null,
            "height": null,
            "min_height": null,
            "padding": null,
            "grid_auto_rows": null,
            "grid_gap": null,
            "max_width": null,
            "order": null,
            "_view_module_version": "1.2.0",
            "grid_template_areas": null,
            "object_position": null,
            "object_fit": null,
            "grid_auto_columns": null,
            "margin": null,
            "display": null,
            "left": null
          }
        },
        "88205b4b164541d68003546b3f0bd0ee": {
          "model_module": "@jupyter-widgets/controls",
          "model_name": "FloatProgressModel",
          "state": {
            "_view_name": "ProgressView",
            "style": "IPY_MODEL_7fe3f18204724c5fbf71fca8239c1f1f",
            "_dom_classes": [],
            "description": "Epoch:92 Loss:0.419:  19%",
            "_model_name": "FloatProgressModel",
            "bar_style": "",
            "max": 480,
            "_view_module": "@jupyter-widgets/controls",
            "_model_module_version": "1.5.0",
            "value": 92,
            "_view_count": null,
            "_view_module_version": "1.5.0",
            "orientation": "horizontal",
            "min": 0,
            "description_tooltip": null,
            "_model_module": "@jupyter-widgets/controls",
            "layout": "IPY_MODEL_d5e8e145be134eabb7856f8be549ac18"
          }
        },
        "13e132b9ea004f3a94fcad9d6d8db659": {
          "model_module": "@jupyter-widgets/controls",
          "model_name": "HTMLModel",
          "state": {
            "_view_name": "HTMLView",
            "style": "IPY_MODEL_28a76138bee04ab99f15edce58e7eb67",
            "_dom_classes": [],
            "description": "",
            "_model_name": "HTMLModel",
            "placeholder": "​",
            "_view_module": "@jupyter-widgets/controls",
            "_model_module_version": "1.5.0",
            "value": " 92/480 [01:04&lt;04:41,  1.38it/s]",
            "_view_count": null,
            "_view_module_version": "1.5.0",
            "description_tooltip": null,
            "_model_module": "@jupyter-widgets/controls",
            "layout": "IPY_MODEL_5f487fa71eff4277a0af6b89c892eb21"
          }
        },
        "7fe3f18204724c5fbf71fca8239c1f1f": {
          "model_module": "@jupyter-widgets/controls",
          "model_name": "ProgressStyleModel",
          "state": {
            "_view_name": "StyleView",
            "_model_name": "ProgressStyleModel",
            "description_width": "initial",
            "_view_module": "@jupyter-widgets/base",
            "_model_module_version": "1.5.0",
            "_view_count": null,
            "_view_module_version": "1.2.0",
            "bar_color": null,
            "_model_module": "@jupyter-widgets/controls"
          }
        },
        "d5e8e145be134eabb7856f8be549ac18": {
          "model_module": "@jupyter-widgets/base",
          "model_name": "LayoutModel",
          "state": {
            "_view_name": "LayoutView",
            "grid_template_rows": null,
            "right": null,
            "justify_content": null,
            "_view_module": "@jupyter-widgets/base",
            "overflow": null,
            "_model_module_version": "1.2.0",
            "_view_count": null,
            "flex_flow": null,
            "width": null,
            "min_width": null,
            "border": null,
            "align_items": null,
            "bottom": null,
            "_model_module": "@jupyter-widgets/base",
            "top": null,
            "grid_column": null,
            "overflow_y": null,
            "overflow_x": null,
            "grid_auto_flow": null,
            "grid_area": null,
            "grid_template_columns": null,
            "flex": null,
            "_model_name": "LayoutModel",
            "justify_items": null,
            "grid_row": null,
            "max_height": null,
            "align_content": null,
            "visibility": null,
            "align_self": null,
            "height": null,
            "min_height": null,
            "padding": null,
            "grid_auto_rows": null,
            "grid_gap": null,
            "max_width": null,
            "order": null,
            "_view_module_version": "1.2.0",
            "grid_template_areas": null,
            "object_position": null,
            "object_fit": null,
            "grid_auto_columns": null,
            "margin": null,
            "display": null,
            "left": null
          }
        },
        "28a76138bee04ab99f15edce58e7eb67": {
          "model_module": "@jupyter-widgets/controls",
          "model_name": "DescriptionStyleModel",
          "state": {
            "_view_name": "StyleView",
            "_model_name": "DescriptionStyleModel",
            "description_width": "",
            "_view_module": "@jupyter-widgets/base",
            "_model_module_version": "1.5.0",
            "_view_count": null,
            "_view_module_version": "1.2.0",
            "_model_module": "@jupyter-widgets/controls"
          }
        },
        "5f487fa71eff4277a0af6b89c892eb21": {
          "model_module": "@jupyter-widgets/base",
          "model_name": "LayoutModel",
          "state": {
            "_view_name": "LayoutView",
            "grid_template_rows": null,
            "right": null,
            "justify_content": null,
            "_view_module": "@jupyter-widgets/base",
            "overflow": null,
            "_model_module_version": "1.2.0",
            "_view_count": null,
            "flex_flow": null,
            "width": null,
            "min_width": null,
            "border": null,
            "align_items": null,
            "bottom": null,
            "_model_module": "@jupyter-widgets/base",
            "top": null,
            "grid_column": null,
            "overflow_y": null,
            "overflow_x": null,
            "grid_auto_flow": null,
            "grid_area": null,
            "grid_template_columns": null,
            "flex": null,
            "_model_name": "LayoutModel",
            "justify_items": null,
            "grid_row": null,
            "max_height": null,
            "align_content": null,
            "visibility": null,
            "align_self": null,
            "height": null,
            "min_height": null,
            "padding": null,
            "grid_auto_rows": null,
            "grid_gap": null,
            "max_width": null,
            "order": null,
            "_view_module_version": "1.2.0",
            "grid_template_areas": null,
            "object_position": null,
            "object_fit": null,
            "grid_auto_columns": null,
            "margin": null,
            "display": null,
            "left": null
          }
        }
      }
    }
  },
  "cells": [
    {
      "cell_type": "code",
      "metadata": {
        "colab_type": "code",
        "id": "vb3X0xFRUQXW",
        "outputId": "ef358bb1-1674-4abd-9e6e-63396081b770",
        "colab": {
          "base_uri": "https://localhost:8080/",
          "height": 122
        }
      },
      "source": [
        "from google.colab import drive\n",
        "drive.mount('/content/drive')"
      ],
      "execution_count": 1,
      "outputs": [
        {
          "output_type": "stream",
          "text": [
            "Go to this URL in a browser: https://accounts.google.com/o/oauth2/auth?client_id=947318989803-6bn6qk8qdgf4n4g3pfee6491hc0brc4i.apps.googleusercontent.com&redirect_uri=urn%3aietf%3awg%3aoauth%3a2.0%3aoob&response_type=code&scope=email%20https%3a%2f%2fwww.googleapis.com%2fauth%2fdocs.test%20https%3a%2f%2fwww.googleapis.com%2fauth%2fdrive%20https%3a%2f%2fwww.googleapis.com%2fauth%2fdrive.photos.readonly%20https%3a%2f%2fwww.googleapis.com%2fauth%2fpeopleapi.readonly\n",
            "\n",
            "Enter your authorization code:\n",
            "··········\n",
            "Mounted at /content/drive\n"
          ],
          "name": "stdout"
        }
      ]
    },
    {
      "cell_type": "code",
      "metadata": {
        "id": "zZko5hYs60sN",
        "colab_type": "code",
        "colab": {}
      },
      "source": [
        "%%capture\n",
        "!pip install --upgrade tqdm\n",
        "!pip install parameter-sherpa"
      ],
      "execution_count": 0,
      "outputs": []
    },
    {
      "cell_type": "code",
      "metadata": {
        "colab_type": "code",
        "id": "SQ6LXKCwUllM",
        "outputId": "9c4d9777-960a-45ac-82a5-cd65b0ad5d4f",
        "colab": {
          "base_uri": "https://localhost:8080/",
          "height": 34
        }
      },
      "source": [
        "import pandas as pd\n",
        "import numpy as np\n",
        "\n",
        "import matplotlib.pyplot as plt\n",
        "%matplotlib inline\n",
        "import seaborn as sns\n",
        "\n",
        "import sherpa\n",
        "\n",
        "import torch\n",
        "import torch.nn as nn\n",
        "import torch.nn.functional as F\n",
        "import torch.optim as optim\n",
        "from tqdm.notebook import tqdm\n",
        "\n",
        "torch.__version__"
      ],
      "execution_count": 3,
      "outputs": [
        {
          "output_type": "execute_result",
          "data": {
            "text/plain": [
              "'1.3.1'"
            ]
          },
          "metadata": {
            "tags": []
          },
          "execution_count": 3
        }
      ]
    },
    {
      "cell_type": "code",
      "metadata": {
        "colab_type": "code",
        "id": "4vLeWHW389VX",
        "colab": {}
      },
      "source": [
        "device = \"cuda\" if torch.cuda.is_available() else \"cpu\""
      ],
      "execution_count": 0,
      "outputs": []
    },
    {
      "cell_type": "code",
      "metadata": {
        "colab_type": "code",
        "id": "VDOxJCCLUwS2",
        "colab": {}
      },
      "source": [
        "path = \"drive/My Drive/AML/\"\n",
        "#path = \"\"\n",
        "\n",
        "df = pd.read_csv(path + \"pmsm_temperature_data.csv\")"
      ],
      "execution_count": 0,
      "outputs": []
    },
    {
      "cell_type": "code",
      "metadata": {
        "colab_type": "code",
        "id": "9nE6HMesVkEX",
        "outputId": "b9abd355-593b-4790-a0dc-0c196e910ca5",
        "colab": {
          "base_uri": "https://localhost:8080/",
          "height": 204
        }
      },
      "source": [
        "df.head()"
      ],
      "execution_count": 6,
      "outputs": [
        {
          "output_type": "execute_result",
          "data": {
            "text/html": [
              "<div>\n",
              "<style scoped>\n",
              "    .dataframe tbody tr th:only-of-type {\n",
              "        vertical-align: middle;\n",
              "    }\n",
              "\n",
              "    .dataframe tbody tr th {\n",
              "        vertical-align: top;\n",
              "    }\n",
              "\n",
              "    .dataframe thead th {\n",
              "        text-align: right;\n",
              "    }\n",
              "</style>\n",
              "<table border=\"1\" class=\"dataframe\">\n",
              "  <thead>\n",
              "    <tr style=\"text-align: right;\">\n",
              "      <th></th>\n",
              "      <th>ambient</th>\n",
              "      <th>coolant</th>\n",
              "      <th>u_d</th>\n",
              "      <th>u_q</th>\n",
              "      <th>motor_speed</th>\n",
              "      <th>torque</th>\n",
              "      <th>i_d</th>\n",
              "      <th>i_q</th>\n",
              "      <th>pm</th>\n",
              "      <th>stator_yoke</th>\n",
              "      <th>stator_tooth</th>\n",
              "      <th>stator_winding</th>\n",
              "      <th>profile_id</th>\n",
              "    </tr>\n",
              "  </thead>\n",
              "  <tbody>\n",
              "    <tr>\n",
              "      <th>0</th>\n",
              "      <td>-0.752143</td>\n",
              "      <td>-1.118446</td>\n",
              "      <td>0.327935</td>\n",
              "      <td>-1.297858</td>\n",
              "      <td>-1.222428</td>\n",
              "      <td>-0.250182</td>\n",
              "      <td>1.029572</td>\n",
              "      <td>-0.245860</td>\n",
              "      <td>-2.522071</td>\n",
              "      <td>-1.831422</td>\n",
              "      <td>-2.066143</td>\n",
              "      <td>-2.018033</td>\n",
              "      <td>4</td>\n",
              "    </tr>\n",
              "    <tr>\n",
              "      <th>1</th>\n",
              "      <td>-0.771263</td>\n",
              "      <td>-1.117021</td>\n",
              "      <td>0.329665</td>\n",
              "      <td>-1.297686</td>\n",
              "      <td>-1.222429</td>\n",
              "      <td>-0.249133</td>\n",
              "      <td>1.029509</td>\n",
              "      <td>-0.245832</td>\n",
              "      <td>-2.522418</td>\n",
              "      <td>-1.830969</td>\n",
              "      <td>-2.064859</td>\n",
              "      <td>-2.017631</td>\n",
              "      <td>4</td>\n",
              "    </tr>\n",
              "    <tr>\n",
              "      <th>2</th>\n",
              "      <td>-0.782892</td>\n",
              "      <td>-1.116681</td>\n",
              "      <td>0.332771</td>\n",
              "      <td>-1.301822</td>\n",
              "      <td>-1.222428</td>\n",
              "      <td>-0.249431</td>\n",
              "      <td>1.029448</td>\n",
              "      <td>-0.245818</td>\n",
              "      <td>-2.522673</td>\n",
              "      <td>-1.830400</td>\n",
              "      <td>-2.064073</td>\n",
              "      <td>-2.017343</td>\n",
              "      <td>4</td>\n",
              "    </tr>\n",
              "    <tr>\n",
              "      <th>3</th>\n",
              "      <td>-0.780935</td>\n",
              "      <td>-1.116764</td>\n",
              "      <td>0.333700</td>\n",
              "      <td>-1.301852</td>\n",
              "      <td>-1.222430</td>\n",
              "      <td>-0.248636</td>\n",
              "      <td>1.032845</td>\n",
              "      <td>-0.246955</td>\n",
              "      <td>-2.521639</td>\n",
              "      <td>-1.830333</td>\n",
              "      <td>-2.063137</td>\n",
              "      <td>-2.017632</td>\n",
              "      <td>4</td>\n",
              "    </tr>\n",
              "    <tr>\n",
              "      <th>4</th>\n",
              "      <td>-0.774043</td>\n",
              "      <td>-1.116775</td>\n",
              "      <td>0.335206</td>\n",
              "      <td>-1.303118</td>\n",
              "      <td>-1.222429</td>\n",
              "      <td>-0.248701</td>\n",
              "      <td>1.031807</td>\n",
              "      <td>-0.246610</td>\n",
              "      <td>-2.521900</td>\n",
              "      <td>-1.830498</td>\n",
              "      <td>-2.062795</td>\n",
              "      <td>-2.018145</td>\n",
              "      <td>4</td>\n",
              "    </tr>\n",
              "  </tbody>\n",
              "</table>\n",
              "</div>"
            ],
            "text/plain": [
              "    ambient   coolant       u_d  ...  stator_tooth  stator_winding  profile_id\n",
              "0 -0.752143 -1.118446  0.327935  ...     -2.066143       -2.018033           4\n",
              "1 -0.771263 -1.117021  0.329665  ...     -2.064859       -2.017631           4\n",
              "2 -0.782892 -1.116681  0.332771  ...     -2.064073       -2.017343           4\n",
              "3 -0.780935 -1.116764  0.333700  ...     -2.063137       -2.017632           4\n",
              "4 -0.774043 -1.116775  0.335206  ...     -2.062795       -2.018145           4\n",
              "\n",
              "[5 rows x 13 columns]"
            ]
          },
          "metadata": {
            "tags": []
          },
          "execution_count": 6
        }
      ]
    },
    {
      "cell_type": "code",
      "metadata": {
        "colab_type": "code",
        "id": "o8-7isf4VnKt",
        "outputId": "9d614328-5421-455a-ba8f-5b33d1fb1895",
        "colab": {
          "base_uri": "https://localhost:8080/",
          "height": 335
        }
      },
      "source": [
        "plt.figure(figsize=(15,5))\n",
        "count = pd.DataFrame(df[['profile_id']].groupby('profile_id').size()).reset_index()\n",
        "count.columns = [\"profile_id\", \"total\"]\n",
        "sns.barplot(count.profile_id,count.total)\n",
        "plt.show()"
      ],
      "execution_count": 7,
      "outputs": [
        {
          "output_type": "display_data",
          "data": {
            "image/png": "[encoded data removed]",
            "text/plain": [
              "<Figure size 1080x360 with 1 Axes>"
            ]
          },
          "metadata": {
            "tags": []
          }
        }
      ]
    },
    {
      "cell_type": "code",
      "metadata": {
        "colab_type": "code",
        "id": "7P2Z5K-2Yv5y",
        "outputId": "231999a9-2c82-4339-d7b2-2ef54169310f",
        "colab": {
          "base_uri": "https://localhost:8080/",
          "height": 265
        }
      },
      "source": [
        "plt.plot(df[df.profile_id==56].pm)\n",
        "plt.show()"
      ],
      "execution_count": 8,
      "outputs": [
        {
          "output_type": "display_data",
          "data": {
            "image/png": "[encoded data removed]",
            "text/plain": [
              "<Figure size 432x288 with 1 Axes>"
            ]
          },
          "metadata": {
            "tags": []
          }
        }
      ]
    },
    {
      "cell_type": "code",
      "metadata": {
        "colab_type": "code",
        "id": "QspAjGn-6lFX",
        "colab": {}
      },
      "source": [
        "df_sep = [df[df.profile_id==profile].drop(['profile_id','torque'], axis=1).reset_index(drop=True) for profile in df.profile_id.unique()]"
      ],
      "execution_count": 0,
      "outputs": []
    },
    {
      "cell_type": "code",
      "metadata": {
        "colab_type": "code",
        "id": "O_vL_ovU6wQT",
        "outputId": "d5b7fb72-b0fa-431f-c1e8-49f7a8cabe6d",
        "colab": {
          "base_uri": "https://localhost:8080/",
          "height": 419
        }
      },
      "source": [
        "df_sep[16]"
      ],
      "execution_count": 10,
      "outputs": [
        {
          "output_type": "execute_result",
          "data": {
            "text/html": [
              "<div>\n",
              "<style scoped>\n",
              "    .dataframe tbody tr th:only-of-type {\n",
              "        vertical-align: middle;\n",
              "    }\n",
              "\n",
              "    .dataframe tbody tr th {\n",
              "        vertical-align: top;\n",
              "    }\n",
              "\n",
              "    .dataframe thead th {\n",
              "        text-align: right;\n",
              "    }\n",
              "</style>\n",
              "<table border=\"1\" class=\"dataframe\">\n",
              "  <thead>\n",
              "    <tr style=\"text-align: right;\">\n",
              "      <th></th>\n",
              "      <th>ambient</th>\n",
              "      <th>coolant</th>\n",
              "      <th>u_d</th>\n",
              "      <th>u_q</th>\n",
              "      <th>motor_speed</th>\n",
              "      <th>i_d</th>\n",
              "      <th>i_q</th>\n",
              "      <th>pm</th>\n",
              "      <th>stator_yoke</th>\n",
              "      <th>stator_tooth</th>\n",
              "      <th>stator_winding</th>\n",
              "    </tr>\n",
              "  </thead>\n",
              "  <tbody>\n",
              "    <tr>\n",
              "      <th>0</th>\n",
              "      <td>-0.595910</td>\n",
              "      <td>2.171364</td>\n",
              "      <td>-1.589776</td>\n",
              "      <td>-0.587723</td>\n",
              "      <td>1.103304</td>\n",
              "      <td>-1.878195</td>\n",
              "      <td>0.680967</td>\n",
              "      <td>1.017145</td>\n",
              "      <td>1.882656</td>\n",
              "      <td>1.437981</td>\n",
              "      <td>1.053870</td>\n",
              "    </tr>\n",
              "    <tr>\n",
              "      <th>1</th>\n",
              "      <td>-0.621160</td>\n",
              "      <td>2.170850</td>\n",
              "      <td>-1.571330</td>\n",
              "      <td>-0.500914</td>\n",
              "      <td>1.099682</td>\n",
              "      <td>-1.804746</td>\n",
              "      <td>0.671327</td>\n",
              "      <td>1.021259</td>\n",
              "      <td>1.882521</td>\n",
              "      <td>1.439262</td>\n",
              "      <td>1.065586</td>\n",
              "    </tr>\n",
              "    <tr>\n",
              "      <th>2</th>\n",
              "      <td>-0.631429</td>\n",
              "      <td>2.170527</td>\n",
              "      <td>-1.557825</td>\n",
              "      <td>-0.424030</td>\n",
              "      <td>1.096316</td>\n",
              "      <td>-1.742421</td>\n",
              "      <td>0.663120</td>\n",
              "      <td>1.022086</td>\n",
              "      <td>1.882713</td>\n",
              "      <td>1.442306</td>\n",
              "      <td>1.080192</td>\n",
              "    </tr>\n",
              "    <tr>\n",
              "      <th>3</th>\n",
              "      <td>-0.626384</td>\n",
              "      <td>2.170454</td>\n",
              "      <td>-1.562527</td>\n",
              "      <td>-0.442516</td>\n",
              "      <td>1.098146</td>\n",
              "      <td>-1.757560</td>\n",
              "      <td>0.664252</td>\n",
              "      <td>1.024800</td>\n",
              "      <td>1.882829</td>\n",
              "      <td>1.446316</td>\n",
              "      <td>1.095144</td>\n",
              "    </tr>\n",
              "    <tr>\n",
              "      <th>4</th>\n",
              "      <td>-0.618749</td>\n",
              "      <td>2.170683</td>\n",
              "      <td>-1.576954</td>\n",
              "      <td>-0.534982</td>\n",
              "      <td>1.111325</td>\n",
              "      <td>-1.832702</td>\n",
              "      <td>0.667031</td>\n",
              "      <td>1.029729</td>\n",
              "      <td>1.883059</td>\n",
              "      <td>1.449144</td>\n",
              "      <td>1.108085</td>\n",
              "    </tr>\n",
              "    <tr>\n",
              "      <th>...</th>\n",
              "      <td>...</td>\n",
              "      <td>...</td>\n",
              "      <td>...</td>\n",
              "      <td>...</td>\n",
              "      <td>...</td>\n",
              "      <td>...</td>\n",
              "      <td>...</td>\n",
              "      <td>...</td>\n",
              "      <td>...</td>\n",
              "      <td>...</td>\n",
              "      <td>...</td>\n",
              "    </tr>\n",
              "    <tr>\n",
              "      <th>2174</th>\n",
              "      <td>-0.463984</td>\n",
              "      <td>2.172318</td>\n",
              "      <td>0.507567</td>\n",
              "      <td>0.353152</td>\n",
              "      <td>-0.347175</td>\n",
              "      <td>1.005747</td>\n",
              "      <td>-0.489718</td>\n",
              "      <td>1.804289</td>\n",
              "      <td>2.280776</td>\n",
              "      <td>1.991620</td>\n",
              "      <td>1.560164</td>\n",
              "    </tr>\n",
              "    <tr>\n",
              "      <th>2175</th>\n",
              "      <td>-0.460619</td>\n",
              "      <td>2.172481</td>\n",
              "      <td>0.507999</td>\n",
              "      <td>0.353206</td>\n",
              "      <td>-0.347188</td>\n",
              "      <td>1.005798</td>\n",
              "      <td>-0.490083</td>\n",
              "      <td>1.803187</td>\n",
              "      <td>2.280447</td>\n",
              "      <td>1.991620</td>\n",
              "      <td>1.556740</td>\n",
              "    </tr>\n",
              "    <tr>\n",
              "      <th>2176</th>\n",
              "      <td>-0.456195</td>\n",
              "      <td>2.172659</td>\n",
              "      <td>0.508290</td>\n",
              "      <td>0.353097</td>\n",
              "      <td>-0.347194</td>\n",
              "      <td>1.005808</td>\n",
              "      <td>-0.490337</td>\n",
              "      <td>1.801625</td>\n",
              "      <td>2.279769</td>\n",
              "      <td>1.991620</td>\n",
              "      <td>1.554234</td>\n",
              "    </tr>\n",
              "    <tr>\n",
              "      <th>2177</th>\n",
              "      <td>-0.453024</td>\n",
              "      <td>2.172829</td>\n",
              "      <td>0.508741</td>\n",
              "      <td>0.353127</td>\n",
              "      <td>-0.347196</td>\n",
              "      <td>1.005798</td>\n",
              "      <td>-0.490511</td>\n",
              "      <td>1.799392</td>\n",
              "      <td>2.279384</td>\n",
              "      <td>1.991620</td>\n",
              "      <td>1.551217</td>\n",
              "    </tr>\n",
              "    <tr>\n",
              "      <th>2178</th>\n",
              "      <td>-0.455622</td>\n",
              "      <td>2.171987</td>\n",
              "      <td>0.508765</td>\n",
              "      <td>0.353135</td>\n",
              "      <td>-0.347198</td>\n",
              "      <td>1.005765</td>\n",
              "      <td>-0.490633</td>\n",
              "      <td>1.798200</td>\n",
              "      <td>2.279050</td>\n",
              "      <td>1.991589</td>\n",
              "      <td>1.548414</td>\n",
              "    </tr>\n",
              "  </tbody>\n",
              "</table>\n",
              "<p>2179 rows × 11 columns</p>\n",
              "</div>"
            ],
            "text/plain": [
              "       ambient   coolant       u_d  ...  stator_yoke  stator_tooth  stator_winding\n",
              "0    -0.595910  2.171364 -1.589776  ...     1.882656      1.437981        1.053870\n",
              "1    -0.621160  2.170850 -1.571330  ...     1.882521      1.439262        1.065586\n",
              "2    -0.631429  2.170527 -1.557825  ...     1.882713      1.442306        1.080192\n",
              "3    -0.626384  2.170454 -1.562527  ...     1.882829      1.446316        1.095144\n",
              "4    -0.618749  2.170683 -1.576954  ...     1.883059      1.449144        1.108085\n",
              "...        ...       ...       ...  ...          ...           ...             ...\n",
              "2174 -0.463984  2.172318  0.507567  ...     2.280776      1.991620        1.560164\n",
              "2175 -0.460619  2.172481  0.507999  ...     2.280447      1.991620        1.556740\n",
              "2176 -0.456195  2.172659  0.508290  ...     2.279769      1.991620        1.554234\n",
              "2177 -0.453024  2.172829  0.508741  ...     2.279384      1.991620        1.551217\n",
              "2178 -0.455622  2.171987  0.508765  ...     2.279050      1.991589        1.548414\n",
              "\n",
              "[2179 rows x 11 columns]"
            ]
          },
          "metadata": {
            "tags": []
          },
          "execution_count": 10
        }
      ]
    },
    {
      "cell_type": "code",
      "metadata": {
        "colab_type": "code",
        "id": "RKAQhPBs616V",
        "colab": {}
      },
      "source": [
        "class GRU_Net(nn.Module):\n",
        "    def __init__(self, features, hidden, h1, h2, out):\n",
        "        super(GRU_Net, self).__init__()\n",
        "        self.hidden_size = hidden\n",
        "        self.features = features\n",
        "        self.gru = nn.GRU(self.features, self.hidden_size, 1, #feature_size, hidden_size, num_layer\n",
        "                            batch_first = True) \n",
        "        self.fc1 = nn.Linear(self.hidden_size, \n",
        "                                h1)\n",
        "        self.fc2 = nn.Linear(h1, h2)\n",
        "        self.out = nn.Linear(h2, out)\n",
        "        #self.hidden = None #torch.randn(1, ??, self.hidden) #num_layer, batch, hidden_size\n",
        "\n",
        "    def forward(self, x):\n",
        "        batch_size, _, _ = x.shape \n",
        "\n",
        "        #if self.hidden is not None:\n",
        "        #    x, self.hidden =  self.gru(x, self.hidden)\n",
        "        #else:\n",
        "        #    x, self.hidden =  self.gru(x)\n",
        "        \n",
        "        x, _ =  self.gru(x)\n",
        "        x = x[:,-1].view(batch_size, -1)\n",
        "        x = F.relu(self.fc1(x))\n",
        "        x = F.relu(self.fc2(x))\n",
        "        return self.out(x)"
      ],
      "execution_count": 0,
      "outputs": []
    },
    {
      "cell_type": "code",
      "metadata": {
        "colab_type": "code",
        "id": "zq9xOY0AVoE8",
        "colab": {}
      },
      "source": [
        "def sliding_window(dataset, target_var, inp, out):\n",
        "    while True:\n",
        "        for j, X in enumerate(dataset):\n",
        "            if j==49 or j==50 or j==51: #it's validation time\n",
        "                pass\n",
        "\n",
        "            target = X[[target_var]]\n",
        "            num_features = len(X.columns)\n",
        "\n",
        "            for i in range(X.shape[0]):\n",
        "                if i > inp + out - 1:\n",
        "                    features = X.iloc[i-inp-out:i-out,].values.reshape(inp,num_features)\n",
        "                    pred = target.iloc[i]\n",
        "\n",
        "                    yield np.array(features), np.array(pred)"
      ],
      "execution_count": 0,
      "outputs": []
    },
    {
      "cell_type": "code",
      "metadata": {
        "id": "vCdl5XVU7TOo",
        "colab_type": "code",
        "colab": {}
      },
      "source": [
        "parameters = [sherpa.Discrete('gru_hidden',[20,100]),\n",
        "              sherpa.Discrete('hidden_unit1',[16,64]),\n",
        "              sherpa.Discrete('hidden_unit2',[16,64]),\n",
        "              sherpa.Continuous('lr', [0.0005, 0.005]),\n",
        "              sherpa.Ordinal(name='batch_size', range=[256, 512, 1024, 2048])]\n",
        "\n",
        "alg = sherpa.algorithms.bayesian_optimization.GPyOpt(max_concurrent=1,\n",
        "                                         model_type='GP',\n",
        "                                         acquisition_type='EI',\n",
        "                                         max_num_trials=100)\n",
        "\n",
        "study = sherpa.Study(parameters=parameters,\n",
        "                     algorithm=alg,\n",
        "                     lower_is_better=True,\n",
        "                     disable_dashboard=True)"
      ],
      "execution_count": 0,
      "outputs": []
    },
    {
      "cell_type": "code",
      "metadata": {
        "colab_type": "code",
        "id": "5fpvTmjcnXqo",
        "outputId": "cb5646e5-6d43-40f7-850d-4a4761315fe5",
        "colab": {
          "base_uri": "https://localhost:8080/",
          "height": 149,
          "referenced_widgets": [
            "eb4e499c8d1c46459e9ca52f414646fb",
            "81f2a57af6b54a04a2609f7c67d80b5a",
            "9efc5e331c2343dfb70d25de78e50d1a",
            "ccd688776d6d4f79a9a26e196ee8e7f6",
            "2ff97f1144ff4331b5d98ef1897fb77b",
            "57fa23b11c5a422292929c4671f1d3e3",
            "137a335b45f74e61afabceaf41b3b370",
            "b6ddb93306f5462b85bd081d6d1472ae",
            "4ab836e628e148b48e2ee3a9884297ba",
            "1f8328fd62074685843e39fec0a41f26",
            "88205b4b164541d68003546b3f0bd0ee",
            "13e132b9ea004f3a94fcad9d6d8db659",
            "7fe3f18204724c5fbf71fca8239c1f1f",
            "d5e8e145be134eabb7856f8be549ac18",
            "28a76138bee04ab99f15edce58e7eb67",
            "5f487fa71eff4277a0af6b89c892eb21"
          ]
        }
      },
      "source": [
        "best_score = 99999\n",
        "\n",
        "for trial in study:\n",
        "\n",
        "    gru = GRU_Net(features=11, hidden=int(trial.parameters[\"gru_hidden\"]), \n",
        "                  h1=int(trial.parameters[\"hidden_unit1\"]), \n",
        "                  h2=int(trial.parameters[\"hidden_unit2\"]), out=1).to(device)\n",
        "\n",
        "    criterion = torch.nn.MSELoss() # reduction='sum' created huge loss value\n",
        "    optimizer = torch.optim.Adam(gru.parameters(),lr=trial.parameters[\"lr\"])\n",
        "\n",
        "    batch_size = int(trial.parameters[\"batch_size\"])\n",
        "\n",
        "    df_length = np.sum([x.shape[0] for x in df_sep]) - df_sep[51].shape[0]\n",
        "\n",
        "    gen = sliding_window(df_sep, \"pm\", 300, 1)\n",
        "    progress_bar = tqdm(range(0, df_length, batch_size))\n",
        "\n",
        "    gru.train()\n",
        "    for b in progress_bar:\n",
        "        X_train = []\n",
        "        y_train = []\n",
        "        for i in range(batch_size):\n",
        "            try:\n",
        "                X,y = next(gen)\n",
        "                X_train.append(X)\n",
        "                y_train.append(y)\n",
        "            except StopIteration:\n",
        "                #in case the datagen ends, recreate a new a one and continue\n",
        "                #it should not happen though since the the datagen\n",
        "                #should be infinite (theorically), it's more of a precaution\n",
        "                gen = sliding_window(df_sep, \"pm\", 300, 1)\n",
        "\n",
        "                X,y = next(gen)\n",
        "                X_train.append(X)\n",
        "                y_train.append(y)\n",
        "\n",
        "        inpt = np.array(X_train).reshape(-1, 300, 11)\n",
        "        target = np.array(y_train)    \n",
        "        x_batch = torch.tensor(inpt,dtype=torch.float32).to(device)  \n",
        "        y_batch = torch.tensor(target,dtype=torch.float32).to(device)\n",
        "        try:\n",
        "            output = gru(x_batch) \n",
        "            loss = criterion(output.view(-1), y_batch.view(-1))  \n",
        "\n",
        "            loss.backward(retain_graph=True)\n",
        "            optimizer.step()        \n",
        "            optimizer.zero_grad()\n",
        "        except:\n",
        "            print(\"something strange happened\")\n",
        "            print(inpt.shape)\n",
        "            print(x_batch.size())\n",
        "            break\n",
        "            \n",
        "        progress_bar.set_description(\"Epoch:\"+str(int(b/batch_size)+1)+\" Loss:\"+str(round(loss.item(),3)))\n",
        "        \n",
        "    test_gen = sliding_window([df_sep[49], df_sep[50], df_sep[51]], \"pm\", 300, 1)\n",
        "    batch_size = 510\n",
        "\n",
        "    gru.eval()\n",
        "    y_test = []\n",
        "    y_pred_all = []\n",
        "\n",
        "    tot_len = df_sep[49].shape[0] + df_sep[50].shape[0] + df_sep[51].shape[0]\n",
        "    for x in range(0, tot_len, batch_size):\n",
        "        X_test = []\n",
        "        for i in range(batch_size):\n",
        "            try:\n",
        "                X,y = next(test_gen)\n",
        "                X_test.append(X)\n",
        "                y_test.append(y)\n",
        "            except:\n",
        "                print(\"You created an exception hahaha!\")\n",
        "                break\n",
        "\n",
        "        inpt = np.array(X_test).reshape(-1, 300, 11)\n",
        "        x_test_batch = torch.tensor(inpt,dtype=torch.float32).to(device)  \n",
        "        y_pred = gru(x_test_batch)\n",
        "\n",
        "        y_pred_all = np.append(y_pred_all,y_pred.cpu().detach().numpy())\n",
        "\n",
        "    y_test = np.array(y_test).reshape(-1)\n",
        "    score = np.mean((y_test - y_pred_all)**2) #MSE\n",
        "    if score < best_score:\n",
        "        best_score = score\n",
        "        torch.save(gru, path + \"best_model_lstm\")\n",
        "    \n",
        "    #Sherpa PART\n",
        "    study.add_observation(trial, iteration=1, objective=score)\n",
        "    study.finalize(trial)\n",
        "    study.results.to_csv(path + \"AutoML_LSTM.csv\")"
      ],
      "execution_count": 0,
      "outputs": [
        {
          "output_type": "display_data",
          "data": {
            "application/vnd.jupyter.widget-view+json": {
              "model_id": "eb4e499c8d1c46459e9ca52f414646fb",
              "version_minor": 0,
              "version_major": 2
            },
            "text/plain": [
              "HBox(children=(FloatProgress(value=0.0, max=3839.0), HTML(value='')))"
            ]
          },
          "metadata": {
            "tags": []
          }
        },
        {
          "output_type": "stream",
          "text": [
            "\n"
          ],
          "name": "stdout"
        },
        {
          "output_type": "stream",
          "text": [
            "INFO:GP:initializing Y\n",
            "INFO:GP:initializing inference method\n",
            "INFO:GP:adding kernel and likelihood as parameters\n"
          ],
          "name": "stderr"
        },
        {
          "output_type": "display_data",
          "data": {
            "application/vnd.jupyter.widget-view+json": {
              "model_id": "4ab836e628e148b48e2ee3a9884297ba",
              "version_minor": 0,
              "version_major": 2
            },
            "text/plain": [
              "HBox(children=(FloatProgress(value=0.0, max=480.0), HTML(value='')))"
            ]
          },
          "metadata": {
            "tags": []
          }
        }
      ]
    },
    {
      "cell_type": "code",
      "metadata": {
        "id": "CUOE0O-R6s-A",
        "colab_type": "code",
        "colab": {}
      },
      "source": [
        "test_gen = sliding_window([df_sep[51]], \"pm\", 300, 1)\n",
        "batch_size = 510\n",
        "\n",
        "y_test = []\n",
        "y_pred_all = []\n",
        "for x in range(0, df_sep[51].shape[0], batch_size):\n",
        "    X_test = []\n",
        "    for i in range(batch_size):\n",
        "        try:\n",
        "            X,y = next(test_gen)\n",
        "            X_test.append(X)\n",
        "            y_test.append(y)\n",
        "        except:\n",
        "            break\n",
        "\n",
        "    inpt = np.array(X_test).reshape(-1, 300, 11)\n",
        "    x_test_batch = torch.tensor(inpt,dtype=torch.float32).to(device)  \n",
        "    y_pred = gru(x_test_batch)\n",
        "\n",
        "    y_pred_all = np.append(y_pred_all,y_pred.cpu().detach().numpy())"
      ],
      "execution_count": 0,
      "outputs": []
    },
    {
      "cell_type": "code",
      "metadata": {
        "colab_type": "code",
        "id": "TETtDarx2qU4",
        "colab": {}
      },
      "source": [
        "y_test = np.array(y_test).reshape(-1)\n",
        "plt.figure(figsize=(10,10))\n",
        "plt.plot(y_test)\n",
        "plt.plot(y_pred_all)\n",
        "\n",
        "plt.show()"
      ],
      "execution_count": 0,
      "outputs": []
    },
    {
      "cell_type": "code",
      "metadata": {
        "colab_type": "code",
        "id": "awfQ0bE65q-Y",
        "colab": {}
      },
      "source": [
        "np.mean(np.abs(y_test - y_pred_all)/y_test)"
      ],
      "execution_count": 0,
      "outputs": []
    }
  ]
}