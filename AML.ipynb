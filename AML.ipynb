{
 "cells": [
  {
   "cell_type": "code",
   "execution_count": 64,
   "metadata": {
    "colab": {
     "base_uri": "https://localhost:8080/",
     "height": 122
    },
    "colab_type": "code",
    "id": "vb3X0xFRUQXW",
    "outputId": "5255a1e7-1565-47fc-8fff-d2bdab2084a3"
   },
   "outputs": [],
   "source": [
    "#from google.colab import drive\n",
    "#drive.mount('/content/drive')"
   ]
  },
  {
   "cell_type": "code",
   "execution_count": 1,
   "metadata": {
    "colab": {
     "base_uri": "https://localhost:8080/",
     "height": 34
    },
    "colab_type": "code",
    "id": "SQ6LXKCwUllM",
    "outputId": "4b781dd0-4cd8-4971-8a46-ccdc406bee59"
   },
   "outputs": [
    {
     "data": {
      "text/plain": [
       "'1.4.0a0+fe76af9'"
      ]
     },
     "execution_count": 1,
     "metadata": {},
     "output_type": "execute_result"
    }
   ],
   "source": [
    "import pandas as pd\n",
    "import numpy as np\n",
    "\n",
    "import matplotlib.pyplot as plt\n",
    "%matplotlib inline\n",
    "import seaborn as sns\n",
    "\n",
    "import torch\n",
    "import torch.nn as nn\n",
    "import torch.nn.functional as F\n",
    "import torch.optim as optim\n",
    "from tqdm.notebook import tqdm\n",
    "\n",
    "torch.__version__"
   ]
  },
  {
   "cell_type": "code",
   "execution_count": 2,
   "metadata": {
    "colab": {},
    "colab_type": "code",
    "id": "4vLeWHW389VX"
   },
   "outputs": [],
   "source": [
    "device = \"cuda\" if torch.cuda.is_available() else \"cpu\""
   ]
  },
  {
   "cell_type": "code",
   "execution_count": 3,
   "metadata": {
    "colab": {},
    "colab_type": "code",
    "id": "VDOxJCCLUwS2"
   },
   "outputs": [],
   "source": [
    "#path = \"drive/My Drive/AML/\"\n",
    "path = \"\"\n",
    "\n",
    "df = pd.read_csv(path + \"pmsm_temperature_data.csv\")"
   ]
  },
  {
   "cell_type": "code",
   "execution_count": 4,
   "metadata": {
    "colab": {
     "base_uri": "https://localhost:8080/",
     "height": 204
    },
    "colab_type": "code",
    "id": "9nE6HMesVkEX",
    "outputId": "5d8662bc-e9c8-4ea1-8833-cd628f557b69"
   },
   "outputs": [
    {
     "data": {
      "text/html": [
       "<div>\n",
       "<style scoped>\n",
       "    .dataframe tbody tr th:only-of-type {\n",
       "        vertical-align: middle;\n",
       "    }\n",
       "\n",
       "    .dataframe tbody tr th {\n",
       "        vertical-align: top;\n",
       "    }\n",
       "\n",
       "    .dataframe thead th {\n",
       "        text-align: right;\n",
       "    }\n",
       "</style>\n",
       "<table border=\"1\" class=\"dataframe\">\n",
       "  <thead>\n",
       "    <tr style=\"text-align: right;\">\n",
       "      <th></th>\n",
       "      <th>ambient</th>\n",
       "      <th>coolant</th>\n",
       "      <th>u_d</th>\n",
       "      <th>u_q</th>\n",
       "      <th>motor_speed</th>\n",
       "      <th>torque</th>\n",
       "      <th>i_d</th>\n",
       "      <th>i_q</th>\n",
       "      <th>pm</th>\n",
       "      <th>stator_yoke</th>\n",
       "      <th>stator_tooth</th>\n",
       "      <th>stator_winding</th>\n",
       "      <th>profile_id</th>\n",
       "    </tr>\n",
       "  </thead>\n",
       "  <tbody>\n",
       "    <tr>\n",
       "      <th>0</th>\n",
       "      <td>-0.752143</td>\n",
       "      <td>-1.118446</td>\n",
       "      <td>0.327935</td>\n",
       "      <td>-1.297858</td>\n",
       "      <td>-1.222428</td>\n",
       "      <td>-0.250182</td>\n",
       "      <td>1.029572</td>\n",
       "      <td>-0.245860</td>\n",
       "      <td>-2.522071</td>\n",
       "      <td>-1.831422</td>\n",
       "      <td>-2.066143</td>\n",
       "      <td>-2.018033</td>\n",
       "      <td>4</td>\n",
       "    </tr>\n",
       "    <tr>\n",
       "      <th>1</th>\n",
       "      <td>-0.771263</td>\n",
       "      <td>-1.117021</td>\n",
       "      <td>0.329665</td>\n",
       "      <td>-1.297686</td>\n",
       "      <td>-1.222429</td>\n",
       "      <td>-0.249133</td>\n",
       "      <td>1.029509</td>\n",
       "      <td>-0.245832</td>\n",
       "      <td>-2.522418</td>\n",
       "      <td>-1.830969</td>\n",
       "      <td>-2.064859</td>\n",
       "      <td>-2.017631</td>\n",
       "      <td>4</td>\n",
       "    </tr>\n",
       "    <tr>\n",
       "      <th>2</th>\n",
       "      <td>-0.782892</td>\n",
       "      <td>-1.116681</td>\n",
       "      <td>0.332771</td>\n",
       "      <td>-1.301822</td>\n",
       "      <td>-1.222428</td>\n",
       "      <td>-0.249431</td>\n",
       "      <td>1.029448</td>\n",
       "      <td>-0.245818</td>\n",
       "      <td>-2.522673</td>\n",
       "      <td>-1.830400</td>\n",
       "      <td>-2.064073</td>\n",
       "      <td>-2.017343</td>\n",
       "      <td>4</td>\n",
       "    </tr>\n",
       "    <tr>\n",
       "      <th>3</th>\n",
       "      <td>-0.780935</td>\n",
       "      <td>-1.116764</td>\n",
       "      <td>0.333700</td>\n",
       "      <td>-1.301852</td>\n",
       "      <td>-1.222430</td>\n",
       "      <td>-0.248636</td>\n",
       "      <td>1.032845</td>\n",
       "      <td>-0.246955</td>\n",
       "      <td>-2.521639</td>\n",
       "      <td>-1.830333</td>\n",
       "      <td>-2.063137</td>\n",
       "      <td>-2.017632</td>\n",
       "      <td>4</td>\n",
       "    </tr>\n",
       "    <tr>\n",
       "      <th>4</th>\n",
       "      <td>-0.774043</td>\n",
       "      <td>-1.116775</td>\n",
       "      <td>0.335206</td>\n",
       "      <td>-1.303118</td>\n",
       "      <td>-1.222429</td>\n",
       "      <td>-0.248701</td>\n",
       "      <td>1.031807</td>\n",
       "      <td>-0.246610</td>\n",
       "      <td>-2.521900</td>\n",
       "      <td>-1.830498</td>\n",
       "      <td>-2.062795</td>\n",
       "      <td>-2.018145</td>\n",
       "      <td>4</td>\n",
       "    </tr>\n",
       "  </tbody>\n",
       "</table>\n",
       "</div>"
      ],
      "text/plain": [
       "    ambient   coolant       u_d       u_q  motor_speed    torque       i_d  \\\n",
       "0 -0.752143 -1.118446  0.327935 -1.297858    -1.222428 -0.250182  1.029572   \n",
       "1 -0.771263 -1.117021  0.329665 -1.297686    -1.222429 -0.249133  1.029509   \n",
       "2 -0.782892 -1.116681  0.332771 -1.301822    -1.222428 -0.249431  1.029448   \n",
       "3 -0.780935 -1.116764  0.333700 -1.301852    -1.222430 -0.248636  1.032845   \n",
       "4 -0.774043 -1.116775  0.335206 -1.303118    -1.222429 -0.248701  1.031807   \n",
       "\n",
       "        i_q        pm  stator_yoke  stator_tooth  stator_winding  profile_id  \n",
       "0 -0.245860 -2.522071    -1.831422     -2.066143       -2.018033           4  \n",
       "1 -0.245832 -2.522418    -1.830969     -2.064859       -2.017631           4  \n",
       "2 -0.245818 -2.522673    -1.830400     -2.064073       -2.017343           4  \n",
       "3 -0.246955 -2.521639    -1.830333     -2.063137       -2.017632           4  \n",
       "4 -0.246610 -2.521900    -1.830498     -2.062795       -2.018145           4  "
      ]
     },
     "execution_count": 4,
     "metadata": {},
     "output_type": "execute_result"
    }
   ],
   "source": [
    "df.head()"
   ]
  },
  {
   "cell_type": "code",
   "execution_count": 5,
   "metadata": {
    "colab": {
     "base_uri": "https://localhost:8080/",
     "height": 335
    },
    "colab_type": "code",
    "id": "o8-7isf4VnKt",
    "outputId": "194c35d3-ad23-444f-9022-cfa362b6f480"
   },
   "outputs": [
    {
     "data": {
      "image/png": "[encoded data removed]",
      "text/plain": [
       "<Figure size 1080x360 with 1 Axes>"
      ]
     },
     "metadata": {
      "needs_background": "light"
     },
     "output_type": "display_data"
    }
   ],
   "source": [
    "plt.figure(figsize=(15,5))\n",
    "count = pd.DataFrame(df[['profile_id']].groupby('profile_id').size()).reset_index()\n",
    "count.columns = [\"profile_id\", \"total\"]\n",
    "sns.barplot(count.profile_id,count.total)\n",
    "plt.show()"
   ]
  },
  {
   "cell_type": "code",
   "execution_count": 6,
   "metadata": {
    "colab": {
     "base_uri": "https://localhost:8080/",
     "height": 265
    },
    "colab_type": "code",
    "id": "7P2Z5K-2Yv5y",
    "outputId": "4b9aefad-88d5-4c2b-c874-0332240a671c"
   },
   "outputs": [
    {
     "data": {
      "image/png": "[encoded data removed]",
      "text/plain": [
       "<Figure size 432x288 with 1 Axes>"
      ]
     },
     "metadata": {
      "needs_background": "light"
     },
     "output_type": "display_data"
    }
   ],
   "source": [
    "plt.plot(df[df.profile_id==56].pm)\n",
    "plt.show()"
   ]
  },
  {
   "cell_type": "code",
   "execution_count": 7,
   "metadata": {
    "colab": {},
    "colab_type": "code",
    "id": "QspAjGn-6lFX"
   },
   "outputs": [],
   "source": [
    "df_sep = [df[df.profile_id==profile].drop(['profile_id','torque'], axis=1).reset_index(drop=True) for profile in df.profile_id.unique()]"
   ]
  },
  {
   "cell_type": "code",
   "execution_count": 8,
   "metadata": {
    "colab": {
     "base_uri": "https://localhost:8080/",
     "height": 419
    },
    "colab_type": "code",
    "id": "O_vL_ovU6wQT",
    "outputId": "b0fbcb31-4c62-4e07-a1d3-5ebc848750f9"
   },
   "outputs": [
    {
     "data": {
      "text/html": [
       "<div>\n",
       "<style scoped>\n",
       "    .dataframe tbody tr th:only-of-type {\n",
       "        vertical-align: middle;\n",
       "    }\n",
       "\n",
       "    .dataframe tbody tr th {\n",
       "        vertical-align: top;\n",
       "    }\n",
       "\n",
       "    .dataframe thead th {\n",
       "        text-align: right;\n",
       "    }\n",
       "</style>\n",
       "<table border=\"1\" class=\"dataframe\">\n",
       "  <thead>\n",
       "    <tr style=\"text-align: right;\">\n",
       "      <th></th>\n",
       "      <th>ambient</th>\n",
       "      <th>coolant</th>\n",
       "      <th>u_d</th>\n",
       "      <th>u_q</th>\n",
       "      <th>motor_speed</th>\n",
       "      <th>i_d</th>\n",
       "      <th>i_q</th>\n",
       "      <th>pm</th>\n",
       "      <th>stator_yoke</th>\n",
       "      <th>stator_tooth</th>\n",
       "      <th>stator_winding</th>\n",
       "    </tr>\n",
       "  </thead>\n",
       "  <tbody>\n",
       "    <tr>\n",
       "      <th>0</th>\n",
       "      <td>-0.595910</td>\n",
       "      <td>2.171364</td>\n",
       "      <td>-1.589776</td>\n",
       "      <td>-0.587723</td>\n",
       "      <td>1.103304</td>\n",
       "      <td>-1.878195</td>\n",
       "      <td>0.680967</td>\n",
       "      <td>1.017145</td>\n",
       "      <td>1.882656</td>\n",
       "      <td>1.437981</td>\n",
       "      <td>1.053870</td>\n",
       "    </tr>\n",
       "    <tr>\n",
       "      <th>1</th>\n",
       "      <td>-0.621160</td>\n",
       "      <td>2.170850</td>\n",
       "      <td>-1.571330</td>\n",
       "      <td>-0.500914</td>\n",
       "      <td>1.099682</td>\n",
       "      <td>-1.804746</td>\n",
       "      <td>0.671327</td>\n",
       "      <td>1.021259</td>\n",
       "      <td>1.882521</td>\n",
       "      <td>1.439262</td>\n",
       "      <td>1.065586</td>\n",
       "    </tr>\n",
       "    <tr>\n",
       "      <th>2</th>\n",
       "      <td>-0.631429</td>\n",
       "      <td>2.170527</td>\n",
       "      <td>-1.557825</td>\n",
       "      <td>-0.424030</td>\n",
       "      <td>1.096316</td>\n",
       "      <td>-1.742421</td>\n",
       "      <td>0.663120</td>\n",
       "      <td>1.022086</td>\n",
       "      <td>1.882713</td>\n",
       "      <td>1.442306</td>\n",
       "      <td>1.080192</td>\n",
       "    </tr>\n",
       "    <tr>\n",
       "      <th>3</th>\n",
       "      <td>-0.626384</td>\n",
       "      <td>2.170454</td>\n",
       "      <td>-1.562527</td>\n",
       "      <td>-0.442516</td>\n",
       "      <td>1.098146</td>\n",
       "      <td>-1.757560</td>\n",
       "      <td>0.664252</td>\n",
       "      <td>1.024800</td>\n",
       "      <td>1.882829</td>\n",
       "      <td>1.446316</td>\n",
       "      <td>1.095144</td>\n",
       "    </tr>\n",
       "    <tr>\n",
       "      <th>4</th>\n",
       "      <td>-0.618749</td>\n",
       "      <td>2.170683</td>\n",
       "      <td>-1.576954</td>\n",
       "      <td>-0.534982</td>\n",
       "      <td>1.111325</td>\n",
       "      <td>-1.832702</td>\n",
       "      <td>0.667031</td>\n",
       "      <td>1.029729</td>\n",
       "      <td>1.883059</td>\n",
       "      <td>1.449144</td>\n",
       "      <td>1.108085</td>\n",
       "    </tr>\n",
       "    <tr>\n",
       "      <th>...</th>\n",
       "      <td>...</td>\n",
       "      <td>...</td>\n",
       "      <td>...</td>\n",
       "      <td>...</td>\n",
       "      <td>...</td>\n",
       "      <td>...</td>\n",
       "      <td>...</td>\n",
       "      <td>...</td>\n",
       "      <td>...</td>\n",
       "      <td>...</td>\n",
       "      <td>...</td>\n",
       "    </tr>\n",
       "    <tr>\n",
       "      <th>2174</th>\n",
       "      <td>-0.463984</td>\n",
       "      <td>2.172318</td>\n",
       "      <td>0.507567</td>\n",
       "      <td>0.353152</td>\n",
       "      <td>-0.347175</td>\n",
       "      <td>1.005747</td>\n",
       "      <td>-0.489718</td>\n",
       "      <td>1.804289</td>\n",
       "      <td>2.280776</td>\n",
       "      <td>1.991620</td>\n",
       "      <td>1.560164</td>\n",
       "    </tr>\n",
       "    <tr>\n",
       "      <th>2175</th>\n",
       "      <td>-0.460619</td>\n",
       "      <td>2.172481</td>\n",
       "      <td>0.507999</td>\n",
       "      <td>0.353206</td>\n",
       "      <td>-0.347188</td>\n",
       "      <td>1.005798</td>\n",
       "      <td>-0.490083</td>\n",
       "      <td>1.803187</td>\n",
       "      <td>2.280447</td>\n",
       "      <td>1.991620</td>\n",
       "      <td>1.556740</td>\n",
       "    </tr>\n",
       "    <tr>\n",
       "      <th>2176</th>\n",
       "      <td>-0.456195</td>\n",
       "      <td>2.172659</td>\n",
       "      <td>0.508290</td>\n",
       "      <td>0.353097</td>\n",
       "      <td>-0.347194</td>\n",
       "      <td>1.005808</td>\n",
       "      <td>-0.490337</td>\n",
       "      <td>1.801625</td>\n",
       "      <td>2.279769</td>\n",
       "      <td>1.991620</td>\n",
       "      <td>1.554234</td>\n",
       "    </tr>\n",
       "    <tr>\n",
       "      <th>2177</th>\n",
       "      <td>-0.453024</td>\n",
       "      <td>2.172829</td>\n",
       "      <td>0.508741</td>\n",
       "      <td>0.353127</td>\n",
       "      <td>-0.347196</td>\n",
       "      <td>1.005798</td>\n",
       "      <td>-0.490511</td>\n",
       "      <td>1.799392</td>\n",
       "      <td>2.279384</td>\n",
       "      <td>1.991620</td>\n",
       "      <td>1.551217</td>\n",
       "    </tr>\n",
       "    <tr>\n",
       "      <th>2178</th>\n",
       "      <td>-0.455622</td>\n",
       "      <td>2.171987</td>\n",
       "      <td>0.508765</td>\n",
       "      <td>0.353135</td>\n",
       "      <td>-0.347198</td>\n",
       "      <td>1.005765</td>\n",
       "      <td>-0.490633</td>\n",
       "      <td>1.798200</td>\n",
       "      <td>2.279050</td>\n",
       "      <td>1.991589</td>\n",
       "      <td>1.548414</td>\n",
       "    </tr>\n",
       "  </tbody>\n",
       "</table>\n",
       "<p>2179 rows × 11 columns</p>\n",
       "</div>"
      ],
      "text/plain": [
       "       ambient   coolant       u_d       u_q  motor_speed       i_d       i_q  \\\n",
       "0    -0.595910  2.171364 -1.589776 -0.587723     1.103304 -1.878195  0.680967   \n",
       "1    -0.621160  2.170850 -1.571330 -0.500914     1.099682 -1.804746  0.671327   \n",
       "2    -0.631429  2.170527 -1.557825 -0.424030     1.096316 -1.742421  0.663120   \n",
       "3    -0.626384  2.170454 -1.562527 -0.442516     1.098146 -1.757560  0.664252   \n",
       "4    -0.618749  2.170683 -1.576954 -0.534982     1.111325 -1.832702  0.667031   \n",
       "...        ...       ...       ...       ...          ...       ...       ...   \n",
       "2174 -0.463984  2.172318  0.507567  0.353152    -0.347175  1.005747 -0.489718   \n",
       "2175 -0.460619  2.172481  0.507999  0.353206    -0.347188  1.005798 -0.490083   \n",
       "2176 -0.456195  2.172659  0.508290  0.353097    -0.347194  1.005808 -0.490337   \n",
       "2177 -0.453024  2.172829  0.508741  0.353127    -0.347196  1.005798 -0.490511   \n",
       "2178 -0.455622  2.171987  0.508765  0.353135    -0.347198  1.005765 -0.490633   \n",
       "\n",
       "            pm  stator_yoke  stator_tooth  stator_winding  \n",
       "0     1.017145     1.882656      1.437981        1.053870  \n",
       "1     1.021259     1.882521      1.439262        1.065586  \n",
       "2     1.022086     1.882713      1.442306        1.080192  \n",
       "3     1.024800     1.882829      1.446316        1.095144  \n",
       "4     1.029729     1.883059      1.449144        1.108085  \n",
       "...        ...          ...           ...             ...  \n",
       "2174  1.804289     2.280776      1.991620        1.560164  \n",
       "2175  1.803187     2.280447      1.991620        1.556740  \n",
       "2176  1.801625     2.279769      1.991620        1.554234  \n",
       "2177  1.799392     2.279384      1.991620        1.551217  \n",
       "2178  1.798200     2.279050      1.991589        1.548414  \n",
       "\n",
       "[2179 rows x 11 columns]"
      ]
     },
     "execution_count": 8,
     "metadata": {},
     "output_type": "execute_result"
    }
   ],
   "source": [
    "df_sep[16]"
   ]
  },
  {
   "cell_type": "code",
   "execution_count": 9,
   "metadata": {
    "colab": {},
    "colab_type": "code",
    "id": "RKAQhPBs616V"
   },
   "outputs": [],
   "source": [
    "class GRU_Net(nn.Module):\n",
    "    def __init__(self, features, hidden, h1, h2, out):\n",
    "        super(GRU_Net, self).__init__()\n",
    "        self.hidden_size = hidden\n",
    "        self.features = features\n",
    "        self.gru = nn.GRU(self.features, self.hidden_size, 1, #feature_size, hidden_size, num_layer\n",
    "                            batch_first = True) \n",
    "        self.fc1 = nn.Linear(self.hidden_size, \n",
    "                                h1)\n",
    "        self.fc2 = nn.Linear(h1, h2)\n",
    "        self.out = nn.Linear(h2, out)\n",
    "        #self.hidden = None #torch.randn(1, ??, self.hidden) #num_layer, batch, hidden_size\n",
    "\n",
    "    def forward(self, x):\n",
    "        batch_size, _, _ = x.shape \n",
    "\n",
    "        #if self.hidden is not None:\n",
    "        #    x, self.hidden =  self.gru(x, self.hidden)\n",
    "        #else:\n",
    "        #    x, self.hidden =  self.gru(x)\n",
    "        \n",
    "        x, _ =  self.gru(x)\n",
    "        x = x[:,-1].view(batch_size, -1)\n",
    "        x = F.relu(self.fc1(x))\n",
    "        x = F.relu(self.fc2(x))\n",
    "        return self.out(x)"
   ]
  },
  {
   "cell_type": "code",
   "execution_count": 10,
   "metadata": {
    "colab": {},
    "colab_type": "code",
    "id": "zq9xOY0AVoE8"
   },
   "outputs": [],
   "source": [
    "def sliding_window(dataset, target_var, inp, out):\n",
    "    for j, X in enumerate(dataset):\n",
    "        if j==51: #it's validation time\n",
    "            pass\n",
    "\n",
    "        target = X[[target_var]]\n",
    "        num_features = len(X.columns)\n",
    "\n",
    "        for i in range(X.shape[0]):\n",
    "            if i > inp + out - 1:\n",
    "                features = X.iloc[i-inp-out:i-out,].values.reshape(inp,num_features)\n",
    "                pred = target.iloc[i]\n",
    "\n",
    "                yield np.array(features), np.array(pred)"
   ]
  },
  {
   "cell_type": "code",
   "execution_count": 11,
   "metadata": {
    "colab": {
     "base_uri": "https://localhost:8080/",
     "height": 34
    },
    "colab_type": "code",
    "id": "i72fNPOjOv91",
    "outputId": "7fe96aef-3575-4d2a-be3a-b2b3804fd171"
   },
   "outputs": [
    {
     "data": {
      "text/plain": [
       "998070"
      ]
     },
     "execution_count": 11,
     "metadata": {},
     "output_type": "execute_result"
    }
   ],
   "source": [
    "np.sum([x.shape[0] for x in df_sep])"
   ]
  },
  {
   "cell_type": "code",
   "execution_count": 12,
   "metadata": {
    "colab": {
     "base_uri": "https://localhost:8080/",
     "height": 49,
     "referenced_widgets": [
      "c5dcef4fd5a841acbfc08601901aa031",
      "a389cfb3cbcd49d6ba393b4078cb2825",
      "3d03ea03fe134e16ab8e03b21198bfc9",
      "fed6ab9e0c21453ca6647bb71198490a",
      "d40edc1ee1624766b1b7953d67dc55e4",
      "34721a7e3fee48078d6a7cf849962761",
      "628ee058dfff4b62a900c7d86aa322ee",
      "e3744700c602426b8172547a0f7a1ea5"
     ]
    },
    "colab_type": "code",
    "id": "5fpvTmjcnXqo",
    "outputId": "e8955f64-8d00-4d30-9217-41421b547534"
   },
   "outputs": [
    {
     "name": "stderr",
     "output_type": "stream",
     "text": [
      "/home/pranav/anaconda3/lib/python3.7/site-packages/torch/cuda/__init__.py:134: UserWarning: \n",
      "    Found GPU0 GeForce GT 750M which is of cuda capability 3.0.\n",
      "    PyTorch no longer supports this GPU because it is too old.\n",
      "    The minimum cuda capability that we support is 3.5.\n",
      "    \n",
      "  warnings.warn(old_gpu_warn % (d, name, major, capability[1]))\n"
     ]
    },
    {
     "data": {
      "application/vnd.jupyter.widget-view+json": {
       "model_id": "919ec691dc2d487c8d4e9824d56cc92f",
       "version_major": 2,
       "version_minor": 0
      },
      "text/plain": [
       "HBox(children=(FloatProgress(value=0.0, max=1927.0), HTML(value='')))"
      ]
     },
     "metadata": {},
     "output_type": "display_data"
    },
    {
     "name": "stdout",
     "output_type": "stream",
     "text": [
      "\n",
      "step :  1 loss :  0.0035691577941179276\n",
      "\n"
     ]
    },
    {
     "data": {
      "application/vnd.jupyter.widget-view+json": {
       "model_id": "e13cc203301a4d729cdb94079df5ac4a",
       "version_major": 2,
       "version_minor": 0
      },
      "text/plain": [
       "HBox(children=(FloatProgress(value=0.0, max=1927.0), HTML(value='')))"
      ]
     },
     "metadata": {},
     "output_type": "display_data"
    },
    {
     "name": "stdout",
     "output_type": "stream",
     "text": [
      "\n",
      "step :  2 loss :  0.00036484983866102993\n",
      "\n"
     ]
    }
   ],
   "source": [
    "gru = GRU_Net(features=11, hidden=64, h1=64, h2=32, out=1).to(device)\n",
    "\n",
    "criterion = torch.nn.MSELoss() # reduction='sum' created huge loss value\n",
    "optimizer = torch.optim.Adam(gru.parameters(),lr=0.001)\n",
    "\n",
    "gru.train()\n",
    "batch_size = 510\n",
    "\n",
    "df_length = np.sum([x.shape[0] for x in df_sep]) - df_sep[51].shape[0]\n",
    "\n",
    "for t in range(2):\n",
    "    gen = sliding_window(df_sep, \"pm\", 300, 1)\n",
    "    for b in tqdm(range(0, df_length, batch_size)):\n",
    "        X_train = []\n",
    "        y_train = []\n",
    "        for i in range(batch_size):\n",
    "            try:\n",
    "                X,y = next(gen)\n",
    "                X_train.append(X)\n",
    "                y_train.append(y)\n",
    "            except:\n",
    "                break\n",
    "\n",
    "        inpt = np.array(X_train).reshape(-1, 300, 11)\n",
    "        target = np.array(y_train)    \n",
    "        x_batch = torch.tensor(inpt,dtype=torch.float32).to(device)  \n",
    "        y_batch = torch.tensor(target,dtype=torch.float32).to(device)\n",
    "        try:\n",
    "            output = gru(x_batch) \n",
    "            loss = criterion(output.view(-1), y_batch.view(-1))  \n",
    "\n",
    "            loss.backward(retain_graph=True)\n",
    "            optimizer.step()        \n",
    "            optimizer.zero_grad()\n",
    "        except:\n",
    "            print(\"something happened\")\n",
    "            print(inpt.shape)\n",
    "            print(x_batch.size())\n",
    "            break\n",
    "        \n",
    "    print('step : ' , t+1 , 'loss : ' , loss.item())\n",
    "    print()"
   ]
  },
  {
   "cell_type": "code",
   "execution_count": 25,
   "metadata": {
    "colab": {},
    "colab_type": "code",
    "id": "vxolnh5QxoHD"
   },
   "outputs": [
    {
     "data": {
      "text/plain": [
       "GRU_Net(\n",
       "  (gru): GRU(11, 64, batch_first=True)\n",
       "  (fc1): Linear(in_features=64, out_features=64, bias=True)\n",
       "  (fc2): Linear(in_features=64, out_features=32, bias=True)\n",
       "  (out): Linear(in_features=32, out_features=1, bias=True)\n",
       ")"
      ]
     },
     "execution_count": 25,
     "metadata": {},
     "output_type": "execute_result"
    }
   ],
   "source": [
    "gru.to(device)"
   ]
  },
  {
   "cell_type": "code",
   "execution_count": 55,
   "metadata": {},
   "outputs": [],
   "source": [
    "test_gen = sliding_window([df_sep[51]], \"pm\", 300, 1)\n",
    "batch_size = 510\n",
    "\n",
    "y_test = []\n",
    "y_pred_all = []\n",
    "for x in range(0, df_sep[51].shape[0], batch_size):\n",
    "    X_test = []\n",
    "    for i in range(batch_size):\n",
    "        try:\n",
    "            X,y = next(test_gen)\n",
    "            X_test.append(X)\n",
    "            y_test.append(y)\n",
    "        except:\n",
    "            break\n",
    "\n",
    "    inpt = np.array(X_test).reshape(-1, 300, 11)\n",
    "    x_test_batch = torch.tensor(inpt,dtype=torch.float32).to(device)  \n",
    "    y_pred = gru(x_test_batch)\n",
    "\n",
    "    y_pred_all = np.append(y_pred_all,y_pred.cpu().detach().numpy())"
   ]
  },
  {
   "cell_type": "code",
   "execution_count": 59,
   "metadata": {
    "colab": {},
    "colab_type": "code",
    "id": "TETtDarx2qU4"
   },
   "outputs": [
    {
     "data": {
      "image/png": "[encoded data removed]",
      "text/plain": [
       "<Figure size 720x720 with 1 Axes>"
      ]
     },
     "metadata": {
      "needs_background": "light"
     },
     "output_type": "display_data"
    }
   ],
   "source": [
    "y_test = np.array(y_test).reshape(-1)\n",
    "plt.figure(figsize=(10,10))\n",
    "plt.plot(y_test)\n",
    "plt.plot(y_pred_all)\n",
    "\n",
    "plt.show()"
   ]
  },
  {
   "cell_type": "code",
   "execution_count": 63,
   "metadata": {
    "colab": {},
    "colab_type": "code",
    "id": "awfQ0bE65q-Y"
   },
   "outputs": [
    {
     "data": {
      "text/plain": [
       "-0.0488383989205866"
      ]
     },
     "execution_count": 63,
     "metadata": {},
     "output_type": "execute_result"
    }
   ],
   "source": [
    "np.mean(np.abs(y_test - y_pred_all)/y_test)"
   ]
  }
 ],
 "metadata": {
  "accelerator": "GPU",
  "colab": {
   "collapsed_sections": [],
   "machine_shape": "hm",
   "name": "AML.ipynb",
   "provenance": []
  },
  "kernelspec": {
   "display_name": "Python 3",
   "language": "python",
   "name": "python3"
  },
  "language_info": {
   "codemirror_mode": {
    "name": "ipython",
    "version": 3
   },
   "file_extension": ".py",
   "mimetype": "text/x-python",
   "name": "python",
   "nbconvert_exporter": "python",
   "pygments_lexer": "ipython3",
   "version": "3.7.5"
  },
  "widgets": {
   "application/vnd.jupyter.widget-state+json": {
    "34721a7e3fee48078d6a7cf849962761": {
     "model_module": "@jupyter-widgets/base",
     "model_name": "LayoutModel",
     "state": {
      "_model_module": "@jupyter-widgets/base",
      "_model_module_version": "1.2.0",
      "_model_name": "LayoutModel",
      "_view_count": null,
      "_view_module": "@jupyter-widgets/base",
      "_view_module_version": "1.2.0",
      "_view_name": "LayoutView",
      "align_content": null,
      "align_items": null,
      "align_self": null,
      "border": null,
      "bottom": null,
      "display": null,
      "flex": null,
      "flex_flow": null,
      "grid_area": null,
      "grid_auto_columns": null,
      "grid_auto_flow": null,
      "grid_auto_rows": null,
      "grid_column": null,
      "grid_gap": null,
      "grid_row": null,
      "grid_template_areas": null,
      "grid_template_columns": null,
      "grid_template_rows": null,
      "height": null,
      "justify_content": null,
      "justify_items": null,
      "left": null,
      "margin": null,
      "max_height": null,
      "max_width": null,
      "min_height": null,
      "min_width": null,
      "object_fit": null,
      "object_position": null,
      "order": null,
      "overflow": null,
      "overflow_x": null,
      "overflow_y": null,
      "padding": null,
      "right": null,
      "top": null,
      "visibility": null,
      "width": null
     }
    },
    "3d03ea03fe134e16ab8e03b21198bfc9": {
     "model_module": "@jupyter-widgets/controls",
     "model_name": "IntProgressModel",
     "state": {
      "_dom_classes": [],
      "_model_module": "@jupyter-widgets/controls",
      "_model_module_version": "1.5.0",
      "_model_name": "IntProgressModel",
      "_view_count": null,
      "_view_module": "@jupyter-widgets/controls",
      "_view_module_version": "1.5.0",
      "_view_name": "ProgressView",
      "bar_style": "",
      "description": "",
      "description_tooltip": null,
      "layout": "IPY_MODEL_34721a7e3fee48078d6a7cf849962761",
      "max": 1957,
      "min": 0,
      "orientation": "horizontal",
      "style": "IPY_MODEL_d40edc1ee1624766b1b7953d67dc55e4",
      "value": 1926
     }
    },
    "628ee058dfff4b62a900c7d86aa322ee": {
     "model_module": "@jupyter-widgets/controls",
     "model_name": "DescriptionStyleModel",
     "state": {
      "_model_module": "@jupyter-widgets/controls",
      "_model_module_version": "1.5.0",
      "_model_name": "DescriptionStyleModel",
      "_view_count": null,
      "_view_module": "@jupyter-widgets/base",
      "_view_module_version": "1.2.0",
      "_view_name": "StyleView",
      "description_width": ""
     }
    },
    "a389cfb3cbcd49d6ba393b4078cb2825": {
     "model_module": "@jupyter-widgets/base",
     "model_name": "LayoutModel",
     "state": {
      "_model_module": "@jupyter-widgets/base",
      "_model_module_version": "1.2.0",
      "_model_name": "LayoutModel",
      "_view_count": null,
      "_view_module": "@jupyter-widgets/base",
      "_view_module_version": "1.2.0",
      "_view_name": "LayoutView",
      "align_content": null,
      "align_items": null,
      "align_self": null,
      "border": null,
      "bottom": null,
      "display": null,
      "flex": null,
      "flex_flow": null,
      "grid_area": null,
      "grid_auto_columns": null,
      "grid_auto_flow": null,
      "grid_auto_rows": null,
      "grid_column": null,
      "grid_gap": null,
      "grid_row": null,
      "grid_template_areas": null,
      "grid_template_columns": null,
      "grid_template_rows": null,
      "height": null,
      "justify_content": null,
      "justify_items": null,
      "left": null,
      "margin": null,
      "max_height": null,
      "max_width": null,
      "min_height": null,
      "min_width": null,
      "object_fit": null,
      "object_position": null,
      "order": null,
      "overflow": null,
      "overflow_x": null,
      "overflow_y": null,
      "padding": null,
      "right": null,
      "top": null,
      "visibility": null,
      "width": null
     }
    },
    "c5dcef4fd5a841acbfc08601901aa031": {
     "model_module": "@jupyter-widgets/controls",
     "model_name": "HBoxModel",
     "state": {
      "_dom_classes": [],
      "_model_module": "@jupyter-widgets/controls",
      "_model_module_version": "1.5.0",
      "_model_name": "HBoxModel",
      "_view_count": null,
      "_view_module": "@jupyter-widgets/controls",
      "_view_module_version": "1.5.0",
      "_view_name": "HBoxView",
      "box_style": "",
      "children": [
       "IPY_MODEL_3d03ea03fe134e16ab8e03b21198bfc9",
       "IPY_MODEL_fed6ab9e0c21453ca6647bb71198490a"
      ],
      "layout": "IPY_MODEL_a389cfb3cbcd49d6ba393b4078cb2825"
     }
    },
    "d40edc1ee1624766b1b7953d67dc55e4": {
     "model_module": "@jupyter-widgets/controls",
     "model_name": "ProgressStyleModel",
     "state": {
      "_model_module": "@jupyter-widgets/controls",
      "_model_module_version": "1.5.0",
      "_model_name": "ProgressStyleModel",
      "_view_count": null,
      "_view_module": "@jupyter-widgets/base",
      "_view_module_version": "1.2.0",
      "_view_name": "StyleView",
      "bar_color": null,
      "description_width": ""
     }
    },
    "e3744700c602426b8172547a0f7a1ea5": {
     "model_module": "@jupyter-widgets/base",
     "model_name": "LayoutModel",
     "state": {
      "_model_module": "@jupyter-widgets/base",
      "_model_module_version": "1.2.0",
      "_model_name": "LayoutModel",
      "_view_count": null,
      "_view_module": "@jupyter-widgets/base",
      "_view_module_version": "1.2.0",
      "_view_name": "LayoutView",
      "align_content": null,
      "align_items": null,
      "align_self": null,
      "border": null,
      "bottom": null,
      "display": null,
      "flex": null,
      "flex_flow": null,
      "grid_area": null,
      "grid_auto_columns": null,
      "grid_auto_flow": null,
      "grid_auto_rows": null,
      "grid_column": null,
      "grid_gap": null,
      "grid_row": null,
      "grid_template_areas": null,
      "grid_template_columns": null,
      "grid_template_rows": null,
      "height": null,
      "justify_content": null,
      "justify_items": null,
      "left": null,
      "margin": null,
      "max_height": null,
      "max_width": null,
      "min_height": null,
      "min_width": null,
      "object_fit": null,
      "object_position": null,
      "order": null,
      "overflow": null,
      "overflow_x": null,
      "overflow_y": null,
      "padding": null,
      "right": null,
      "top": null,
      "visibility": null,
      "width": null
     }
    },
    "fed6ab9e0c21453ca6647bb71198490a": {
     "model_module": "@jupyter-widgets/controls",
     "model_name": "HTMLModel",
     "state": {
      "_dom_classes": [],
      "_model_module": "@jupyter-widgets/controls",
      "_model_module_version": "1.5.0",
      "_model_name": "HTMLModel",
      "_view_count": null,
      "_view_module": "@jupyter-widgets/controls",
      "_view_module_version": "1.5.0",
      "_view_name": "HTMLView",
      "description": "",
      "description_tooltip": null,
      "layout": "IPY_MODEL_e3744700c602426b8172547a0f7a1ea5",
      "placeholder": "​",
      "style": "IPY_MODEL_628ee058dfff4b62a900c7d86aa322ee",
      "value": " 98% 1926/1957 [05:16&lt;00:04,  6.47it/s]"
     }
    }
   }
  }
 },
 "nbformat": 4,
 "nbformat_minor": 1
}
