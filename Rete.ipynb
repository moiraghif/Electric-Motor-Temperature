{
 "cells": [
  {
   "cell_type": "code",
   "execution_count": 1,
   "metadata": {
    "autoscroll": false,
    "ein.hycell": false,
    "ein.tags": "worksheet-0",
    "slideshow": {
     "slide_type": "-"
    }
   },
   "outputs": [],
   "source": [
    "import warnings\n",
    "warnings.filterwarnings(\"ignore\")\n",
    "warnings.simplefilter(\"ignore\")\n",
    "\n",
    "import logging \n",
    "logger = logging.getLogger()\n",
    "logger.setLevel(logging.CRITICAL)"
   ]
  },
  {
   "cell_type": "code",
   "execution_count": 2,
   "metadata": {
    "autoscroll": false,
    "ein.hycell": false,
    "ein.tags": "worksheet-0",
    "slideshow": {
     "slide_type": "-"
    }
   },
   "outputs": [],
   "source": [
    "import torch\n",
    "import numpy as np\n",
    "import pandas as pd\n",
    "import matplotlib.pyplot as plt\n",
    "from datetime import datetime"
   ]
  },
  {
   "cell_type": "code",
   "execution_count": 3,
   "metadata": {
    "autoscroll": false,
    "ein.hycell": false,
    "ein.tags": "worksheet-0",
    "slideshow": {
     "slide_type": "-"
    }
   },
   "outputs": [
    {
     "name": "stdout",
     "output_type": "stream",
     "text": [
      "working on: cuda\n"
     ]
    }
   ],
   "source": [
    "DEVICE = torch.device(\"cuda\" if torch.cuda.is_available() \\\n",
    "                      else \"cpu\")\n",
    "print(\"working on: \" + str(DEVICE))"
   ]
  },
  {
   "cell_type": "code",
   "execution_count": 4,
   "metadata": {
    "autoscroll": false,
    "ein.hycell": false,
    "ein.tags": "worksheet-0",
    "slideshow": {
     "slide_type": "-"
    }
   },
   "outputs": [],
   "source": [
    "RANDOM_SEED = 20200101\n",
    "np.random.seed(RANDOM_SEED)\n",
    "torch.manual_seed(RANDOM_SEED)\n",
    "\n",
    "# reproducibility with convolutions (btw, we do not use them)\n",
    "torch.backends.cudnn.deterministic = True\n",
    "torch.backends.cudnn.benchmark = False"
   ]
  },
  {
   "cell_type": "code",
   "execution_count": 5,
   "metadata": {
    "autoscroll": false,
    "ein.hycell": false,
    "ein.tags": "worksheet-0",
    "slideshow": {
     "slide_type": "-"
    }
   },
   "outputs": [
    {
     "name": "stdout",
     "output_type": "stream",
     "text": [
      "(998070, 13)\n",
      "52\n"
     ]
    }
   ],
   "source": [
    "DB = pd.read_csv(\"./pmsm_temperature_data.csv\")\n",
    "DBs = [db[1] for db in DB.groupby(\"profile_id\")]\n",
    "np.random.shuffle(DBs)\n",
    "print(DB.shape)\n",
    "print(len(DBs))"
   ]
  },
  {
   "cell_type": "code",
   "execution_count": 6,
   "metadata": {
    "autoscroll": false,
    "ein.hycell": false,
    "ein.tags": "worksheet-0",
    "slideshow": {
     "slide_type": "-"
    }
   },
   "outputs": [
    {
     "data": {
      "text/html": [
       "<div>\n",
       "<style scoped>\n",
       "    .dataframe tbody tr th:only-of-type {\n",
       "        vertical-align: middle;\n",
       "    }\n",
       "\n",
       "    .dataframe tbody tr th {\n",
       "        vertical-align: top;\n",
       "    }\n",
       "\n",
       "    .dataframe thead th {\n",
       "        text-align: right;\n",
       "    }\n",
       "</style>\n",
       "<table border=\"1\" class=\"dataframe\">\n",
       "  <thead>\n",
       "    <tr style=\"text-align: right;\">\n",
       "      <th></th>\n",
       "      <th>ambient</th>\n",
       "      <th>coolant</th>\n",
       "      <th>u_d</th>\n",
       "      <th>u_q</th>\n",
       "      <th>motor_speed</th>\n",
       "      <th>torque</th>\n",
       "      <th>i_d</th>\n",
       "      <th>i_q</th>\n",
       "      <th>pm</th>\n",
       "      <th>stator_yoke</th>\n",
       "      <th>stator_tooth</th>\n",
       "      <th>stator_winding</th>\n",
       "      <th>profile_id</th>\n",
       "    </tr>\n",
       "  </thead>\n",
       "  <tbody>\n",
       "    <tr>\n",
       "      <th>0</th>\n",
       "      <td>-0.752143</td>\n",
       "      <td>-1.118446</td>\n",
       "      <td>0.327935</td>\n",
       "      <td>-1.297858</td>\n",
       "      <td>-1.222428</td>\n",
       "      <td>-0.250182</td>\n",
       "      <td>1.029572</td>\n",
       "      <td>-0.245860</td>\n",
       "      <td>-2.522071</td>\n",
       "      <td>-1.831422</td>\n",
       "      <td>-2.066143</td>\n",
       "      <td>-2.018033</td>\n",
       "      <td>4</td>\n",
       "    </tr>\n",
       "    <tr>\n",
       "      <th>1</th>\n",
       "      <td>-0.771263</td>\n",
       "      <td>-1.117021</td>\n",
       "      <td>0.329665</td>\n",
       "      <td>-1.297686</td>\n",
       "      <td>-1.222429</td>\n",
       "      <td>-0.249133</td>\n",
       "      <td>1.029509</td>\n",
       "      <td>-0.245832</td>\n",
       "      <td>-2.522418</td>\n",
       "      <td>-1.830969</td>\n",
       "      <td>-2.064859</td>\n",
       "      <td>-2.017631</td>\n",
       "      <td>4</td>\n",
       "    </tr>\n",
       "    <tr>\n",
       "      <th>2</th>\n",
       "      <td>-0.782892</td>\n",
       "      <td>-1.116681</td>\n",
       "      <td>0.332771</td>\n",
       "      <td>-1.301822</td>\n",
       "      <td>-1.222428</td>\n",
       "      <td>-0.249431</td>\n",
       "      <td>1.029448</td>\n",
       "      <td>-0.245818</td>\n",
       "      <td>-2.522673</td>\n",
       "      <td>-1.830400</td>\n",
       "      <td>-2.064073</td>\n",
       "      <td>-2.017343</td>\n",
       "      <td>4</td>\n",
       "    </tr>\n",
       "    <tr>\n",
       "      <th>3</th>\n",
       "      <td>-0.780935</td>\n",
       "      <td>-1.116764</td>\n",
       "      <td>0.333700</td>\n",
       "      <td>-1.301852</td>\n",
       "      <td>-1.222430</td>\n",
       "      <td>-0.248636</td>\n",
       "      <td>1.032845</td>\n",
       "      <td>-0.246955</td>\n",
       "      <td>-2.521639</td>\n",
       "      <td>-1.830333</td>\n",
       "      <td>-2.063137</td>\n",
       "      <td>-2.017632</td>\n",
       "      <td>4</td>\n",
       "    </tr>\n",
       "    <tr>\n",
       "      <th>4</th>\n",
       "      <td>-0.774043</td>\n",
       "      <td>-1.116775</td>\n",
       "      <td>0.335206</td>\n",
       "      <td>-1.303118</td>\n",
       "      <td>-1.222429</td>\n",
       "      <td>-0.248701</td>\n",
       "      <td>1.031807</td>\n",
       "      <td>-0.246610</td>\n",
       "      <td>-2.521900</td>\n",
       "      <td>-1.830498</td>\n",
       "      <td>-2.062795</td>\n",
       "      <td>-2.018145</td>\n",
       "      <td>4</td>\n",
       "    </tr>\n",
       "  </tbody>\n",
       "</table>\n",
       "</div>"
      ],
      "text/plain": [
       "    ambient   coolant       u_d       u_q  motor_speed    torque       i_d  \\\n",
       "0 -0.752143 -1.118446  0.327935 -1.297858    -1.222428 -0.250182  1.029572   \n",
       "1 -0.771263 -1.117021  0.329665 -1.297686    -1.222429 -0.249133  1.029509   \n",
       "2 -0.782892 -1.116681  0.332771 -1.301822    -1.222428 -0.249431  1.029448   \n",
       "3 -0.780935 -1.116764  0.333700 -1.301852    -1.222430 -0.248636  1.032845   \n",
       "4 -0.774043 -1.116775  0.335206 -1.303118    -1.222429 -0.248701  1.031807   \n",
       "\n",
       "        i_q        pm  stator_yoke  stator_tooth  stator_winding  profile_id  \n",
       "0 -0.245860 -2.522071    -1.831422     -2.066143       -2.018033           4  \n",
       "1 -0.245832 -2.522418    -1.830969     -2.064859       -2.017631           4  \n",
       "2 -0.245818 -2.522673    -1.830400     -2.064073       -2.017343           4  \n",
       "3 -0.246955 -2.521639    -1.830333     -2.063137       -2.017632           4  \n",
       "4 -0.246610 -2.521900    -1.830498     -2.062795       -2.018145           4  "
      ]
     },
     "execution_count": 6,
     "metadata": {},
     "output_type": "execute_result"
    }
   ],
   "source": [
    "DB.head()"
   ]
  },
  {
   "cell_type": "code",
   "execution_count": 7,
   "metadata": {
    "autoscroll": false,
    "ein.hycell": false,
    "ein.tags": "worksheet-0",
    "slideshow": {
     "slide_type": "-"
    }
   },
   "outputs": [],
   "source": [
    "TARGET = [\"pm\", \"stator_yoke\", \"stator_tooth\", \"stator_winding\"]\n",
    "FEATURES = [\"ambient\", \"coolant\", \"u_d\", \"u_q\", \"motor_speed\", \"i_d\", \"i_q\"]"
   ]
  },
  {
   "cell_type": "code",
   "execution_count": 8,
   "metadata": {
    "autoscroll": false,
    "ein.hycell": false,
    "ein.tags": "worksheet-0",
    "slideshow": {
     "slide_type": "-"
    }
   },
   "outputs": [
    {
     "data": {
      "image/png": "[encoded data removed]",
      "text/plain": [
       "<Figure size 720x360 with 1 Axes>"
      ]
     },
     "metadata": {
      "needs_background": "light"
     },
     "output_type": "display_data"
    }
   ],
   "source": [
    "plt.figure(figsize=(10, 5))\n",
    "plt.hist(list(map(len, DBs)))\n",
    "plt.show()"
   ]
  },
  {
   "cell_type": "code",
   "execution_count": 9,
   "metadata": {
    "autoscroll": false,
    "ein.hycell": false,
    "ein.tags": "worksheet-0",
    "slideshow": {
     "slide_type": "-"
    }
   },
   "outputs": [
    {
     "name": "stdout",
     "output_type": "stream",
     "text": [
      "41 11\n"
     ]
    }
   ],
   "source": [
    "train_ratio = int(len(DBs) * 0.8)\n",
    "TRAIN_SET = [df[FEATURES + TARGET] for df in DBs[:train_ratio]]\n",
    "TEST_SET  = [df[FEATURES + TARGET] for df in DBs[train_ratio:]]\n",
    "print(len(TRAIN_SET), len(TEST_SET))"
   ]
  },
  {
   "cell_type": "code",
   "execution_count": 10,
   "metadata": {
    "autoscroll": false,
    "ein.hycell": false,
    "ein.tags": "worksheet-0",
    "slideshow": {
     "slide_type": "-"
    }
   },
   "outputs": [
    {
     "data": {
      "text/html": [
       "<div>\n",
       "<style scoped>\n",
       "    .dataframe tbody tr th:only-of-type {\n",
       "        vertical-align: middle;\n",
       "    }\n",
       "\n",
       "    .dataframe tbody tr th {\n",
       "        vertical-align: top;\n",
       "    }\n",
       "\n",
       "    .dataframe thead th {\n",
       "        text-align: right;\n",
       "    }\n",
       "</style>\n",
       "<table border=\"1\" class=\"dataframe\">\n",
       "  <thead>\n",
       "    <tr style=\"text-align: right;\">\n",
       "      <th></th>\n",
       "      <th>ambient</th>\n",
       "      <th>coolant</th>\n",
       "      <th>u_d</th>\n",
       "      <th>u_q</th>\n",
       "      <th>motor_speed</th>\n",
       "      <th>i_d</th>\n",
       "      <th>i_q</th>\n",
       "      <th>pm</th>\n",
       "      <th>stator_yoke</th>\n",
       "      <th>stator_tooth</th>\n",
       "      <th>stator_winding</th>\n",
       "    </tr>\n",
       "  </thead>\n",
       "  <tbody>\n",
       "    <tr>\n",
       "      <th>count</th>\n",
       "      <td>15300.000000</td>\n",
       "      <td>15300.000000</td>\n",
       "      <td>15300.000000</td>\n",
       "      <td>15300.000000</td>\n",
       "      <td>15300.000000</td>\n",
       "      <td>15300.000000</td>\n",
       "      <td>15300.000000</td>\n",
       "      <td>15300.000000</td>\n",
       "      <td>15300.000000</td>\n",
       "      <td>15300.000000</td>\n",
       "      <td>15300.000000</td>\n",
       "    </tr>\n",
       "    <tr>\n",
       "      <th>mean</th>\n",
       "      <td>-0.254768</td>\n",
       "      <td>0.308065</td>\n",
       "      <td>0.311843</td>\n",
       "      <td>-0.371160</td>\n",
       "      <td>-0.413286</td>\n",
       "      <td>0.394203</td>\n",
       "      <td>-0.208356</td>\n",
       "      <td>-0.286752</td>\n",
       "      <td>0.039736</td>\n",
       "      <td>-0.144018</td>\n",
       "      <td>-0.256677</td>\n",
       "    </tr>\n",
       "    <tr>\n",
       "      <th>std</th>\n",
       "      <td>0.205871</td>\n",
       "      <td>1.105947</td>\n",
       "      <td>0.792268</td>\n",
       "      <td>1.081078</td>\n",
       "      <td>0.996139</td>\n",
       "      <td>0.846065</td>\n",
       "      <td>0.827721</td>\n",
       "      <td>0.597834</td>\n",
       "      <td>1.065554</td>\n",
       "      <td>0.962844</td>\n",
       "      <td>0.847979</td>\n",
       "    </tr>\n",
       "    <tr>\n",
       "      <th>min</th>\n",
       "      <td>-5.239872</td>\n",
       "      <td>-1.078828</td>\n",
       "      <td>-1.614588</td>\n",
       "      <td>-1.388082</td>\n",
       "      <td>-1.222439</td>\n",
       "      <td>-2.288602</td>\n",
       "      <td>-3.287054</td>\n",
       "      <td>-1.649365</td>\n",
       "      <td>-1.354718</td>\n",
       "      <td>-1.560621</td>\n",
       "      <td>-1.567307</td>\n",
       "    </tr>\n",
       "    <tr>\n",
       "      <th>25%</th>\n",
       "      <td>-0.395809</td>\n",
       "      <td>-0.684271</td>\n",
       "      <td>0.293656</td>\n",
       "      <td>-1.275595</td>\n",
       "      <td>-1.222430</td>\n",
       "      <td>-0.329227</td>\n",
       "      <td>-0.248303</td>\n",
       "      <td>-0.840581</td>\n",
       "      <td>-0.984368</td>\n",
       "      <td>-1.068181</td>\n",
       "      <td>-1.072331</td>\n",
       "    </tr>\n",
       "    <tr>\n",
       "      <th>50%</th>\n",
       "      <td>-0.152411</td>\n",
       "      <td>-0.195273</td>\n",
       "      <td>0.336386</td>\n",
       "      <td>-1.158519</td>\n",
       "      <td>-1.136797</td>\n",
       "      <td>1.020404</td>\n",
       "      <td>-0.245716</td>\n",
       "      <td>-0.393474</td>\n",
       "      <td>-0.160798</td>\n",
       "      <td>-0.271204</td>\n",
       "      <td>-0.381549</td>\n",
       "    </tr>\n",
       "    <tr>\n",
       "      <th>75%</th>\n",
       "      <td>-0.128646</td>\n",
       "      <td>1.497615</td>\n",
       "      <td>0.359315</td>\n",
       "      <td>0.658458</td>\n",
       "      <td>0.425678</td>\n",
       "      <td>1.029143</td>\n",
       "      <td>-0.238446</td>\n",
       "      <td>0.239883</td>\n",
       "      <td>1.297375</td>\n",
       "      <td>0.977605</td>\n",
       "      <td>0.578718</td>\n",
       "    </tr>\n",
       "    <tr>\n",
       "      <th>max</th>\n",
       "      <td>0.078443</td>\n",
       "      <td>2.294652</td>\n",
       "      <td>2.229603</td>\n",
       "      <td>1.763444</td>\n",
       "      <td>1.997176</td>\n",
       "      <td>1.029227</td>\n",
       "      <td>2.889711</td>\n",
       "      <td>0.936801</td>\n",
       "      <td>1.770560</td>\n",
       "      <td>1.538679</td>\n",
       "      <td>1.261606</td>\n",
       "    </tr>\n",
       "  </tbody>\n",
       "</table>\n",
       "</div>"
      ],
      "text/plain": [
       "            ambient       coolant           u_d           u_q   motor_speed  \\\n",
       "count  15300.000000  15300.000000  15300.000000  15300.000000  15300.000000   \n",
       "mean      -0.254768      0.308065      0.311843     -0.371160     -0.413286   \n",
       "std        0.205871      1.105947      0.792268      1.081078      0.996139   \n",
       "min       -5.239872     -1.078828     -1.614588     -1.388082     -1.222439   \n",
       "25%       -0.395809     -0.684271      0.293656     -1.275595     -1.222430   \n",
       "50%       -0.152411     -0.195273      0.336386     -1.158519     -1.136797   \n",
       "75%       -0.128646      1.497615      0.359315      0.658458      0.425678   \n",
       "max        0.078443      2.294652      2.229603      1.763444      1.997176   \n",
       "\n",
       "                i_d           i_q            pm   stator_yoke  stator_tooth  \\\n",
       "count  15300.000000  15300.000000  15300.000000  15300.000000  15300.000000   \n",
       "mean       0.394203     -0.208356     -0.286752      0.039736     -0.144018   \n",
       "std        0.846065      0.827721      0.597834      1.065554      0.962844   \n",
       "min       -2.288602     -3.287054     -1.649365     -1.354718     -1.560621   \n",
       "25%       -0.329227     -0.248303     -0.840581     -0.984368     -1.068181   \n",
       "50%        1.020404     -0.245716     -0.393474     -0.160798     -0.271204   \n",
       "75%        1.029143     -0.238446      0.239883      1.297375      0.977605   \n",
       "max        1.029227      2.889711      0.936801      1.770560      1.538679   \n",
       "\n",
       "       stator_winding  \n",
       "count    15300.000000  \n",
       "mean        -0.256677  \n",
       "std          0.847979  \n",
       "min         -1.567307  \n",
       "25%         -1.072331  \n",
       "50%         -0.381549  \n",
       "75%          0.578718  \n",
       "max          1.261606  "
      ]
     },
     "execution_count": 10,
     "metadata": {},
     "output_type": "execute_result"
    }
   ],
   "source": [
    "TRAIN_SET[0].describe()"
   ]
  },
  {
   "cell_type": "code",
   "execution_count": 11,
   "metadata": {
    "autoscroll": false,
    "ein.hycell": false,
    "ein.tags": "worksheet-0",
    "slideshow": {
     "slide_type": "-"
    }
   },
   "outputs": [],
   "source": [
    "def normalize(data):\n",
    "    X = pd.concat(data)\n",
    "    min = X.min()\n",
    "    range = X.max() - min\n",
    "    return lambda df: (df - min) / range\n",
    "\n",
    "def standardize(data):\n",
    "    X = pd.concat(data)\n",
    "    mu = X.mean()\n",
    "    sd = np.sqrt(X.var())\n",
    "    return lambda df: (df - mu) / sd"
   ]
  },
  {
   "cell_type": "code",
   "execution_count": 12,
   "metadata": {
    "autoscroll": false,
    "ein.hycell": false,
    "ein.tags": "worksheet-0",
    "slideshow": {
     "slide_type": "-"
    }
   },
   "outputs": [],
   "source": [
    "train_normalizer = normalize(TRAIN_SET)\n",
    "N_TRAIN_SET = [train_normalizer(df) for df in TRAIN_SET]\n",
    "N_TEST_SET =  [train_normalizer(df) for df in TEST_SET]"
   ]
  },
  {
   "cell_type": "code",
   "execution_count": 13,
   "metadata": {
    "autoscroll": false,
    "ein.hycell": false,
    "ein.tags": "worksheet-0",
    "slideshow": {
     "slide_type": "-"
    }
   },
   "outputs": [
    {
     "data": {
      "text/html": [
       "<div>\n",
       "<style scoped>\n",
       "    .dataframe tbody tr th:only-of-type {\n",
       "        vertical-align: middle;\n",
       "    }\n",
       "\n",
       "    .dataframe tbody tr th {\n",
       "        vertical-align: top;\n",
       "    }\n",
       "\n",
       "    .dataframe thead th {\n",
       "        text-align: right;\n",
       "    }\n",
       "</style>\n",
       "<table border=\"1\" class=\"dataframe\">\n",
       "  <thead>\n",
       "    <tr style=\"text-align: right;\">\n",
       "      <th></th>\n",
       "      <th>ambient</th>\n",
       "      <th>coolant</th>\n",
       "      <th>u_d</th>\n",
       "      <th>u_q</th>\n",
       "      <th>motor_speed</th>\n",
       "      <th>i_d</th>\n",
       "      <th>i_q</th>\n",
       "      <th>pm</th>\n",
       "      <th>stator_yoke</th>\n",
       "      <th>stator_tooth</th>\n",
       "      <th>stator_winding</th>\n",
       "    </tr>\n",
       "  </thead>\n",
       "  <tbody>\n",
       "    <tr>\n",
       "      <th>count</th>\n",
       "      <td>15300.000000</td>\n",
       "      <td>15300.000000</td>\n",
       "      <td>15300.000000</td>\n",
       "      <td>15300.000000</td>\n",
       "      <td>15300.000000</td>\n",
       "      <td>15300.000000</td>\n",
       "      <td>15300.000000</td>\n",
       "      <td>15300.000000</td>\n",
       "      <td>15300.000000</td>\n",
       "      <td>15300.000000</td>\n",
       "      <td>15300.000000</td>\n",
       "    </tr>\n",
       "    <tr>\n",
       "      <th>mean</th>\n",
       "      <td>0.720833</td>\n",
       "      <td>0.426006</td>\n",
       "      <td>0.500550</td>\n",
       "      <td>0.407748</td>\n",
       "      <td>0.282194</td>\n",
       "      <td>0.845191</td>\n",
       "      <td>0.500859</td>\n",
       "      <td>0.422608</td>\n",
       "      <td>0.437556</td>\n",
       "      <td>0.437561</td>\n",
       "      <td>0.377276</td>\n",
       "    </tr>\n",
       "    <tr>\n",
       "      <th>std</th>\n",
       "      <td>0.017838</td>\n",
       "      <td>0.271173</td>\n",
       "      <td>0.201589</td>\n",
       "      <td>0.295784</td>\n",
       "      <td>0.293354</td>\n",
       "      <td>0.196448</td>\n",
       "      <td>0.132312</td>\n",
       "      <td>0.107729</td>\n",
       "      <td>0.248738</td>\n",
       "      <td>0.219186</td>\n",
       "      <td>0.181434</td>\n",
       "    </tr>\n",
       "    <tr>\n",
       "      <th>min</th>\n",
       "      <td>0.288888</td>\n",
       "      <td>0.085946</td>\n",
       "      <td>0.010378</td>\n",
       "      <td>0.129517</td>\n",
       "      <td>0.043906</td>\n",
       "      <td>0.222269</td>\n",
       "      <td>0.008725</td>\n",
       "      <td>0.177067</td>\n",
       "      <td>0.112042</td>\n",
       "      <td>0.115079</td>\n",
       "      <td>0.096853</td>\n",
       "    </tr>\n",
       "    <tr>\n",
       "      <th>25%</th>\n",
       "      <td>0.708612</td>\n",
       "      <td>0.182690</td>\n",
       "      <td>0.495923</td>\n",
       "      <td>0.160294</td>\n",
       "      <td>0.043908</td>\n",
       "      <td>0.677217</td>\n",
       "      <td>0.494473</td>\n",
       "      <td>0.322809</td>\n",
       "      <td>0.198494</td>\n",
       "      <td>0.227181</td>\n",
       "      <td>0.202758</td>\n",
       "    </tr>\n",
       "    <tr>\n",
       "      <th>50%</th>\n",
       "      <td>0.729702</td>\n",
       "      <td>0.302590</td>\n",
       "      <td>0.506795</td>\n",
       "      <td>0.192326</td>\n",
       "      <td>0.069126</td>\n",
       "      <td>0.990589</td>\n",
       "      <td>0.494887</td>\n",
       "      <td>0.403377</td>\n",
       "      <td>0.390745</td>\n",
       "      <td>0.408608</td>\n",
       "      <td>0.350558</td>\n",
       "    </tr>\n",
       "    <tr>\n",
       "      <th>75%</th>\n",
       "      <td>0.731761</td>\n",
       "      <td>0.717678</td>\n",
       "      <td>0.512629</td>\n",
       "      <td>0.689452</td>\n",
       "      <td>0.529261</td>\n",
       "      <td>0.992618</td>\n",
       "      <td>0.496049</td>\n",
       "      <td>0.517506</td>\n",
       "      <td>0.731133</td>\n",
       "      <td>0.692893</td>\n",
       "      <td>0.556018</td>\n",
       "    </tr>\n",
       "    <tr>\n",
       "      <th>max</th>\n",
       "      <td>0.749705</td>\n",
       "      <td>0.913108</td>\n",
       "      <td>0.988516</td>\n",
       "      <td>0.991777</td>\n",
       "      <td>0.992052</td>\n",
       "      <td>0.992637</td>\n",
       "      <td>0.996088</td>\n",
       "      <td>0.643090</td>\n",
       "      <td>0.841591</td>\n",
       "      <td>0.820618</td>\n",
       "      <td>0.702129</td>\n",
       "    </tr>\n",
       "  </tbody>\n",
       "</table>\n",
       "</div>"
      ],
      "text/plain": [
       "            ambient       coolant           u_d           u_q   motor_speed  \\\n",
       "count  15300.000000  15300.000000  15300.000000  15300.000000  15300.000000   \n",
       "mean       0.720833      0.426006      0.500550      0.407748      0.282194   \n",
       "std        0.017838      0.271173      0.201589      0.295784      0.293354   \n",
       "min        0.288888      0.085946      0.010378      0.129517      0.043906   \n",
       "25%        0.708612      0.182690      0.495923      0.160294      0.043908   \n",
       "50%        0.729702      0.302590      0.506795      0.192326      0.069126   \n",
       "75%        0.731761      0.717678      0.512629      0.689452      0.529261   \n",
       "max        0.749705      0.913108      0.988516      0.991777      0.992052   \n",
       "\n",
       "                i_d           i_q            pm   stator_yoke  stator_tooth  \\\n",
       "count  15300.000000  15300.000000  15300.000000  15300.000000  15300.000000   \n",
       "mean       0.845191      0.500859      0.422608      0.437556      0.437561   \n",
       "std        0.196448      0.132312      0.107729      0.248738      0.219186   \n",
       "min        0.222269      0.008725      0.177067      0.112042      0.115079   \n",
       "25%        0.677217      0.494473      0.322809      0.198494      0.227181   \n",
       "50%        0.990589      0.494887      0.403377      0.390745      0.408608   \n",
       "75%        0.992618      0.496049      0.517506      0.731133      0.692893   \n",
       "max        0.992637      0.996088      0.643090      0.841591      0.820618   \n",
       "\n",
       "       stator_winding  \n",
       "count    15300.000000  \n",
       "mean         0.377276  \n",
       "std          0.181434  \n",
       "min          0.096853  \n",
       "25%          0.202758  \n",
       "50%          0.350558  \n",
       "75%          0.556018  \n",
       "max          0.702129  "
      ]
     },
     "execution_count": 13,
     "metadata": {},
     "output_type": "execute_result"
    }
   ],
   "source": [
    "N_TRAIN_SET[0].describe()"
   ]
  },
  {
   "cell_type": "markdown",
   "metadata": {
    "ein.tags": "worksheet-0",
    "slideshow": {
     "slide_type": "-"
    }
   },
   "source": [
    "# Neural Networks"
   ]
  },
  {
   "cell_type": "code",
   "execution_count": 14,
   "metadata": {
    "autoscroll": false,
    "ein.hycell": false,
    "ein.tags": "worksheet-0",
    "slideshow": {
     "slide_type": "-"
    }
   },
   "outputs": [],
   "source": [
    "BATCH_SIZE = 512\n",
    "LEN = 10\n",
    "EPOCHS = 50"
   ]
  },
  {
   "cell_type": "code",
   "execution_count": 15,
   "metadata": {
    "autoscroll": false,
    "ein.hycell": false,
    "ein.tags": "worksheet-0",
    "slideshow": {
     "slide_type": "-"
    }
   },
   "outputs": [],
   "source": [
    "def plot_history(history):\n",
    "    train_col = \"red\"\n",
    "    test_col = \"orange\"\n",
    "    for feature in [\"loss\"] + [\"R2_\" + t for t in TARGET]:\n",
    "        plt.plot(history[\"_\".join([feature, \"train\"])],\n",
    "                 label=\"Train\",\n",
    "                 color=train_col)\n",
    "        plt.plot(history[\"_\".join([feature, \"test\"])],\n",
    "                 label=\"Test\",\n",
    "                 color=test_col)\n",
    "        plt.xlabel(\"Epoch\")\n",
    "        plt.ylabel(\"Value\")\n",
    "        plt.title(feature)\n",
    "        plt.legend()\n",
    "        plt.show()"
   ]
  },
  {
   "cell_type": "code",
   "execution_count": 16,
   "metadata": {
    "autoscroll": false,
    "ein.hycell": false,
    "ein.tags": "worksheet-0",
    "slideshow": {
     "slide_type": "-"
    }
   },
   "outputs": [],
   "source": [
    "def predict(mod, serie, t0=LEN):\n",
    "    Y_total = []\n",
    "    Yhat_total = []\n",
    "    mod.eval()\n",
    "    for i in range(t0, len(serie)):\n",
    "        # X = serie[(i - t0):(i + 1), :len(FEATURES)]  # new task\n",
    "        X = serie[(i - t0):i, :]  # old task\n",
    "        y = serie[i, len(FEATURES):]\n",
    "        y_hat = mod(X.reshape((1,) + X.shape))\n",
    "        Y_total.append(y)\n",
    "        Yhat_total.append(y_hat)\n",
    "    return torch.stack(Y_total).cpu().detach().numpy(), \\\n",
    "        torch.stack(Yhat_total).cpu().detach().numpy()\n",
    "\n",
    "\n",
    "def print_predictions(mod, serie, t0=LEN):\n",
    "    y, y_hat = predict(mod, serie, t0)\n",
    "    for i, t in enumerate(TARGET):\n",
    "        plt.plot(y[:, i], color=\"black\",\n",
    "                 label=\"Real\")\n",
    "        plt.plot(y_hat[:, 0, i], color=\"red\",\n",
    "                 label=\"Prevision\")\n",
    "        plt.xlabel(\"time\")\n",
    "        plt.ylabel(t)\n",
    "        plt.legend()\n",
    "        plt.show()"
   ]
  },
  {
   "cell_type": "code",
   "execution_count": 17,
   "metadata": {
    "autoscroll": false,
    "ein.hycell": false,
    "ein.tags": "worksheet-0",
    "slideshow": {
     "slide_type": "-"
    }
   },
   "outputs": [],
   "source": [
    "def dataloader(data, length=LEN, batch_size=BATCH_SIZE, shuffle=True):\n",
    "    tuples = [[(df_i, i) for i in range(len(df)) if i > length]\n",
    "              for df_i, df in enumerate(data)]\n",
    "    tuples = sum(tuples, [])  # flattenize\n",
    "\n",
    "    # shuffle\n",
    "    if shuffle:\n",
    "        np.random.shuffle(tuples)\n",
    "\n",
    "    lim, Lim = 0, batch_size\n",
    "    while lim < len(tuples):\n",
    "        sample = tuples[lim:min(Lim, len(tuples))]\n",
    "        # X = torch.stack([data[df_i][(i-length):(i+1), :len(FEATURES)]  # new task\n",
    "        X = torch.stack([data[df_i][(i-length):i, :]  # old task\n",
    "                         for df_i, i in sample])\n",
    "        Y = torch.stack([data[df_i][i, len(FEATURES):] \\\n",
    "                         for df_i, i in sample])\n",
    "        yield X, Y\n",
    "        lim, Lim = Lim, Lim + batch_size"
   ]
  },
  {
   "cell_type": "code",
   "execution_count": 18,
   "metadata": {
    "autoscroll": false,
    "ein.hycell": false,
    "ein.tags": "worksheet-0",
    "slideshow": {
     "slide_type": "-"
    }
   },
   "outputs": [],
   "source": [
    "TRAIN_SET_TENSOR = [torch.from_numpy(df.values).float().to(DEVICE) for df in N_TRAIN_SET]\n",
    "TEST_SET_TENSOR =  [torch.from_numpy(df.values).float().to(DEVICE) for df in N_TEST_SET]"
   ]
  },
  {
   "cell_type": "code",
   "execution_count": 19,
   "metadata": {
    "autoscroll": false,
    "ein.hycell": false,
    "ein.tags": "worksheet-0",
    "slideshow": {
     "slide_type": "-"
    }
   },
   "outputs": [],
   "source": [
    "def R2(x, y):\n",
    "    return np.corrcoef(x, y)[0, 1]**2\n",
    "\n",
    "\n",
    "def evaluate(mod, loss_fn, data, length, batch_size):\n",
    "    \"Return loss and R² of the model given some data\"\n",
    "\n",
    "    # it set the model to evaluation mode (stop dropout and so on)\n",
    "    mod.eval()\n",
    "\n",
    "    # resutls for the whole evaluation procedure (return values)\n",
    "    loss_total = []\n",
    "    Y_total = []\n",
    "    Yhat_total = []\n",
    "    batch_size_total = []\n",
    "\n",
    "    for X, Y in dataloader(data,\n",
    "                           length=length,\n",
    "                           batch_size=batch_size,\n",
    "                           shuffle=False):\n",
    "        Y_hat = mod(X)\n",
    "        loss = loss_fn(Y_hat, Y)\n",
    "        loss_total.append(loss.cpu().item())\n",
    "        Y_total.append(Y.cpu().detach().numpy())\n",
    "        Yhat_total.append(Y_hat.cpu().detach().numpy())\n",
    "        batch_size_total.append(len(Y))\n",
    "\n",
    "    Y_total = np.vstack(Y_total)\n",
    "    Yhat_total = np.vstack(Yhat_total)\n",
    "    _, p = Y_total.shape\n",
    "\n",
    "    R2_total = [R2(Y_total[:, i], Yhat_total[:, i]) for i in range(p)]\n",
    "    return np.average(loss_total, weights=batch_size_total), R2_total\n",
    "\n",
    "\n",
    "def stop_early(patience_max, times_max=1):\n",
    "    \"Return a earl stopping checker\"\n",
    "    # (from: Goodfellow & Bengio)\n",
    "    patience = 0\n",
    "    times = 0\n",
    "    min_loss = np.Inf\n",
    "\n",
    "    def check(loss):\n",
    "        \"Return if the train process must stop early\"\n",
    "        nonlocal patience, times, min_loss\n",
    "        if loss >= min_loss:\n",
    "            patience += 1\n",
    "            if patience >= patience_max:\n",
    "                patience = 0\n",
    "                times += 1\n",
    "                if times >= times_max:\n",
    "                    return True\n",
    "        else:\n",
    "            min_loss = loss\n",
    "            patience = 0\n",
    "        return False\n",
    "    return check"
   ]
  },
  {
   "cell_type": "code",
   "execution_count": 20,
   "metadata": {
    "autoscroll": false,
    "ein.hycell": false,
    "ein.tags": "worksheet-0",
    "slideshow": {
     "slide_type": "-"
    }
   },
   "outputs": [],
   "source": [
    "def train(mod, loss_fn, optimizer,\n",
    "          train_set, test_set,\n",
    "          epochs=EPOCHS, batch_size=BATCH_SIZE, previous_size=LEN,\n",
    "          early_stopping=None,\n",
    "          verbose=True):\n",
    "    \"Train the model\"\n",
    "\n",
    "    R2_strings = [\"_\".join([\"R2\", t, s])\n",
    "                  for t in TARGET\n",
    "                  for s in [\"train\", \"test\"]]\n",
    "    # history of the train process\n",
    "    history = {label: [] for label in R2_strings}\n",
    "    history[\"time\"] = []\n",
    "    history[\"loss_train\"] = []\n",
    "    history[\"loss_test\"] = []\n",
    "\n",
    "    # repeat for tot epochs\n",
    "    for epoch in range(epochs):\n",
    "\n",
    "        # it set the model in train mode (start dropout)\n",
    "        mod.train()\n",
    "\n",
    "        # just to know how much does it take\n",
    "        start = datetime.now()\n",
    "\n",
    "        for X, Y in dataloader(train_set,\n",
    "                               length=previous_size,\n",
    "                               batch_size=batch_size):\n",
    "            optimizer.zero_grad()             # reset gradient\n",
    "            Y_hat = mod(X)                    # make predictions!\n",
    "            loss = loss_fn(Y_hat, Y)          # compute loss\n",
    "            loss.backward()                   # calc direction of GD\n",
    "            optimizer.step()                  # do a little step to the optimum\n",
    "\n",
    "        time = datetime.now() - start  # ok, it lasts tot (always too much) seconds\n",
    "\n",
    "        # just compute and store results\n",
    "        history[\"time\"].append(time)\n",
    "\n",
    "    \n",
    "        loss, r2 = evaluate(mod, loss_fn, train_set, previous_size, batch_size)\n",
    "        history[\"loss_train\"].append(loss)\n",
    "        for c, rho in zip(TARGET, r2):\n",
    "            history[\"R2_\" + c + \"_train\"].append(rho)\n",
    "\n",
    "        loss, r2 = evaluate(mod, loss_fn, test_set, previous_size, batch_size)\n",
    "        history[\"loss_test\"].append(loss)\n",
    "        for c, rho in zip(TARGET, r2):\n",
    "            history[\"R2_\" + c + \"_test\"].append(rho)\n",
    "        \n",
    "        # print how good is our model\n",
    "        if verbose:\n",
    "            print(epoch + 1, end=\"\\t\")\n",
    "            print(str(time), end=\"\\t\")\n",
    "            for val in [\"loss\"] + [\"R2_\" + t for t in TARGET]:\n",
    "                print(val, end=\": \")\n",
    "                print(\"(%.3f, %.3f)\" % (history[val + \"_train\"][-1],\n",
    "                                        history[val + \"_test\"][-1]),\n",
    "                      end=\"\\t\")\n",
    "            print(\"\", end=\"\\r\")\n",
    "        \n",
    "        # stop the process if it start to degenerate\n",
    "        if early_stopping is not None and early_stopping(history[\"loss_test\"][-1]):\n",
    "            break\n",
    "\n",
    "    return history"
   ]
  },
  {
   "cell_type": "code",
   "execution_count": 21,
   "metadata": {
    "autoscroll": false,
    "ein.hycell": false,
    "ein.tags": "worksheet-0",
    "slideshow": {
     "slide_type": "-"
    }
   },
   "outputs": [],
   "source": [
    "def fast_train(mod, loss_fn, optimizer,\n",
    "               train_set, test_set,\n",
    "               epochs=1,\n",
    "               previous_size=LEN, batch_size=BATCH_SIZE,\n",
    "               verbose=False):\n",
    "    start = datetime.now()\n",
    "    \n",
    "    mod.train()\n",
    "    \n",
    "    for epoch in range(epochs):\n",
    "        for X, y in dataloader(train_set,\n",
    "                               previous_size,\n",
    "                               batch_size):\n",
    "            y_hat = mod(X)\n",
    "            loss = loss_fn(y_hat, y)\n",
    "            loss.backward()\n",
    "            optimizer.step()\n",
    "\n",
    "    mod.eval()\n",
    "    loss = np.sum([loss_fn(mod(X), y).cpu().item()\n",
    "                   for X, y in dataloader(test_set,\n",
    "                                          previous_size,\n",
    "                                          batch_size,\n",
    "                                          shuffle=False)])\n",
    "\n",
    "    if verbose:\n",
    "        print(str(datetime.now() - start), \"%.3f\" % loss, end=\"\\r\")\n",
    "\n",
    "    return loss"
   ]
  },
  {
   "cell_type": "markdown",
   "metadata": {
    "ein.tags": "worksheet-0",
    "slideshow": {
     "slide_type": "-"
    }
   },
   "source": [
    "# Recurrent NN"
   ]
  },
  {
   "cell_type": "code",
   "execution_count": 22,
   "metadata": {
    "autoscroll": false,
    "ein.hycell": false,
    "ein.tags": "worksheet-0",
    "slideshow": {
     "slide_type": "-"
    }
   },
   "outputs": [],
   "source": [
    "class Custom_RNN(torch.nn.Module):\n",
    "\n",
    "    def __init__(self, hiddens, recur,\n",
    "                 regressors,\n",
    "                 p_dropout=0.3):\n",
    "        self.recur_input, self.recur_output = recur\n",
    "        # recur_input in [0, len(hiddens))\n",
    "        # recur_output in [-1, len(hiddens)]\n",
    "        assert 0 <= self.recur_input <= len(hiddens)\n",
    "        assert -1 <= self.recur_output < len(hiddens)\n",
    "        assert len(regressors) == 2\n",
    "\n",
    "        super(Custom_RNN, self).__init__()\n",
    "        # input_shape = len(FEATURES)  # new task\n",
    "        input_shape = len(FEATURES) + len(TARGET)  # old task\n",
    "        self.previous_size = hiddens[self.recur_output] \\\n",
    "            if self.recur_output >= 0 else len(TARGET)\n",
    "        \n",
    "        hiddens_in = [input_shape] + hiddens\n",
    "\n",
    "        hiddens_in[self.recur_input] += self.previous_size\n",
    "\n",
    "        self.dropout = torch.nn.Dropout(p=p_dropout)\n",
    "        self.layers = torch.nn.ModuleList(\n",
    "            [torch.nn.Linear(in_shape, out_shape) \\\n",
    "             for in_shape, out_shape in zip(hiddens_in, hiddens)])\n",
    "        self.layers_fn = [torch.nn.functional.relu \\\n",
    "                          for _ in self.layers]\n",
    "\n",
    "        regressor_list = []\n",
    "        for features, regressor in zip([1, 3], regressors):\n",
    "            if type(regressor) != list:\n",
    "                regressor = [regressor]\n",
    "            input_shape = [hiddens[-1]] + regressor\n",
    "            y_net = [torch.nn.ReLU() for _ in input_shape + regressor]\n",
    "            y_net[::2] = [torch.nn.Linear(in_shape, out_shape)\n",
    "                          for in_shape, out_shape\n",
    "                          in zip(input_shape, regressor + [features])]\n",
    "            regressor_list.append(torch.nn.Sequential(*y_net))\n",
    "        self.regressors = torch.nn.ModuleList(regressor_list)\n",
    "\n",
    "    def initialize_prev(self, x):\n",
    "        return torch.zeros(len(x), self.previous_size).to(DEVICE)\n",
    "\n",
    "    def forward(self, data, lag=None):\n",
    "        _, l, _ = data.shape\n",
    "        x = data[:, 0, :]  # .reshape(-1, len(FEATURES))\n",
    "        if lag is None:  # first recursion\n",
    "            lag = self.initialize_prev(x)\n",
    "        for i, (layer, fn) in enumerate(zip(self.layers, self.layers_fn)):\n",
    "            if i == self.recur_input:\n",
    "                x = torch.cat([x, lag], axis=1)\n",
    "            # print(layer, x.shape)\n",
    "            x = fn(layer(x))\n",
    "            x = self.dropout(x)\n",
    "            if i == self.recur_output and l > 1:\n",
    "                return self.forward(data[:, 1:, :], x)\n",
    "        x = torch.cat([regressor(x) for regressor in self.regressors],\n",
    "                      axis=1)\n",
    "        if self.recur_output == -1 and l > 1:\n",
    "            return self.forward(data[:, 1:, :], x)\n",
    "        return x"
   ]
  },
  {
   "cell_type": "markdown",
   "metadata": {
    "ein.tags": "worksheet-0",
    "slideshow": {
     "slide_type": "-"
    }
   },
   "source": [
    "# Ottimizzazione"
   ]
  },
  {
   "cell_type": "code",
   "execution_count": 23,
   "metadata": {
    "autoscroll": false,
    "ein.hycell": false,
    "ein.tags": "worksheet-0",
    "slideshow": {
     "slide_type": "-"
    }
   },
   "outputs": [],
   "source": [
    "import sherpa\n",
    "import os"
   ]
  },
  {
   "cell_type": "code",
   "execution_count": 24,
   "metadata": {
    "autoscroll": false,
    "ein.hycell": false,
    "ein.tags": "worksheet-0",
    "slideshow": {
     "slide_type": "-"
    }
   },
   "outputs": [],
   "source": [
    "def optimize(train_set, test_set, loss_fn, file_end, epochs=100):\n",
    "    hiddens = [\n",
    "        sherpa.Discrete(\"hidden1\", [5, 35]),\n",
    "        sherpa.Discrete(\"hidden2\", [5, 35]),\n",
    "        sherpa.Discrete(\"hidden3\", [5, 35])]\n",
    "    recur = [\n",
    "        sherpa.Discrete(\"input_rec\", [0, len(hiddens)]),\n",
    "        sherpa.Discrete(\"output_rec\", [-1, len(hiddens) - 1])]\n",
    "    regressors = [\n",
    "        sherpa.Discrete(\"hidden_pm\", [3, 15]),\n",
    "        sherpa.Discrete(\"hidden_stator\", [3, 15])]\n",
    "    others = [\n",
    "        sherpa.Discrete(\"window\", [1, 10]),\n",
    "        sherpa.Continuous(\"lr\", [1e-2, 1e-7])]\n",
    "    parameters = hiddens + recur + regressors + others\n",
    "    \n",
    "    best_score = np.Inf\n",
    "\n",
    "    alg = sherpa.algorithms.bayesian_optimization.GPyOpt(\n",
    "        max_concurrent=1,\n",
    "        model_type=\"GP\",\n",
    "        acquisition_type=\"EI\",\n",
    "        max_num_trials=epochs)\n",
    "\n",
    "    study = sherpa.Study(parameters=parameters,\n",
    "                         algorithm=alg,\n",
    "                         lower_is_better=True,\n",
    "                         disable_dashboard=True)\n",
    "\n",
    "    for i, trial in enumerate(study):\n",
    "        mod = Custom_RNN([int(trial.parameters[\"hidden1\"]),\n",
    "                          int(trial.parameters[\"hidden2\"]),\n",
    "                          int(trial.parameters[\"hidden3\"])],\n",
    "                         (int(trial.parameters[\"input_rec\"]),\n",
    "                          int(trial.parameters[\"output_rec\"])),\n",
    "                         [int(trial.parameters[\"hidden_pm\"]),\n",
    "                          int(trial.parameters[\"hidden_stator\"])]).to(DEVICE)\n",
    "\n",
    "        optimizer = torch.optim.Adam(params=mod.parameters(),\n",
    "                                     lr=trial.parameters[\"lr\"])\n",
    "\n",
    "        loss = fast_train(mod, loss_fn, optimizer,\n",
    "                          train_set, test_set,\n",
    "                          epochs=2,\n",
    "                          previous_size=int(trial.parameters[\"window\"]))\n",
    "\n",
    "        print(i + 1, loss, end=\"\\r\", sep=\"\\t\")\n",
    "        if loss < best_score:\n",
    "            best_score = loss\n",
    "            torch.save(mod, \"./models/best_model_rnn_\" + file_end)\n",
    "            print(\"\")\n",
    "    \n",
    "        study.add_observation(trial, iteration=1, objective=loss)\n",
    "        study.finalize(trial)\n",
    "        study.results.to_csv(\"./results/AutoML_RNN_{}.csv\".format(file_end))"
   ]
  },
  {
   "cell_type": "code",
   "execution_count": 25,
   "metadata": {
    "autoscroll": false,
    "ein.hycell": false,
    "ein.tags": "worksheet-0",
    "slideshow": {
     "slide_type": "-"
    }
   },
   "outputs": [],
   "source": [
    "def print_optimization_results(train_set, test_set, filename,\n",
    "                               epochs=100, loss_fn=torch.nn.MSELoss(),\n",
    "                               force_retrain=False):\n",
    "    log_file = \"./results/AutoML_RNN_{}.csv\".format(filename)\n",
    "    model_file = \"./models/best_model_rnn_\" + filename\n",
    "    print_log = True\n",
    "    if force_retrain or \\\n",
    "       not (os.path.isfile(log_file) and os.path.isfile(model_file)):\n",
    "        optimize(train_set, test_set,\n",
    "                 loss_fn=loss_fn,\n",
    "                 file_end=filename, epochs=epochs)\n",
    "        print_log = False\n",
    "                \n",
    "    \n",
    "    results = pd.read_csv(log_file)\n",
    "    results = results[results[\"Status\"] == \"COMPLETED\"]\n",
    "    best_params = results.loc[results[\"Objective\"].idxmin()]\n",
    "    if print_log:\n",
    "        min_obj = np.Inf\n",
    "        for i, line in results.iterrows():\n",
    "            if line[\"Objective\"] < min_obj:\n",
    "                print(i, line[\"Objective\"])\n",
    "                min_obj = line[\"Objective\"]\n",
    "    print(\"\")\n",
    "    print(\"Best params:\", best_params, sep=\"\\n\")\n",
    "\n",
    "    best_model = torch.load(model_file).to(DEVICE)\n",
    "    best_optimizer = torch.optim.Adam(params=best_model.parameters(),\n",
    "                                      lr=best_params[\"lr\"])\n",
    "\n",
    "    plt.figure(figsize=(10, 5))\n",
    "    \n",
    "    plt.plot(np.minimum.accumulate(np.array(results[\"Objective\"])),\n",
    "             \"o-\")\n",
    "    plt.xlabel(\"Iterations\")\n",
    "    plt.ylabel(\"Best Seen \" + filename)\n",
    "    plt.show()\n",
    "\n",
    "    history = train(best_model, loss_fn, best_optimizer,\n",
    "                    train_set, test_set,\n",
    "                    previous_size=int(best_params[\"window\"]),\n",
    "                    early_stopping=stop_early(3, 2))\n",
    "\n",
    "    plot_history(history)\n",
    "    print_predictions(best_model, np.random.choice(test_set), int(best_params[\"window\"]))\n",
    "\n",
    "    return best_params, best_model"
   ]
  },
  {
   "cell_type": "markdown",
   "metadata": {
    "ein.tags": "worksheet-0",
    "slideshow": {
     "slide_type": "-"
    }
   },
   "source": [
    "## With MSE "
   ]
  },
  {
   "cell_type": "code",
   "execution_count": 26,
   "metadata": {
    "autoscroll": false,
    "ein.hycell": false,
    "ein.tags": "worksheet-0",
    "scrolled": false,
    "slideshow": {
     "slide_type": "-"
    }
   },
   "outputs": [
    {
     "name": "stdout",
     "output_type": "stream",
     "text": [
      "1\t42.14940463937819\n",
      "6\t34.92501278966665\n",
      "8\t17.817765332525596\n",
      "10\t1086.5563297271729\n",
      "Best params:\n",
      "Unnamed: 0                14\n",
      "Trial-ID                   8\n",
      "Status             COMPLETED\n",
      "Iteration                  1\n",
      "hidden1                   17\n",
      "hidden2                   16\n",
      "hidden3                   10\n",
      "hidden_pm                 10\n",
      "hidden_stator             11\n",
      "input_rec                  1\n",
      "lr               0.000768181\n",
      "output_rec                 0\n",
      "window                     8\n",
      "Objective            17.8178\n",
      "Name: 14, dtype: object\n"
     ]
    },
    {
     "data": {
      "image/png": "[encoded data removed]",
      "text/plain": [
       "<Figure size 720x360 with 1 Axes>"
      ]
     },
     "metadata": {
      "needs_background": "light"
     },
     "output_type": "display_data"
    },
    {
     "name": "stdout",
     "output_type": "stream",
     "text": [
      "12\t0:00:09.489970\tloss: (0.046, 0.046)\tR2_pm: (nan, nan)\tR2_stator_yoke: (nan, nan)\tR2_stator_tooth: (nan, nan)\tR2_stator_winding: (nan, nan)\t\r"
     ]
    },
    {
     "data": {
      "image/png": "[encoded data removed]",
      "text/plain": [
       "<Figure size 432x288 with 1 Axes>"
      ]
     },
     "metadata": {
      "needs_background": "light"
     },
     "output_type": "display_data"
    },
    {
     "data": {
      "image/png": "[encoded data removed]",
      "text/plain": [
       "<Figure size 432x288 with 1 Axes>"
      ]
     },
     "metadata": {
      "needs_background": "light"
     },
     "output_type": "display_data"
    },
    {
     "data": {
      "image/png": "[encoded data removed]",
      "text/plain": [
       "<Figure size 432x288 with 1 Axes>"
      ]
     },
     "metadata": {
      "needs_background": "light"
     },
     "output_type": "display_data"
    },
    {
     "data": {
      "image/png": "[encoded data removed]",
      "text/plain": [
       "<Figure size 432x288 with 1 Axes>"
      ]
     },
     "metadata": {
      "needs_background": "light"
     },
     "output_type": "display_data"
    },
    {
     "data": {
      "image/png": "[encoded data removed]",
      "text/plain": [
       "<Figure size 432x288 with 1 Axes>"
      ]
     },
     "metadata": {
      "needs_background": "light"
     },
     "output_type": "display_data"
    },
    {
     "data": {
      "image/png": "[encoded data removed]",
      "text/plain": [
       "<Figure size 432x288 with 1 Axes>"
      ]
     },
     "metadata": {
      "needs_background": "light"
     },
     "output_type": "display_data"
    },
    {
     "data": {
      "image/png": "[encoded data removed]",
      "text/plain": [
       "<Figure size 432x288 with 1 Axes>"
      ]
     },
     "metadata": {
      "needs_background": "light"
     },
     "output_type": "display_data"
    },
    {
     "data": {
      "image/png": "[encoded data removed]",
      "text/plain": [
       "<Figure size 432x288 with 1 Axes>"
      ]
     },
     "metadata": {
      "needs_background": "light"
     },
     "output_type": "display_data"
    },
    {
     "data": {
      "image/png": "[encoded data removed]",
      "text/plain": [
       "<Figure size 432x288 with 1 Axes>"
      ]
     },
     "metadata": {
      "needs_background": "light"
     },
     "output_type": "display_data"
    },
    {
     "data": {
      "text/plain": [
       "(Unnamed: 0                14\n",
       " Trial-ID                   8\n",
       " Status             COMPLETED\n",
       " Iteration                  1\n",
       " hidden1                   17\n",
       " hidden2                   16\n",
       " hidden3                   10\n",
       " hidden_pm                 10\n",
       " hidden_stator             11\n",
       " input_rec                  1\n",
       " lr               0.000768181\n",
       " output_rec                 0\n",
       " window                     8\n",
       " Objective            17.8178\n",
       " Name: 14, dtype: object, Custom_RNN(\n",
       "   (dropout): Dropout(p=0.3, inplace=False)\n",
       "   (layers): ModuleList(\n",
       "     (0): Linear(in_features=11, out_features=17, bias=True)\n",
       "     (1): Linear(in_features=34, out_features=16, bias=True)\n",
       "     (2): Linear(in_features=16, out_features=10, bias=True)\n",
       "   )\n",
       "   (regressors): ModuleList(\n",
       "     (0): Sequential(\n",
       "       (0): Linear(in_features=10, out_features=10, bias=True)\n",
       "       (1): ReLU()\n",
       "       (2): Linear(in_features=10, out_features=1, bias=True)\n",
       "     )\n",
       "     (1): Sequential(\n",
       "       (0): Linear(in_features=10, out_features=11, bias=True)\n",
       "       (1): ReLU()\n",
       "       (2): Linear(in_features=11, out_features=3, bias=True)\n",
       "     )\n",
       "   )\n",
       " ))"
      ]
     },
     "execution_count": 26,
     "metadata": {},
     "output_type": "execute_result"
    }
   ],
   "source": [
    "print_optimization_results(TRAIN_SET_TENSOR, TEST_SET_TENSOR,\n",
    "                           \"MSE\", loss_fn=torch.nn.MSELoss(),\n",
    "                           epochs=10, force_retrain=True)"
   ]
  },
  {
   "cell_type": "markdown",
   "metadata": {
    "ein.tags": "worksheet-0",
    "slideshow": {
     "slide_type": "-"
    }
   },
   "source": [
    "## With custom Loss"
   ]
  },
  {
   "cell_type": "code",
   "execution_count": 27,
   "metadata": {
    "autoscroll": false,
    "ein.hycell": false,
    "ein.tags": "worksheet-0",
    "slideshow": {
     "slide_type": "-"
    }
   },
   "outputs": [],
   "source": [
    "def high_low_loss(w=0.2):\n",
    "    def calc_loss(output, target):\n",
    "        return torch.mean(w * torch.nn.functional.relu(output - target) + \\\n",
    "                          (1 - w)*torch.nn.functional.relu(target - output))\n",
    "    return calc_loss\n",
    "\n",
    "# print_optimization_results(TRAIN_SET_TENSOR, TEST_SET_TENSOR,\n",
    "#                            \"CustomLoss1\", loss_fn=high_low_loss(),\n",
    "#                            epochs=100)"
   ]
  },
  {
   "cell_type": "code",
   "execution_count": 28,
   "metadata": {
    "autoscroll": false,
    "ein.hycell": false,
    "ein.tags": "worksheet-0",
    "slideshow": {
     "slide_type": "-"
    }
   },
   "outputs": [],
   "source": [
    "def high_low_loss_squared(w=0.2):\n",
    "    def calc_loss(output, target):\n",
    "        return torch.mean(w * torch.nn.functional.relu(output - target)**2 + \\\n",
    "                          (1 - w)*torch.nn.functional.relu(target - output)**2)\n",
    "    return calc_loss\n",
    "\n",
    "# print_optimization_results(TRAIN_SET_TENSOR, TEST_SET_TENSOR,\n",
    "#                            \"CustomLoss2\", loss_fn=high_low_loss_squared(),\n",
    "#                            epochs=100)"
   ]
  }
 ],
 "metadata": {
  "kernelspec": {
   "display_name": "Python 3",
   "language": "python",
   "name": "python3"
  },
  "language_info": {
   "codemirror_mode": {
    "name": "ipython",
    "version": 3
   },
   "file_extension": ".py",
   "mimetype": "text/x-python",
   "name": "python",
   "nbconvert_exporter": "python",
   "pygments_lexer": "ipython3",
   "version": "3.7.4"
  },
  "name": "Rete.ipynb"
 },
 "nbformat": 4,
 "nbformat_minor": 2
}
