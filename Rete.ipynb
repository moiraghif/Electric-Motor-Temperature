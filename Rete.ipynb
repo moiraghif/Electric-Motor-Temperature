{
 "cells": [
  {
   "cell_type": "code",
   "execution_count": 1,
   "metadata": {
    "autoscroll": false,
    "ein.hycell": false,
    "ein.tags": "worksheet-0",
    "slideshow": {
     "slide_type": "-"
    }
   },
   "outputs": [],
   "source": [
    "import warnings\n",
    "warnings.filterwarnings(\"ignore\")"
   ]
  },
  {
   "cell_type": "code",
   "execution_count": 2,
   "metadata": {
    "autoscroll": false,
    "collapsed": false,
    "ein.hycell": false,
    "ein.tags": "worksheet-0",
    "slideshow": {
     "slide_type": "-"
    }
   },
   "outputs": [],
   "source": [
    "import torch\n",
    "import numpy as np\n",
    "import pandas as pd\n",
    "import matplotlib.pyplot as plt\n",
    "from datetime import datetime"
   ]
  },
  {
   "cell_type": "code",
   "execution_count": 3,
   "metadata": {
    "autoscroll": false,
    "ein.hycell": false,
    "ein.tags": "worksheet-0",
    "slideshow": {
     "slide_type": "-"
    }
   },
   "outputs": [
    {
     "name": "stdout",
     "output_type": "stream",
     "text": [
      "working on: cuda\n"
     ]
    }
   ],
   "source": [
    "DEVICE = torch.device(\"cuda\" if torch.cuda.is_available() \\\n",
    "                      else \"cpu\")\n",
    "print(\"working on: \" + str(DEVICE))"
   ]
  },
  {
   "cell_type": "code",
   "execution_count": 4,
   "metadata": {
    "autoscroll": false,
    "ein.hycell": false,
    "ein.tags": "worksheet-0",
    "slideshow": {
     "slide_type": "-"
    }
   },
   "outputs": [],
   "source": [
    "RANDOM_SEED = 20200101\n",
    "np.random.seed(RANDOM_SEED)\n",
    "torch.manual_seed(RANDOM_SEED)\n",
    "\n",
    "# reproducibility with convolutions (btw, we do not use them)\n",
    "torch.backends.cudnn.deterministic = True\n",
    "torch.backends.cudnn.benchmark = False"
   ]
  },
  {
   "cell_type": "code",
   "execution_count": 5,
   "metadata": {
    "autoscroll": false,
    "ein.hycell": false,
    "ein.tags": "worksheet-0",
    "slideshow": {
     "slide_type": "-"
    }
   },
   "outputs": [
    {
     "name": "stdout",
     "output_type": "stream",
     "text": [
      "(998070, 13)\n",
      "52\n"
     ]
    }
   ],
   "source": [
    "DB = pd.read_csv(\"./pmsm_temperature_data.csv\")\n",
    "DBs = [db[1] for db in DB.groupby(\"profile_id\")]\n",
    "np.random.shuffle(DBs)\n",
    "print(DB.shape)\n",
    "print(len(DBs))"
   ]
  },
  {
   "cell_type": "code",
   "execution_count": 6,
   "metadata": {
    "autoscroll": false,
    "ein.hycell": false,
    "ein.tags": "worksheet-0",
    "slideshow": {
     "slide_type": "-"
    }
   },
   "outputs": [
    {
     "data": {
      "text/html": [
       "<div>\n<style scoped>\n    .dataframe tbody tr th:only-of-type {\n        vertical-align: middle;\n    }\n\n    .dataframe tbody tr th {\n        vertical-align: top;\n    }\n\n    .dataframe thead th {\n        text-align: right;\n    }\n</style>\n<table border=\"1\" class=\"dataframe\">\n  <thead>\n    <tr style=\"text-align: right;\">\n      <th></th>\n      <th>ambient</th>\n      <th>coolant</th>\n      <th>u_d</th>\n      <th>u_q</th>\n      <th>motor_speed</th>\n      <th>torque</th>\n      <th>i_d</th>\n      <th>i_q</th>\n      <th>pm</th>\n      <th>stator_yoke</th>\n      <th>stator_tooth</th>\n      <th>stator_winding</th>\n      <th>profile_id</th>\n    </tr>\n  </thead>\n  <tbody>\n    <tr>\n      <th>0</th>\n      <td>-0.752143</td>\n      <td>-1.118446</td>\n      <td>0.327935</td>\n      <td>-1.297858</td>\n      <td>-1.222428</td>\n      <td>-0.250182</td>\n      <td>1.029572</td>\n      <td>-0.245860</td>\n      <td>-2.522071</td>\n      <td>-1.831422</td>\n      <td>-2.066143</td>\n      <td>-2.018033</td>\n      <td>4</td>\n    </tr>\n    <tr>\n      <th>1</th>\n      <td>-0.771263</td>\n      <td>-1.117021</td>\n      <td>0.329665</td>\n      <td>-1.297686</td>\n      <td>-1.222429</td>\n      <td>-0.249133</td>\n      <td>1.029509</td>\n      <td>-0.245832</td>\n      <td>-2.522418</td>\n      <td>-1.830969</td>\n      <td>-2.064859</td>\n      <td>-2.017631</td>\n      <td>4</td>\n    </tr>\n    <tr>\n      <th>2</th>\n      <td>-0.782892</td>\n      <td>-1.116681</td>\n      <td>0.332771</td>\n      <td>-1.301822</td>\n      <td>-1.222428</td>\n      <td>-0.249431</td>\n      <td>1.029448</td>\n      <td>-0.245818</td>\n      <td>-2.522673</td>\n      <td>-1.830400</td>\n      <td>-2.064073</td>\n      <td>-2.017343</td>\n      <td>4</td>\n    </tr>\n    <tr>\n      <th>3</th>\n      <td>-0.780935</td>\n      <td>-1.116764</td>\n      <td>0.333700</td>\n      <td>-1.301852</td>\n      <td>-1.222430</td>\n      <td>-0.248636</td>\n      <td>1.032845</td>\n      <td>-0.246955</td>\n      <td>-2.521639</td>\n      <td>-1.830333</td>\n      <td>-2.063137</td>\n      <td>-2.017632</td>\n      <td>4</td>\n    </tr>\n    <tr>\n      <th>4</th>\n      <td>-0.774043</td>\n      <td>-1.116775</td>\n      <td>0.335206</td>\n      <td>-1.303118</td>\n      <td>-1.222429</td>\n      <td>-0.248701</td>\n      <td>1.031807</td>\n      <td>-0.246610</td>\n      <td>-2.521900</td>\n      <td>-1.830498</td>\n      <td>-2.062795</td>\n      <td>-2.018145</td>\n      <td>4</td>\n    </tr>\n  </tbody>\n</table>\n</div>"
      ],
      "text/plain": [
       "    ambient   coolant       u_d       u_q  motor_speed    torque       i_d  \\\n",
       "0 -0.752143 -1.118446  0.327935 -1.297858    -1.222428 -0.250182  1.029572   \n",
       "1 -0.771263 -1.117021  0.329665 -1.297686    -1.222429 -0.249133  1.029509   \n",
       "2 -0.782892 -1.116681  0.332771 -1.301822    -1.222428 -0.249431  1.029448   \n",
       "3 -0.780935 -1.116764  0.333700 -1.301852    -1.222430 -0.248636  1.032845   \n",
       "4 -0.774043 -1.116775  0.335206 -1.303118    -1.222429 -0.248701  1.031807   \n",
       "\n",
       "        i_q        pm  stator_yoke  stator_tooth  stator_winding  profile_id  \n",
       "0 -0.245860 -2.522071    -1.831422     -2.066143       -2.018033           4  \n",
       "1 -0.245832 -2.522418    -1.830969     -2.064859       -2.017631           4  \n",
       "2 -0.245818 -2.522673    -1.830400     -2.064073       -2.017343           4  \n",
       "3 -0.246955 -2.521639    -1.830333     -2.063137       -2.017632           4  \n",
       "4 -0.246610 -2.521900    -1.830498     -2.062795       -2.018145           4  "
      ]
     },
     "execution_count": 6,
     "metadata": {},
     "output_type": "execute_result"
    }
   ],
   "source": [
    "DB.head()"
   ]
  },
  {
   "cell_type": "code",
   "execution_count": 7,
   "metadata": {
    "autoscroll": false,
    "ein.hycell": false,
    "ein.tags": "worksheet-0",
    "slideshow": {
     "slide_type": "-"
    }
   },
   "outputs": [],
   "source": [
    "TARGET = [\"pm\", \"stator_yoke\", \"stator_tooth\", \"stator_winding\"]\n",
    "FEATURES = [\"ambient\", \"coolant\", \"u_d\", \"u_q\", \"motor_speed\", \"i_d\", \"i_q\"]"
   ]
  },
  {
   "cell_type": "code",
   "execution_count": 8,
   "metadata": {
    "autoscroll": false,
    "ein.hycell": false,
    "ein.tags": "worksheet-0",
    "slideshow": {
     "slide_type": "-"
    }
   },
   "outputs": [
    {
     "data": {
      "image/png": "[encoded data removed]",
      "text/plain": [
       "<Figure size 720x360 with 1 Axes>"
      ]
     },
     "metadata": {},
     "output_type": "display_data"
    }
   ],
   "source": [
    "plt.figure(figsize=(10, 5))\n",
    "plt.hist(list(map(len, DBs)))\n",
    "plt.show()"
   ]
  },
  {
   "cell_type": "code",
   "execution_count": 9,
   "metadata": {
    "autoscroll": false,
    "ein.hycell": false,
    "ein.tags": "worksheet-0",
    "slideshow": {
     "slide_type": "-"
    }
   },
   "outputs": [
    {
     "name": "stdout",
     "output_type": "stream",
     "text": [
      "41 11\n"
     ]
    }
   ],
   "source": [
    "train_ratio = int(len(DBs) * 0.8)\n",
    "TRAIN_SET = [df[FEATURES + TARGET] for df in DBs[:train_ratio]]\n",
    "TEST_SET  = [df[FEATURES + TARGET] for df in DBs[train_ratio:]]\n",
    "print(len(TRAIN_SET), len(TEST_SET))"
   ]
  },
  {
   "cell_type": "code",
   "execution_count": 10,
   "metadata": {
    "autoscroll": false,
    "collapsed": false,
    "ein.hycell": false,
    "ein.tags": "worksheet-0",
    "slideshow": {
     "slide_type": "-"
    }
   },
   "outputs": [
    {
     "data": {
      "text/html": [
       "<div>\n<style scoped>\n    .dataframe tbody tr th:only-of-type {\n        vertical-align: middle;\n    }\n\n    .dataframe tbody tr th {\n        vertical-align: top;\n    }\n\n    .dataframe thead th {\n        text-align: right;\n    }\n</style>\n<table border=\"1\" class=\"dataframe\">\n  <thead>\n    <tr style=\"text-align: right;\">\n      <th></th>\n      <th>ambient</th>\n      <th>coolant</th>\n      <th>u_d</th>\n      <th>u_q</th>\n      <th>motor_speed</th>\n      <th>i_d</th>\n      <th>i_q</th>\n      <th>pm</th>\n      <th>stator_yoke</th>\n      <th>stator_tooth</th>\n      <th>stator_winding</th>\n    </tr>\n  </thead>\n  <tbody>\n    <tr>\n      <th>count</th>\n      <td>15300.000000</td>\n      <td>15300.000000</td>\n      <td>15300.000000</td>\n      <td>15300.000000</td>\n      <td>15300.000000</td>\n      <td>15300.000000</td>\n      <td>15300.000000</td>\n      <td>15300.000000</td>\n      <td>15300.000000</td>\n      <td>15300.000000</td>\n      <td>15300.000000</td>\n    </tr>\n    <tr>\n      <th>mean</th>\n      <td>-0.254768</td>\n      <td>0.308065</td>\n      <td>0.311843</td>\n      <td>-0.371160</td>\n      <td>-0.413286</td>\n      <td>0.394203</td>\n      <td>-0.208356</td>\n      <td>-0.286752</td>\n      <td>0.039736</td>\n      <td>-0.144018</td>\n      <td>-0.256677</td>\n    </tr>\n    <tr>\n      <th>std</th>\n      <td>0.205871</td>\n      <td>1.105947</td>\n      <td>0.792268</td>\n      <td>1.081078</td>\n      <td>0.996139</td>\n      <td>0.846065</td>\n      <td>0.827721</td>\n      <td>0.597834</td>\n      <td>1.065554</td>\n      <td>0.962844</td>\n      <td>0.847979</td>\n    </tr>\n    <tr>\n      <th>min</th>\n      <td>-5.239872</td>\n      <td>-1.078828</td>\n      <td>-1.614588</td>\n      <td>-1.388082</td>\n      <td>-1.222439</td>\n      <td>-2.288602</td>\n      <td>-3.287054</td>\n      <td>-1.649365</td>\n      <td>-1.354718</td>\n      <td>-1.560621</td>\n      <td>-1.567307</td>\n    </tr>\n    <tr>\n      <th>25%</th>\n      <td>-0.395809</td>\n      <td>-0.684271</td>\n      <td>0.293656</td>\n      <td>-1.275595</td>\n      <td>-1.222430</td>\n      <td>-0.329227</td>\n      <td>-0.248303</td>\n      <td>-0.840581</td>\n      <td>-0.984368</td>\n      <td>-1.068181</td>\n      <td>-1.072331</td>\n    </tr>\n    <tr>\n      <th>50%</th>\n      <td>-0.152411</td>\n      <td>-0.195273</td>\n      <td>0.336386</td>\n      <td>-1.158519</td>\n      <td>-1.136797</td>\n      <td>1.020404</td>\n      <td>-0.245716</td>\n      <td>-0.393474</td>\n      <td>-0.160798</td>\n      <td>-0.271204</td>\n      <td>-0.381549</td>\n    </tr>\n    <tr>\n      <th>75%</th>\n      <td>-0.128646</td>\n      <td>1.497615</td>\n      <td>0.359315</td>\n      <td>0.658458</td>\n      <td>0.425678</td>\n      <td>1.029143</td>\n      <td>-0.238446</td>\n      <td>0.239883</td>\n      <td>1.297375</td>\n      <td>0.977605</td>\n      <td>0.578718</td>\n    </tr>\n    <tr>\n      <th>max</th>\n      <td>0.078443</td>\n      <td>2.294652</td>\n      <td>2.229603</td>\n      <td>1.763444</td>\n      <td>1.997176</td>\n      <td>1.029227</td>\n      <td>2.889711</td>\n      <td>0.936801</td>\n      <td>1.770560</td>\n      <td>1.538679</td>\n      <td>1.261606</td>\n    </tr>\n  </tbody>\n</table>\n</div>"
      ],
      "text/plain": [
       "            ambient       coolant           u_d           u_q   motor_speed  \\\ncount  15300.000000  15300.000000  15300.000000  15300.000000  15300.000000   \nmean      -0.254768      0.308065      0.311843     -0.371160     -0.413286   \nstd        0.205871      1.105947      0.792268      1.081078      0.996139   \nmin       -5.239872     -1.078828     -1.614588     -1.388082     -1.222439   \n25%       -0.395809     -0.684271      0.293656     -1.275595     -1.222430   \n50%       -0.152411     -0.195273      0.336386     -1.158519     -1.136797   \n75%       -0.128646      1.497615      0.359315      0.658458      0.425678   \nmax        0.078443      2.294652      2.229603      1.763444      1.997176   \n\n                i_d           i_q            pm   stator_yoke  stator_tooth  \\\ncount  15300.000000  15300.000000  15300.000000  15300.000000  15300.000000   \nmean       0.394203     -0.208356     -0.286752      0.039736     -0.144018   \nstd        0.846065      0.827721      0.597834      1.065554      0.962844   \nmin       -2.288602     -3.287054     -1.649365     -1.354718     -1.560621   \n25%       -0.329227     -0.248303     -0.840581     -0.984368     -1.068181   \n50%        1.020404     -0.245716     -0.393474     -0.160798     -0.271204   \n75%        1.029143     -0.238446      0.239883      1.297375      0.977605   \nmax        1.029227      2.889711      0.936801      1.770560      1.538679   \n\n       stator_winding  \ncount    15300.000000  \nmean        -0.256677  \nstd          0.847979  \nmin         -1.567307  \n25%         -1.072331  \n50%         -0.381549  \n75%          0.578718  \nmax          1.261606  "
      ]
     },
     "execution_count": 10,
     "metadata": {},
     "output_type": "execute_result"
    }
   ],
   "source": [
    "TRAIN_SET[0].describe()"
   ]
  },
  {
   "cell_type": "code",
   "execution_count": 11,
   "metadata": {
    "autoscroll": false,
    "collapsed": false,
    "ein.hycell": false,
    "ein.tags": "worksheet-0",
    "slideshow": {
     "slide_type": "-"
    }
   },
   "outputs": [],
   "source": [
    "def normalize(data):\n",
    "    X = pd.concat(data)\n",
    "    mu = X.mean()\n",
    "    sigma = np.sqrt(X.var())\n",
    "    return lambda df: (df - mu) / sigma"
   ]
  },
  {
   "cell_type": "code",
   "execution_count": 12,
   "metadata": {
    "autoscroll": false,
    "collapsed": false,
    "ein.hycell": false,
    "ein.tags": "worksheet-0",
    "slideshow": {
     "slide_type": "-"
    }
   },
   "outputs": [],
   "source": [
    "train_normalizer = normalize(TRAIN_SET)\n",
    "N_TRAIN_SET = [train_normalizer(df) for df in TRAIN_SET]\n",
    "N_TEST_SET =  [train_normalizer(df) for df in TEST_SET]"
   ]
  },
  {
   "cell_type": "code",
   "execution_count": 13,
   "metadata": {
    "autoscroll": false,
    "collapsed": false,
    "ein.hycell": false,
    "ein.tags": "worksheet-0",
    "slideshow": {
     "slide_type": "-"
    }
   },
   "outputs": [
    {
     "data": {
      "text/html": [
       "<div>\n<style scoped>\n    .dataframe tbody tr th:only-of-type {\n        vertical-align: middle;\n    }\n\n    .dataframe tbody tr th {\n        vertical-align: top;\n    }\n\n    .dataframe thead th {\n        text-align: right;\n    }\n</style>\n<table border=\"1\" class=\"dataframe\">\n  <thead>\n    <tr style=\"text-align: right;\">\n      <th></th>\n      <th>ambient</th>\n      <th>coolant</th>\n      <th>u_d</th>\n      <th>u_q</th>\n      <th>motor_speed</th>\n      <th>i_d</th>\n      <th>i_q</th>\n      <th>pm</th>\n      <th>stator_yoke</th>\n      <th>stator_tooth</th>\n      <th>stator_winding</th>\n    </tr>\n  </thead>\n  <tbody>\n    <tr>\n      <th>count</th>\n      <td>15300.000000</td>\n      <td>15300.000000</td>\n      <td>15300.000000</td>\n      <td>15300.000000</td>\n      <td>15300.000000</td>\n      <td>15300.000000</td>\n      <td>15300.000000</td>\n      <td>15300.000000</td>\n      <td>15300.000000</td>\n      <td>15300.000000</td>\n      <td>15300.000000</td>\n    </tr>\n    <tr>\n      <th>mean</th>\n      <td>-0.269204</td>\n      <td>0.277902</td>\n      <td>0.358784</td>\n      <td>-0.377951</td>\n      <td>-0.439544</td>\n      <td>0.409669</td>\n      <td>-0.235742</td>\n      <td>-0.361731</td>\n      <td>0.000581</td>\n      <td>-0.187840</td>\n      <td>-0.294977</td>\n    </tr>\n    <tr>\n      <th>std</th>\n      <td>0.212864</td>\n      <td>1.084690</td>\n      <td>0.791514</td>\n      <td>1.072156</td>\n      <td>0.984533</td>\n      <td>0.830689</td>\n      <td>0.845885</td>\n      <td>0.604627</td>\n      <td>1.063754</td>\n      <td>0.963059</td>\n      <td>0.841830</td>\n    </tr>\n    <tr>\n      <th>min</th>\n      <td>-5.423643</td>\n      <td>-1.082334</td>\n      <td>-1.565814</td>\n      <td>-1.386481</td>\n      <td>-1.239269</td>\n      <td>-2.224380</td>\n      <td>-3.382001</td>\n      <td>-1.739827</td>\n      <td>-1.391517</td>\n      <td>-1.604759</td>\n      <td>-1.596102</td>\n    </tr>\n    <tr>\n      <th>25%</th>\n      <td>-0.415036</td>\n      <td>-0.695360</td>\n      <td>0.340615</td>\n      <td>-1.274922</td>\n      <td>-1.239260</td>\n      <td>-0.300614</td>\n      <td>-0.276565</td>\n      <td>-0.921853</td>\n      <td>-1.021793</td>\n      <td>-1.112209</td>\n      <td>-1.104716</td>\n    </tr>\n    <tr>\n      <th>50%</th>\n      <td>-0.163370</td>\n      <td>-0.215761</td>\n      <td>0.383304</td>\n      <td>-1.158812</td>\n      <td>-1.154625</td>\n      <td>1.024489</td>\n      <td>-0.273921</td>\n      <td>-0.469666</td>\n      <td>-0.199615</td>\n      <td>-0.315054</td>\n      <td>-0.418944</td>\n    </tr>\n    <tr>\n      <th>75%</th>\n      <td>-0.138797</td>\n      <td>1.444589</td>\n      <td>0.406212</td>\n      <td>0.643169</td>\n      <td>0.389645</td>\n      <td>1.033070</td>\n      <td>-0.266492</td>\n      <td>0.170888</td>\n      <td>1.256095</td>\n      <td>0.934033</td>\n      <td>0.534360</td>\n    </tr>\n    <tr>\n      <th>max</th>\n      <td>0.075325</td>\n      <td>2.226306</td>\n      <td>2.274720</td>\n      <td>1.739036</td>\n      <td>1.942833</td>\n      <td>1.033153</td>\n      <td>2.930312</td>\n      <td>0.875724</td>\n      <td>1.728481</td>\n      <td>1.495232</td>\n      <td>1.212296</td>\n    </tr>\n  </tbody>\n</table>\n</div>"
      ],
      "text/plain": [
       "            ambient       coolant           u_d           u_q   motor_speed  \\\ncount  15300.000000  15300.000000  15300.000000  15300.000000  15300.000000   \nmean      -0.269204      0.277902      0.358784     -0.377951     -0.439544   \nstd        0.212864      1.084690      0.791514      1.072156      0.984533   \nmin       -5.423643     -1.082334     -1.565814     -1.386481     -1.239269   \n25%       -0.415036     -0.695360      0.340615     -1.274922     -1.239260   \n50%       -0.163370     -0.215761      0.383304     -1.158812     -1.154625   \n75%       -0.138797      1.444589      0.406212      0.643169      0.389645   \nmax        0.075325      2.226306      2.274720      1.739036      1.942833   \n\n                i_d           i_q            pm   stator_yoke  stator_tooth  \\\ncount  15300.000000  15300.000000  15300.000000  15300.000000  15300.000000   \nmean       0.409669     -0.235742     -0.361731      0.000581     -0.187840   \nstd        0.830689      0.845885      0.604627      1.063754      0.963059   \nmin       -2.224380     -3.382001     -1.739827     -1.391517     -1.604759   \n25%       -0.300614     -0.276565     -0.921853     -1.021793     -1.112209   \n50%        1.024489     -0.273921     -0.469666     -0.199615     -0.315054   \n75%        1.033070     -0.266492      0.170888      1.256095      0.934033   \nmax        1.033153      2.930312      0.875724      1.728481      1.495232   \n\n       stator_winding  \ncount    15300.000000  \nmean        -0.294977  \nstd          0.841830  \nmin         -1.596102  \n25%         -1.104716  \n50%         -0.418944  \n75%          0.534360  \nmax          1.212296  "
      ]
     },
     "execution_count": 13,
     "metadata": {},
     "output_type": "execute_result"
    }
   ],
   "source": [
    "N_TRAIN_SET[0].describe()"
   ]
  },
  {
   "cell_type": "markdown",
   "metadata": {
    "ein.tags": "worksheet-0",
    "slideshow": {
     "slide_type": "-"
    }
   },
   "source": [
    "# Neural Networks"
   ]
  },
  {
   "cell_type": "code",
   "execution_count": 14,
   "metadata": {
    "autoscroll": false,
    "ein.hycell": false,
    "ein.tags": "worksheet-0",
    "slideshow": {
     "slide_type": "-"
    }
   },
   "outputs": [],
   "source": [
    "BATCH_SIZE = 512\n",
    "LEN = 10\n",
    "EPOCHS = 50"
   ]
  },
  {
   "cell_type": "code",
   "execution_count": 15,
   "metadata": {
    "autoscroll": false,
    "ein.hycell": false,
    "ein.tags": "worksheet-0",
    "slideshow": {
     "slide_type": "-"
    }
   },
   "outputs": [],
   "source": [
    "def plot_history(history):\n",
    "    train_col = \"red\"\n",
    "    test_col = \"orange\"\n",
    "    for feature in [\"loss\"] + [\"R2_\" + t for t in TARGET]:\n",
    "        plt.plot(history[\"_\".join([feature, \"train\"])],\n",
    "                 label=\"Train\",\n",
    "                 color=train_col)\n",
    "        plt.plot(history[\"_\".join([feature, \"test\"])],\n",
    "                 label=\"Test\",\n",
    "                 color=test_col)\n",
    "        plt.xlabel(\"Epoch\")\n",
    "        plt.ylabel(\"Value\")\n",
    "        plt.title(feature)\n",
    "        plt.legend()\n",
    "        plt.show()"
   ]
  },
  {
   "cell_type": "code",
   "execution_count": 16,
   "metadata": {
    "autoscroll": false,
    "ein.hycell": false,
    "ein.tags": "worksheet-0",
    "slideshow": {
     "slide_type": "-"
    }
   },
   "outputs": [],
   "source": [
    "def predict(mod, serie, t0=LEN):\n",
    "    Y_total = []\n",
    "    Yhat_total = []\n",
    "    mod.eval()\n",
    "    for i in range(t0, len(serie)):\n",
    "        X = serie[(i - t0):i, :]\n",
    "        y = serie[i, len(FEATURES):]\n",
    "        y_hat = mod(X.reshape((1,) + X.shape))\n",
    "        Y_total.append(y)\n",
    "        Yhat_total.append(y_hat)\n",
    "    return torch.stack(Yhat_total).cpu().detach().numpy(), \\\n",
    "        torch.stack(Y_total).cpu().detach().numpy()\n",
    "\n",
    "\n",
    "def print_predictions(mod, serie, t0=LEN):\n",
    "    y, y_hat = predict(mod, serie, t0)\n",
    "    print(y.shape, y_hat.shape)\n",
    "    for i, t in enumerate(TARGET):\n",
    "        plt.plot(y[:, 0, i], color=\"black\",\n",
    "                 label=\"Real\")\n",
    "        plt.plot(y_hat[:, i], color=\"red\",\n",
    "                 label=\"Prevision\")\n",
    "        plt.xlabel(\"time\")\n",
    "        plt.ylabel(t)\n",
    "        plt.legend()\n",
    "        plt.show()"
   ]
  },
  {
   "cell_type": "code",
   "execution_count": 17,
   "metadata": {
    "autoscroll": false,
    "ein.hycell": false,
    "ein.tags": "worksheet-0",
    "slideshow": {
     "slide_type": "-"
    }
   },
   "outputs": [],
   "source": [
    "def dataloader(data, length=LEN, batch_size=BATCH_SIZE, shuffle=True):\n",
    "    tuples = [[(df_i, i) for i in range(len(df)) if i > length]\n",
    "              for df_i, df in enumerate(data)]\n",
    "    tuples = sum(tuples, [])  # flattenize\n",
    "\n",
    "    # shuffle\n",
    "    if shuffle:\n",
    "        np.random.shuffle(tuples)\n",
    "\n",
    "    lim, Lim = 0, batch_size\n",
    "    while lim < len(tuples):\n",
    "        sample = tuples[lim:min(Lim, len(tuples))]\n",
    "        X = torch.stack([data[df_i][(i-length):i, :]\n",
    "                         for df_i, i in sample])\n",
    "        Y = torch.stack([data[df_i][i, len(FEATURES):] \\\n",
    "                         for df_i, i in sample])\n",
    "        yield X, Y\n",
    "        lim, Lim = Lim, Lim + batch_size"
   ]
  },
  {
   "cell_type": "code",
   "execution_count": 18,
   "metadata": {
    "autoscroll": false,
    "collapsed": false,
    "ein.hycell": false,
    "ein.tags": "worksheet-0",
    "slideshow": {
     "slide_type": "-"
    }
   },
   "outputs": [],
   "source": [
    "TRAIN_SET_TENSOR = [torch.from_numpy(df.values).float().to(DEVICE) for df in N_TRAIN_SET]\n",
    "TEST_SET_TENSOR =  [torch.from_numpy(df.values).float().to(DEVICE) for df in N_TEST_SET]"
   ]
  },
  {
   "cell_type": "code",
   "execution_count": 19,
   "metadata": {
    "autoscroll": false,
    "ein.hycell": false,
    "ein.tags": "worksheet-0",
    "slideshow": {
     "slide_type": "-"
    }
   },
   "outputs": [],
   "source": [
    "def R2(x, y):\n",
    "    return np.corrcoef(x, y)[0, 1]**2\n",
    "\n",
    "\n",
    "def evaluate(mod, loss_fn, data, length, batch_size):\n",
    "    \"Return loss and R² of the model given some data\"\n",
    "\n",
    "    # it set the model to evaluation mode (stop dropout and so on)\n",
    "    mod.eval()\n",
    "\n",
    "    # resutls for the whole evaluation procedure (return values)\n",
    "    loss_total = []\n",
    "    Y_total = []\n",
    "    Yhat_total = []\n",
    "    batch_size_total = []\n",
    "\n",
    "    for X, Y in dataloader(data,\n",
    "                           length=length,\n",
    "                           batch_size=batch_size,\n",
    "                           shuffle=False):\n",
    "        Y_hat = mod(X)\n",
    "        loss = loss_fn(Y_hat, Y)\n",
    "        loss_total.append(loss.cpu().item())\n",
    "        Y_total.append(Y.cpu().detach().numpy())\n",
    "        Yhat_total.append(Y_hat.cpu().detach().numpy())\n",
    "        batch_size_total.append(len(Y))\n",
    "\n",
    "    Y_total = np.vstack(Y_total)\n",
    "    Yhat_total = np.vstack(Yhat_total)\n",
    "    _, p = Y_total.shape\n",
    "\n",
    "    R2_total = [R2(Y_total[:, i], Yhat_total[:, i]) for i in range(p)]\n",
    "    return np.average(loss_total, weights=batch_size_total), R2_total\n",
    "\n",
    "\n",
    "def stop_early(patience_max, times_max=1):\n",
    "    \"Return a earl stopping checker\"\n",
    "    # (from: Goodfellow & Bengio)\n",
    "    patience = 0\n",
    "    times = 0\n",
    "    min_loss = np.Inf\n",
    "\n",
    "    def check(loss):\n",
    "        \"Return if the train process must stop early\"\n",
    "        nonlocal patience, times, min_loss\n",
    "        if loss > min_loss:\n",
    "            patience += 1\n",
    "            if patience >= patience_max:\n",
    "                patience = 0\n",
    "                times += 1\n",
    "                if times >= times_max:\n",
    "                    return True\n",
    "        else:\n",
    "            min_loss = loss\n",
    "            patience = 0\n",
    "        return False\n",
    "    return check"
   ]
  },
  {
   "cell_type": "code",
   "execution_count": 20,
   "metadata": {
    "autoscroll": false,
    "ein.hycell": false,
    "ein.tags": "worksheet-0",
    "slideshow": {
     "slide_type": "-"
    }
   },
   "outputs": [],
   "source": [
    "def train(mod, loss_fn, optimizer,\n",
    "          train_set, test_set,\n",
    "          epochs=EPOCHS, batch_size=BATCH_SIZE, previous_size=LEN,\n",
    "          early_stopping=None,\n",
    "          verbose=True):\n",
    "    \"Train the model\"\n",
    "\n",
    "    R2_strings = [\"_\".join([\"R2\", t, s])\n",
    "                  for t in TARGET\n",
    "                  for s in [\"train\", \"test\"]]\n",
    "    # history of the train process\n",
    "    history = {label: [] for label in R2_strings}\n",
    "    history[\"time\"] = []\n",
    "    history[\"loss_train\"] = []\n",
    "    history[\"loss_test\"] = []\n",
    "\n",
    "    # repeat for tot epochs\n",
    "    for epoch in range(epochs):\n",
    "\n",
    "        # it set the model in train mode (start dropout)\n",
    "        mod.train()\n",
    "\n",
    "        # just to know how much does it take\n",
    "        start = datetime.now()\n",
    "\n",
    "        for X, Y in dataloader(train_set,\n",
    "                               length=previous_size,\n",
    "                               batch_size=batch_size):\n",
    "            optimizer.zero_grad()             # reset gradient\n",
    "            Y_hat = mod(X)                    # make predictions!\n",
    "            loss = loss_fn(Y_hat, Y)          # compute loss\n",
    "            loss.backward(retain_graph=True)  # calc direction of GD\n",
    "            optimizer.step()                  # do a little step to the optimum\n",
    "\n",
    "        time = datetime.now() - start  # ok, it lasts tot (always too much) seconds\n",
    "\n",
    "        # just compute and store results\n",
    "        history[\"time\"].append(time)\n",
    "\n",
    "    \n",
    "        loss, r2 = evaluate(mod, loss_fn, train_set, previous_size, batch_size)\n",
    "        history[\"loss_train\"].append(loss)\n",
    "        for c, rho in zip(TARGET, r2):\n",
    "            history[\"R2_\" + c + \"_train\"].append(rho)\n",
    "\n",
    "        loss, r2 = evaluate(mod, loss_fn, test_set, previous_size, batch_size)\n",
    "        history[\"loss_test\"].append(loss)\n",
    "        for c, rho in zip(TARGET, r2):\n",
    "            history[\"R2_\" + c + \"_test\"].append(rho)\n",
    "        \n",
    "        # print how good is our model\n",
    "        if verbose:\n",
    "            print(epoch + 1, end=\"\\t\")\n",
    "            print(str(time), end=\"\\t\")\n",
    "            for val in [\"loss\"] + [\"R2_\" + t for t in TARGET]:\n",
    "                print(val, end=\": \")\n",
    "                print(\"(%.3f, %.3f)\" % (history[val + \"_train\"][-1],\n",
    "                                        history[val + \"_test\"][-1]),\n",
    "                      end=\"\\t\")\n",
    "            # for val in [\"loss_train\", \"loss_test\"] + R2_strings:\n",
    "            #     print(val, end=\": \")\n",
    "            #     print(\"%.3f\" % history[val][-1], end=\"\\t\")\n",
    "            print(\"\", end=\"\\r\")\n",
    "        \n",
    "        # stop the process if it start to degenerate\n",
    "        if early_stopping is not None and early_stopping(history[\"loss_test\"][-1]):\n",
    "            break\n",
    "\n",
    "    return history"
   ]
  },
  {
   "cell_type": "code",
   "execution_count": 21,
   "metadata": {
    "autoscroll": false,
    "collapsed": false,
    "ein.hycell": false,
    "ein.tags": "worksheet-0",
    "slideshow": {
     "slide_type": "-"
    }
   },
   "outputs": [],
   "source": [
    "def fast_train(mod, loss_fn, optimizer,\n",
    "               train_set, test_set,\n",
    "               epochs=1,\n",
    "               previous_size=LEN, batch_size=BATCH_SIZE,\n",
    "               verbose=False):\n",
    "    start = datetime.now()\n",
    "    \n",
    "    for epoch in range(epochs):\n",
    "        mod.train()\n",
    "        for X, y in dataloader(train_set,\n",
    "                               previous_size,\n",
    "                               batch_size):\n",
    "            loss_fn(mod(X), y).backward()\n",
    "            optimizer.step()\n",
    "\n",
    "    mod.eval()\n",
    "    loss = np.sum([loss_fn(mod(X), y).cpu().item()\n",
    "                   for X, y in dataloader(test_set,\n",
    "                                          previous_size,\n",
    "                                          batch_size,\n",
    "                                          shuffle=False)])\n",
    "\n",
    "    if verbose:\n",
    "        print(str(datetime.now() - start), \"%.3f\" % loss, end=\"\\r\")\n",
    "\n",
    "    return loss"
   ]
  },
  {
   "cell_type": "markdown",
   "metadata": {
    "ein.tags": "worksheet-0",
    "slideshow": {
     "slide_type": "-"
    }
   },
   "source": [
    "## Recurrent NN"
   ]
  },
  {
   "cell_type": "code",
   "execution_count": 22,
   "metadata": {
    "autoscroll": false,
    "ein.hycell": false,
    "ein.tags": "worksheet-0",
    "slideshow": {
     "slide_type": "-"
    }
   },
   "outputs": [],
   "source": [
    "class Custom_RNN(torch.nn.Module):\n",
    "\n",
    "    def __init__(self, hiddens, recur,\n",
    "                 regressors=[],\n",
    "                 p_dropout=0.3):\n",
    "        self.recur_input, self.recur_output = recur\n",
    "        # recur_input in [0, len(hiddens)]\n",
    "        # recur_output in [-1, len(hiddens)]\n",
    "        assert 0 <= self.recur_input <= len(hiddens)\n",
    "        assert -1 <= self.recur_output <= len(hiddens)\n",
    "        assert len(regressors) in [0, len(TARGET)]\n",
    "\n",
    "        super(Custom_RNN, self).__init__()\n",
    "        input_shape = len(FEATURES) + len(TARGET)\n",
    "        self.previous_size = hiddens[self.recur_output]\n",
    "        \n",
    "        hiddens_in = [input_shape] + hiddens\n",
    "\n",
    "        hiddens[self.recur_output] if self.recur_output > 0 \\\n",
    "            else input_shape\n",
    "        hiddens_in[self.recur_input] += self.previous_size\n",
    "\n",
    "        self.dropout = torch.nn.Dropout(p=p_dropout)\n",
    "        self.layers = torch.nn.ModuleList(\n",
    "            [torch.nn.Linear(in_shape, out_shape) \\\n",
    "             for in_shape, out_shape in zip(hiddens_in, hiddens)])\n",
    "        self.layers_fn = [torch.nn.functional.relu \\\n",
    "                          for _ in self.layers]\n",
    "\n",
    "        regressor_list = []\n",
    "        for regressor in regressors:\n",
    "            input_shape = [hiddens[-1]] + regressor\n",
    "            y_net = [torch.nn.ReLU() for _ in input_shape + regressor]\n",
    "            y_net[::2] = [torch.nn.Linear(in_shape, out_shape)\n",
    "                          for in_shape, out_shape in zip(input_shape, regressor + [1])]\n",
    "            regressor_list.append(torch.nn.Sequential(*y_net))\n",
    "        self.regressors = torch.nn.ModuleList(regressor_list)\n",
    "\n",
    "    def initialize_prev(self, x):\n",
    "        return torch.zeros(len(x), self.previous_size).to(DEVICE)\n",
    "\n",
    "    def forward(self, data, lag=None):\n",
    "        _, l, _ = data.shape\n",
    "        x = data[:, 0, :]\n",
    "        if lag is None:  # first recursion\n",
    "            lag = self.initialize_prev(x)\n",
    "        for i, (layer, fn) in enumerate(zip(self.layers, self.layers_fn)):\n",
    "            if i == self.recur_input:\n",
    "                x = torch.cat([x, lag], axis=1)\n",
    "            x = fn(layer(x))\n",
    "            x = self.dropout(x)\n",
    "            if i == self.recur_output and l > 1:\n",
    "                return self.forward(data[:, 1:, :], x)\n",
    "        x = torch.cat([regressor(x) for regressor in self.regressors ],\n",
    "                      axis=1)\n",
    "        if self.recur_output == -1 and l > 1:\n",
    "            return self.forward(data[:, 1:, :], x)\n",
    "        return x"
   ]
  },
  {
   "cell_type": "markdown",
   "metadata": {
    "ein.tags": "worksheet-0",
    "slideshow": {
     "slide_type": "-"
    }
   },
   "source": [
    "# Ottimizzazione"
   ]
  },
  {
   "cell_type": "code",
   "execution_count": 23,
   "metadata": {
    "autoscroll": false,
    "collapsed": false,
    "ein.hycell": false,
    "ein.tags": "worksheet-0",
    "slideshow": {
     "slide_type": "-"
    }
   },
   "outputs": [],
   "source": [
    "import sherpa"
   ]
  },
  {
   "cell_type": "code",
   "execution_count": 24,
   "metadata": {
    "autoscroll": false,
    "collapsed": false,
    "ein.hycell": false,
    "ein.tags": "worksheet-0",
    "slideshow": {
     "slide_type": "-"
    }
   },
   "outputs": [],
   "source": [
    "def optimize(train_set, test_set, epochs=100):\n",
    "    parameters = [\n",
    "        sherpa.Discrete(\"hidden1\", [10, 50]),\n",
    "        sherpa.Discrete(\"hidden2\", [10, 50]),\n",
    "        sherpa.Discrete(\"hidden_pm\", [3, 20]),\n",
    "        sherpa.Discrete(\"hidden_yoke\", [3, 20]),\n",
    "        sherpa.Discrete(\"hidden_tooth\", [3, 20]),\n",
    "        sherpa.Discrete(\"hidden_winding\", [3, 20]),\n",
    "        sherpa.Discrete(\"input_rec\", [0, 1]),\n",
    "        sherpa.Discrete(\"output_rec\", [0, 1]),\n",
    "        sherpa.Discrete(\"window\", [1, 10]),\n",
    "        sherpa.Continuous(\"lr\", [1e-3, 1e-5])]\n",
    "    \n",
    "    best_score = np.Inf\n",
    "\n",
    "    alg = sherpa.algorithms.bayesian_optimization.GPyOpt(\n",
    "        max_concurrent=1,\n",
    "        model_type=\"GP\",\n",
    "        acquisition_type=\"EI\",\n",
    "        max_num_trials=epochs)\n",
    "\n",
    "    study = sherpa.Study(parameters=parameters,\n",
    "                         algorithm=alg,\n",
    "                         lower_is_better=True,\n",
    "                         disable_dashboard=True)\n",
    "\n",
    "    for i, trial in enumerate(study):\n",
    "        print(i + 1, end=\"\\t\")\n",
    "        mod = Custom_RNN([int(trial.parameters[\"hidden1\"]),\n",
    "                          int(trial.parameters[\"hidden2\"])],\n",
    "                         (int(trial.parameters[\"input_rec\"]),\n",
    "                          int(trial.parameters[\"output_rec\"])),\n",
    "                         [[int(trial.parameters[\"hidden_pm\"])],\n",
    "                          [int(trial.parameters[\"hidden_yoke\"])],\n",
    "                          [int(trial.parameters[\"hidden_tooth\"])],\n",
    "                          [int(trial.parameters[\"hidden_winding\"])]]).to(DEVICE)\n",
    "        loss_fn = torch.nn.MSELoss()\n",
    "        optimizer = torch.optim.Adam(params=mod.parameters(),\n",
    "                                     lr=trial.parameters[\"lr\"])\n",
    "\n",
    "        loss = fast_train(mod, loss_fn, optimizer,\n",
    "                          train_set, test_set,\n",
    "                          epochs=2,\n",
    "                          previous_size=int(trial.parameters[\"window\"]),\n",
    "                          verbose=True)\n",
    "\n",
    "        if loss < best_score:\n",
    "            best_score = loss\n",
    "            torch.save(mod, \"./models/best_model_rnn\")\n",
    "            print(\"\")\n",
    "    \n",
    "        study.add_observation(trial, iteration=1, objective=loss)\n",
    "        study.finalize(trial)\n",
    "        study.results.to_csv(\"./results/AutoML_RNN.csv\")"
   ]
  },
  {
   "cell_type": "code",
   "execution_count": 25,
   "metadata": {
    "autoscroll": false,
    "ein.hycell": false,
    "ein.tags": "worksheet-0",
    "slideshow": {
     "slide_type": "-"
    }
   },
   "outputs": [
    {
     "name": "stdout",
     "output_type": "stream",
     "text": [
      "1\t"
     ]
    },
    {
     "name": "stdout",
     "output_type": "stream",
     "text": [
      "0:00:20.314698 118.779\r\n",
      "2\t"
     ]
    },
    {
     "name": "stdout",
     "output_type": "stream",
     "text": [
      "0:00:22.821996 233.355\r",
      "3\t"
     ]
    },
    {
     "name": "stdout",
     "output_type": "stream",
     "text": [
      "0:00:23.593728 206.735\r",
      "4\t"
     ]
    },
    {
     "name": "stdout",
     "output_type": "stream",
     "text": [
      "0:00:24.527904 193.599\r",
      "5\t"
     ]
    },
    {
     "name": "stdout",
     "output_type": "stream",
     "text": [
      "0:00:21.055889 226.962\r",
      "6\t"
     ]
    },
    {
     "name": "stdout",
     "output_type": "stream",
     "text": [
      "0:00:22.106337 52.889\r\n",
      "7\t"
     ]
    },
    {
     "name": "stdout",
     "output_type": "stream",
     "text": [
      "0:00:23.976489 87.510\r",
      "8\t"
     ]
    },
    {
     "name": "stdout",
     "output_type": "stream",
     "text": [
      "0:00:20.082115 141.730\r",
      "9\t"
     ]
    },
    {
     "name": "stdout",
     "output_type": "stream",
     "text": [
      "0:00:19.913551 156.009\r",
      "10\t"
     ]
    },
    {
     "name": "stdout",
     "output_type": "stream",
     "text": [
      "0:00:23.248979 77.635\r",
      "11\t"
     ]
    },
    {
     "name": "stderr",
     "output_type": "stream",
     "text": [
      "INFO:GP:initializing Y\n"
     ]
    },
    {
     "name": "stderr",
     "output_type": "stream",
     "text": [
      "INFO:GP:initializing inference method\n"
     ]
    },
    {
     "name": "stderr",
     "output_type": "stream",
     "text": [
      "INFO:GP:adding kernel and likelihood as parameters\n"
     ]
    },
    {
     "name": "stdout",
     "output_type": "stream",
     "text": [
      "0:00:23.431183 143.428\r",
      "12\t"
     ]
    },
    {
     "name": "stderr",
     "output_type": "stream",
     "text": [
      "INFO:GP:initializing Y\n"
     ]
    },
    {
     "name": "stderr",
     "output_type": "stream",
     "text": [
      "INFO:GP:initializing inference method\n"
     ]
    },
    {
     "name": "stderr",
     "output_type": "stream",
     "text": [
      "INFO:GP:adding kernel and likelihood as parameters\n"
     ]
    },
    {
     "name": "stdout",
     "output_type": "stream",
     "text": [
      "0:00:27.239480 264.455\r",
      "13\t"
     ]
    },
    {
     "name": "stderr",
     "output_type": "stream",
     "text": [
      "INFO:GP:initializing Y\n"
     ]
    },
    {
     "name": "stderr",
     "output_type": "stream",
     "text": [
      "INFO:GP:initializing inference method\n"
     ]
    },
    {
     "name": "stderr",
     "output_type": "stream",
     "text": [
      "INFO:GP:adding kernel and likelihood as parameters\n"
     ]
    },
    {
     "name": "stdout",
     "output_type": "stream",
     "text": [
      "0:00:20.762821 198.167\r",
      "14\t"
     ]
    },
    {
     "name": "stderr",
     "output_type": "stream",
     "text": [
      "INFO:GP:initializing Y\n"
     ]
    },
    {
     "name": "stderr",
     "output_type": "stream",
     "text": [
      "INFO:GP:initializing inference method\n"
     ]
    },
    {
     "name": "stderr",
     "output_type": "stream",
     "text": [
      "INFO:GP:adding kernel and likelihood as parameters\n"
     ]
    },
    {
     "name": "stdout",
     "output_type": "stream",
     "text": [
      "0:00:28.210264 268.199\r",
      "15\t"
     ]
    },
    {
     "name": "stderr",
     "output_type": "stream",
     "text": [
      "INFO:GP:initializing Y\n"
     ]
    },
    {
     "name": "stderr",
     "output_type": "stream",
     "text": [
      "INFO:GP:initializing inference method\n"
     ]
    },
    {
     "name": "stderr",
     "output_type": "stream",
     "text": [
      "INFO:GP:adding kernel and likelihood as parameters\n"
     ]
    },
    {
     "name": "stdout",
     "output_type": "stream",
     "text": [
      "0:00:21.242464 223.331\r",
      "16\t"
     ]
    },
    {
     "name": "stderr",
     "output_type": "stream",
     "text": [
      "INFO:GP:initializing Y\n"
     ]
    },
    {
     "name": "stderr",
     "output_type": "stream",
     "text": [
      "INFO:GP:initializing inference method\n"
     ]
    },
    {
     "name": "stderr",
     "output_type": "stream",
     "text": [
      "INFO:GP:adding kernel and likelihood as parameters\n"
     ]
    },
    {
     "name": "stdout",
     "output_type": "stream",
     "text": [
      "0:00:20.656189 182.777\r",
      "17\t"
     ]
    },
    {
     "name": "stderr",
     "output_type": "stream",
     "text": [
      "INFO:GP:initializing Y\n"
     ]
    },
    {
     "name": "stderr",
     "output_type": "stream",
     "text": [
      "INFO:GP:initializing inference method\n"
     ]
    },
    {
     "name": "stderr",
     "output_type": "stream",
     "text": [
      "INFO:GP:adding kernel and likelihood as parameters\n"
     ]
    },
    {
     "name": "stdout",
     "output_type": "stream",
     "text": [
      "0:00:20.665852 238.331\r",
      "18\t"
     ]
    },
    {
     "name": "stderr",
     "output_type": "stream",
     "text": [
      "INFO:GP:initializing Y\n"
     ]
    },
    {
     "name": "stderr",
     "output_type": "stream",
     "text": [
      "INFO:GP:initializing inference method\n"
     ]
    },
    {
     "name": "stderr",
     "output_type": "stream",
     "text": [
      "INFO:GP:adding kernel and likelihood as parameters\n"
     ]
    },
    {
     "name": "stdout",
     "output_type": "stream",
     "text": [
      "0:00:23.830330 267.707\r",
      "19\t"
     ]
    },
    {
     "name": "stderr",
     "output_type": "stream",
     "text": [
      "INFO:GP:initializing Y\n"
     ]
    },
    {
     "name": "stderr",
     "output_type": "stream",
     "text": [
      "INFO:GP:initializing inference method\n"
     ]
    },
    {
     "name": "stderr",
     "output_type": "stream",
     "text": [
      "INFO:GP:adding kernel and likelihood as parameters\n"
     ]
    },
    {
     "name": "stdout",
     "output_type": "stream",
     "text": [
      "0:00:21.704199 272.939\r",
      "20\t"
     ]
    },
    {
     "name": "stderr",
     "output_type": "stream",
     "text": [
      "INFO:GP:initializing Y\n"
     ]
    },
    {
     "name": "stderr",
     "output_type": "stream",
     "text": [
      "INFO:GP:initializing inference method\n"
     ]
    },
    {
     "name": "stderr",
     "output_type": "stream",
     "text": [
      "INFO:GP:adding kernel and likelihood as parameters\n"
     ]
    },
    {
     "name": "stdout",
     "output_type": "stream",
     "text": [
      "0:00:27.168893 221.538\r",
      "21\t"
     ]
    },
    {
     "name": "stderr",
     "output_type": "stream",
     "text": [
      "INFO:GP:initializing Y\n"
     ]
    },
    {
     "name": "stderr",
     "output_type": "stream",
     "text": [
      "INFO:GP:initializing inference method\n"
     ]
    },
    {
     "name": "stderr",
     "output_type": "stream",
     "text": [
      "INFO:GP:adding kernel and likelihood as parameters\n"
     ]
    },
    {
     "name": "stdout",
     "output_type": "stream",
     "text": [
      "0:00:27.701599 160.726\r",
      "22\t"
     ]
    },
    {
     "name": "stderr",
     "output_type": "stream",
     "text": [
      "INFO:GP:initializing Y\n"
     ]
    },
    {
     "name": "stderr",
     "output_type": "stream",
     "text": [
      "INFO:GP:initializing inference method\n"
     ]
    },
    {
     "name": "stderr",
     "output_type": "stream",
     "text": [
      "INFO:GP:adding kernel and likelihood as parameters\n"
     ]
    },
    {
     "name": "stdout",
     "output_type": "stream",
     "text": [
      "0:00:28.044364 274.443\r",
      "23\t"
     ]
    },
    {
     "name": "stderr",
     "output_type": "stream",
     "text": [
      "INFO:GP:initializing Y\n"
     ]
    },
    {
     "name": "stderr",
     "output_type": "stream",
     "text": [
      "INFO:GP:initializing inference method\n"
     ]
    },
    {
     "name": "stderr",
     "output_type": "stream",
     "text": [
      "INFO:GP:adding kernel and likelihood as parameters\n"
     ]
    },
    {
     "name": "stdout",
     "output_type": "stream",
     "text": [
      "0:00:22.141775 218.088\r",
      "24\t"
     ]
    },
    {
     "name": "stderr",
     "output_type": "stream",
     "text": [
      "INFO:GP:initializing Y\n"
     ]
    },
    {
     "name": "stderr",
     "output_type": "stream",
     "text": [
      "INFO:GP:initializing inference method\n"
     ]
    },
    {
     "name": "stderr",
     "output_type": "stream",
     "text": [
      "INFO:GP:adding kernel and likelihood as parameters\n"
     ]
    },
    {
     "name": "stdout",
     "output_type": "stream",
     "text": [
      "0:00:24.783397 333.404\r",
      "25\t"
     ]
    },
    {
     "name": "stderr",
     "output_type": "stream",
     "text": [
      "INFO:GP:initializing Y\n"
     ]
    },
    {
     "name": "stderr",
     "output_type": "stream",
     "text": [
      "INFO:GP:initializing inference method\n"
     ]
    },
    {
     "name": "stderr",
     "output_type": "stream",
     "text": [
      "INFO:GP:adding kernel and likelihood as parameters\n"
     ]
    },
    {
     "name": "stdout",
     "output_type": "stream",
     "text": [
      "0:00:28.613594 199.704\r",
      "26\t"
     ]
    },
    {
     "name": "stderr",
     "output_type": "stream",
     "text": [
      "INFO:GP:initializing Y\n"
     ]
    },
    {
     "name": "stderr",
     "output_type": "stream",
     "text": [
      "INFO:GP:initializing inference method\n"
     ]
    },
    {
     "name": "stderr",
     "output_type": "stream",
     "text": [
      "INFO:GP:adding kernel and likelihood as parameters\n"
     ]
    },
    {
     "name": "stdout",
     "output_type": "stream",
     "text": [
      "0:00:20.458676 186.530\r",
      "27\t"
     ]
    },
    {
     "name": "stderr",
     "output_type": "stream",
     "text": [
      "INFO:GP:initializing Y\n"
     ]
    },
    {
     "name": "stderr",
     "output_type": "stream",
     "text": [
      "INFO:GP:initializing inference method\n"
     ]
    },
    {
     "name": "stderr",
     "output_type": "stream",
     "text": [
      "INFO:GP:adding kernel and likelihood as parameters\n"
     ]
    },
    {
     "name": "stdout",
     "output_type": "stream",
     "text": [
      "0:00:22.587948 210.655\r",
      "28\t"
     ]
    },
    {
     "name": "stderr",
     "output_type": "stream",
     "text": [
      "INFO:GP:initializing Y\n"
     ]
    },
    {
     "name": "stderr",
     "output_type": "stream",
     "text": [
      "INFO:GP:initializing inference method\n"
     ]
    },
    {
     "name": "stderr",
     "output_type": "stream",
     "text": [
      "INFO:GP:adding kernel and likelihood as parameters\n"
     ]
    },
    {
     "name": "stdout",
     "output_type": "stream",
     "text": [
      "0:00:23.080737 177.730\r",
      "29\t"
     ]
    },
    {
     "name": "stderr",
     "output_type": "stream",
     "text": [
      "INFO:GP:initializing Y\n"
     ]
    },
    {
     "name": "stderr",
     "output_type": "stream",
     "text": [
      "INFO:GP:initializing inference method\n"
     ]
    },
    {
     "name": "stderr",
     "output_type": "stream",
     "text": [
      "INFO:GP:adding kernel and likelihood as parameters\n"
     ]
    },
    {
     "name": "stdout",
     "output_type": "stream",
     "text": [
      "0:00:23.576408 257.804\r",
      "30\t"
     ]
    },
    {
     "name": "stderr",
     "output_type": "stream",
     "text": [
      "INFO:GP:initializing Y\n"
     ]
    },
    {
     "name": "stderr",
     "output_type": "stream",
     "text": [
      "INFO:GP:initializing inference method\n"
     ]
    },
    {
     "name": "stderr",
     "output_type": "stream",
     "text": [
      "INFO:GP:adding kernel and likelihood as parameters\n"
     ]
    },
    {
     "name": "stdout",
     "output_type": "stream",
     "text": [
      "0:00:25.547242 237.164\r",
      "31\t"
     ]
    },
    {
     "name": "stderr",
     "output_type": "stream",
     "text": [
      "INFO:GP:initializing Y\n"
     ]
    },
    {
     "name": "stderr",
     "output_type": "stream",
     "text": [
      "INFO:GP:initializing inference method\n"
     ]
    },
    {
     "name": "stderr",
     "output_type": "stream",
     "text": [
      "INFO:GP:adding kernel and likelihood as parameters\n"
     ]
    },
    {
     "name": "stdout",
     "output_type": "stream",
     "text": [
      "0:00:19.630159 222.241\r",
      "32\t"
     ]
    },
    {
     "name": "stderr",
     "output_type": "stream",
     "text": [
      "INFO:GP:initializing Y\n"
     ]
    },
    {
     "name": "stderr",
     "output_type": "stream",
     "text": [
      "INFO:GP:initializing inference method\n"
     ]
    },
    {
     "name": "stderr",
     "output_type": "stream",
     "text": [
      "INFO:GP:adding kernel and likelihood as parameters\n"
     ]
    },
    {
     "name": "stdout",
     "output_type": "stream",
     "text": [
      "0:00:21.833618 178.385\r",
      "33\t"
     ]
    },
    {
     "name": "stderr",
     "output_type": "stream",
     "text": [
      "INFO:GP:initializing Y\n"
     ]
    },
    {
     "name": "stderr",
     "output_type": "stream",
     "text": [
      "INFO:GP:initializing inference method\n"
     ]
    },
    {
     "name": "stderr",
     "output_type": "stream",
     "text": [
      "INFO:GP:adding kernel and likelihood as parameters\n"
     ]
    },
    {
     "name": "stdout",
     "output_type": "stream",
     "text": [
      "0:00:19.784867 285.732\r",
      "34\t"
     ]
    },
    {
     "name": "stderr",
     "output_type": "stream",
     "text": [
      "INFO:GP:initializing Y\n"
     ]
    },
    {
     "name": "stderr",
     "output_type": "stream",
     "text": [
      "INFO:GP:initializing inference method\n"
     ]
    },
    {
     "name": "stderr",
     "output_type": "stream",
     "text": [
      "INFO:GP:adding kernel and likelihood as parameters\n"
     ]
    },
    {
     "name": "stdout",
     "output_type": "stream",
     "text": [
      "0:00:25.562313 214.758\r",
      "35\t"
     ]
    },
    {
     "name": "stderr",
     "output_type": "stream",
     "text": [
      "INFO:GP:initializing Y\n"
     ]
    },
    {
     "name": "stderr",
     "output_type": "stream",
     "text": [
      "INFO:GP:initializing inference method\n"
     ]
    },
    {
     "name": "stderr",
     "output_type": "stream",
     "text": [
      "INFO:GP:adding kernel and likelihood as parameters\n"
     ]
    },
    {
     "name": "stdout",
     "output_type": "stream",
     "text": [
      "0:00:21.896291 221.224\r",
      "36\t"
     ]
    },
    {
     "name": "stderr",
     "output_type": "stream",
     "text": [
      "INFO:GP:initializing Y\n"
     ]
    },
    {
     "name": "stderr",
     "output_type": "stream",
     "text": [
      "INFO:GP:initializing inference method\n"
     ]
    },
    {
     "name": "stderr",
     "output_type": "stream",
     "text": [
      "INFO:GP:adding kernel and likelihood as parameters\n"
     ]
    },
    {
     "name": "stdout",
     "output_type": "stream",
     "text": [
      "0:00:20.782841 194.730\r",
      "37\t"
     ]
    },
    {
     "name": "stderr",
     "output_type": "stream",
     "text": [
      "INFO:GP:initializing Y\n"
     ]
    },
    {
     "name": "stderr",
     "output_type": "stream",
     "text": [
      "INFO:GP:initializing inference method\n"
     ]
    },
    {
     "name": "stderr",
     "output_type": "stream",
     "text": [
      "INFO:GP:adding kernel and likelihood as parameters\n"
     ]
    },
    {
     "name": "stdout",
     "output_type": "stream",
     "text": [
      "0:00:23.688934 232.800\r",
      "38\t"
     ]
    },
    {
     "name": "stderr",
     "output_type": "stream",
     "text": [
      "INFO:GP:initializing Y\n"
     ]
    },
    {
     "name": "stderr",
     "output_type": "stream",
     "text": [
      "INFO:GP:initializing inference method\n"
     ]
    },
    {
     "name": "stderr",
     "output_type": "stream",
     "text": [
      "INFO:GP:adding kernel and likelihood as parameters\n"
     ]
    },
    {
     "name": "stdout",
     "output_type": "stream",
     "text": [
      "0:00:21.920875 190.906\r",
      "39\t"
     ]
    },
    {
     "name": "stderr",
     "output_type": "stream",
     "text": [
      "INFO:GP:initializing Y\n"
     ]
    },
    {
     "name": "stderr",
     "output_type": "stream",
     "text": [
      "INFO:GP:initializing inference method\n"
     ]
    },
    {
     "name": "stderr",
     "output_type": "stream",
     "text": [
      "INFO:GP:adding kernel and likelihood as parameters\n"
     ]
    },
    {
     "name": "stdout",
     "output_type": "stream",
     "text": [
      "0:00:21.298493 200.412\r",
      "40\t"
     ]
    },
    {
     "name": "stderr",
     "output_type": "stream",
     "text": [
      "INFO:GP:initializing Y\n"
     ]
    },
    {
     "name": "stderr",
     "output_type": "stream",
     "text": [
      "INFO:GP:initializing inference method\n"
     ]
    },
    {
     "name": "stderr",
     "output_type": "stream",
     "text": [
      "INFO:GP:adding kernel and likelihood as parameters\n"
     ]
    },
    {
     "name": "stdout",
     "output_type": "stream",
     "text": [
      "0:00:21.765153 201.182\r",
      "41\t"
     ]
    },
    {
     "name": "stderr",
     "output_type": "stream",
     "text": [
      "INFO:GP:initializing Y\n"
     ]
    },
    {
     "name": "stderr",
     "output_type": "stream",
     "text": [
      "INFO:GP:initializing inference method\n"
     ]
    },
    {
     "name": "stderr",
     "output_type": "stream",
     "text": [
      "INFO:GP:adding kernel and likelihood as parameters\n"
     ]
    },
    {
     "name": "stdout",
     "output_type": "stream",
     "text": [
      "0:00:25.816108 252.369\r",
      "42\t"
     ]
    },
    {
     "name": "stderr",
     "output_type": "stream",
     "text": [
      "INFO:GP:initializing Y\n"
     ]
    },
    {
     "name": "stderr",
     "output_type": "stream",
     "text": [
      "INFO:GP:initializing inference method\n"
     ]
    },
    {
     "name": "stderr",
     "output_type": "stream",
     "text": [
      "INFO:GP:adding kernel and likelihood as parameters\n"
     ]
    },
    {
     "name": "stdout",
     "output_type": "stream",
     "text": [
      "0:00:28.450249 157.505\r",
      "43\t"
     ]
    },
    {
     "name": "stderr",
     "output_type": "stream",
     "text": [
      "INFO:GP:initializing Y\n"
     ]
    },
    {
     "name": "stderr",
     "output_type": "stream",
     "text": [
      "INFO:GP:initializing inference method\n"
     ]
    },
    {
     "name": "stderr",
     "output_type": "stream",
     "text": [
      "INFO:GP:adding kernel and likelihood as parameters\n"
     ]
    },
    {
     "name": "stdout",
     "output_type": "stream",
     "text": [
      "0:00:24.787530 207.408\r",
      "44\t"
     ]
    },
    {
     "name": "stderr",
     "output_type": "stream",
     "text": [
      "INFO:GP:initializing Y\n"
     ]
    },
    {
     "name": "stderr",
     "output_type": "stream",
     "text": [
      "INFO:GP:initializing inference method\n"
     ]
    },
    {
     "name": "stderr",
     "output_type": "stream",
     "text": [
      "INFO:GP:adding kernel and likelihood as parameters\n"
     ]
    },
    {
     "name": "stdout",
     "output_type": "stream",
     "text": [
      "0:00:24.522680 256.741\r",
      "45\t"
     ]
    },
    {
     "name": "stderr",
     "output_type": "stream",
     "text": [
      "INFO:GP:initializing Y\n"
     ]
    },
    {
     "name": "stderr",
     "output_type": "stream",
     "text": [
      "INFO:GP:initializing inference method\n"
     ]
    },
    {
     "name": "stderr",
     "output_type": "stream",
     "text": [
      "INFO:GP:adding kernel and likelihood as parameters\n"
     ]
    },
    {
     "name": "stdout",
     "output_type": "stream",
     "text": [
      "0:00:22.018189 247.843\r",
      "46\t"
     ]
    },
    {
     "name": "stderr",
     "output_type": "stream",
     "text": [
      "INFO:GP:initializing Y\n"
     ]
    },
    {
     "name": "stderr",
     "output_type": "stream",
     "text": [
      "INFO:GP:initializing inference method\n"
     ]
    },
    {
     "name": "stderr",
     "output_type": "stream",
     "text": [
      "INFO:GP:adding kernel and likelihood as parameters\n"
     ]
    },
    {
     "name": "stdout",
     "output_type": "stream",
     "text": [
      "0:00:25.212275 327.989\r",
      "47\t"
     ]
    },
    {
     "name": "stderr",
     "output_type": "stream",
     "text": [
      "INFO:GP:initializing Y\n"
     ]
    },
    {
     "name": "stderr",
     "output_type": "stream",
     "text": [
      "INFO:GP:initializing inference method\n"
     ]
    },
    {
     "name": "stderr",
     "output_type": "stream",
     "text": [
      "INFO:GP:adding kernel and likelihood as parameters\n"
     ]
    },
    {
     "name": "stdout",
     "output_type": "stream",
     "text": [
      "0:00:22.429350 241.231\r",
      "48\t"
     ]
    },
    {
     "name": "stderr",
     "output_type": "stream",
     "text": [
      "INFO:GP:initializing Y\n"
     ]
    },
    {
     "name": "stderr",
     "output_type": "stream",
     "text": [
      "INFO:GP:initializing inference method\n"
     ]
    },
    {
     "name": "stderr",
     "output_type": "stream",
     "text": [
      "INFO:GP:adding kernel and likelihood as parameters\n"
     ]
    },
    {
     "name": "stdout",
     "output_type": "stream",
     "text": [
      "0:00:21.085813 208.086\r",
      "49\t"
     ]
    },
    {
     "name": "stderr",
     "output_type": "stream",
     "text": [
      "INFO:GP:initializing Y\n"
     ]
    },
    {
     "name": "stderr",
     "output_type": "stream",
     "text": [
      "INFO:GP:initializing inference method\n"
     ]
    },
    {
     "name": "stderr",
     "output_type": "stream",
     "text": [
      "INFO:GP:adding kernel and likelihood as parameters\n"
     ]
    },
    {
     "name": "stdout",
     "output_type": "stream",
     "text": [
      "0:00:23.650921 234.782\r",
      "50\t"
     ]
    },
    {
     "name": "stderr",
     "output_type": "stream",
     "text": [
      "INFO:GP:initializing Y\n"
     ]
    },
    {
     "name": "stderr",
     "output_type": "stream",
     "text": [
      "INFO:GP:initializing inference method\n"
     ]
    },
    {
     "name": "stderr",
     "output_type": "stream",
     "text": [
      "INFO:GP:adding kernel and likelihood as parameters\n"
     ]
    },
    {
     "name": "stdout",
     "output_type": "stream",
     "text": [
      "0:00:26.045005 288.081\r",
      "51\t"
     ]
    },
    {
     "name": "stderr",
     "output_type": "stream",
     "text": [
      "INFO:GP:initializing Y\n"
     ]
    },
    {
     "name": "stderr",
     "output_type": "stream",
     "text": [
      "INFO:GP:initializing inference method\n"
     ]
    },
    {
     "name": "stderr",
     "output_type": "stream",
     "text": [
      "INFO:GP:adding kernel and likelihood as parameters\n"
     ]
    },
    {
     "name": "stdout",
     "output_type": "stream",
     "text": [
      "0:00:21.498861 196.750\r",
      "52\t"
     ]
    },
    {
     "name": "stderr",
     "output_type": "stream",
     "text": [
      "INFO:GP:initializing Y\n"
     ]
    },
    {
     "name": "stderr",
     "output_type": "stream",
     "text": [
      "INFO:GP:initializing inference method\n"
     ]
    },
    {
     "name": "stderr",
     "output_type": "stream",
     "text": [
      "INFO:GP:adding kernel and likelihood as parameters\n"
     ]
    },
    {
     "name": "stdout",
     "output_type": "stream",
     "text": [
      "0:00:20.363840 238.177\r",
      "53\t"
     ]
    },
    {
     "name": "stderr",
     "output_type": "stream",
     "text": [
      "INFO:GP:initializing Y\n"
     ]
    },
    {
     "name": "stderr",
     "output_type": "stream",
     "text": [
      "INFO:GP:initializing inference method\n"
     ]
    },
    {
     "name": "stderr",
     "output_type": "stream",
     "text": [
      "INFO:GP:adding kernel and likelihood as parameters\n"
     ]
    },
    {
     "name": "stdout",
     "output_type": "stream",
     "text": [
      "0:00:23.321982 185.194\r",
      "54\t"
     ]
    },
    {
     "name": "stderr",
     "output_type": "stream",
     "text": [
      "INFO:GP:initializing Y\n"
     ]
    },
    {
     "name": "stderr",
     "output_type": "stream",
     "text": [
      "INFO:GP:initializing inference method\n"
     ]
    },
    {
     "name": "stderr",
     "output_type": "stream",
     "text": [
      "INFO:GP:adding kernel and likelihood as parameters\n"
     ]
    },
    {
     "name": "stdout",
     "output_type": "stream",
     "text": [
      "0:00:21.846391 223.521\r",
      "55\t"
     ]
    },
    {
     "name": "stderr",
     "output_type": "stream",
     "text": [
      "INFO:GP:initializing Y\n"
     ]
    },
    {
     "name": "stderr",
     "output_type": "stream",
     "text": [
      "INFO:GP:initializing inference method\n"
     ]
    },
    {
     "name": "stderr",
     "output_type": "stream",
     "text": [
      "INFO:GP:adding kernel and likelihood as parameters\n"
     ]
    },
    {
     "name": "stdout",
     "output_type": "stream",
     "text": [
      "0:00:20.878102 209.678\r",
      "56\t"
     ]
    },
    {
     "name": "stderr",
     "output_type": "stream",
     "text": [
      "INFO:GP:initializing Y\n"
     ]
    },
    {
     "name": "stderr",
     "output_type": "stream",
     "text": [
      "INFO:GP:initializing inference method\n"
     ]
    },
    {
     "name": "stderr",
     "output_type": "stream",
     "text": [
      "INFO:GP:adding kernel and likelihood as parameters\n"
     ]
    },
    {
     "name": "stdout",
     "output_type": "stream",
     "text": [
      "0:00:23.878141 317.803\r",
      "57\t"
     ]
    },
    {
     "name": "stderr",
     "output_type": "stream",
     "text": [
      "INFO:GP:initializing Y\n"
     ]
    },
    {
     "name": "stderr",
     "output_type": "stream",
     "text": [
      "INFO:GP:initializing inference method\n"
     ]
    },
    {
     "name": "stderr",
     "output_type": "stream",
     "text": [
      "INFO:GP:adding kernel and likelihood as parameters\n"
     ]
    },
    {
     "name": "stdout",
     "output_type": "stream",
     "text": [
      "0:00:24.109944 218.304\r",
      "58\t"
     ]
    },
    {
     "name": "stderr",
     "output_type": "stream",
     "text": [
      "INFO:GP:initializing Y\n"
     ]
    },
    {
     "name": "stderr",
     "output_type": "stream",
     "text": [
      "INFO:GP:initializing inference method\n"
     ]
    },
    {
     "name": "stderr",
     "output_type": "stream",
     "text": [
      "INFO:GP:adding kernel and likelihood as parameters\n"
     ]
    },
    {
     "name": "stdout",
     "output_type": "stream",
     "text": [
      "0:00:21.534037 208.192\r",
      "59\t"
     ]
    },
    {
     "name": "stderr",
     "output_type": "stream",
     "text": [
      "INFO:GP:initializing Y\n"
     ]
    },
    {
     "name": "stderr",
     "output_type": "stream",
     "text": [
      "INFO:GP:initializing inference method\n"
     ]
    },
    {
     "name": "stderr",
     "output_type": "stream",
     "text": [
      "INFO:GP:adding kernel and likelihood as parameters\n"
     ]
    },
    {
     "name": "stdout",
     "output_type": "stream",
     "text": [
      "0:00:27.580588 209.889\r",
      "60\t"
     ]
    },
    {
     "name": "stderr",
     "output_type": "stream",
     "text": [
      "INFO:GP:initializing Y\n"
     ]
    },
    {
     "name": "stderr",
     "output_type": "stream",
     "text": [
      "INFO:GP:initializing inference method\n"
     ]
    },
    {
     "name": "stderr",
     "output_type": "stream",
     "text": [
      "INFO:GP:adding kernel and likelihood as parameters\n"
     ]
    },
    {
     "name": "stdout",
     "output_type": "stream",
     "text": [
      "0:00:26.501792 378.674\r",
      "61\t"
     ]
    },
    {
     "name": "stderr",
     "output_type": "stream",
     "text": [
      "INFO:GP:initializing Y\n"
     ]
    },
    {
     "name": "stderr",
     "output_type": "stream",
     "text": [
      "INFO:GP:initializing inference method\n"
     ]
    },
    {
     "name": "stderr",
     "output_type": "stream",
     "text": [
      "INFO:GP:adding kernel and likelihood as parameters\n"
     ]
    },
    {
     "name": "stdout",
     "output_type": "stream",
     "text": [
      "0:00:24.776898 272.076\r",
      "62\t"
     ]
    },
    {
     "name": "stderr",
     "output_type": "stream",
     "text": [
      "INFO:GP:initializing Y\n"
     ]
    },
    {
     "name": "stderr",
     "output_type": "stream",
     "text": [
      "INFO:GP:initializing inference method\n"
     ]
    },
    {
     "name": "stderr",
     "output_type": "stream",
     "text": [
      "INFO:GP:adding kernel and likelihood as parameters\n"
     ]
    },
    {
     "name": "stdout",
     "output_type": "stream",
     "text": [
      "0:00:23.691023 266.339\r",
      "63\t"
     ]
    },
    {
     "name": "stderr",
     "output_type": "stream",
     "text": [
      "INFO:GP:initializing Y\n"
     ]
    },
    {
     "name": "stderr",
     "output_type": "stream",
     "text": [
      "INFO:GP:initializing inference method\n"
     ]
    },
    {
     "name": "stderr",
     "output_type": "stream",
     "text": [
      "INFO:GP:adding kernel and likelihood as parameters\n"
     ]
    },
    {
     "name": "stdout",
     "output_type": "stream",
     "text": [
      "0:00:26.695727 264.238\r",
      "64\t"
     ]
    },
    {
     "name": "stderr",
     "output_type": "stream",
     "text": [
      "INFO:GP:initializing Y\n"
     ]
    },
    {
     "name": "stderr",
     "output_type": "stream",
     "text": [
      "INFO:GP:initializing inference method\n"
     ]
    },
    {
     "name": "stderr",
     "output_type": "stream",
     "text": [
      "INFO:GP:adding kernel and likelihood as parameters\n"
     ]
    },
    {
     "name": "stdout",
     "output_type": "stream",
     "text": [
      "0:00:20.911984 179.329\r",
      "65\t"
     ]
    },
    {
     "name": "stderr",
     "output_type": "stream",
     "text": [
      "INFO:GP:initializing Y\n"
     ]
    },
    {
     "name": "stderr",
     "output_type": "stream",
     "text": [
      "INFO:GP:initializing inference method\n"
     ]
    },
    {
     "name": "stderr",
     "output_type": "stream",
     "text": [
      "INFO:GP:adding kernel and likelihood as parameters\n"
     ]
    },
    {
     "name": "stdout",
     "output_type": "stream",
     "text": [
      "0:00:21.878947 216.688\r",
      "66\t"
     ]
    },
    {
     "name": "stderr",
     "output_type": "stream",
     "text": [
      "INFO:GP:initializing Y\n"
     ]
    },
    {
     "name": "stderr",
     "output_type": "stream",
     "text": [
      "INFO:GP:initializing inference method\n"
     ]
    },
    {
     "name": "stderr",
     "output_type": "stream",
     "text": [
      "INFO:GP:adding kernel and likelihood as parameters\n"
     ]
    },
    {
     "name": "stdout",
     "output_type": "stream",
     "text": [
      "0:00:20.358895 230.768\r"
     ]
    },
    {
     "name": "stdout",
     "output_type": "stream",
     "text": [
      "67\t"
     ]
    },
    {
     "name": "stderr",
     "output_type": "stream",
     "text": [
      "INFO:GP:initializing Y\n"
     ]
    },
    {
     "name": "stderr",
     "output_type": "stream",
     "text": [
      "INFO:GP:initializing inference method\n"
     ]
    },
    {
     "name": "stderr",
     "output_type": "stream",
     "text": [
      "INFO:GP:adding kernel and likelihood as parameters\n"
     ]
    },
    {
     "name": "stdout",
     "output_type": "stream",
     "text": [
      "0:00:20.827123 223.631\r",
      "68\t"
     ]
    },
    {
     "name": "stderr",
     "output_type": "stream",
     "text": [
      "INFO:GP:initializing Y\n"
     ]
    },
    {
     "name": "stderr",
     "output_type": "stream",
     "text": [
      "INFO:GP:initializing inference method\n"
     ]
    },
    {
     "name": "stderr",
     "output_type": "stream",
     "text": [
      "INFO:GP:adding kernel and likelihood as parameters\n"
     ]
    },
    {
     "name": "stdout",
     "output_type": "stream",
     "text": [
      "0:00:19.730407 207.742\r",
      "69\t"
     ]
    },
    {
     "name": "stderr",
     "output_type": "stream",
     "text": [
      "INFO:GP:initializing Y\n"
     ]
    },
    {
     "name": "stderr",
     "output_type": "stream",
     "text": [
      "INFO:GP:initializing inference method\n"
     ]
    },
    {
     "name": "stderr",
     "output_type": "stream",
     "text": [
      "INFO:GP:adding kernel and likelihood as parameters\n"
     ]
    },
    {
     "name": "stdout",
     "output_type": "stream",
     "text": [
      "0:00:22.114440 309.223\r",
      "70\t"
     ]
    },
    {
     "name": "stderr",
     "output_type": "stream",
     "text": [
      "INFO:GP:initializing Y\n"
     ]
    },
    {
     "name": "stderr",
     "output_type": "stream",
     "text": [
      "INFO:GP:initializing inference method\n"
     ]
    },
    {
     "name": "stderr",
     "output_type": "stream",
     "text": [
      "INFO:GP:adding kernel and likelihood as parameters\n"
     ]
    },
    {
     "name": "stdout",
     "output_type": "stream",
     "text": [
      "0:00:22.630601 196.533\r",
      "71\t"
     ]
    },
    {
     "name": "stderr",
     "output_type": "stream",
     "text": [
      "INFO:GP:initializing Y\n"
     ]
    },
    {
     "name": "stderr",
     "output_type": "stream",
     "text": [
      "INFO:GP:initializing inference method\n"
     ]
    },
    {
     "name": "stderr",
     "output_type": "stream",
     "text": [
      "INFO:GP:adding kernel and likelihood as parameters\n"
     ]
    },
    {
     "name": "stdout",
     "output_type": "stream",
     "text": [
      "0:00:27.752275 258.802\r",
      "72\t"
     ]
    },
    {
     "name": "stderr",
     "output_type": "stream",
     "text": [
      "INFO:GP:initializing Y\n"
     ]
    },
    {
     "name": "stderr",
     "output_type": "stream",
     "text": [
      "INFO:GP:initializing inference method\n"
     ]
    },
    {
     "name": "stderr",
     "output_type": "stream",
     "text": [
      "INFO:GP:adding kernel and likelihood as parameters\n"
     ]
    },
    {
     "name": "stdout",
     "output_type": "stream",
     "text": [
      "0:00:19.938511 309.703\r",
      "73\t"
     ]
    },
    {
     "name": "stderr",
     "output_type": "stream",
     "text": [
      "INFO:GP:initializing Y\n"
     ]
    },
    {
     "name": "stderr",
     "output_type": "stream",
     "text": [
      "INFO:GP:initializing inference method\n"
     ]
    },
    {
     "name": "stderr",
     "output_type": "stream",
     "text": [
      "INFO:GP:adding kernel and likelihood as parameters\n"
     ]
    },
    {
     "name": "stdout",
     "output_type": "stream",
     "text": [
      "0:00:20.789790 177.246\r",
      "74\t"
     ]
    },
    {
     "name": "stderr",
     "output_type": "stream",
     "text": [
      "INFO:GP:initializing Y\n"
     ]
    },
    {
     "name": "stderr",
     "output_type": "stream",
     "text": [
      "INFO:GP:initializing inference method\n"
     ]
    },
    {
     "name": "stderr",
     "output_type": "stream",
     "text": [
      "INFO:GP:adding kernel and likelihood as parameters\n"
     ]
    },
    {
     "name": "stdout",
     "output_type": "stream",
     "text": [
      "0:00:20.926331 175.861\r",
      "75\t"
     ]
    },
    {
     "name": "stderr",
     "output_type": "stream",
     "text": [
      "INFO:GP:initializing Y\n"
     ]
    },
    {
     "name": "stderr",
     "output_type": "stream",
     "text": [
      "INFO:GP:initializing inference method\n"
     ]
    },
    {
     "name": "stderr",
     "output_type": "stream",
     "text": [
      "INFO:GP:adding kernel and likelihood as parameters\n"
     ]
    },
    {
     "name": "stdout",
     "output_type": "stream",
     "text": [
      "0:00:27.607776 301.967\r",
      "76\t"
     ]
    },
    {
     "name": "stderr",
     "output_type": "stream",
     "text": [
      "INFO:GP:initializing Y\n"
     ]
    },
    {
     "name": "stderr",
     "output_type": "stream",
     "text": [
      "INFO:GP:initializing inference method\n"
     ]
    },
    {
     "name": "stderr",
     "output_type": "stream",
     "text": [
      "INFO:GP:adding kernel and likelihood as parameters\n"
     ]
    },
    {
     "name": "stdout",
     "output_type": "stream",
     "text": [
      "0:00:22.544219 244.326\r",
      "77\t"
     ]
    },
    {
     "name": "stderr",
     "output_type": "stream",
     "text": [
      "INFO:GP:initializing Y\n"
     ]
    },
    {
     "name": "stderr",
     "output_type": "stream",
     "text": [
      "INFO:GP:initializing inference method\n"
     ]
    },
    {
     "name": "stderr",
     "output_type": "stream",
     "text": [
      "INFO:GP:adding kernel and likelihood as parameters\n"
     ]
    },
    {
     "name": "stdout",
     "output_type": "stream",
     "text": [
      "0:00:22.340028 350.250\r",
      "78\t"
     ]
    },
    {
     "name": "stderr",
     "output_type": "stream",
     "text": [
      "INFO:GP:initializing Y\n"
     ]
    },
    {
     "name": "stderr",
     "output_type": "stream",
     "text": [
      "INFO:GP:initializing inference method\n"
     ]
    },
    {
     "name": "stderr",
     "output_type": "stream",
     "text": [
      "INFO:GP:adding kernel and likelihood as parameters\n"
     ]
    },
    {
     "name": "stdout",
     "output_type": "stream",
     "text": [
      "0:00:21.891227 204.586\r",
      "79\t"
     ]
    },
    {
     "name": "stderr",
     "output_type": "stream",
     "text": [
      "INFO:GP:initializing Y\n"
     ]
    },
    {
     "name": "stderr",
     "output_type": "stream",
     "text": [
      "INFO:GP:initializing inference method\n"
     ]
    },
    {
     "name": "stderr",
     "output_type": "stream",
     "text": [
      "INFO:GP:adding kernel and likelihood as parameters\n"
     ]
    },
    {
     "name": "stdout",
     "output_type": "stream",
     "text": [
      "0:00:26.457966 217.366\r",
      "80\t"
     ]
    },
    {
     "name": "stderr",
     "output_type": "stream",
     "text": [
      "INFO:GP:initializing Y\n"
     ]
    },
    {
     "name": "stderr",
     "output_type": "stream",
     "text": [
      "INFO:GP:initializing inference method\n"
     ]
    },
    {
     "name": "stderr",
     "output_type": "stream",
     "text": [
      "INFO:GP:adding kernel and likelihood as parameters\n"
     ]
    },
    {
     "name": "stdout",
     "output_type": "stream",
     "text": [
      "0:00:22.598139 258.093\r",
      "81\t"
     ]
    },
    {
     "name": "stderr",
     "output_type": "stream",
     "text": [
      "INFO:GP:initializing Y\n"
     ]
    },
    {
     "name": "stderr",
     "output_type": "stream",
     "text": [
      "INFO:GP:initializing inference method\n"
     ]
    },
    {
     "name": "stderr",
     "output_type": "stream",
     "text": [
      "INFO:GP:adding kernel and likelihood as parameters\n"
     ]
    },
    {
     "name": "stdout",
     "output_type": "stream",
     "text": [
      "0:00:22.198643 293.876\r",
      "82\t"
     ]
    },
    {
     "name": "stderr",
     "output_type": "stream",
     "text": [
      "INFO:GP:initializing Y\n"
     ]
    },
    {
     "name": "stderr",
     "output_type": "stream",
     "text": [
      "INFO:GP:initializing inference method\n"
     ]
    },
    {
     "name": "stderr",
     "output_type": "stream",
     "text": [
      "INFO:GP:adding kernel and likelihood as parameters\n"
     ]
    },
    {
     "name": "stdout",
     "output_type": "stream",
     "text": [
      "0:00:22.790334 191.369\r",
      "83\t"
     ]
    },
    {
     "name": "stderr",
     "output_type": "stream",
     "text": [
      "INFO:GP:initializing Y\n"
     ]
    },
    {
     "name": "stderr",
     "output_type": "stream",
     "text": [
      "INFO:GP:initializing inference method\n"
     ]
    },
    {
     "name": "stderr",
     "output_type": "stream",
     "text": [
      "INFO:GP:adding kernel and likelihood as parameters\n"
     ]
    },
    {
     "name": "stdout",
     "output_type": "stream",
     "text": [
      "0:00:20.920909 185.168\r",
      "84\t"
     ]
    },
    {
     "name": "stderr",
     "output_type": "stream",
     "text": [
      "INFO:GP:initializing Y\n"
     ]
    },
    {
     "name": "stderr",
     "output_type": "stream",
     "text": [
      "INFO:GP:initializing inference method\n"
     ]
    },
    {
     "name": "stderr",
     "output_type": "stream",
     "text": [
      "INFO:GP:adding kernel and likelihood as parameters\n"
     ]
    },
    {
     "name": "stdout",
     "output_type": "stream",
     "text": [
      "0:00:22.786317 281.717\r",
      "85\t"
     ]
    },
    {
     "name": "stderr",
     "output_type": "stream",
     "text": [
      "INFO:GP:initializing Y\n"
     ]
    },
    {
     "name": "stderr",
     "output_type": "stream",
     "text": [
      "INFO:GP:initializing inference method\n"
     ]
    },
    {
     "name": "stderr",
     "output_type": "stream",
     "text": [
      "INFO:GP:adding kernel and likelihood as parameters\n"
     ]
    },
    {
     "name": "stdout",
     "output_type": "stream",
     "text": [
      "0:00:21.926604 183.447\r",
      "86\t"
     ]
    },
    {
     "name": "stderr",
     "output_type": "stream",
     "text": [
      "INFO:GP:initializing Y\n"
     ]
    },
    {
     "name": "stderr",
     "output_type": "stream",
     "text": [
      "INFO:GP:initializing inference method\n"
     ]
    },
    {
     "name": "stderr",
     "output_type": "stream",
     "text": [
      "INFO:GP:adding kernel and likelihood as parameters\n"
     ]
    },
    {
     "name": "stdout",
     "output_type": "stream",
     "text": [
      "0:00:20.492809 242.658\r",
      "87\t"
     ]
    },
    {
     "name": "stderr",
     "output_type": "stream",
     "text": [
      "INFO:GP:initializing Y\n"
     ]
    },
    {
     "name": "stderr",
     "output_type": "stream",
     "text": [
      "INFO:GP:initializing inference method\n"
     ]
    },
    {
     "name": "stderr",
     "output_type": "stream",
     "text": [
      "INFO:GP:adding kernel and likelihood as parameters\n"
     ]
    },
    {
     "name": "stdout",
     "output_type": "stream",
     "text": [
      "0:00:19.543724 182.765\r",
      "88\t"
     ]
    },
    {
     "name": "stderr",
     "output_type": "stream",
     "text": [
      "INFO:GP:initializing Y\n"
     ]
    },
    {
     "name": "stderr",
     "output_type": "stream",
     "text": [
      "INFO:GP:initializing inference method\n"
     ]
    },
    {
     "name": "stderr",
     "output_type": "stream",
     "text": [
      "INFO:GP:adding kernel and likelihood as parameters\n"
     ]
    },
    {
     "name": "stdout",
     "output_type": "stream",
     "text": [
      "0:00:20.205697 264.717\r",
      "89\t"
     ]
    },
    {
     "name": "stderr",
     "output_type": "stream",
     "text": [
      "INFO:GP:initializing Y\n"
     ]
    },
    {
     "name": "stderr",
     "output_type": "stream",
     "text": [
      "INFO:GP:initializing inference method\n"
     ]
    },
    {
     "name": "stderr",
     "output_type": "stream",
     "text": [
      "INFO:GP:adding kernel and likelihood as parameters\n"
     ]
    },
    {
     "name": "stdout",
     "output_type": "stream",
     "text": [
      "0:00:20.666346 239.990\r",
      "90\t"
     ]
    },
    {
     "name": "stderr",
     "output_type": "stream",
     "text": [
      "INFO:GP:initializing Y\n"
     ]
    },
    {
     "name": "stderr",
     "output_type": "stream",
     "text": [
      "INFO:GP:initializing inference method\n"
     ]
    },
    {
     "name": "stderr",
     "output_type": "stream",
     "text": [
      "INFO:GP:adding kernel and likelihood as parameters\n"
     ]
    },
    {
     "name": "stdout",
     "output_type": "stream",
     "text": [
      "0:00:23.582418 257.177\r",
      "91\t"
     ]
    },
    {
     "name": "stderr",
     "output_type": "stream",
     "text": [
      "INFO:GP:initializing Y\n"
     ]
    },
    {
     "name": "stderr",
     "output_type": "stream",
     "text": [
      "INFO:GP:initializing inference method\n"
     ]
    },
    {
     "name": "stderr",
     "output_type": "stream",
     "text": [
      "INFO:GP:adding kernel and likelihood as parameters\n"
     ]
    },
    {
     "name": "stdout",
     "output_type": "stream",
     "text": [
      "0:00:19.836728 195.103\r",
      "92\t"
     ]
    },
    {
     "name": "stderr",
     "output_type": "stream",
     "text": [
      "INFO:GP:initializing Y\n"
     ]
    },
    {
     "name": "stderr",
     "output_type": "stream",
     "text": [
      "INFO:GP:initializing inference method\n"
     ]
    },
    {
     "name": "stderr",
     "output_type": "stream",
     "text": [
      "INFO:GP:adding kernel and likelihood as parameters\n"
     ]
    },
    {
     "name": "stdout",
     "output_type": "stream",
     "text": [
      "0:00:21.961677 200.122\r",
      "93\t"
     ]
    },
    {
     "name": "stderr",
     "output_type": "stream",
     "text": [
      "INFO:GP:initializing Y\n"
     ]
    },
    {
     "name": "stderr",
     "output_type": "stream",
     "text": [
      "INFO:GP:initializing inference method\n"
     ]
    },
    {
     "name": "stderr",
     "output_type": "stream",
     "text": [
      "INFO:GP:adding kernel and likelihood as parameters\n"
     ]
    },
    {
     "name": "stdout",
     "output_type": "stream",
     "text": [
      "0:00:20.781378 236.616\r",
      "94\t"
     ]
    },
    {
     "name": "stderr",
     "output_type": "stream",
     "text": [
      "INFO:GP:initializing Y\n"
     ]
    },
    {
     "name": "stderr",
     "output_type": "stream",
     "text": [
      "INFO:GP:initializing inference method\n"
     ]
    },
    {
     "name": "stderr",
     "output_type": "stream",
     "text": [
      "INFO:GP:adding kernel and likelihood as parameters\n"
     ]
    },
    {
     "name": "stdout",
     "output_type": "stream",
     "text": [
      "0:00:21.511251 221.210\r",
      "95\t"
     ]
    },
    {
     "name": "stderr",
     "output_type": "stream",
     "text": [
      "INFO:GP:initializing Y\n"
     ]
    },
    {
     "name": "stderr",
     "output_type": "stream",
     "text": [
      "INFO:GP:initializing inference method\n"
     ]
    },
    {
     "name": "stderr",
     "output_type": "stream",
     "text": [
      "INFO:GP:adding kernel and likelihood as parameters\n"
     ]
    },
    {
     "name": "stdout",
     "output_type": "stream",
     "text": [
      "0:00:20.515219 171.938\r",
      "96\t"
     ]
    },
    {
     "name": "stderr",
     "output_type": "stream",
     "text": [
      "INFO:GP:initializing Y\n"
     ]
    },
    {
     "name": "stderr",
     "output_type": "stream",
     "text": [
      "INFO:GP:initializing inference method\n"
     ]
    },
    {
     "name": "stderr",
     "output_type": "stream",
     "text": [
      "INFO:GP:adding kernel and likelihood as parameters\n"
     ]
    },
    {
     "name": "stdout",
     "output_type": "stream",
     "text": [
      "0:00:23.643053 207.842\r",
      "97\t"
     ]
    },
    {
     "name": "stderr",
     "output_type": "stream",
     "text": [
      "INFO:GP:initializing Y\n"
     ]
    },
    {
     "name": "stderr",
     "output_type": "stream",
     "text": [
      "INFO:GP:initializing inference method\n"
     ]
    },
    {
     "name": "stderr",
     "output_type": "stream",
     "text": [
      "INFO:GP:adding kernel and likelihood as parameters\n"
     ]
    },
    {
     "name": "stdout",
     "output_type": "stream",
     "text": [
      "0:00:21.798303 307.645\r",
      "98\t"
     ]
    },
    {
     "name": "stderr",
     "output_type": "stream",
     "text": [
      "INFO:GP:initializing Y\n"
     ]
    },
    {
     "name": "stderr",
     "output_type": "stream",
     "text": [
      "INFO:GP:initializing inference method\n"
     ]
    },
    {
     "name": "stderr",
     "output_type": "stream",
     "text": [
      "INFO:GP:adding kernel and likelihood as parameters\n"
     ]
    },
    {
     "name": "stdout",
     "output_type": "stream",
     "text": [
      "0:00:24.413837 278.797\r",
      "99\t"
     ]
    },
    {
     "name": "stderr",
     "output_type": "stream",
     "text": [
      "INFO:GP:initializing Y\n"
     ]
    },
    {
     "name": "stderr",
     "output_type": "stream",
     "text": [
      "INFO:GP:initializing inference method\n"
     ]
    },
    {
     "name": "stderr",
     "output_type": "stream",
     "text": [
      "INFO:GP:adding kernel and likelihood as parameters\n"
     ]
    },
    {
     "name": "stdout",
     "output_type": "stream",
     "text": [
      "0:00:23.303961 423.321\r",
      "100\t"
     ]
    },
    {
     "name": "stderr",
     "output_type": "stream",
     "text": [
      "INFO:GP:initializing Y\n"
     ]
    },
    {
     "name": "stderr",
     "output_type": "stream",
     "text": [
      "INFO:GP:initializing inference method\n"
     ]
    },
    {
     "name": "stderr",
     "output_type": "stream",
     "text": [
      "INFO:GP:adding kernel and likelihood as parameters\n"
     ]
    },
    {
     "name": "stdout",
     "output_type": "stream",
     "text": [
      "0:00:19.832076 244.803\r",
      "101\t"
     ]
    },
    {
     "name": "stderr",
     "output_type": "stream",
     "text": [
      "INFO:GP:initializing Y\n"
     ]
    },
    {
     "name": "stderr",
     "output_type": "stream",
     "text": [
      "INFO:GP:initializing inference method\n"
     ]
    },
    {
     "name": "stderr",
     "output_type": "stream",
     "text": [
      "INFO:GP:adding kernel and likelihood as parameters\n"
     ]
    },
    {
     "name": "stdout",
     "output_type": "stream",
     "text": [
      "0:00:20.677997 232.055\r",
      "102\t"
     ]
    },
    {
     "name": "stderr",
     "output_type": "stream",
     "text": [
      "INFO:GP:initializing Y\n"
     ]
    },
    {
     "name": "stderr",
     "output_type": "stream",
     "text": [
      "INFO:GP:initializing inference method\n"
     ]
    },
    {
     "name": "stderr",
     "output_type": "stream",
     "text": [
      "INFO:GP:adding kernel and likelihood as parameters\n"
     ]
    },
    {
     "name": "stdout",
     "output_type": "stream",
     "text": [
      "0:00:20.873841 205.513\r",
      "103\t"
     ]
    },
    {
     "name": "stderr",
     "output_type": "stream",
     "text": [
      "INFO:GP:initializing Y\n"
     ]
    },
    {
     "name": "stderr",
     "output_type": "stream",
     "text": [
      "INFO:GP:initializing inference method\n"
     ]
    },
    {
     "name": "stderr",
     "output_type": "stream",
     "text": [
      "INFO:GP:adding kernel and likelihood as parameters\n"
     ]
    },
    {
     "name": "stdout",
     "output_type": "stream",
     "text": [
      "0:00:27.645327 258.036\r",
      "104\t"
     ]
    },
    {
     "name": "stderr",
     "output_type": "stream",
     "text": [
      "INFO:GP:initializing Y\n"
     ]
    },
    {
     "name": "stderr",
     "output_type": "stream",
     "text": [
      "INFO:GP:initializing inference method\n"
     ]
    },
    {
     "name": "stderr",
     "output_type": "stream",
     "text": [
      "INFO:GP:adding kernel and likelihood as parameters\n"
     ]
    },
    {
     "name": "stdout",
     "output_type": "stream",
     "text": [
      "0:00:19.771839 167.052\r",
      "105\t"
     ]
    },
    {
     "name": "stderr",
     "output_type": "stream",
     "text": [
      "INFO:GP:initializing Y\n"
     ]
    },
    {
     "name": "stderr",
     "output_type": "stream",
     "text": [
      "INFO:GP:initializing inference method\n"
     ]
    },
    {
     "name": "stderr",
     "output_type": "stream",
     "text": [
      "INFO:GP:adding kernel and likelihood as parameters\n"
     ]
    },
    {
     "name": "stdout",
     "output_type": "stream",
     "text": [
      "0:00:24.799829 207.884\r",
      "106\t"
     ]
    },
    {
     "name": "stderr",
     "output_type": "stream",
     "text": [
      "INFO:GP:initializing Y\n"
     ]
    },
    {
     "name": "stderr",
     "output_type": "stream",
     "text": [
      "INFO:GP:initializing inference method\n"
     ]
    },
    {
     "name": "stderr",
     "output_type": "stream",
     "text": [
      "INFO:GP:adding kernel and likelihood as parameters\n"
     ]
    },
    {
     "name": "stdout",
     "output_type": "stream",
     "text": [
      "0:00:20.447672 183.675\r",
      "107\t"
     ]
    },
    {
     "name": "stderr",
     "output_type": "stream",
     "text": [
      "INFO:GP:initializing Y\n"
     ]
    },
    {
     "name": "stderr",
     "output_type": "stream",
     "text": [
      "INFO:GP:initializing inference method\n"
     ]
    },
    {
     "name": "stderr",
     "output_type": "stream",
     "text": [
      "INFO:GP:adding kernel and likelihood as parameters\n"
     ]
    },
    {
     "name": "stdout",
     "output_type": "stream",
     "text": [
      "0:00:21.734104 195.307\r",
      "108\t"
     ]
    },
    {
     "name": "stderr",
     "output_type": "stream",
     "text": [
      "INFO:GP:initializing Y\n"
     ]
    },
    {
     "name": "stderr",
     "output_type": "stream",
     "text": [
      "INFO:GP:initializing inference method\n"
     ]
    },
    {
     "name": "stderr",
     "output_type": "stream",
     "text": [
      "INFO:GP:adding kernel and likelihood as parameters\n"
     ]
    },
    {
     "name": "stdout",
     "output_type": "stream",
     "text": [
      "0:00:20.738205 228.911\r",
      "109\t"
     ]
    },
    {
     "name": "stderr",
     "output_type": "stream",
     "text": [
      "INFO:GP:initializing Y\n"
     ]
    },
    {
     "name": "stderr",
     "output_type": "stream",
     "text": [
      "INFO:GP:initializing inference method\n"
     ]
    },
    {
     "name": "stderr",
     "output_type": "stream",
     "text": [
      "INFO:GP:adding kernel and likelihood as parameters\n"
     ]
    },
    {
     "name": "stdout",
     "output_type": "stream",
     "text": [
      "0:00:24.538818 235.521\r",
      "110\t"
     ]
    },
    {
     "name": "stderr",
     "output_type": "stream",
     "text": [
      "INFO:GP:initializing Y\n"
     ]
    },
    {
     "name": "stderr",
     "output_type": "stream",
     "text": [
      "INFO:GP:initializing inference method\n"
     ]
    },
    {
     "name": "stderr",
     "output_type": "stream",
     "text": [
      "INFO:GP:adding kernel and likelihood as parameters\n"
     ]
    },
    {
     "name": "stdout",
     "output_type": "stream",
     "text": [
      "0:00:20.206657 189.208\r",
      "111\t"
     ]
    },
    {
     "name": "stderr",
     "output_type": "stream",
     "text": [
      "INFO:GP:initializing Y\n"
     ]
    },
    {
     "name": "stderr",
     "output_type": "stream",
     "text": [
      "INFO:GP:initializing inference method\n"
     ]
    },
    {
     "name": "stderr",
     "output_type": "stream",
     "text": [
      "INFO:GP:adding kernel and likelihood as parameters\n"
     ]
    },
    {
     "name": "stdout",
     "output_type": "stream",
     "text": [
      "0:00:20.781481 273.481\r",
      "112\t"
     ]
    },
    {
     "name": "stderr",
     "output_type": "stream",
     "text": [
      "INFO:GP:initializing Y\n"
     ]
    },
    {
     "name": "stderr",
     "output_type": "stream",
     "text": [
      "INFO:GP:initializing inference method\n"
     ]
    },
    {
     "name": "stderr",
     "output_type": "stream",
     "text": [
      "INFO:GP:adding kernel and likelihood as parameters\n"
     ]
    },
    {
     "name": "stdout",
     "output_type": "stream",
     "text": [
      "0:00:22.704830 241.382\r",
      "113\t"
     ]
    },
    {
     "name": "stderr",
     "output_type": "stream",
     "text": [
      "INFO:GP:initializing Y\n"
     ]
    },
    {
     "name": "stderr",
     "output_type": "stream",
     "text": [
      "INFO:GP:initializing inference method\n"
     ]
    },
    {
     "name": "stderr",
     "output_type": "stream",
     "text": [
      "INFO:GP:adding kernel and likelihood as parameters\n"
     ]
    },
    {
     "name": "stdout",
     "output_type": "stream",
     "text": [
      "0:00:25.785297 221.271\r",
      "114\t"
     ]
    },
    {
     "name": "stderr",
     "output_type": "stream",
     "text": [
      "INFO:GP:initializing Y\n"
     ]
    },
    {
     "name": "stderr",
     "output_type": "stream",
     "text": [
      "INFO:GP:initializing inference method\n"
     ]
    },
    {
     "name": "stderr",
     "output_type": "stream",
     "text": [
      "INFO:GP:adding kernel and likelihood as parameters\n"
     ]
    },
    {
     "name": "stdout",
     "output_type": "stream",
     "text": [
      "0:00:20.633024 206.156\r"
     ]
    },
    {
     "name": "stdout",
     "output_type": "stream",
     "text": [
      "115\t"
     ]
    },
    {
     "name": "stderr",
     "output_type": "stream",
     "text": [
      "INFO:GP:initializing Y\n"
     ]
    },
    {
     "name": "stderr",
     "output_type": "stream",
     "text": [
      "INFO:GP:initializing inference method\n"
     ]
    },
    {
     "name": "stderr",
     "output_type": "stream",
     "text": [
      "INFO:GP:adding kernel and likelihood as parameters\n"
     ]
    },
    {
     "name": "stdout",
     "output_type": "stream",
     "text": [
      "0:00:27.375727 268.014\r",
      "116\t"
     ]
    },
    {
     "name": "stderr",
     "output_type": "stream",
     "text": [
      "INFO:GP:initializing Y\n"
     ]
    },
    {
     "name": "stderr",
     "output_type": "stream",
     "text": [
      "INFO:GP:initializing inference method\n"
     ]
    },
    {
     "name": "stderr",
     "output_type": "stream",
     "text": [
      "INFO:GP:adding kernel and likelihood as parameters\n"
     ]
    },
    {
     "name": "stdout",
     "output_type": "stream",
     "text": [
      "0:00:23.737552 175.665\r"
     ]
    },
    {
     "name": "stdout",
     "output_type": "stream",
     "text": [
      "117\t"
     ]
    },
    {
     "name": "stderr",
     "output_type": "stream",
     "text": [
      "INFO:GP:initializing Y\n"
     ]
    },
    {
     "name": "stderr",
     "output_type": "stream",
     "text": [
      "INFO:GP:initializing inference method\n"
     ]
    },
    {
     "name": "stderr",
     "output_type": "stream",
     "text": [
      "INFO:GP:adding kernel and likelihood as parameters\n"
     ]
    },
    {
     "name": "stdout",
     "output_type": "stream",
     "text": [
      "0:00:26.534569 246.744\r",
      "118\t"
     ]
    },
    {
     "name": "stderr",
     "output_type": "stream",
     "text": [
      "INFO:GP:initializing Y\n"
     ]
    },
    {
     "name": "stderr",
     "output_type": "stream",
     "text": [
      "INFO:GP:initializing inference method\n"
     ]
    },
    {
     "name": "stderr",
     "output_type": "stream",
     "text": [
      "INFO:GP:adding kernel and likelihood as parameters\n"
     ]
    },
    {
     "name": "stdout",
     "output_type": "stream",
     "text": [
      "0:00:21.962006 234.891\r"
     ]
    },
    {
     "name": "stdout",
     "output_type": "stream",
     "text": [
      "119\t"
     ]
    },
    {
     "name": "stderr",
     "output_type": "stream",
     "text": [
      "INFO:GP:initializing Y\n"
     ]
    },
    {
     "name": "stderr",
     "output_type": "stream",
     "text": [
      "INFO:GP:initializing inference method\n"
     ]
    },
    {
     "name": "stderr",
     "output_type": "stream",
     "text": [
      "INFO:GP:adding kernel and likelihood as parameters\n"
     ]
    },
    {
     "name": "stdout",
     "output_type": "stream",
     "text": [
      "0:00:24.562074 236.597\r",
      "120\t"
     ]
    },
    {
     "name": "stderr",
     "output_type": "stream",
     "text": [
      "INFO:GP:initializing Y\n"
     ]
    },
    {
     "name": "stderr",
     "output_type": "stream",
     "text": [
      "INFO:GP:initializing inference method\n"
     ]
    },
    {
     "name": "stderr",
     "output_type": "stream",
     "text": [
      "INFO:GP:adding kernel and likelihood as parameters\n"
     ]
    },
    {
     "name": "stdout",
     "output_type": "stream",
     "text": [
      "0:00:23.557986 239.185\r",
      "121\t"
     ]
    },
    {
     "name": "stderr",
     "output_type": "stream",
     "text": [
      "INFO:GP:initializing Y\n"
     ]
    },
    {
     "name": "stderr",
     "output_type": "stream",
     "text": [
      "INFO:GP:initializing inference method\n"
     ]
    },
    {
     "name": "stderr",
     "output_type": "stream",
     "text": [
      "INFO:GP:adding kernel and likelihood as parameters\n"
     ]
    },
    {
     "name": "stdout",
     "output_type": "stream",
     "text": [
      "0:00:21.737352 208.189\r",
      "122\t"
     ]
    },
    {
     "name": "stderr",
     "output_type": "stream",
     "text": [
      "INFO:GP:initializing Y\n"
     ]
    },
    {
     "name": "stderr",
     "output_type": "stream",
     "text": [
      "INFO:GP:initializing inference method\n"
     ]
    },
    {
     "name": "stderr",
     "output_type": "stream",
     "text": [
      "INFO:GP:adding kernel and likelihood as parameters\n"
     ]
    },
    {
     "name": "stdout",
     "output_type": "stream",
     "text": [
      "0:00:21.930904 256.047\r",
      "123\t"
     ]
    },
    {
     "name": "stderr",
     "output_type": "stream",
     "text": [
      "INFO:GP:initializing Y\n"
     ]
    },
    {
     "name": "stderr",
     "output_type": "stream",
     "text": [
      "INFO:GP:initializing inference method\n"
     ]
    },
    {
     "name": "stderr",
     "output_type": "stream",
     "text": [
      "INFO:GP:adding kernel and likelihood as parameters\n"
     ]
    },
    {
     "name": "stdout",
     "output_type": "stream",
     "text": [
      "0:00:21.003779 188.217\r",
      "124\t"
     ]
    },
    {
     "name": "stderr",
     "output_type": "stream",
     "text": [
      "INFO:GP:initializing Y\n"
     ]
    },
    {
     "name": "stderr",
     "output_type": "stream",
     "text": [
      "INFO:GP:initializing inference method\n"
     ]
    },
    {
     "name": "stderr",
     "output_type": "stream",
     "text": [
      "INFO:GP:adding kernel and likelihood as parameters\n"
     ]
    },
    {
     "name": "stdout",
     "output_type": "stream",
     "text": [
      "0:00:21.865537 274.139\r"
     ]
    },
    {
     "name": "stdout",
     "output_type": "stream",
     "text": [
      "125\t"
     ]
    },
    {
     "name": "stderr",
     "output_type": "stream",
     "text": [
      "INFO:GP:initializing Y\n"
     ]
    },
    {
     "name": "stderr",
     "output_type": "stream",
     "text": [
      "INFO:GP:initializing inference method\n"
     ]
    },
    {
     "name": "stderr",
     "output_type": "stream",
     "text": [
      "INFO:GP:adding kernel and likelihood as parameters\n"
     ]
    },
    {
     "name": "stdout",
     "output_type": "stream",
     "text": [
      "0:00:24.648587 189.973\r"
     ]
    },
    {
     "name": "stdout",
     "output_type": "stream",
     "text": [
      "126\t"
     ]
    },
    {
     "name": "stderr",
     "output_type": "stream",
     "text": [
      "INFO:GP:initializing Y\n"
     ]
    },
    {
     "name": "stderr",
     "output_type": "stream",
     "text": [
      "INFO:GP:initializing inference method\n"
     ]
    },
    {
     "name": "stderr",
     "output_type": "stream",
     "text": [
      "INFO:GP:adding kernel and likelihood as parameters\n"
     ]
    },
    {
     "name": "stdout",
     "output_type": "stream",
     "text": [
      "0:00:24.253151 261.403\r"
     ]
    },
    {
     "name": "stdout",
     "output_type": "stream",
     "text": [
      "127\t"
     ]
    },
    {
     "name": "stderr",
     "output_type": "stream",
     "text": [
      "INFO:GP:initializing Y\n"
     ]
    },
    {
     "name": "stderr",
     "output_type": "stream",
     "text": [
      "INFO:GP:initializing inference method\n"
     ]
    },
    {
     "name": "stderr",
     "output_type": "stream",
     "text": [
      "INFO:GP:adding kernel and likelihood as parameters\n"
     ]
    },
    {
     "name": "stdout",
     "output_type": "stream",
     "text": [
      "0:00:20.779532 264.646\r",
      "128\t"
     ]
    },
    {
     "name": "stderr",
     "output_type": "stream",
     "text": [
      "INFO:GP:initializing Y\n"
     ]
    },
    {
     "name": "stderr",
     "output_type": "stream",
     "text": [
      "INFO:GP:initializing inference method\n"
     ]
    },
    {
     "name": "stderr",
     "output_type": "stream",
     "text": [
      "INFO:GP:adding kernel and likelihood as parameters\n"
     ]
    },
    {
     "name": "stdout",
     "output_type": "stream",
     "text": [
      "0:00:19.737898 208.739\r"
     ]
    },
    {
     "name": "stdout",
     "output_type": "stream",
     "text": [
      "129\t"
     ]
    },
    {
     "name": "stderr",
     "output_type": "stream",
     "text": [
      "INFO:GP:initializing Y\n"
     ]
    },
    {
     "name": "stderr",
     "output_type": "stream",
     "text": [
      "INFO:GP:initializing inference method\n"
     ]
    },
    {
     "name": "stderr",
     "output_type": "stream",
     "text": [
      "INFO:GP:adding kernel and likelihood as parameters\n"
     ]
    },
    {
     "name": "stdout",
     "output_type": "stream",
     "text": [
      "0:00:21.232756 255.852\r"
     ]
    },
    {
     "name": "stdout",
     "output_type": "stream",
     "text": [
      "130\t"
     ]
    },
    {
     "name": "stderr",
     "output_type": "stream",
     "text": [
      "INFO:GP:initializing Y\n"
     ]
    },
    {
     "name": "stderr",
     "output_type": "stream",
     "text": [
      "INFO:GP:initializing inference method\n"
     ]
    },
    {
     "name": "stderr",
     "output_type": "stream",
     "text": [
      "INFO:GP:adding kernel and likelihood as parameters\n"
     ]
    },
    {
     "name": "stdout",
     "output_type": "stream",
     "text": [
      "0:00:21.516502 211.982\r",
      "131\t"
     ]
    },
    {
     "name": "stderr",
     "output_type": "stream",
     "text": [
      "INFO:GP:initializing Y\n"
     ]
    },
    {
     "name": "stderr",
     "output_type": "stream",
     "text": [
      "INFO:GP:initializing inference method\n"
     ]
    },
    {
     "name": "stderr",
     "output_type": "stream",
     "text": [
      "INFO:GP:adding kernel and likelihood as parameters\n"
     ]
    },
    {
     "name": "stdout",
     "output_type": "stream",
     "text": [
      "0:00:28.534517 359.094\r",
      "132\t"
     ]
    },
    {
     "name": "stderr",
     "output_type": "stream",
     "text": [
      "INFO:GP:initializing Y\n"
     ]
    },
    {
     "name": "stderr",
     "output_type": "stream",
     "text": [
      "INFO:GP:initializing inference method\n"
     ]
    },
    {
     "name": "stderr",
     "output_type": "stream",
     "text": [
      "INFO:GP:adding kernel and likelihood as parameters\n"
     ]
    },
    {
     "name": "stdout",
     "output_type": "stream",
     "text": [
      "0:00:28.795065 251.647\r"
     ]
    },
    {
     "name": "stdout",
     "output_type": "stream",
     "text": [
      "133\t"
     ]
    },
    {
     "name": "stderr",
     "output_type": "stream",
     "text": [
      "INFO:GP:initializing Y\n"
     ]
    },
    {
     "name": "stderr",
     "output_type": "stream",
     "text": [
      "INFO:GP:initializing inference method\n"
     ]
    },
    {
     "name": "stderr",
     "output_type": "stream",
     "text": [
      "INFO:GP:adding kernel and likelihood as parameters\n"
     ]
    },
    {
     "name": "stdout",
     "output_type": "stream",
     "text": [
      "0:00:20.479621 204.536\r"
     ]
    },
    {
     "name": "stdout",
     "output_type": "stream",
     "text": [
      "134\t"
     ]
    },
    {
     "name": "stderr",
     "output_type": "stream",
     "text": [
      "INFO:GP:initializing Y\n"
     ]
    },
    {
     "name": "stderr",
     "output_type": "stream",
     "text": [
      "INFO:GP:initializing inference method\n"
     ]
    },
    {
     "name": "stderr",
     "output_type": "stream",
     "text": [
      "INFO:GP:adding kernel and likelihood as parameters\n"
     ]
    },
    {
     "name": "stdout",
     "output_type": "stream",
     "text": [
      "0:00:25.460152 186.178\r"
     ]
    },
    {
     "name": "stdout",
     "output_type": "stream",
     "text": [
      "135\t"
     ]
    },
    {
     "name": "stderr",
     "output_type": "stream",
     "text": [
      "INFO:GP:initializing Y\n"
     ]
    },
    {
     "name": "stderr",
     "output_type": "stream",
     "text": [
      "INFO:GP:initializing inference method\n"
     ]
    },
    {
     "name": "stderr",
     "output_type": "stream",
     "text": [
      "INFO:GP:adding kernel and likelihood as parameters\n"
     ]
    },
    {
     "name": "stdout",
     "output_type": "stream",
     "text": [
      "0:00:20.128712 210.059\r",
      "136\t"
     ]
    },
    {
     "name": "stderr",
     "output_type": "stream",
     "text": [
      "INFO:GP:initializing Y\n"
     ]
    },
    {
     "name": "stderr",
     "output_type": "stream",
     "text": [
      "INFO:GP:initializing inference method\n"
     ]
    },
    {
     "name": "stderr",
     "output_type": "stream",
     "text": [
      "INFO:GP:adding kernel and likelihood as parameters\n"
     ]
    },
    {
     "name": "stdout",
     "output_type": "stream",
     "text": [
      "0:00:22.521220 232.296\r"
     ]
    },
    {
     "name": "stdout",
     "output_type": "stream",
     "text": [
      "137\t"
     ]
    },
    {
     "name": "stderr",
     "output_type": "stream",
     "text": [
      "INFO:GP:initializing Y\n"
     ]
    },
    {
     "name": "stderr",
     "output_type": "stream",
     "text": [
      "INFO:GP:initializing inference method\n"
     ]
    },
    {
     "name": "stderr",
     "output_type": "stream",
     "text": [
      "INFO:GP:adding kernel and likelihood as parameters\n"
     ]
    },
    {
     "name": "stdout",
     "output_type": "stream",
     "text": [
      "0:00:22.373683 252.223\r"
     ]
    },
    {
     "name": "stdout",
     "output_type": "stream",
     "text": [
      "138\t"
     ]
    },
    {
     "name": "stderr",
     "output_type": "stream",
     "text": [
      "INFO:GP:initializing Y\n"
     ]
    },
    {
     "name": "stderr",
     "output_type": "stream",
     "text": [
      "INFO:GP:initializing inference method\n"
     ]
    },
    {
     "name": "stderr",
     "output_type": "stream",
     "text": [
      "INFO:GP:adding kernel and likelihood as parameters\n"
     ]
    },
    {
     "name": "stdout",
     "output_type": "stream",
     "text": [
      "0:00:22.344682 163.558\r"
     ]
    },
    {
     "name": "stdout",
     "output_type": "stream",
     "text": [
      "139\t"
     ]
    },
    {
     "name": "stderr",
     "output_type": "stream",
     "text": [
      "INFO:GP:initializing Y\n"
     ]
    },
    {
     "name": "stderr",
     "output_type": "stream",
     "text": [
      "INFO:GP:initializing inference method\n"
     ]
    },
    {
     "name": "stderr",
     "output_type": "stream",
     "text": [
      "INFO:GP:adding kernel and likelihood as parameters\n"
     ]
    },
    {
     "name": "stdout",
     "output_type": "stream",
     "text": [
      "0:00:21.670051 348.318\r"
     ]
    },
    {
     "name": "stdout",
     "output_type": "stream",
     "text": [
      "140\t"
     ]
    },
    {
     "name": "stderr",
     "output_type": "stream",
     "text": [
      "INFO:GP:initializing Y\n"
     ]
    },
    {
     "name": "stderr",
     "output_type": "stream",
     "text": [
      "INFO:GP:initializing inference method\n"
     ]
    },
    {
     "name": "stderr",
     "output_type": "stream",
     "text": [
      "INFO:GP:adding kernel and likelihood as parameters\n"
     ]
    },
    {
     "name": "stdout",
     "output_type": "stream",
     "text": [
      "0:00:24.533814 203.104\r",
      "141\t"
     ]
    },
    {
     "name": "stderr",
     "output_type": "stream",
     "text": [
      "INFO:GP:initializing Y\n"
     ]
    },
    {
     "name": "stderr",
     "output_type": "stream",
     "text": [
      "INFO:GP:initializing inference method\n"
     ]
    },
    {
     "name": "stderr",
     "output_type": "stream",
     "text": [
      "INFO:GP:adding kernel and likelihood as parameters\n"
     ]
    },
    {
     "name": "stdout",
     "output_type": "stream",
     "text": [
      "0:00:25.642217 230.497\r"
     ]
    },
    {
     "name": "stdout",
     "output_type": "stream",
     "text": [
      "142\t"
     ]
    },
    {
     "name": "stderr",
     "output_type": "stream",
     "text": [
      "INFO:GP:initializing Y\n"
     ]
    },
    {
     "name": "stderr",
     "output_type": "stream",
     "text": [
      "INFO:GP:initializing inference method\n"
     ]
    },
    {
     "name": "stderr",
     "output_type": "stream",
     "text": [
      "INFO:GP:adding kernel and likelihood as parameters\n"
     ]
    },
    {
     "name": "stdout",
     "output_type": "stream",
     "text": [
      "0:00:25.534487 294.014\r",
      "143\t"
     ]
    },
    {
     "name": "stderr",
     "output_type": "stream",
     "text": [
      "INFO:GP:initializing Y\n"
     ]
    },
    {
     "name": "stderr",
     "output_type": "stream",
     "text": [
      "INFO:GP:initializing inference method\n"
     ]
    },
    {
     "name": "stderr",
     "output_type": "stream",
     "text": [
      "INFO:GP:adding kernel and likelihood as parameters\n"
     ]
    },
    {
     "name": "stdout",
     "output_type": "stream",
     "text": [
      "0:00:21.183082 198.002\r"
     ]
    },
    {
     "name": "stdout",
     "output_type": "stream",
     "text": [
      "144\t"
     ]
    },
    {
     "name": "stderr",
     "output_type": "stream",
     "text": [
      "INFO:GP:initializing Y\n"
     ]
    },
    {
     "name": "stderr",
     "output_type": "stream",
     "text": [
      "INFO:GP:initializing inference method\n"
     ]
    },
    {
     "name": "stderr",
     "output_type": "stream",
     "text": [
      "INFO:GP:adding kernel and likelihood as parameters\n"
     ]
    },
    {
     "name": "stdout",
     "output_type": "stream",
     "text": [
      "0:00:24.597644 206.285\r"
     ]
    },
    {
     "name": "stdout",
     "output_type": "stream",
     "text": [
      "145\t"
     ]
    },
    {
     "name": "stderr",
     "output_type": "stream",
     "text": [
      "INFO:GP:initializing Y\n"
     ]
    },
    {
     "name": "stderr",
     "output_type": "stream",
     "text": [
      "INFO:GP:initializing inference method\n"
     ]
    },
    {
     "name": "stderr",
     "output_type": "stream",
     "text": [
      "INFO:GP:adding kernel and likelihood as parameters\n"
     ]
    },
    {
     "name": "stdout",
     "output_type": "stream",
     "text": [
      "0:00:21.529214 223.330\r"
     ]
    },
    {
     "name": "stdout",
     "output_type": "stream",
     "text": [
      "146\t"
     ]
    },
    {
     "name": "stderr",
     "output_type": "stream",
     "text": [
      "INFO:GP:initializing Y\n"
     ]
    },
    {
     "name": "stderr",
     "output_type": "stream",
     "text": [
      "INFO:GP:initializing inference method\n"
     ]
    },
    {
     "name": "stderr",
     "output_type": "stream",
     "text": [
      "INFO:GP:adding kernel and likelihood as parameters\n"
     ]
    },
    {
     "name": "stdout",
     "output_type": "stream",
     "text": [
      "0:00:21.586296 265.101\r"
     ]
    },
    {
     "name": "stdout",
     "output_type": "stream",
     "text": [
      "147\t"
     ]
    },
    {
     "name": "stderr",
     "output_type": "stream",
     "text": [
      "INFO:GP:initializing Y\n"
     ]
    },
    {
     "name": "stderr",
     "output_type": "stream",
     "text": [
      "INFO:GP:initializing inference method\n"
     ]
    },
    {
     "name": "stderr",
     "output_type": "stream",
     "text": [
      "INFO:GP:adding kernel and likelihood as parameters\n"
     ]
    },
    {
     "name": "stdout",
     "output_type": "stream",
     "text": [
      "0:00:21.348160 224.094\r"
     ]
    },
    {
     "name": "stdout",
     "output_type": "stream",
     "text": [
      "148\t"
     ]
    },
    {
     "name": "stderr",
     "output_type": "stream",
     "text": [
      "INFO:GP:initializing Y\n"
     ]
    },
    {
     "name": "stderr",
     "output_type": "stream",
     "text": [
      "INFO:GP:initializing inference method\n"
     ]
    },
    {
     "name": "stderr",
     "output_type": "stream",
     "text": [
      "INFO:GP:adding kernel and likelihood as parameters\n"
     ]
    },
    {
     "name": "stdout",
     "output_type": "stream",
     "text": [
      "0:00:20.588297 244.295\r"
     ]
    },
    {
     "name": "stdout",
     "output_type": "stream",
     "text": [
      "149\t"
     ]
    },
    {
     "name": "stderr",
     "output_type": "stream",
     "text": [
      "INFO:GP:initializing Y\n"
     ]
    },
    {
     "name": "stderr",
     "output_type": "stream",
     "text": [
      "INFO:GP:initializing inference method\n"
     ]
    },
    {
     "name": "stderr",
     "output_type": "stream",
     "text": [
      "INFO:GP:adding kernel and likelihood as parameters\n"
     ]
    },
    {
     "name": "stdout",
     "output_type": "stream",
     "text": [
      "0:00:20.914229 292.243\r"
     ]
    },
    {
     "name": "stdout",
     "output_type": "stream",
     "text": [
      "150\t"
     ]
    },
    {
     "name": "stderr",
     "output_type": "stream",
     "text": [
      "INFO:GP:initializing Y\n"
     ]
    },
    {
     "name": "stderr",
     "output_type": "stream",
     "text": [
      "INFO:GP:initializing inference method\n"
     ]
    },
    {
     "name": "stderr",
     "output_type": "stream",
     "text": [
      "INFO:GP:adding kernel and likelihood as parameters\n"
     ]
    },
    {
     "name": "stdout",
     "output_type": "stream",
     "text": [
      "0:00:21.735862 279.571\r"
     ]
    },
    {
     "name": "stdout",
     "output_type": "stream",
     "text": [
      "151\t"
     ]
    },
    {
     "name": "stderr",
     "output_type": "stream",
     "text": [
      "INFO:GP:initializing Y\n"
     ]
    },
    {
     "name": "stderr",
     "output_type": "stream",
     "text": [
      "INFO:GP:initializing inference method\n"
     ]
    },
    {
     "name": "stderr",
     "output_type": "stream",
     "text": [
      "INFO:GP:adding kernel and likelihood as parameters\n"
     ]
    },
    {
     "name": "stdout",
     "output_type": "stream",
     "text": [
      "0:00:22.639603 203.029\r"
     ]
    },
    {
     "name": "stdout",
     "output_type": "stream",
     "text": [
      "152\t"
     ]
    },
    {
     "name": "stderr",
     "output_type": "stream",
     "text": [
      "INFO:GP:initializing Y\n"
     ]
    },
    {
     "name": "stderr",
     "output_type": "stream",
     "text": [
      "INFO:GP:initializing inference method\n"
     ]
    },
    {
     "name": "stderr",
     "output_type": "stream",
     "text": [
      "INFO:GP:adding kernel and likelihood as parameters\n"
     ]
    },
    {
     "name": "stdout",
     "output_type": "stream",
     "text": [
      "0:00:21.103961 247.450\r"
     ]
    },
    {
     "name": "stdout",
     "output_type": "stream",
     "text": [
      "153\t"
     ]
    },
    {
     "name": "stderr",
     "output_type": "stream",
     "text": [
      "INFO:GP:initializing Y\n"
     ]
    },
    {
     "name": "stderr",
     "output_type": "stream",
     "text": [
      "INFO:GP:initializing inference method\n"
     ]
    },
    {
     "name": "stderr",
     "output_type": "stream",
     "text": [
      "INFO:GP:adding kernel and likelihood as parameters\n"
     ]
    },
    {
     "name": "stdout",
     "output_type": "stream",
     "text": [
      "0:00:20.740560 194.299\r"
     ]
    },
    {
     "name": "stdout",
     "output_type": "stream",
     "text": [
      "154\t"
     ]
    },
    {
     "name": "stderr",
     "output_type": "stream",
     "text": [
      "INFO:GP:initializing Y\n"
     ]
    },
    {
     "name": "stderr",
     "output_type": "stream",
     "text": [
      "INFO:GP:initializing inference method\n"
     ]
    },
    {
     "name": "stderr",
     "output_type": "stream",
     "text": [
      "INFO:GP:adding kernel and likelihood as parameters\n"
     ]
    },
    {
     "name": "stdout",
     "output_type": "stream",
     "text": [
      "0:00:24.342869 265.815\r"
     ]
    },
    {
     "name": "stdout",
     "output_type": "stream",
     "text": [
      "155\t"
     ]
    },
    {
     "name": "stderr",
     "output_type": "stream",
     "text": [
      "INFO:GP:initializing Y\n"
     ]
    },
    {
     "name": "stderr",
     "output_type": "stream",
     "text": [
      "INFO:GP:initializing inference method\n"
     ]
    },
    {
     "name": "stderr",
     "output_type": "stream",
     "text": [
      "INFO:GP:adding kernel and likelihood as parameters\n"
     ]
    },
    {
     "name": "stdout",
     "output_type": "stream",
     "text": [
      "0:00:23.544893 237.946\r"
     ]
    },
    {
     "name": "stdout",
     "output_type": "stream",
     "text": [
      "156\t"
     ]
    },
    {
     "name": "stderr",
     "output_type": "stream",
     "text": [
      "INFO:GP:initializing Y\n"
     ]
    },
    {
     "name": "stderr",
     "output_type": "stream",
     "text": [
      "INFO:GP:initializing inference method\n"
     ]
    },
    {
     "name": "stderr",
     "output_type": "stream",
     "text": [
      "INFO:GP:adding kernel and likelihood as parameters\n"
     ]
    },
    {
     "name": "stdout",
     "output_type": "stream",
     "text": [
      "0:00:21.211517 168.232\r"
     ]
    },
    {
     "name": "stdout",
     "output_type": "stream",
     "text": [
      "157\t"
     ]
    },
    {
     "name": "stderr",
     "output_type": "stream",
     "text": [
      "INFO:GP:initializing Y\n"
     ]
    },
    {
     "name": "stderr",
     "output_type": "stream",
     "text": [
      "INFO:GP:initializing inference method\n"
     ]
    },
    {
     "name": "stderr",
     "output_type": "stream",
     "text": [
      "INFO:GP:adding kernel and likelihood as parameters\n"
     ]
    },
    {
     "name": "stdout",
     "output_type": "stream",
     "text": [
      "0:00:21.453101 246.775\r"
     ]
    },
    {
     "name": "stdout",
     "output_type": "stream",
     "text": [
      "158\t"
     ]
    },
    {
     "name": "stderr",
     "output_type": "stream",
     "text": [
      "INFO:GP:initializing Y\n"
     ]
    },
    {
     "name": "stderr",
     "output_type": "stream",
     "text": [
      "INFO:GP:initializing inference method\n"
     ]
    },
    {
     "name": "stderr",
     "output_type": "stream",
     "text": [
      "INFO:GP:adding kernel and likelihood as parameters\n"
     ]
    },
    {
     "name": "stdout",
     "output_type": "stream",
     "text": [
      "0:00:21.453988 274.898\r"
     ]
    },
    {
     "name": "stdout",
     "output_type": "stream",
     "text": [
      "159\t"
     ]
    },
    {
     "name": "stderr",
     "output_type": "stream",
     "text": [
      "INFO:GP:initializing Y\n"
     ]
    },
    {
     "name": "stderr",
     "output_type": "stream",
     "text": [
      "INFO:GP:initializing inference method\n"
     ]
    },
    {
     "name": "stderr",
     "output_type": "stream",
     "text": [
      "INFO:GP:adding kernel and likelihood as parameters\n"
     ]
    },
    {
     "name": "stdout",
     "output_type": "stream",
     "text": [
      "0:00:21.487226 354.637\r"
     ]
    },
    {
     "name": "stdout",
     "output_type": "stream",
     "text": [
      "160\t"
     ]
    },
    {
     "name": "stderr",
     "output_type": "stream",
     "text": [
      "INFO:GP:initializing Y\n"
     ]
    },
    {
     "name": "stderr",
     "output_type": "stream",
     "text": [
      "INFO:GP:initializing inference method\n"
     ]
    },
    {
     "name": "stderr",
     "output_type": "stream",
     "text": [
      "INFO:GP:adding kernel and likelihood as parameters\n"
     ]
    },
    {
     "name": "stdout",
     "output_type": "stream",
     "text": [
      "0:00:23.320862 315.381\r"
     ]
    },
    {
     "name": "stdout",
     "output_type": "stream",
     "text": [
      "161\t"
     ]
    },
    {
     "name": "stderr",
     "output_type": "stream",
     "text": [
      "INFO:GP:initializing Y\n"
     ]
    },
    {
     "name": "stderr",
     "output_type": "stream",
     "text": [
      "INFO:GP:initializing inference method\n"
     ]
    },
    {
     "name": "stderr",
     "output_type": "stream",
     "text": [
      "INFO:GP:adding kernel and likelihood as parameters\n"
     ]
    },
    {
     "name": "stdout",
     "output_type": "stream",
     "text": [
      "0:00:23.514846 271.000\r"
     ]
    },
    {
     "name": "stdout",
     "output_type": "stream",
     "text": [
      "162\t"
     ]
    },
    {
     "name": "stderr",
     "output_type": "stream",
     "text": [
      "INFO:GP:initializing Y\n"
     ]
    },
    {
     "name": "stderr",
     "output_type": "stream",
     "text": [
      "INFO:GP:initializing inference method\n"
     ]
    },
    {
     "name": "stderr",
     "output_type": "stream",
     "text": [
      "INFO:GP:adding kernel and likelihood as parameters\n"
     ]
    },
    {
     "name": "stdout",
     "output_type": "stream",
     "text": [
      "0:00:22.231630 161.849\r"
     ]
    },
    {
     "name": "stdout",
     "output_type": "stream",
     "text": [
      "163\t"
     ]
    },
    {
     "name": "stderr",
     "output_type": "stream",
     "text": [
      "INFO:GP:initializing Y\n"
     ]
    },
    {
     "name": "stderr",
     "output_type": "stream",
     "text": [
      "INFO:GP:initializing inference method\n"
     ]
    },
    {
     "name": "stderr",
     "output_type": "stream",
     "text": [
      "INFO:GP:adding kernel and likelihood as parameters\n"
     ]
    },
    {
     "name": "stdout",
     "output_type": "stream",
     "text": [
      "0:00:24.491076 207.771\r"
     ]
    },
    {
     "name": "stdout",
     "output_type": "stream",
     "text": [
      "164\t"
     ]
    },
    {
     "name": "stderr",
     "output_type": "stream",
     "text": [
      "INFO:GP:initializing Y\n"
     ]
    },
    {
     "name": "stderr",
     "output_type": "stream",
     "text": [
      "INFO:GP:initializing inference method\n"
     ]
    },
    {
     "name": "stderr",
     "output_type": "stream",
     "text": [
      "INFO:GP:adding kernel and likelihood as parameters\n"
     ]
    },
    {
     "name": "stdout",
     "output_type": "stream",
     "text": [
      "0:00:29.736118 284.868\r"
     ]
    },
    {
     "name": "stdout",
     "output_type": "stream",
     "text": [
      "165\t"
     ]
    },
    {
     "name": "stderr",
     "output_type": "stream",
     "text": [
      "INFO:GP:initializing Y\n"
     ]
    },
    {
     "name": "stderr",
     "output_type": "stream",
     "text": [
      "INFO:GP:initializing inference method\n"
     ]
    },
    {
     "name": "stderr",
     "output_type": "stream",
     "text": [
      "INFO:GP:adding kernel and likelihood as parameters\n"
     ]
    },
    {
     "name": "stdout",
     "output_type": "stream",
     "text": [
      "0:00:24.638059 209.435\r"
     ]
    },
    {
     "name": "stdout",
     "output_type": "stream",
     "text": [
      "166\t"
     ]
    },
    {
     "name": "stderr",
     "output_type": "stream",
     "text": [
      "INFO:GP:initializing Y\n"
     ]
    },
    {
     "name": "stderr",
     "output_type": "stream",
     "text": [
      "INFO:GP:initializing inference method\n"
     ]
    },
    {
     "name": "stderr",
     "output_type": "stream",
     "text": [
      "INFO:GP:adding kernel and likelihood as parameters\n"
     ]
    },
    {
     "name": "stdout",
     "output_type": "stream",
     "text": [
      "0:00:29.524685 166.125\r"
     ]
    },
    {
     "name": "stdout",
     "output_type": "stream",
     "text": [
      "167\t"
     ]
    },
    {
     "name": "stderr",
     "output_type": "stream",
     "text": [
      "INFO:GP:initializing Y\n"
     ]
    },
    {
     "name": "stderr",
     "output_type": "stream",
     "text": [
      "INFO:GP:initializing inference method\n"
     ]
    },
    {
     "name": "stderr",
     "output_type": "stream",
     "text": [
      "INFO:GP:adding kernel and likelihood as parameters\n"
     ]
    },
    {
     "name": "stdout",
     "output_type": "stream",
     "text": [
      "0:00:25.361900 213.773\r"
     ]
    },
    {
     "name": "stdout",
     "output_type": "stream",
     "text": [
      "168\t"
     ]
    },
    {
     "name": "stderr",
     "output_type": "stream",
     "text": [
      "INFO:GP:initializing Y\n"
     ]
    },
    {
     "name": "stderr",
     "output_type": "stream",
     "text": [
      "INFO:GP:initializing inference method\n"
     ]
    },
    {
     "name": "stderr",
     "output_type": "stream",
     "text": [
      "INFO:GP:adding kernel and likelihood as parameters\n"
     ]
    },
    {
     "name": "stdout",
     "output_type": "stream",
     "text": [
      "0:00:23.264877 195.278\r"
     ]
    },
    {
     "name": "stdout",
     "output_type": "stream",
     "text": [
      "169\t"
     ]
    },
    {
     "name": "stderr",
     "output_type": "stream",
     "text": [
      "INFO:GP:initializing Y\n"
     ]
    },
    {
     "name": "stderr",
     "output_type": "stream",
     "text": [
      "INFO:GP:initializing inference method\n"
     ]
    },
    {
     "name": "stderr",
     "output_type": "stream",
     "text": [
      "INFO:GP:adding kernel and likelihood as parameters\n"
     ]
    },
    {
     "name": "stdout",
     "output_type": "stream",
     "text": [
      "0:00:21.347004 195.635\r"
     ]
    },
    {
     "name": "stdout",
     "output_type": "stream",
     "text": [
      "170\t"
     ]
    },
    {
     "name": "stderr",
     "output_type": "stream",
     "text": [
      "INFO:GP:initializing Y\n"
     ]
    },
    {
     "name": "stderr",
     "output_type": "stream",
     "text": [
      "INFO:GP:initializing inference method\n"
     ]
    },
    {
     "name": "stderr",
     "output_type": "stream",
     "text": [
      "INFO:GP:adding kernel and likelihood as parameters\n"
     ]
    },
    {
     "name": "stdout",
     "output_type": "stream",
     "text": [
      "0:00:23.380738 216.364\r"
     ]
    },
    {
     "name": "stdout",
     "output_type": "stream",
     "text": [
      "171\t"
     ]
    },
    {
     "name": "stderr",
     "output_type": "stream",
     "text": [
      "INFO:GP:initializing Y\n"
     ]
    },
    {
     "name": "stderr",
     "output_type": "stream",
     "text": [
      "INFO:GP:initializing inference method\n"
     ]
    },
    {
     "name": "stderr",
     "output_type": "stream",
     "text": [
      "INFO:GP:adding kernel and likelihood as parameters\n"
     ]
    },
    {
     "name": "stdout",
     "output_type": "stream",
     "text": [
      "0:00:24.343922 291.680\r"
     ]
    },
    {
     "name": "stdout",
     "output_type": "stream",
     "text": [
      "172\t"
     ]
    },
    {
     "name": "stderr",
     "output_type": "stream",
     "text": [
      "INFO:GP:initializing Y\n"
     ]
    },
    {
     "name": "stderr",
     "output_type": "stream",
     "text": [
      "INFO:GP:initializing inference method\n"
     ]
    },
    {
     "name": "stderr",
     "output_type": "stream",
     "text": [
      "INFO:GP:adding kernel and likelihood as parameters\n"
     ]
    },
    {
     "name": "stdout",
     "output_type": "stream",
     "text": [
      "0:00:21.336944 184.790\r"
     ]
    },
    {
     "name": "stdout",
     "output_type": "stream",
     "text": [
      "173\t"
     ]
    },
    {
     "name": "stderr",
     "output_type": "stream",
     "text": [
      "INFO:GP:initializing Y\n"
     ]
    },
    {
     "name": "stderr",
     "output_type": "stream",
     "text": [
      "INFO:GP:initializing inference method\n"
     ]
    },
    {
     "name": "stderr",
     "output_type": "stream",
     "text": [
      "INFO:GP:adding kernel and likelihood as parameters\n"
     ]
    },
    {
     "name": "stdout",
     "output_type": "stream",
     "text": [
      "0:00:20.315809 213.882\r"
     ]
    },
    {
     "name": "stdout",
     "output_type": "stream",
     "text": [
      "174\t"
     ]
    },
    {
     "name": "stderr",
     "output_type": "stream",
     "text": [
      "INFO:GP:initializing Y\n"
     ]
    },
    {
     "name": "stderr",
     "output_type": "stream",
     "text": [
      "INFO:GP:initializing inference method\n"
     ]
    },
    {
     "name": "stderr",
     "output_type": "stream",
     "text": [
      "INFO:GP:adding kernel and likelihood as parameters\n"
     ]
    },
    {
     "name": "stdout",
     "output_type": "stream",
     "text": [
      "0:00:24.399625 202.636\r"
     ]
    },
    {
     "name": "stdout",
     "output_type": "stream",
     "text": [
      "175\t"
     ]
    },
    {
     "name": "stderr",
     "output_type": "stream",
     "text": [
      "INFO:GP:initializing Y\n"
     ]
    },
    {
     "name": "stderr",
     "output_type": "stream",
     "text": [
      "INFO:GP:initializing inference method\n"
     ]
    },
    {
     "name": "stderr",
     "output_type": "stream",
     "text": [
      "INFO:GP:adding kernel and likelihood as parameters\n"
     ]
    },
    {
     "name": "stdout",
     "output_type": "stream",
     "text": [
      "0:00:23.442293 232.760\r"
     ]
    },
    {
     "name": "stdout",
     "output_type": "stream",
     "text": [
      "176\t"
     ]
    },
    {
     "name": "stderr",
     "output_type": "stream",
     "text": [
      "INFO:GP:initializing Y\n"
     ]
    },
    {
     "name": "stderr",
     "output_type": "stream",
     "text": [
      "INFO:GP:initializing inference method\n"
     ]
    },
    {
     "name": "stderr",
     "output_type": "stream",
     "text": [
      "INFO:GP:adding kernel and likelihood as parameters\n"
     ]
    },
    {
     "name": "stdout",
     "output_type": "stream",
     "text": [
      "0:00:22.684364 215.703\r"
     ]
    },
    {
     "name": "stdout",
     "output_type": "stream",
     "text": [
      "177\t"
     ]
    },
    {
     "name": "stderr",
     "output_type": "stream",
     "text": [
      "INFO:GP:initializing Y\n"
     ]
    },
    {
     "name": "stderr",
     "output_type": "stream",
     "text": [
      "INFO:GP:initializing inference method\n"
     ]
    },
    {
     "name": "stderr",
     "output_type": "stream",
     "text": [
      "INFO:GP:adding kernel and likelihood as parameters\n"
     ]
    },
    {
     "name": "stdout",
     "output_type": "stream",
     "text": [
      "0:00:22.242617 219.133\r"
     ]
    },
    {
     "name": "stdout",
     "output_type": "stream",
     "text": [
      "178\t"
     ]
    },
    {
     "name": "stderr",
     "output_type": "stream",
     "text": [
      "INFO:GP:initializing Y\n"
     ]
    },
    {
     "name": "stderr",
     "output_type": "stream",
     "text": [
      "INFO:GP:initializing inference method\n"
     ]
    },
    {
     "name": "stderr",
     "output_type": "stream",
     "text": [
      "INFO:GP:adding kernel and likelihood as parameters\n"
     ]
    },
    {
     "name": "stdout",
     "output_type": "stream",
     "text": [
      "0:00:21.943040 270.486\r"
     ]
    },
    {
     "name": "stdout",
     "output_type": "stream",
     "text": [
      "179\t"
     ]
    },
    {
     "name": "stderr",
     "output_type": "stream",
     "text": [
      "INFO:GP:initializing Y\n"
     ]
    },
    {
     "name": "stderr",
     "output_type": "stream",
     "text": [
      "INFO:GP:initializing inference method\n"
     ]
    },
    {
     "name": "stderr",
     "output_type": "stream",
     "text": [
      "INFO:GP:adding kernel and likelihood as parameters\n"
     ]
    },
    {
     "name": "stdout",
     "output_type": "stream",
     "text": [
      "0:00:23.356878 205.157\r"
     ]
    },
    {
     "name": "stdout",
     "output_type": "stream",
     "text": [
      "180\t"
     ]
    },
    {
     "name": "stderr",
     "output_type": "stream",
     "text": [
      "INFO:GP:initializing Y\n"
     ]
    },
    {
     "name": "stderr",
     "output_type": "stream",
     "text": [
      "INFO:GP:initializing inference method\n"
     ]
    },
    {
     "name": "stderr",
     "output_type": "stream",
     "text": [
      "INFO:GP:adding kernel and likelihood as parameters\n"
     ]
    },
    {
     "name": "stdout",
     "output_type": "stream",
     "text": [
      "0:00:23.461454 296.794\r"
     ]
    },
    {
     "name": "stdout",
     "output_type": "stream",
     "text": [
      "181\t"
     ]
    },
    {
     "name": "stderr",
     "output_type": "stream",
     "text": [
      "INFO:GP:initializing Y\n"
     ]
    },
    {
     "name": "stderr",
     "output_type": "stream",
     "text": [
      "INFO:GP:initializing inference method\n"
     ]
    },
    {
     "name": "stderr",
     "output_type": "stream",
     "text": [
      "INFO:GP:adding kernel and likelihood as parameters\n"
     ]
    },
    {
     "name": "stdout",
     "output_type": "stream",
     "text": [
      "0:00:21.593415 239.596\r"
     ]
    },
    {
     "name": "stdout",
     "output_type": "stream",
     "text": [
      "182\t"
     ]
    },
    {
     "name": "stderr",
     "output_type": "stream",
     "text": [
      "INFO:GP:initializing Y\n"
     ]
    },
    {
     "name": "stderr",
     "output_type": "stream",
     "text": [
      "INFO:GP:initializing inference method\n"
     ]
    },
    {
     "name": "stderr",
     "output_type": "stream",
     "text": [
      "INFO:GP:adding kernel and likelihood as parameters\n"
     ]
    },
    {
     "name": "stdout",
     "output_type": "stream",
     "text": [
      "0:00:22.148010 322.549\r"
     ]
    },
    {
     "name": "stdout",
     "output_type": "stream",
     "text": [
      "183\t"
     ]
    },
    {
     "name": "stderr",
     "output_type": "stream",
     "text": [
      "INFO:GP:initializing Y\n"
     ]
    },
    {
     "name": "stderr",
     "output_type": "stream",
     "text": [
      "INFO:GP:initializing inference method\n"
     ]
    },
    {
     "name": "stderr",
     "output_type": "stream",
     "text": [
      "INFO:GP:adding kernel and likelihood as parameters\n"
     ]
    },
    {
     "name": "stdout",
     "output_type": "stream",
     "text": [
      "0:00:22.769281 225.210\r"
     ]
    },
    {
     "name": "stdout",
     "output_type": "stream",
     "text": [
      "184\t"
     ]
    },
    {
     "name": "stderr",
     "output_type": "stream",
     "text": [
      "INFO:GP:initializing Y\n"
     ]
    },
    {
     "name": "stderr",
     "output_type": "stream",
     "text": [
      "INFO:GP:initializing inference method\n"
     ]
    },
    {
     "name": "stderr",
     "output_type": "stream",
     "text": [
      "INFO:GP:adding kernel and likelihood as parameters\n"
     ]
    },
    {
     "name": "stdout",
     "output_type": "stream",
     "text": [
      "0:00:26.368666 196.540\r"
     ]
    },
    {
     "name": "stdout",
     "output_type": "stream",
     "text": [
      "185\t"
     ]
    },
    {
     "name": "stderr",
     "output_type": "stream",
     "text": [
      "INFO:GP:initializing Y\n"
     ]
    },
    {
     "name": "stderr",
     "output_type": "stream",
     "text": [
      "INFO:GP:initializing inference method\n"
     ]
    },
    {
     "name": "stderr",
     "output_type": "stream",
     "text": [
      "INFO:GP:adding kernel and likelihood as parameters\n"
     ]
    },
    {
     "name": "stdout",
     "output_type": "stream",
     "text": [
      "0:00:21.189728 250.852\r"
     ]
    },
    {
     "name": "stdout",
     "output_type": "stream",
     "text": [
      "186\t"
     ]
    },
    {
     "name": "stderr",
     "output_type": "stream",
     "text": [
      "INFO:GP:initializing Y\n"
     ]
    },
    {
     "name": "stderr",
     "output_type": "stream",
     "text": [
      "INFO:GP:initializing inference method\n"
     ]
    },
    {
     "name": "stderr",
     "output_type": "stream",
     "text": [
      "INFO:GP:adding kernel and likelihood as parameters\n"
     ]
    },
    {
     "name": "stdout",
     "output_type": "stream",
     "text": [
      "0:00:21.193280 256.839\r"
     ]
    },
    {
     "name": "stdout",
     "output_type": "stream",
     "text": [
      "187\t"
     ]
    },
    {
     "name": "stderr",
     "output_type": "stream",
     "text": [
      "INFO:GP:initializing Y\n"
     ]
    },
    {
     "name": "stderr",
     "output_type": "stream",
     "text": [
      "INFO:GP:initializing inference method\n"
     ]
    },
    {
     "name": "stderr",
     "output_type": "stream",
     "text": [
      "INFO:GP:adding kernel and likelihood as parameters\n"
     ]
    },
    {
     "name": "stdout",
     "output_type": "stream",
     "text": [
      "0:00:23.184207 203.228\r"
     ]
    },
    {
     "name": "stdout",
     "output_type": "stream",
     "text": [
      "188\t"
     ]
    },
    {
     "name": "stderr",
     "output_type": "stream",
     "text": [
      "INFO:GP:initializing Y\n"
     ]
    },
    {
     "name": "stderr",
     "output_type": "stream",
     "text": [
      "INFO:GP:initializing inference method\n"
     ]
    },
    {
     "name": "stderr",
     "output_type": "stream",
     "text": [
      "INFO:GP:adding kernel and likelihood as parameters\n"
     ]
    },
    {
     "name": "stdout",
     "output_type": "stream",
     "text": [
      "0:00:28.458385 314.130\r"
     ]
    },
    {
     "name": "stdout",
     "output_type": "stream",
     "text": [
      "189\t"
     ]
    },
    {
     "name": "stderr",
     "output_type": "stream",
     "text": [
      "INFO:GP:initializing Y\n"
     ]
    },
    {
     "name": "stderr",
     "output_type": "stream",
     "text": [
      "INFO:GP:initializing inference method\n"
     ]
    },
    {
     "name": "stderr",
     "output_type": "stream",
     "text": [
      "INFO:GP:adding kernel and likelihood as parameters\n"
     ]
    },
    {
     "name": "stdout",
     "output_type": "stream",
     "text": [
      "0:00:21.259513 176.065\r"
     ]
    },
    {
     "name": "stdout",
     "output_type": "stream",
     "text": [
      "190\t"
     ]
    },
    {
     "name": "stderr",
     "output_type": "stream",
     "text": [
      "INFO:GP:initializing Y\n"
     ]
    },
    {
     "name": "stderr",
     "output_type": "stream",
     "text": [
      "INFO:GP:initializing inference method\n"
     ]
    },
    {
     "name": "stderr",
     "output_type": "stream",
     "text": [
      "INFO:GP:adding kernel and likelihood as parameters\n"
     ]
    },
    {
     "name": "stdout",
     "output_type": "stream",
     "text": [
      "0:00:23.744082 306.523\r"
     ]
    },
    {
     "name": "stdout",
     "output_type": "stream",
     "text": [
      "191\t"
     ]
    },
    {
     "name": "stderr",
     "output_type": "stream",
     "text": [
      "INFO:GP:initializing Y\n"
     ]
    },
    {
     "name": "stderr",
     "output_type": "stream",
     "text": [
      "INFO:GP:initializing inference method\n"
     ]
    },
    {
     "name": "stderr",
     "output_type": "stream",
     "text": [
      "INFO:GP:adding kernel and likelihood as parameters\n"
     ]
    },
    {
     "name": "stdout",
     "output_type": "stream",
     "text": [
      "0:00:20.802182 234.410\r"
     ]
    },
    {
     "name": "stdout",
     "output_type": "stream",
     "text": [
      "192\t"
     ]
    },
    {
     "name": "stderr",
     "output_type": "stream",
     "text": [
      "INFO:GP:initializing Y\n"
     ]
    },
    {
     "name": "stderr",
     "output_type": "stream",
     "text": [
      "INFO:GP:initializing inference method\n"
     ]
    },
    {
     "name": "stderr",
     "output_type": "stream",
     "text": [
      "INFO:GP:adding kernel and likelihood as parameters\n"
     ]
    },
    {
     "name": "stdout",
     "output_type": "stream",
     "text": [
      "0:00:25.744740 276.089\r"
     ]
    },
    {
     "name": "stdout",
     "output_type": "stream",
     "text": [
      "193\t"
     ]
    },
    {
     "name": "stderr",
     "output_type": "stream",
     "text": [
      "INFO:GP:initializing Y\n"
     ]
    },
    {
     "name": "stderr",
     "output_type": "stream",
     "text": [
      "INFO:GP:initializing inference method\n"
     ]
    },
    {
     "name": "stderr",
     "output_type": "stream",
     "text": [
      "INFO:GP:adding kernel and likelihood as parameters\n"
     ]
    },
    {
     "name": "stdout",
     "output_type": "stream",
     "text": [
      "0:00:23.596424 250.656\r"
     ]
    },
    {
     "name": "stdout",
     "output_type": "stream",
     "text": [
      "194\t"
     ]
    },
    {
     "name": "stderr",
     "output_type": "stream",
     "text": [
      "INFO:GP:initializing Y\n"
     ]
    },
    {
     "name": "stderr",
     "output_type": "stream",
     "text": [
      "INFO:GP:initializing inference method\n"
     ]
    },
    {
     "name": "stderr",
     "output_type": "stream",
     "text": [
      "INFO:GP:adding kernel and likelihood as parameters\n"
     ]
    },
    {
     "name": "stdout",
     "output_type": "stream",
     "text": [
      "0:00:23.610022 202.662\r"
     ]
    },
    {
     "name": "stdout",
     "output_type": "stream",
     "text": [
      "195\t"
     ]
    },
    {
     "name": "stderr",
     "output_type": "stream",
     "text": [
      "INFO:GP:initializing Y\n"
     ]
    },
    {
     "name": "stderr",
     "output_type": "stream",
     "text": [
      "INFO:GP:initializing inference method\n"
     ]
    },
    {
     "name": "stderr",
     "output_type": "stream",
     "text": [
      "INFO:GP:adding kernel and likelihood as parameters\n"
     ]
    },
    {
     "name": "stdout",
     "output_type": "stream",
     "text": [
      "0:00:24.492214 216.744\r"
     ]
    },
    {
     "name": "stdout",
     "output_type": "stream",
     "text": [
      "196\t"
     ]
    },
    {
     "name": "stderr",
     "output_type": "stream",
     "text": [
      "INFO:GP:initializing Y\n"
     ]
    },
    {
     "name": "stderr",
     "output_type": "stream",
     "text": [
      "INFO:GP:initializing inference method\n"
     ]
    },
    {
     "name": "stderr",
     "output_type": "stream",
     "text": [
      "INFO:GP:adding kernel and likelihood as parameters\n"
     ]
    },
    {
     "name": "stdout",
     "output_type": "stream",
     "text": [
      "0:00:21.826002 195.775\r"
     ]
    },
    {
     "name": "stdout",
     "output_type": "stream",
     "text": [
      "197\t"
     ]
    },
    {
     "name": "stderr",
     "output_type": "stream",
     "text": [
      "INFO:GP:initializing Y\n"
     ]
    },
    {
     "name": "stderr",
     "output_type": "stream",
     "text": [
      "INFO:GP:initializing inference method\n"
     ]
    },
    {
     "name": "stderr",
     "output_type": "stream",
     "text": [
      "INFO:GP:adding kernel and likelihood as parameters\n"
     ]
    },
    {
     "name": "stdout",
     "output_type": "stream",
     "text": [
      "0:00:28.628264 375.157\r"
     ]
    },
    {
     "name": "stdout",
     "output_type": "stream",
     "text": [
      "198\t"
     ]
    },
    {
     "name": "stderr",
     "output_type": "stream",
     "text": [
      "INFO:GP:initializing Y\n"
     ]
    },
    {
     "name": "stderr",
     "output_type": "stream",
     "text": [
      "INFO:GP:initializing inference method\n"
     ]
    },
    {
     "name": "stderr",
     "output_type": "stream",
     "text": [
      "INFO:GP:adding kernel and likelihood as parameters\n"
     ]
    },
    {
     "name": "stdout",
     "output_type": "stream",
     "text": [
      "0:00:25.329396 308.765\r"
     ]
    },
    {
     "name": "stdout",
     "output_type": "stream",
     "text": [
      "199\t"
     ]
    },
    {
     "name": "stderr",
     "output_type": "stream",
     "text": [
      "INFO:GP:initializing Y\n"
     ]
    },
    {
     "name": "stderr",
     "output_type": "stream",
     "text": [
      "INFO:GP:initializing inference method\n"
     ]
    },
    {
     "name": "stderr",
     "output_type": "stream",
     "text": [
      "INFO:GP:adding kernel and likelihood as parameters\n"
     ]
    },
    {
     "name": "stdout",
     "output_type": "stream",
     "text": [
      "0:00:21.211791 160.054\r"
     ]
    },
    {
     "name": "stdout",
     "output_type": "stream",
     "text": [
      "200\t"
     ]
    },
    {
     "name": "stderr",
     "output_type": "stream",
     "text": [
      "INFO:GP:initializing Y\n"
     ]
    },
    {
     "name": "stderr",
     "output_type": "stream",
     "text": [
      "INFO:GP:initializing inference method\n"
     ]
    },
    {
     "name": "stderr",
     "output_type": "stream",
     "text": [
      "INFO:GP:adding kernel and likelihood as parameters\n"
     ]
    },
    {
     "name": "stdout",
     "output_type": "stream",
     "text": [
      "0:00:22.241171 181.254\r"
     ]
    },
    {
     "name": "stdout",
     "output_type": "stream",
     "text": [
      "201\t"
     ]
    },
    {
     "name": "stderr",
     "output_type": "stream",
     "text": [
      "INFO:GP:initializing Y\n"
     ]
    },
    {
     "name": "stderr",
     "output_type": "stream",
     "text": [
      "INFO:GP:initializing inference method\n"
     ]
    },
    {
     "name": "stderr",
     "output_type": "stream",
     "text": [
      "INFO:GP:adding kernel and likelihood as parameters\n"
     ]
    },
    {
     "name": "stdout",
     "output_type": "stream",
     "text": [
      "0:00:28.254335 290.681\r"
     ]
    },
    {
     "name": "stdout",
     "output_type": "stream",
     "text": [
      "202\t"
     ]
    },
    {
     "name": "stderr",
     "output_type": "stream",
     "text": [
      "INFO:GP:initializing Y\n"
     ]
    },
    {
     "name": "stderr",
     "output_type": "stream",
     "text": [
      "INFO:GP:initializing inference method\n"
     ]
    },
    {
     "name": "stderr",
     "output_type": "stream",
     "text": [
      "INFO:GP:adding kernel and likelihood as parameters\n"
     ]
    },
    {
     "name": "stdout",
     "output_type": "stream",
     "text": [
      "0:00:23.131027 215.986\r"
     ]
    },
    {
     "name": "stdout",
     "output_type": "stream",
     "text": [
      "203\t"
     ]
    },
    {
     "name": "stderr",
     "output_type": "stream",
     "text": [
      "INFO:GP:initializing Y\n"
     ]
    },
    {
     "name": "stderr",
     "output_type": "stream",
     "text": [
      "INFO:GP:initializing inference method\n"
     ]
    },
    {
     "name": "stderr",
     "output_type": "stream",
     "text": [
      "INFO:GP:adding kernel and likelihood as parameters\n"
     ]
    },
    {
     "name": "stdout",
     "output_type": "stream",
     "text": [
      "0:00:23.209978 239.186\r"
     ]
    },
    {
     "name": "stdout",
     "output_type": "stream",
     "text": [
      "204\t"
     ]
    },
    {
     "name": "stderr",
     "output_type": "stream",
     "text": [
      "INFO:GP:initializing Y\n"
     ]
    },
    {
     "name": "stderr",
     "output_type": "stream",
     "text": [
      "INFO:GP:initializing inference method\n"
     ]
    },
    {
     "name": "stderr",
     "output_type": "stream",
     "text": [
      "INFO:GP:adding kernel and likelihood as parameters\n"
     ]
    },
    {
     "name": "stdout",
     "output_type": "stream",
     "text": [
      "0:00:23.118855 418.842\r"
     ]
    },
    {
     "name": "stdout",
     "output_type": "stream",
     "text": [
      "205\t"
     ]
    },
    {
     "name": "stderr",
     "output_type": "stream",
     "text": [
      "INFO:GP:initializing Y\n"
     ]
    },
    {
     "name": "stderr",
     "output_type": "stream",
     "text": [
      "INFO:GP:initializing inference method\n"
     ]
    },
    {
     "name": "stderr",
     "output_type": "stream",
     "text": [
      "INFO:GP:adding kernel and likelihood as parameters\n"
     ]
    },
    {
     "name": "stdout",
     "output_type": "stream",
     "text": [
      "0:00:20.838574 241.024\r"
     ]
    },
    {
     "name": "stdout",
     "output_type": "stream",
     "text": [
      "206\t"
     ]
    },
    {
     "name": "stderr",
     "output_type": "stream",
     "text": [
      "INFO:GP:initializing Y\n"
     ]
    },
    {
     "name": "stderr",
     "output_type": "stream",
     "text": [
      "INFO:GP:initializing inference method\n"
     ]
    },
    {
     "name": "stderr",
     "output_type": "stream",
     "text": [
      "INFO:GP:adding kernel and likelihood as parameters\n"
     ]
    },
    {
     "name": "stdout",
     "output_type": "stream",
     "text": [
      "0:00:23.867652 253.802\r"
     ]
    },
    {
     "name": "stdout",
     "output_type": "stream",
     "text": [
      "207\t"
     ]
    },
    {
     "name": "stderr",
     "output_type": "stream",
     "text": [
      "INFO:GP:initializing Y\n"
     ]
    },
    {
     "name": "stderr",
     "output_type": "stream",
     "text": [
      "INFO:GP:initializing inference method\n"
     ]
    },
    {
     "name": "stderr",
     "output_type": "stream",
     "text": [
      "INFO:GP:adding kernel and likelihood as parameters\n"
     ]
    },
    {
     "name": "stdout",
     "output_type": "stream",
     "text": [
      "0:00:23.588076 168.217\r"
     ]
    },
    {
     "name": "stdout",
     "output_type": "stream",
     "text": [
      "208\t"
     ]
    },
    {
     "name": "stderr",
     "output_type": "stream",
     "text": [
      "INFO:GP:initializing Y\n"
     ]
    },
    {
     "name": "stderr",
     "output_type": "stream",
     "text": [
      "INFO:GP:initializing inference method\n"
     ]
    },
    {
     "name": "stderr",
     "output_type": "stream",
     "text": [
      "INFO:GP:adding kernel and likelihood as parameters\n"
     ]
    },
    {
     "name": "stdout",
     "output_type": "stream",
     "text": [
      "0:00:23.503256 276.374\r"
     ]
    },
    {
     "name": "stdout",
     "output_type": "stream",
     "text": [
      "209\t"
     ]
    },
    {
     "name": "stderr",
     "output_type": "stream",
     "text": [
      "INFO:GP:initializing Y\n"
     ]
    },
    {
     "name": "stderr",
     "output_type": "stream",
     "text": [
      "INFO:GP:initializing inference method\n"
     ]
    },
    {
     "name": "stderr",
     "output_type": "stream",
     "text": [
      "INFO:GP:adding kernel and likelihood as parameters\n"
     ]
    },
    {
     "name": "stdout",
     "output_type": "stream",
     "text": [
      "0:00:21.867224 210.185\r"
     ]
    },
    {
     "name": "stdout",
     "output_type": "stream",
     "text": [
      "210\t"
     ]
    },
    {
     "name": "stderr",
     "output_type": "stream",
     "text": [
      "INFO:GP:initializing Y\n"
     ]
    },
    {
     "name": "stderr",
     "output_type": "stream",
     "text": [
      "INFO:GP:initializing inference method\n"
     ]
    },
    {
     "name": "stderr",
     "output_type": "stream",
     "text": [
      "INFO:GP:adding kernel and likelihood as parameters\n"
     ]
    },
    {
     "name": "stdout",
     "output_type": "stream",
     "text": [
      "0:00:20.745155 250.785\r"
     ]
    },
    {
     "name": "stdout",
     "output_type": "stream",
     "text": [
      "211\t"
     ]
    },
    {
     "name": "stderr",
     "output_type": "stream",
     "text": [
      "INFO:GP:initializing Y\n"
     ]
    },
    {
     "name": "stderr",
     "output_type": "stream",
     "text": [
      "INFO:GP:initializing inference method\n"
     ]
    },
    {
     "name": "stderr",
     "output_type": "stream",
     "text": [
      "INFO:GP:adding kernel and likelihood as parameters\n"
     ]
    },
    {
     "name": "stdout",
     "output_type": "stream",
     "text": [
      "0:00:24.385391 221.043\r"
     ]
    },
    {
     "name": "stdout",
     "output_type": "stream",
     "text": [
      "212\t"
     ]
    },
    {
     "name": "stderr",
     "output_type": "stream",
     "text": [
      "INFO:GP:initializing Y\n"
     ]
    },
    {
     "name": "stderr",
     "output_type": "stream",
     "text": [
      "INFO:GP:initializing inference method\n"
     ]
    },
    {
     "name": "stderr",
     "output_type": "stream",
     "text": [
      "INFO:GP:adding kernel and likelihood as parameters\n"
     ]
    },
    {
     "name": "stdout",
     "output_type": "stream",
     "text": [
      "0:00:21.394441 225.360\r"
     ]
    },
    {
     "name": "stdout",
     "output_type": "stream",
     "text": [
      "213\t"
     ]
    },
    {
     "name": "stderr",
     "output_type": "stream",
     "text": [
      "INFO:GP:initializing Y\n"
     ]
    },
    {
     "name": "stderr",
     "output_type": "stream",
     "text": [
      "INFO:GP:initializing inference method\n"
     ]
    },
    {
     "name": "stderr",
     "output_type": "stream",
     "text": [
      "INFO:GP:adding kernel and likelihood as parameters\n"
     ]
    },
    {
     "name": "stdout",
     "output_type": "stream",
     "text": [
      "0:00:23.079202 229.794\r"
     ]
    },
    {
     "name": "stdout",
     "output_type": "stream",
     "text": [
      "214\t"
     ]
    },
    {
     "name": "stderr",
     "output_type": "stream",
     "text": [
      "INFO:GP:initializing Y\n"
     ]
    },
    {
     "name": "stderr",
     "output_type": "stream",
     "text": [
      "INFO:GP:initializing inference method\n"
     ]
    },
    {
     "name": "stderr",
     "output_type": "stream",
     "text": [
      "INFO:GP:adding kernel and likelihood as parameters\n"
     ]
    },
    {
     "name": "stdout",
     "output_type": "stream",
     "text": [
      "0:00:21.011793 318.557\r"
     ]
    },
    {
     "name": "stdout",
     "output_type": "stream",
     "text": [
      "215\t"
     ]
    },
    {
     "name": "stderr",
     "output_type": "stream",
     "text": [
      "INFO:GP:initializing Y\n"
     ]
    },
    {
     "name": "stderr",
     "output_type": "stream",
     "text": [
      "INFO:GP:initializing inference method\n"
     ]
    },
    {
     "name": "stderr",
     "output_type": "stream",
     "text": [
      "INFO:GP:adding kernel and likelihood as parameters\n"
     ]
    },
    {
     "name": "stdout",
     "output_type": "stream",
     "text": [
      "0:00:29.304160 266.230\r"
     ]
    },
    {
     "name": "stdout",
     "output_type": "stream",
     "text": [
      "216\t"
     ]
    },
    {
     "name": "stderr",
     "output_type": "stream",
     "text": [
      "INFO:GP:initializing Y\n"
     ]
    },
    {
     "name": "stderr",
     "output_type": "stream",
     "text": [
      "INFO:GP:initializing inference method\n"
     ]
    },
    {
     "name": "stderr",
     "output_type": "stream",
     "text": [
      "INFO:GP:adding kernel and likelihood as parameters\n"
     ]
    },
    {
     "name": "stdout",
     "output_type": "stream",
     "text": [
      "0:00:28.296974 212.670\r"
     ]
    },
    {
     "name": "stdout",
     "output_type": "stream",
     "text": [
      "217\t"
     ]
    },
    {
     "name": "stderr",
     "output_type": "stream",
     "text": [
      "INFO:GP:initializing Y\n"
     ]
    },
    {
     "name": "stderr",
     "output_type": "stream",
     "text": [
      "INFO:GP:initializing inference method\n"
     ]
    },
    {
     "name": "stderr",
     "output_type": "stream",
     "text": [
      "INFO:GP:adding kernel and likelihood as parameters\n"
     ]
    },
    {
     "name": "stdout",
     "output_type": "stream",
     "text": [
      "0:00:22.421761 227.270\r"
     ]
    },
    {
     "name": "stdout",
     "output_type": "stream",
     "text": [
      "218\t"
     ]
    },
    {
     "name": "stderr",
     "output_type": "stream",
     "text": [
      "INFO:GP:initializing Y\n"
     ]
    },
    {
     "name": "stderr",
     "output_type": "stream",
     "text": [
      "INFO:GP:initializing inference method\n"
     ]
    },
    {
     "name": "stderr",
     "output_type": "stream",
     "text": [
      "INFO:GP:adding kernel and likelihood as parameters\n"
     ]
    },
    {
     "name": "stdout",
     "output_type": "stream",
     "text": [
      "0:00:25.593900 338.408\r"
     ]
    },
    {
     "name": "stdout",
     "output_type": "stream",
     "text": [
      "219\t"
     ]
    },
    {
     "name": "stderr",
     "output_type": "stream",
     "text": [
      "INFO:GP:initializing Y\n"
     ]
    },
    {
     "name": "stderr",
     "output_type": "stream",
     "text": [
      "INFO:GP:initializing inference method\n"
     ]
    },
    {
     "name": "stderr",
     "output_type": "stream",
     "text": [
      "INFO:GP:adding kernel and likelihood as parameters\n"
     ]
    },
    {
     "name": "stdout",
     "output_type": "stream",
     "text": [
      "0:00:25.075204 203.659\r"
     ]
    },
    {
     "name": "stdout",
     "output_type": "stream",
     "text": [
      "220\t"
     ]
    },
    {
     "name": "stderr",
     "output_type": "stream",
     "text": [
      "INFO:GP:initializing Y\n"
     ]
    },
    {
     "name": "stderr",
     "output_type": "stream",
     "text": [
      "INFO:GP:initializing inference method\n"
     ]
    },
    {
     "name": "stderr",
     "output_type": "stream",
     "text": [
      "INFO:GP:adding kernel and likelihood as parameters\n"
     ]
    },
    {
     "name": "stdout",
     "output_type": "stream",
     "text": [
      "0:00:20.515658 277.757\r"
     ]
    },
    {
     "name": "stdout",
     "output_type": "stream",
     "text": [
      "221\t"
     ]
    },
    {
     "name": "stderr",
     "output_type": "stream",
     "text": [
      "INFO:GP:initializing Y\n"
     ]
    },
    {
     "name": "stderr",
     "output_type": "stream",
     "text": [
      "INFO:GP:initializing inference method\n"
     ]
    },
    {
     "name": "stderr",
     "output_type": "stream",
     "text": [
      "INFO:GP:adding kernel and likelihood as parameters\n"
     ]
    },
    {
     "name": "stdout",
     "output_type": "stream",
     "text": [
      "0:00:20.281010 213.807\r"
     ]
    },
    {
     "name": "stdout",
     "output_type": "stream",
     "text": [
      "222\t"
     ]
    },
    {
     "name": "stderr",
     "output_type": "stream",
     "text": [
      "INFO:GP:initializing Y\n"
     ]
    },
    {
     "name": "stderr",
     "output_type": "stream",
     "text": [
      "INFO:GP:initializing inference method\n"
     ]
    },
    {
     "name": "stderr",
     "output_type": "stream",
     "text": [
      "INFO:GP:adding kernel and likelihood as parameters\n"
     ]
    },
    {
     "name": "stdout",
     "output_type": "stream",
     "text": [
      "0:00:21.973093 175.538\r"
     ]
    },
    {
     "name": "stdout",
     "output_type": "stream",
     "text": [
      "223\t"
     ]
    },
    {
     "name": "stderr",
     "output_type": "stream",
     "text": [
      "INFO:GP:initializing Y\n"
     ]
    },
    {
     "name": "stderr",
     "output_type": "stream",
     "text": [
      "INFO:GP:initializing inference method\n"
     ]
    },
    {
     "name": "stderr",
     "output_type": "stream",
     "text": [
      "INFO:GP:adding kernel and likelihood as parameters\n"
     ]
    },
    {
     "name": "stdout",
     "output_type": "stream",
     "text": [
      "0:00:23.305842 308.894\r"
     ]
    },
    {
     "name": "stdout",
     "output_type": "stream",
     "text": [
      "224\t"
     ]
    },
    {
     "name": "stderr",
     "output_type": "stream",
     "text": [
      "INFO:GP:initializing Y\n"
     ]
    },
    {
     "name": "stderr",
     "output_type": "stream",
     "text": [
      "INFO:GP:initializing inference method\n"
     ]
    },
    {
     "name": "stderr",
     "output_type": "stream",
     "text": [
      "INFO:GP:adding kernel and likelihood as parameters\n"
     ]
    },
    {
     "name": "stdout",
     "output_type": "stream",
     "text": [
      "0:00:26.702799 200.613\r"
     ]
    },
    {
     "name": "stdout",
     "output_type": "stream",
     "text": [
      "225\t"
     ]
    },
    {
     "name": "stderr",
     "output_type": "stream",
     "text": [
      "INFO:GP:initializing Y\n"
     ]
    },
    {
     "name": "stderr",
     "output_type": "stream",
     "text": [
      "INFO:GP:initializing inference method\n"
     ]
    },
    {
     "name": "stderr",
     "output_type": "stream",
     "text": [
      "INFO:GP:adding kernel and likelihood as parameters\n"
     ]
    },
    {
     "name": "stdout",
     "output_type": "stream",
     "text": [
      "0:00:21.929325 200.229\r"
     ]
    },
    {
     "name": "stdout",
     "output_type": "stream",
     "text": [
      "226\t"
     ]
    },
    {
     "name": "stderr",
     "output_type": "stream",
     "text": [
      "INFO:GP:initializing Y\n"
     ]
    },
    {
     "name": "stderr",
     "output_type": "stream",
     "text": [
      "INFO:GP:initializing inference method\n"
     ]
    },
    {
     "name": "stderr",
     "output_type": "stream",
     "text": [
      "INFO:GP:adding kernel and likelihood as parameters\n"
     ]
    },
    {
     "name": "stdout",
     "output_type": "stream",
     "text": [
      "0:00:22.885360 204.175\r"
     ]
    },
    {
     "name": "stdout",
     "output_type": "stream",
     "text": [
      "227\t"
     ]
    },
    {
     "name": "stderr",
     "output_type": "stream",
     "text": [
      "INFO:GP:initializing Y\n"
     ]
    },
    {
     "name": "stderr",
     "output_type": "stream",
     "text": [
      "INFO:GP:initializing inference method\n"
     ]
    },
    {
     "name": "stderr",
     "output_type": "stream",
     "text": [
      "INFO:GP:adding kernel and likelihood as parameters\n"
     ]
    },
    {
     "name": "stdout",
     "output_type": "stream",
     "text": [
      "0:00:25.781368 271.948\r"
     ]
    },
    {
     "name": "stdout",
     "output_type": "stream",
     "text": [
      "228\t"
     ]
    },
    {
     "name": "stderr",
     "output_type": "stream",
     "text": [
      "INFO:GP:initializing Y\n"
     ]
    },
    {
     "name": "stderr",
     "output_type": "stream",
     "text": [
      "INFO:GP:initializing inference method\n"
     ]
    },
    {
     "name": "stderr",
     "output_type": "stream",
     "text": [
      "INFO:GP:adding kernel and likelihood as parameters\n"
     ]
    },
    {
     "name": "stdout",
     "output_type": "stream",
     "text": [
      "0:00:20.527964 249.863\r"
     ]
    },
    {
     "name": "stdout",
     "output_type": "stream",
     "text": [
      "229\t"
     ]
    },
    {
     "name": "stderr",
     "output_type": "stream",
     "text": [
      "INFO:GP:initializing Y\n"
     ]
    },
    {
     "name": "stderr",
     "output_type": "stream",
     "text": [
      "INFO:GP:initializing inference method\n"
     ]
    },
    {
     "name": "stderr",
     "output_type": "stream",
     "text": [
      "INFO:GP:adding kernel and likelihood as parameters\n"
     ]
    },
    {
     "name": "stdout",
     "output_type": "stream",
     "text": [
      "0:00:21.027729 215.523\r"
     ]
    },
    {
     "name": "stdout",
     "output_type": "stream",
     "text": [
      "230\t"
     ]
    },
    {
     "name": "stderr",
     "output_type": "stream",
     "text": [
      "INFO:GP:initializing Y\n"
     ]
    },
    {
     "name": "stderr",
     "output_type": "stream",
     "text": [
      "INFO:GP:initializing inference method\n"
     ]
    },
    {
     "name": "stderr",
     "output_type": "stream",
     "text": [
      "INFO:GP:adding kernel and likelihood as parameters\n"
     ]
    },
    {
     "name": "stdout",
     "output_type": "stream",
     "text": [
      "0:00:24.366199 244.539\r"
     ]
    },
    {
     "name": "stdout",
     "output_type": "stream",
     "text": [
      "231\t"
     ]
    },
    {
     "name": "stderr",
     "output_type": "stream",
     "text": [
      "INFO:GP:initializing Y\n"
     ]
    },
    {
     "name": "stderr",
     "output_type": "stream",
     "text": [
      "INFO:GP:initializing inference method\n"
     ]
    },
    {
     "name": "stderr",
     "output_type": "stream",
     "text": [
      "INFO:GP:adding kernel and likelihood as parameters\n"
     ]
    },
    {
     "name": "stdout",
     "output_type": "stream",
     "text": [
      "0:00:20.441295 162.133\r"
     ]
    },
    {
     "name": "stdout",
     "output_type": "stream",
     "text": [
      "232\t"
     ]
    },
    {
     "name": "stderr",
     "output_type": "stream",
     "text": [
      "INFO:GP:initializing Y\n"
     ]
    },
    {
     "name": "stderr",
     "output_type": "stream",
     "text": [
      "INFO:GP:initializing inference method\n"
     ]
    },
    {
     "name": "stderr",
     "output_type": "stream",
     "text": [
      "INFO:GP:adding kernel and likelihood as parameters\n"
     ]
    },
    {
     "name": "stdout",
     "output_type": "stream",
     "text": [
      "0:00:22.202566 185.666\r"
     ]
    },
    {
     "name": "stdout",
     "output_type": "stream",
     "text": [
      "233\t"
     ]
    },
    {
     "name": "stderr",
     "output_type": "stream",
     "text": [
      "INFO:GP:initializing Y\n"
     ]
    },
    {
     "name": "stderr",
     "output_type": "stream",
     "text": [
      "INFO:GP:initializing inference method\n"
     ]
    },
    {
     "name": "stderr",
     "output_type": "stream",
     "text": [
      "INFO:GP:adding kernel and likelihood as parameters\n"
     ]
    },
    {
     "name": "stdout",
     "output_type": "stream",
     "text": [
      "0:00:22.421689 367.407\r"
     ]
    },
    {
     "name": "stdout",
     "output_type": "stream",
     "text": [
      "234\t"
     ]
    },
    {
     "name": "stderr",
     "output_type": "stream",
     "text": [
      "INFO:GP:initializing Y\n"
     ]
    },
    {
     "name": "stderr",
     "output_type": "stream",
     "text": [
      "INFO:GP:initializing inference method\n"
     ]
    },
    {
     "name": "stderr",
     "output_type": "stream",
     "text": [
      "INFO:GP:adding kernel and likelihood as parameters\n"
     ]
    },
    {
     "name": "stdout",
     "output_type": "stream",
     "text": [
      "0:00:21.460004 157.825\r"
     ]
    },
    {
     "name": "stdout",
     "output_type": "stream",
     "text": [
      "235\t"
     ]
    },
    {
     "name": "stderr",
     "output_type": "stream",
     "text": [
      "INFO:GP:initializing Y\n"
     ]
    },
    {
     "name": "stderr",
     "output_type": "stream",
     "text": [
      "INFO:GP:initializing inference method\n"
     ]
    },
    {
     "name": "stderr",
     "output_type": "stream",
     "text": [
      "INFO:GP:adding kernel and likelihood as parameters\n"
     ]
    },
    {
     "name": "stdout",
     "output_type": "stream",
     "text": [
      "0:00:28.660854 206.372\r"
     ]
    },
    {
     "name": "stdout",
     "output_type": "stream",
     "text": [
      "236\t"
     ]
    },
    {
     "name": "stderr",
     "output_type": "stream",
     "text": [
      "INFO:GP:initializing Y\n"
     ]
    },
    {
     "name": "stderr",
     "output_type": "stream",
     "text": [
      "INFO:GP:initializing inference method\n"
     ]
    },
    {
     "name": "stderr",
     "output_type": "stream",
     "text": [
      "INFO:GP:adding kernel and likelihood as parameters\n"
     ]
    },
    {
     "name": "stdout",
     "output_type": "stream",
     "text": [
      "0:00:21.536728 282.842\r"
     ]
    },
    {
     "name": "stdout",
     "output_type": "stream",
     "text": [
      "237\t"
     ]
    },
    {
     "name": "stderr",
     "output_type": "stream",
     "text": [
      "INFO:GP:initializing Y\n"
     ]
    },
    {
     "name": "stderr",
     "output_type": "stream",
     "text": [
      "INFO:GP:initializing inference method\n"
     ]
    },
    {
     "name": "stderr",
     "output_type": "stream",
     "text": [
      "INFO:GP:adding kernel and likelihood as parameters\n"
     ]
    },
    {
     "name": "stdout",
     "output_type": "stream",
     "text": [
      "0:00:24.960498 621.836\r"
     ]
    },
    {
     "name": "stdout",
     "output_type": "stream",
     "text": [
      "238\t"
     ]
    },
    {
     "name": "stderr",
     "output_type": "stream",
     "text": [
      "INFO:GP:initializing Y\n"
     ]
    },
    {
     "name": "stderr",
     "output_type": "stream",
     "text": [
      "INFO:GP:initializing inference method\n"
     ]
    },
    {
     "name": "stderr",
     "output_type": "stream",
     "text": [
      "INFO:GP:adding kernel and likelihood as parameters\n"
     ]
    },
    {
     "name": "stdout",
     "output_type": "stream",
     "text": [
      "0:00:21.522915 208.766\r"
     ]
    },
    {
     "name": "stdout",
     "output_type": "stream",
     "text": [
      "239\t"
     ]
    },
    {
     "name": "stderr",
     "output_type": "stream",
     "text": [
      "INFO:GP:initializing Y\n"
     ]
    },
    {
     "name": "stderr",
     "output_type": "stream",
     "text": [
      "INFO:GP:initializing inference method\n"
     ]
    },
    {
     "name": "stderr",
     "output_type": "stream",
     "text": [
      "INFO:GP:adding kernel and likelihood as parameters\n"
     ]
    },
    {
     "name": "stdout",
     "output_type": "stream",
     "text": [
      "0:00:25.376999 212.591\r"
     ]
    },
    {
     "name": "stdout",
     "output_type": "stream",
     "text": [
      "240\t"
     ]
    },
    {
     "name": "stderr",
     "output_type": "stream",
     "text": [
      "INFO:GP:initializing Y\n"
     ]
    },
    {
     "name": "stderr",
     "output_type": "stream",
     "text": [
      "INFO:GP:initializing inference method\n"
     ]
    },
    {
     "name": "stderr",
     "output_type": "stream",
     "text": [
      "INFO:GP:adding kernel and likelihood as parameters\n"
     ]
    },
    {
     "name": "stdout",
     "output_type": "stream",
     "text": [
      "0:00:29.499084 336.156\r"
     ]
    },
    {
     "name": "stdout",
     "output_type": "stream",
     "text": [
      "241\t"
     ]
    },
    {
     "name": "stderr",
     "output_type": "stream",
     "text": [
      "INFO:GP:initializing Y\n"
     ]
    },
    {
     "name": "stderr",
     "output_type": "stream",
     "text": [
      "INFO:GP:initializing inference method\n"
     ]
    },
    {
     "name": "stderr",
     "output_type": "stream",
     "text": [
      "INFO:GP:adding kernel and likelihood as parameters\n"
     ]
    },
    {
     "name": "stdout",
     "output_type": "stream",
     "text": [
      "0:00:24.167080 185.632\r"
     ]
    },
    {
     "name": "stdout",
     "output_type": "stream",
     "text": [
      "242\t"
     ]
    },
    {
     "name": "stderr",
     "output_type": "stream",
     "text": [
      "INFO:GP:initializing Y\n"
     ]
    },
    {
     "name": "stderr",
     "output_type": "stream",
     "text": [
      "INFO:GP:initializing inference method\n"
     ]
    },
    {
     "name": "stderr",
     "output_type": "stream",
     "text": [
      "INFO:GP:adding kernel and likelihood as parameters\n"
     ]
    },
    {
     "name": "stdout",
     "output_type": "stream",
     "text": [
      "0:00:23.588807 194.691\r"
     ]
    },
    {
     "name": "stdout",
     "output_type": "stream",
     "text": [
      "243\t"
     ]
    },
    {
     "name": "stderr",
     "output_type": "stream",
     "text": [
      "INFO:GP:initializing Y\n"
     ]
    },
    {
     "name": "stderr",
     "output_type": "stream",
     "text": [
      "INFO:GP:initializing inference method\n"
     ]
    },
    {
     "name": "stderr",
     "output_type": "stream",
     "text": [
      "INFO:GP:adding kernel and likelihood as parameters\n"
     ]
    },
    {
     "name": "stdout",
     "output_type": "stream",
     "text": [
      "0:00:20.299275 201.543\r"
     ]
    },
    {
     "name": "stdout",
     "output_type": "stream",
     "text": [
      "244\t"
     ]
    },
    {
     "name": "stderr",
     "output_type": "stream",
     "text": [
      "INFO:GP:initializing Y\n"
     ]
    },
    {
     "name": "stderr",
     "output_type": "stream",
     "text": [
      "INFO:GP:initializing inference method\n"
     ]
    },
    {
     "name": "stderr",
     "output_type": "stream",
     "text": [
      "INFO:GP:adding kernel and likelihood as parameters\n"
     ]
    },
    {
     "name": "stdout",
     "output_type": "stream",
     "text": [
      "0:00:27.687969 225.332\r"
     ]
    },
    {
     "name": "stdout",
     "output_type": "stream",
     "text": [
      "245\t"
     ]
    },
    {
     "name": "stderr",
     "output_type": "stream",
     "text": [
      "INFO:GP:initializing Y\n"
     ]
    },
    {
     "name": "stderr",
     "output_type": "stream",
     "text": [
      "INFO:GP:initializing inference method\n"
     ]
    },
    {
     "name": "stderr",
     "output_type": "stream",
     "text": [
      "INFO:GP:adding kernel and likelihood as parameters\n"
     ]
    },
    {
     "name": "stdout",
     "output_type": "stream",
     "text": [
      "0:00:21.719852 169.109\r"
     ]
    },
    {
     "name": "stdout",
     "output_type": "stream",
     "text": [
      "246\t"
     ]
    },
    {
     "name": "stderr",
     "output_type": "stream",
     "text": [
      "INFO:GP:initializing Y\n"
     ]
    },
    {
     "name": "stderr",
     "output_type": "stream",
     "text": [
      "INFO:GP:initializing inference method\n"
     ]
    },
    {
     "name": "stderr",
     "output_type": "stream",
     "text": [
      "INFO:GP:adding kernel and likelihood as parameters\n"
     ]
    },
    {
     "name": "stdout",
     "output_type": "stream",
     "text": [
      "0:00:25.714121 206.717\r"
     ]
    },
    {
     "name": "stdout",
     "output_type": "stream",
     "text": [
      "247\t"
     ]
    },
    {
     "name": "stderr",
     "output_type": "stream",
     "text": [
      "INFO:GP:initializing Y\n"
     ]
    },
    {
     "name": "stderr",
     "output_type": "stream",
     "text": [
      "INFO:GP:initializing inference method\n"
     ]
    },
    {
     "name": "stderr",
     "output_type": "stream",
     "text": [
      "INFO:GP:adding kernel and likelihood as parameters\n"
     ]
    },
    {
     "name": "stdout",
     "output_type": "stream",
     "text": [
      "0:00:21.150800 159.083\r"
     ]
    },
    {
     "name": "stdout",
     "output_type": "stream",
     "text": [
      "248\t"
     ]
    },
    {
     "name": "stderr",
     "output_type": "stream",
     "text": [
      "INFO:GP:initializing Y\n"
     ]
    },
    {
     "name": "stderr",
     "output_type": "stream",
     "text": [
      "INFO:GP:initializing inference method\n"
     ]
    },
    {
     "name": "stderr",
     "output_type": "stream",
     "text": [
      "INFO:GP:adding kernel and likelihood as parameters\n"
     ]
    },
    {
     "name": "stdout",
     "output_type": "stream",
     "text": [
      "0:00:25.197335 230.858\r"
     ]
    },
    {
     "name": "stdout",
     "output_type": "stream",
     "text": [
      "249\t"
     ]
    },
    {
     "name": "stderr",
     "output_type": "stream",
     "text": [
      "INFO:GP:initializing Y\n"
     ]
    },
    {
     "name": "stderr",
     "output_type": "stream",
     "text": [
      "INFO:GP:initializing inference method\n"
     ]
    },
    {
     "name": "stderr",
     "output_type": "stream",
     "text": [
      "INFO:GP:adding kernel and likelihood as parameters\n"
     ]
    },
    {
     "name": "stdout",
     "output_type": "stream",
     "text": [
      "0:00:26.645547 223.605\r"
     ]
    },
    {
     "name": "stdout",
     "output_type": "stream",
     "text": [
      "250\t"
     ]
    },
    {
     "name": "stdout",
     "output_type": "stream",
     "text": [
      "0:00:21.034037 232.891\r"
     ]
    }
   ],
   "source": [
    "optimize(TRAIN_SET_TENSOR, TEST_SET_TENSOR, 250)"
   ]
  },
  {
   "cell_type": "code",
   "execution_count": 26,
   "metadata": {
    "autoscroll": false,
    "collapsed": false,
    "ein.hycell": false,
    "ein.tags": "worksheet-0",
    "slideshow": {
     "slide_type": "-"
    }
   },
   "outputs": [
    {
     "data": {
      "text/html": [
       "<div>\n<style scoped>\n    .dataframe tbody tr th:only-of-type {\n        vertical-align: middle;\n    }\n\n    .dataframe tbody tr th {\n        vertical-align: top;\n    }\n\n    .dataframe thead th {\n        text-align: right;\n    }\n</style>\n<table border=\"1\" class=\"dataframe\">\n  <thead>\n    <tr style=\"text-align: right;\">\n      <th></th>\n      <th>Unnamed: 0</th>\n      <th>Trial-ID</th>\n      <th>Status</th>\n      <th>Iteration</th>\n      <th>hidden1</th>\n      <th>hidden2</th>\n      <th>hidden_pm</th>\n      <th>hidden_tooth</th>\n      <th>hidden_winding</th>\n      <th>hidden_yoke</th>\n      <th>input_rec</th>\n      <th>lr</th>\n      <th>output_rec</th>\n      <th>window</th>\n      <th>Objective</th>\n    </tr>\n  </thead>\n  <tbody>\n    <tr>\n      <th>1</th>\n      <td>1</td>\n      <td>1</td>\n      <td>COMPLETED</td>\n      <td>1</td>\n      <td>35.0</td>\n      <td>10.0</td>\n      <td>10.0</td>\n      <td>16.0</td>\n      <td>6.0</td>\n      <td>7.0</td>\n      <td>0.0</td>\n      <td>0.000642</td>\n      <td>0.0</td>\n      <td>1.0</td>\n      <td>118.779309</td>\n    </tr>\n    <tr>\n      <th>3</th>\n      <td>3</td>\n      <td>2</td>\n      <td>COMPLETED</td>\n      <td>1</td>\n      <td>26.0</td>\n      <td>36.0</td>\n      <td>4.0</td>\n      <td>18.0</td>\n      <td>17.0</td>\n      <td>7.0</td>\n      <td>0.0</td>\n      <td>0.000741</td>\n      <td>0.0</td>\n      <td>6.0</td>\n      <td>233.354502</td>\n    </tr>\n    <tr>\n      <th>5</th>\n      <td>5</td>\n      <td>3</td>\n      <td>COMPLETED</td>\n      <td>1</td>\n      <td>37.0</td>\n      <td>17.0</td>\n      <td>7.0</td>\n      <td>4.0</td>\n      <td>7.0</td>\n      <td>10.0</td>\n      <td>0.0</td>\n      <td>0.000884</td>\n      <td>0.0</td>\n      <td>7.0</td>\n      <td>206.735107</td>\n    </tr>\n    <tr>\n      <th>7</th>\n      <td>7</td>\n      <td>4</td>\n      <td>COMPLETED</td>\n      <td>1</td>\n      <td>17.0</td>\n      <td>45.0</td>\n      <td>14.0</td>\n      <td>17.0</td>\n      <td>18.0</td>\n      <td>6.0</td>\n      <td>0.0</td>\n      <td>0.000907</td>\n      <td>0.0</td>\n      <td>9.0</td>\n      <td>193.599461</td>\n    </tr>\n    <tr>\n      <th>9</th>\n      <td>9</td>\n      <td>5</td>\n      <td>COMPLETED</td>\n      <td>1</td>\n      <td>41.0</td>\n      <td>22.0</td>\n      <td>10.0</td>\n      <td>19.0</td>\n      <td>11.0</td>\n      <td>9.0</td>\n      <td>0.0</td>\n      <td>0.000773</td>\n      <td>0.0</td>\n      <td>3.0</td>\n      <td>226.962413</td>\n    </tr>\n  </tbody>\n</table>\n</div>"
      ],
      "text/plain": [
       "   Unnamed: 0  Trial-ID     Status  Iteration  hidden1  hidden2  hidden_pm  \\\n1           1         1  COMPLETED          1     35.0     10.0       10.0   \n3           3         2  COMPLETED          1     26.0     36.0        4.0   \n5           5         3  COMPLETED          1     37.0     17.0        7.0   \n7           7         4  COMPLETED          1     17.0     45.0       14.0   \n9           9         5  COMPLETED          1     41.0     22.0       10.0   \n\n   hidden_tooth  hidden_winding  hidden_yoke  input_rec        lr  output_rec  \\\n1          16.0             6.0          7.0        0.0  0.000642         0.0   \n3          18.0            17.0          7.0        0.0  0.000741         0.0   \n5           4.0             7.0         10.0        0.0  0.000884         0.0   \n7          17.0            18.0          6.0        0.0  0.000907         0.0   \n9          19.0            11.0          9.0        0.0  0.000773         0.0   \n\n   window   Objective  \n1     1.0  118.779309  \n3     6.0  233.354502  \n5     7.0  206.735107  \n7     9.0  193.599461  \n9     3.0  226.962413  "
      ]
     },
     "execution_count": 26,
     "metadata": {},
     "output_type": "execute_result"
    }
   ],
   "source": [
    "results = pd.read_csv(\"./results/AutoML_RNN.csv\")\n",
    "results = results[results[\"Status\"] == \"COMPLETED\"]\n",
    "results.head()"
   ]
  },
  {
   "cell_type": "code",
   "execution_count": 27,
   "metadata": {
    "autoscroll": false,
    "collapsed": false,
    "ein.hycell": false,
    "ein.tags": "worksheet-0",
    "slideshow": {
     "slide_type": "-"
    }
   },
   "outputs": [
    {
     "data": {
      "image/png": "[encoded data removed]",
      "text/plain": [
       "<Figure size 720x360 with 1 Axes>"
      ]
     },
     "metadata": {},
     "output_type": "display_data"
    }
   ],
   "source": [
    "plt.figure(figsize=(10, 5))\n",
    "\n",
    "plt.plot(np.minimum.accumulate(np.array(results[\"Objective\"])),\n",
    "         \"o-\")\n",
    "plt.xlabel('Iterations')\n",
    "plt.ylabel('Best Seen MSE')\n",
    "plt.show()"
   ]
  },
  {
   "cell_type": "code",
   "execution_count": 35,
   "metadata": {
    "autoscroll": false,
    "collapsed": false,
    "ein.hycell": false,
    "ein.tags": "worksheet-0",
    "slideshow": {
     "slide_type": "-"
    }
   },
   "outputs": [
    {
     "name": "stdout",
     "output_type": "stream",
     "text": [
      "Custom_RNN(\n",
      "  (dropout): Dropout(p=0.3, inplace=False)\n",
      "  (layers): ModuleList(\n",
      "    (0): Linear(in_features=26, out_features=15, bias=True)\n",
      "    (1): Linear(in_features=15, out_features=29, bias=True)\n",
      "  )\n",
      "  (regressors): ModuleList(\n",
      "    (0): Sequential(\n",
      "      (0): Linear(in_features=29, out_features=18, bias=True)\n",
      "      (1): ReLU()\n",
      "      (2): Linear(in_features=18, out_features=1, bias=True)\n",
      "    )\n",
      "    (1): Sequential(\n",
      "      (0): Linear(in_features=29, out_features=13, bias=True)\n",
      "      (1): ReLU()\n",
      "      (2): Linear(in_features=13, out_features=1, bias=True)\n",
      "    )\n",
      "    (2): Sequential(\n",
      "      (0): Linear(in_features=29, out_features=3, bias=True)\n",
      "      (1): ReLU()\n",
      "      (2): Linear(in_features=3, out_features=1, bias=True)\n",
      "    )\n",
      "    (3): Sequential(\n",
      "      (0): Linear(in_features=29, out_features=7, bias=True)\n",
      "      (1): ReLU()\n",
      "      (2): Linear(in_features=7, out_features=1, bias=True)\n",
      "    )\n",
      "  )\n",
      ")\n"
     ]
    }
   ],
   "source": [
    "best_params = results.iloc[results[\"Objective\"].idxmin()]\n",
    "\n",
    "best_model = torch.load(\"./models/best_model_rnn\")\n",
    "best_optimizer = torch.optim.Adam(params=best_model.parameters(),\n",
    "                                  lr=best_params[\"lr\"])\n",
    "loss_fn = torch.nn.MSELoss()\n",
    "\n",
    "print(best_model)"
   ]
  },
  {
   "cell_type": "code",
   "execution_count": 32,
   "metadata": {
    "autoscroll": false,
    "collapsed": false,
    "ein.hycell": false,
    "ein.tags": "worksheet-0",
    "slideshow": {
     "slide_type": "-"
    }
   },
   "outputs": [
    {
     "name": "stdout",
     "output_type": "stream",
     "text": [
      "1\t0:00:11.191081\tloss: (0.077, 0.069)\tR2_pm: (0.949, 0.956)\tR2_stator_yoke: (0.962, 0.968)\tR2_stator_tooth: (0.982, 0.982)\tR2_stator_winding: (0.957, 0.961)\t\r"
     ]
    },
    {
     "name": "stdout",
     "output_type": "stream",
     "text": [
      "2\t0:00:11.136709\tloss: (0.073, 0.069)\tR2_pm: (0.971, 0.978)\tR2_stator_yoke: (0.972, 0.972)\tR2_stator_tooth: (0.985, 0.984)\tR2_stator_winding: (0.970, 0.968)\t\r"
     ]
    },
    {
     "name": "stdout",
     "output_type": "stream",
     "text": [
      "3\t0:00:11.047261\tloss: (0.080, 0.080)\tR2_pm: (0.977, 0.976)\tR2_stator_yoke: (0.975, 0.975)\tR2_stator_tooth: (0.985, 0.985)\tR2_stator_winding: (0.971, 0.970)\t\r"
     ]
    },
    {
     "name": "stdout",
     "output_type": "stream",
     "text": [
      "4\t0:00:11.093712\tloss: (0.099, 0.099)\tR2_pm: (0.979, 0.976)\tR2_stator_yoke: (0.973, 0.978)\tR2_stator_tooth: (0.985, 0.984)\tR2_stator_winding: (0.972, 0.967)\t\r"
     ]
    },
    {
     "name": "stdout",
     "output_type": "stream",
     "text": [
      "5\t0:00:11.281338\tloss: (0.131, 0.133)\tR2_pm: (0.982, 0.977)\tR2_stator_yoke: (0.970, 0.977)\tR2_stator_tooth: (0.984, 0.983)\tR2_stator_winding: (0.973, 0.970)\t\r"
     ]
    },
    {
     "name": "stdout",
     "output_type": "stream",
     "text": [
      "6\t0:00:11.260539\tloss: (0.143, 0.147)\tR2_pm: (0.985, 0.985)\tR2_stator_yoke: (0.972, 0.975)\tR2_stator_tooth: (0.986, 0.985)\tR2_stator_winding: (0.971, 0.968)\t\r"
     ]
    },
    {
     "name": "stdout",
     "output_type": "stream",
     "text": [
      "7\t0:00:11.263706\tloss: (0.151, 0.158)\tR2_pm: (0.991, 0.991)\tR2_stator_yoke: (0.976, 0.979)\tR2_stator_tooth: (0.985, 0.984)\tR2_stator_winding: (0.974, 0.968)\t\r"
     ]
    },
    {
     "name": "stdout",
     "output_type": "stream",
     "text": [
      "8\t0:00:11.199078\tloss: (0.170, 0.181)\tR2_pm: (0.996, 0.995)\tR2_stator_yoke: (0.979, 0.982)\tR2_stator_tooth: (0.985, 0.983)\tR2_stator_winding: (0.972, 0.970)\t\r"
     ]
    },
    {
     "name": "stdout",
     "output_type": "stream",
     "text": [
      "9\t0:00:11.181204\tloss: (0.189, 0.202)\tR2_pm: (0.994, 0.995)\tR2_stator_yoke: (0.981, 0.984)\tR2_stator_tooth: (0.974, 0.968)\tR2_stator_winding: (0.973, 0.972)\t\r"
     ]
    },
    {
     "name": "stdout",
     "output_type": "stream",
     "text": [
      "10\t0:00:11.378235\tloss: (0.203, 0.221)\tR2_pm: (0.990, 0.992)\tR2_stator_yoke: (0.984, 0.988)\tR2_stator_tooth: (0.973, 0.966)\tR2_stator_winding: (0.977, 0.974)\t\r"
     ]
    },
    {
     "name": "stdout",
     "output_type": "stream",
     "text": [
      "11\t0:00:11.462878\tloss: (0.219, 0.241)\tR2_pm: (0.983, 0.986)\tR2_stator_yoke: (0.987, 0.992)\tR2_stator_tooth: (0.973, 0.968)\tR2_stator_winding: (0.979, 0.978)\t\r"
     ]
    }
   ],
   "source": [
    "history = train(best_model, loss_fn, best_optimizer,\n",
    "                TRAIN_SET_TENSOR, TEST_SET_TENSOR,\n",
    "                previous_size=int(best_params[\"window\"]),\n",
    "                early_stopping=stop_early(5, 2))"
   ]
  },
  {
   "cell_type": "code",
   "execution_count": 33,
   "metadata": {
    "autoscroll": false,
    "ein.hycell": false,
    "ein.tags": "worksheet-0",
    "slideshow": {
     "slide_type": "-"
    }
   },
   "outputs": [
    {
     "data": {
      "image/png": "[encoded data removed]",
      "text/plain": [
       "<Figure size 432x288 with 1 Axes>"
      ]
     },
     "metadata": {},
     "output_type": "display_data"
    },
    {
     "data": {
      "image/png": "[encoded data removed]",
      "text/plain": [
       "<Figure size 432x288 with 1 Axes>"
      ]
     },
     "metadata": {},
     "output_type": "display_data"
    },
    {
     "data": {
      "image/png": "[encoded data removed]",
      "text/plain": [
       "<Figure size 432x288 with 1 Axes>"
      ]
     },
     "metadata": {},
     "output_type": "display_data"
    },
    {
     "data": {
      "image/png": "[encoded data removed]",
      "text/plain": [
       "<Figure size 432x288 with 1 Axes>"
      ]
     },
     "metadata": {},
     "output_type": "display_data"
    },
    {
     "data": {
      "image/png": "[encoded data removed]",
      "text/plain": [
       "<Figure size 432x288 with 1 Axes>"
      ]
     },
     "metadata": {},
     "output_type": "display_data"
    }
   ],
   "source": [
    "plot_history(history)"
   ]
  },
  {
   "cell_type": "code",
   "execution_count": 34,
   "metadata": {
    "autoscroll": false,
    "collapsed": false,
    "ein.hycell": false,
    "ein.tags": "worksheet-0",
    "slideshow": {
     "slide_type": "-"
    }
   },
   "outputs": [
    {
     "name": "stdout",
     "output_type": "stream",
     "text": [
      "(14394, 1, 4) (14394, 4)\n"
     ]
    },
    {
     "data": {
      "image/png": "[encoded data removed]",
      "text/plain": [
       "<Figure size 432x288 with 1 Axes>"
      ]
     },
     "metadata": {},
     "output_type": "display_data"
    },
    {
     "data": {
      "image/png": "[encoded data removed]",
      "text/plain": [
       "<Figure size 432x288 with 1 Axes>"
      ]
     },
     "metadata": {},
     "output_type": "display_data"
    },
    {
     "data": {
      "image/png": "[encoded data removed]",
      "text/plain": [
       "<Figure size 432x288 with 1 Axes>"
      ]
     },
     "metadata": {},
     "output_type": "display_data"
    },
    {
     "data": {
      "image/png": "[encoded data removed]",
      "text/plain": [
       "<Figure size 432x288 with 1 Axes>"
      ]
     },
     "metadata": {},
     "output_type": "display_data"
    }
   ],
   "source": [
    "print_predictions(best_model, TEST_SET_TENSOR[0], int(best_params[\"window\"]))"
   ]
  }
 ],
 "metadata": {
  "kernelspec": {
   "display_name": "Python 3",
   "language": "python",
   "name": "python3"
  },
  "language_info": {
   "codemirror_mode": {
    "name": "ipython",
    "version": 3
   },
   "file_extension": ".py",
   "mimetype": "text/x-python",
   "name": "python",
   "nbconvert_exporter": "python",
   "pygments_lexer": "ipython3",
   "version": "3.7.4"
  },
  "name": "Rete.ipynb"
 },
 "nbformat": 4,
 "nbformat_minor": 2
}
