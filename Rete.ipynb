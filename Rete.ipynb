{
 "cells": [
  {
   "cell_type": "code",
   "execution_count": 1,
   "metadata": {
    "autoscroll": false,
    "collapsed": false,
    "ein.hycell": false,
    "ein.tags": "worksheet-0",
    "slideshow": {
     "slide_type": "-"
    }
   },
   "outputs": [],
   "source": [
    "import torch\n",
    "import numpy as np\n",
    "import pandas as pd\n",
    "import matplotlib.pyplot as plt\n",
    "from datetime import datetime"
   ]
  },
  {
   "cell_type": "code",
   "execution_count": 2,
   "metadata": {
    "autoscroll": false,
    "collapsed": false,
    "ein.hycell": false,
    "ein.tags": "worksheet-0",
    "slideshow": {
     "slide_type": "-"
    }
   },
   "outputs": [
    {
     "name": "stdout",
     "output_type": "stream",
     "text": [
      "working on: cuda\n"
     ]
    }
   ],
   "source": [
    "DEVICE = torch.device(\"cuda\" if torch.cuda.is_available() \\\n",
    "                      else \"cpu\")\n",
    "print(\"working on: \" + str(DEVICE))"
   ]
  },
  {
   "cell_type": "code",
   "execution_count": 3,
   "metadata": {
    "autoscroll": false,
    "collapsed": false,
    "ein.hycell": false,
    "ein.tags": "worksheet-0",
    "slideshow": {
     "slide_type": "-"
    }
   },
   "outputs": [],
   "source": [
    "RANDOM_SEED = 20200101\n",
    "np.random.seed(RANDOM_SEED)\n",
    "torch.manual_seed(RANDOM_SEED)\n",
    "\n",
    "# reproducibility with convolutions (btw, we do not use them)\n",
    "torch.backends.cudnn.deterministic = True\n",
    "torch.backends.cudnn.benchmark = False"
   ]
  },
  {
   "cell_type": "code",
   "execution_count": 4,
   "metadata": {
    "autoscroll": false,
    "collapsed": false,
    "ein.hycell": false,
    "ein.tags": "worksheet-0",
    "slideshow": {
     "slide_type": "-"
    }
   },
   "outputs": [
    {
     "name": "stdout",
     "output_type": "stream",
     "text": [
      "(998070, 13)\n",
      "52\n"
     ]
    }
   ],
   "source": [
    "DB = pd.read_csv(\"./pmsm_temperature_data.csv\")\n",
    "DBs = [db[1] for db in DB.groupby(\"profile_id\")]\n",
    "np.random.shuffle(DBs)\n",
    "print(DB.shape)\n",
    "print(len(DBs))"
   ]
  },
  {
   "cell_type": "code",
   "execution_count": 5,
   "metadata": {
    "autoscroll": false,
    "collapsed": false,
    "ein.hycell": false,
    "ein.tags": "worksheet-0",
    "slideshow": {
     "slide_type": "-"
    }
   },
   "outputs": [
    {
     "data": {
      "text/html": [
       "<div>\n",
       "<style scoped>\n",
       "    .dataframe tbody tr th:only-of-type {\n",
       "        vertical-align: middle;\n",
       "    }\n",
       "\n",
       "    .dataframe tbody tr th {\n",
       "        vertical-align: top;\n",
       "    }\n",
       "\n",
       "    .dataframe thead th {\n",
       "        text-align: right;\n",
       "    }\n",
       "</style>\n",
       "<table border=\"1\" class=\"dataframe\">\n",
       "  <thead>\n",
       "    <tr style=\"text-align: right;\">\n",
       "      <th></th>\n",
       "      <th>ambient</th>\n",
       "      <th>coolant</th>\n",
       "      <th>u_d</th>\n",
       "      <th>u_q</th>\n",
       "      <th>motor_speed</th>\n",
       "      <th>torque</th>\n",
       "      <th>i_d</th>\n",
       "      <th>i_q</th>\n",
       "      <th>pm</th>\n",
       "      <th>stator_yoke</th>\n",
       "      <th>stator_tooth</th>\n",
       "      <th>stator_winding</th>\n",
       "      <th>profile_id</th>\n",
       "    </tr>\n",
       "  </thead>\n",
       "  <tbody>\n",
       "    <tr>\n",
       "      <td>0</td>\n",
       "      <td>-0.752143</td>\n",
       "      <td>-1.118446</td>\n",
       "      <td>0.327935</td>\n",
       "      <td>-1.297858</td>\n",
       "      <td>-1.222428</td>\n",
       "      <td>-0.250182</td>\n",
       "      <td>1.029572</td>\n",
       "      <td>-0.245860</td>\n",
       "      <td>-2.522071</td>\n",
       "      <td>-1.831422</td>\n",
       "      <td>-2.066143</td>\n",
       "      <td>-2.018033</td>\n",
       "      <td>4</td>\n",
       "    </tr>\n",
       "    <tr>\n",
       "      <td>1</td>\n",
       "      <td>-0.771263</td>\n",
       "      <td>-1.117021</td>\n",
       "      <td>0.329665</td>\n",
       "      <td>-1.297686</td>\n",
       "      <td>-1.222429</td>\n",
       "      <td>-0.249133</td>\n",
       "      <td>1.029509</td>\n",
       "      <td>-0.245832</td>\n",
       "      <td>-2.522418</td>\n",
       "      <td>-1.830969</td>\n",
       "      <td>-2.064859</td>\n",
       "      <td>-2.017631</td>\n",
       "      <td>4</td>\n",
       "    </tr>\n",
       "    <tr>\n",
       "      <td>2</td>\n",
       "      <td>-0.782892</td>\n",
       "      <td>-1.116681</td>\n",
       "      <td>0.332771</td>\n",
       "      <td>-1.301822</td>\n",
       "      <td>-1.222428</td>\n",
       "      <td>-0.249431</td>\n",
       "      <td>1.029448</td>\n",
       "      <td>-0.245818</td>\n",
       "      <td>-2.522673</td>\n",
       "      <td>-1.830400</td>\n",
       "      <td>-2.064073</td>\n",
       "      <td>-2.017343</td>\n",
       "      <td>4</td>\n",
       "    </tr>\n",
       "    <tr>\n",
       "      <td>3</td>\n",
       "      <td>-0.780935</td>\n",
       "      <td>-1.116764</td>\n",
       "      <td>0.333700</td>\n",
       "      <td>-1.301852</td>\n",
       "      <td>-1.222430</td>\n",
       "      <td>-0.248636</td>\n",
       "      <td>1.032845</td>\n",
       "      <td>-0.246955</td>\n",
       "      <td>-2.521639</td>\n",
       "      <td>-1.830333</td>\n",
       "      <td>-2.063137</td>\n",
       "      <td>-2.017632</td>\n",
       "      <td>4</td>\n",
       "    </tr>\n",
       "    <tr>\n",
       "      <td>4</td>\n",
       "      <td>-0.774043</td>\n",
       "      <td>-1.116775</td>\n",
       "      <td>0.335206</td>\n",
       "      <td>-1.303118</td>\n",
       "      <td>-1.222429</td>\n",
       "      <td>-0.248701</td>\n",
       "      <td>1.031807</td>\n",
       "      <td>-0.246610</td>\n",
       "      <td>-2.521900</td>\n",
       "      <td>-1.830498</td>\n",
       "      <td>-2.062795</td>\n",
       "      <td>-2.018145</td>\n",
       "      <td>4</td>\n",
       "    </tr>\n",
       "  </tbody>\n",
       "</table>\n",
       "</div>"
      ],
      "text/plain": [
       "    ambient   coolant       u_d       u_q  motor_speed    torque       i_d  \\\n",
       "0 -0.752143 -1.118446  0.327935 -1.297858    -1.222428 -0.250182  1.029572   \n",
       "1 -0.771263 -1.117021  0.329665 -1.297686    -1.222429 -0.249133  1.029509   \n",
       "2 -0.782892 -1.116681  0.332771 -1.301822    -1.222428 -0.249431  1.029448   \n",
       "3 -0.780935 -1.116764  0.333700 -1.301852    -1.222430 -0.248636  1.032845   \n",
       "4 -0.774043 -1.116775  0.335206 -1.303118    -1.222429 -0.248701  1.031807   \n",
       "\n",
       "        i_q        pm  stator_yoke  stator_tooth  stator_winding  profile_id  \n",
       "0 -0.245860 -2.522071    -1.831422     -2.066143       -2.018033           4  \n",
       "1 -0.245832 -2.522418    -1.830969     -2.064859       -2.017631           4  \n",
       "2 -0.245818 -2.522673    -1.830400     -2.064073       -2.017343           4  \n",
       "3 -0.246955 -2.521639    -1.830333     -2.063137       -2.017632           4  \n",
       "4 -0.246610 -2.521900    -1.830498     -2.062795       -2.018145           4  "
      ]
     },
     "execution_count": 5,
     "metadata": {},
     "output_type": "execute_result"
    }
   ],
   "source": [
    "DB.head()"
   ]
  },
  {
   "cell_type": "code",
   "execution_count": 6,
   "metadata": {
    "autoscroll": false,
    "collapsed": false,
    "ein.hycell": false,
    "ein.tags": "worksheet-0",
    "slideshow": {
     "slide_type": "-"
    }
   },
   "outputs": [],
   "source": [
    "TARGET = [\"pm\", \"torque\"]\n",
    "FEATURES = [\"ambient\", \"coolant\", \"u_d\", \"u_q\", \"motor_speed\", \"i_d\",\n",
    "            \"i_q\", \"stator_yoke\", \"stator_tooth\", \"stator_winding\"]"
   ]
  },
  {
   "cell_type": "code",
   "execution_count": 7,
   "metadata": {
    "autoscroll": false,
    "collapsed": false,
    "ein.hycell": false,
    "ein.tags": "worksheet-0",
    "slideshow": {
     "slide_type": "-"
    }
   },
   "outputs": [
    {
     "data": {
      "image/png": "[encoded data removed]",
      "text/plain": [
       "<Figure size 720x360 with 1 Axes>"
      ]
     },
     "metadata": {},
     "output_type": "display_data"
    }
   ],
   "source": [
    "plt.figure(figsize=(10, 5))\n",
    "plt.hist(list(map(len, DBs)))\n",
    "plt.show()"
   ]
  },
  {
   "cell_type": "code",
   "execution_count": 8,
   "metadata": {
    "autoscroll": false,
    "collapsed": false,
    "ein.hycell": false,
    "ein.tags": "worksheet-0",
    "slideshow": {
     "slide_type": "-"
    }
   },
   "outputs": [
    {
     "name": "stdout",
     "output_type": "stream",
     "text": [
      "39 13\n"
     ]
    }
   ],
   "source": [
    "train_ratio = int(len(DBs) * 0.75)\n",
    "TRAIN_SET, TEST_SET = DBs[0:train_ratio], DBs[train_ratio:]\n",
    "print(len(TRAIN_SET), len(TEST_SET))"
   ]
  },
  {
   "cell_type": "markdown",
   "metadata": {
    "ein.tags": "worksheet-0",
    "slideshow": {
     "slide_type": "-"
    }
   },
   "source": [
    "# Neural Networks"
   ]
  },
  {
   "cell_type": "code",
   "execution_count": 9,
   "metadata": {
    "autoscroll": false,
    "collapsed": false,
    "ein.hycell": false,
    "ein.tags": "worksheet-0",
    "slideshow": {
     "slide_type": "-"
    }
   },
   "outputs": [],
   "source": [
    "BATCH_SIZE = 256\n",
    "EPOCHS = 20"
   ]
  },
  {
   "cell_type": "code",
   "execution_count": 10,
   "metadata": {
    "autoscroll": false,
    "collapsed": false,
    "ein.hycell": false,
    "ein.tags": "worksheet-0",
    "slideshow": {
     "slide_type": "-"
    }
   },
   "outputs": [],
   "source": [
    "def plot_history(history):\n",
    "    train_col = \"red\"\n",
    "    test_col = \"orange\"\n",
    "    \n",
    "    for feature in [\"loss\", \"R2_pm\", \"R2_torque\"]:\n",
    "        plt.plot(history[feature + \"_train\"],\n",
    "                 label=\"Train\",\n",
    "                 color=train_col)\n",
    "        plt.plot(history[feature + \"_test\"],\n",
    "                 label=\"Test\",\n",
    "                 color=test_col)\n",
    "        plt.xlabel(\"Epoch\")\n",
    "        plt.ylabel(\"Value\")\n",
    "        plt.title(feature)\n",
    "        plt.legend()\n",
    "        plt.show()"
   ]
  },
  {
   "cell_type": "code",
   "execution_count": 11,
   "metadata": {
    "autoscroll": false,
    "collapsed": false,
    "ein.hycell": false,
    "ein.tags": "worksheet-0",
    "slideshow": {
     "slide_type": "-"
    }
   },
   "outputs": [],
   "source": [
    "def predict(mod, data):\n",
    "    \"Make predictions using the model\"\n",
    "\n",
    "    # again, to make predictions we should stop dropout\n",
    "    mod.eval()\n",
    "    \n",
    "    prev, data_dataloader = mod.load_data(data, 1)\n",
    "    Y_hat = []\n",
    "\n",
    "    # just store results and return them\n",
    "    for x, _ in data_dataloader():\n",
    "        y_hat, prev = mod(x, prev)\n",
    "        Y_hat.append(y_hat.cpu().detach().numpy())\n",
    "\n",
    "    return np.squeeze(np.vstack(Y_hat))"
   ]
  },
  {
   "cell_type": "code",
   "execution_count": 12,
   "metadata": {
    "autoscroll": false,
    "collapsed": false,
    "ein.hycell": false,
    "ein.tags": "worksheet-0",
    "slideshow": {
     "slide_type": "-"
    }
   },
   "outputs": [],
   "source": [
    "def plot_result(model, data):\n",
    "    y_hat = predict(model, data)\n",
    "    plt.plot(y_hat[:, 0],\n",
    "             color=\"red\",\n",
    "             label=\"Prevision\")\n",
    "    plt.plot(data[TARGET[0]].values,\n",
    "             color=\"black\",\n",
    "             label=\"Real\")\n",
    "    plt.legend()\n",
    "    plt.xlabel(\"time\")\n",
    "    plt.ylabel(\"pm\")\n",
    "    plt.show()\n",
    "\n",
    "    plt.plot(y_hat[:, 1],\n",
    "             color=\"blue\",\n",
    "             label=\"Prevision\")\n",
    "    plt.plot(data[TARGET[1]].values,\n",
    "             color=\"black\",\n",
    "             label=\"Real\")\n",
    "    plt.legend()\n",
    "    plt.xlabel(\"time\")\n",
    "    plt.ylabel(\"torque\")\n",
    "    plt.show()"
   ]
  },
  {
   "cell_type": "code",
   "execution_count": 13,
   "metadata": {
    "autoscroll": false,
    "collapsed": false,
    "ein.hycell": false,
    "ein.tags": "worksheet-0",
    "slideshow": {
     "slide_type": "-"
    }
   },
   "outputs": [],
   "source": [
    "def R2(x, y):\n",
    "    return np.corrcoef(x, y)[0, 1] ** 2\n",
    "\n",
    "\n",
    "def evaluate(mod, loss_fn, data, batch_size=1):\n",
    "    \"Return loss and R² of the model given some data\"\n",
    "\n",
    "    # it set the model to evaluation mode (stop dropout and so on)\n",
    "    mod.eval()\n",
    "\n",
    "    # resutls for the whole evaluation procedure (return values)\n",
    "    n_total = []\n",
    "    loss_total = []\n",
    "    R2_y1_total = []\n",
    "    R2_y2_total = []\n",
    "\n",
    "    for serie in data:\n",
    "\n",
    "        n = 0\n",
    "        loss_serie = 0\n",
    "        y1_serie = []\n",
    "        y2_serie = []\n",
    "        yhat1_serie = []\n",
    "        yhat2_serie = []\n",
    "\n",
    "        prev, dataloader = mod.load_data(serie, batch_size)\n",
    "\n",
    "        for X, Y in dataloader():\n",
    "            Y_hat, prev = mod(X, prev)\n",
    "\n",
    "            loss_serie += loss_fn(Y_hat.cpu(), Y.cpu()).item()\n",
    "            y1_serie.append(Y[:, 0].cpu().detach().numpy())\n",
    "            y2_serie.append(Y[:, 1].cpu().detach().numpy())\n",
    "            yhat1_serie.append(Y_hat[:, 0].cpu().detach().numpy())\n",
    "            yhat2_serie.append(Y_hat[:, 1].cpu().detach().numpy())\n",
    "            n += len(Y)\n",
    "\n",
    "        n_total.append(n)\n",
    "        R2_y1_total.append(R2(y1_serie, yhat1_serie))\n",
    "        R2_y2_total.append(R2(y2_serie, yhat2_serie))\n",
    "        loss_total.append(loss_serie)\n",
    "    \n",
    "    # all is done: return a weighted mean of results\n",
    "    return np.average(loss_total,  weights=n_total), \\\n",
    "           np.average(R2_y1_total, weights=n_total), \\\n",
    "           np.average(R2_y2_total, weights=n_total)\n",
    "\n",
    "\n",
    "def stop_early(patience_max, times_max=1):\n",
    "    \"Return a earl stopping checker\"\n",
    "    # (from: Goodfellow & Bengio)\n",
    "    patience = 0\n",
    "    times = 0\n",
    "    min_loss = np.Inf\n",
    "\n",
    "    def check(loss):\n",
    "        \"Return if the train process must stop early\"\n",
    "        nonlocal patience, times, min_loss\n",
    "        if loss > min_loss:\n",
    "            patience += 1\n",
    "            if patience >= patience_max:\n",
    "                patience = 0\n",
    "                times += 1\n",
    "                if times >= times_max:\n",
    "                    return True\n",
    "        else:\n",
    "            min_loss = loss\n",
    "            patience = 0\n",
    "        return False\n",
    "    return check"
   ]
  },
  {
   "cell_type": "code",
   "execution_count": 14,
   "metadata": {
    "autoscroll": false,
    "collapsed": false,
    "ein.hycell": false,
    "ein.tags": "worksheet-0",
    "slideshow": {
     "slide_type": "-"
    }
   },
   "outputs": [],
   "source": [
    "def train(mod, loss_fn, optimizer,\n",
    "          train_set, test_set,\n",
    "          epochs=1, batch_size=BATCH_SIZE,\n",
    "          early_stopping=None,\n",
    "          verbose=True):\n",
    "    \"Train the model\"\n",
    "\n",
    "    history = {  # history of the train process\n",
    "        \"time\": [],\n",
    "        \"R2_pm_train\": [],\n",
    "        \"R2_pm_test\": [],\n",
    "        \"R2_torque_train\": [],\n",
    "        \"R2_torque_test\": [],\n",
    "        \"loss_train\": [],\n",
    "        \"loss_test\": []\n",
    "    }\n",
    "    \n",
    "    # repeat for tot epochs\n",
    "    for epoch in range(epochs):\n",
    "        \n",
    "        # it set the model in train mode (start dropout)\n",
    "        mod.train()\n",
    "\n",
    "        # just to know how much does it take\n",
    "        start = datetime.now()\n",
    "\n",
    "        for db in train_set:\n",
    "            prev, dataloader = mod.load_data(db, batch_size)\n",
    "\n",
    "            for X, Y in dataloader():\n",
    "                optimizer.zero_grad()             # reset gradient\n",
    "                Y_hat, prev = mod(X, prev)        # make predictions!\n",
    "                loss = loss_fn(Y_hat, Y)          # compute loss\n",
    "                loss.backward(retain_graph=True)  # calc direction of GD\n",
    "                optimizer.step()                  # do a little step to the optimum\n",
    "\n",
    "        time = datetime.now() - start  # ok, it lasts tot (always too much) seconds\n",
    "\n",
    "        # just compute and store results\n",
    "        history[\"time\"].append(time)\n",
    "\n",
    "        loss, r2_y1, r2_y2 = evaluate(mod, loss_fn, train_set)\n",
    "        history[\"R2_pm_train\"].append(r2_y1)\n",
    "        history[\"R2_torque_train\"].append(r2_y2)\n",
    "        history[\"loss_train\"].append(loss)\n",
    "\n",
    "        loss, r2_y1, r2_y2 = evaluate(mod, loss_fn, test_set)\n",
    "        history[\"R2_pm_test\"].append(r2_y1)\n",
    "        history[\"R2_torque_test\"].append(r2_y2)\n",
    "        history[\"loss_test\"].append(loss)\n",
    "        \n",
    "        # print how good is our model\n",
    "        if verbose:\n",
    "            print(epoch + 1, end=\"\\t\")\n",
    "            print(str(time), end=\"\\t\")\n",
    "            for val in [\"loss_train\", \"R2_pm_train\", \"R2_torque_train\",\n",
    "                        \"loss_test\",  \"R2_pm_test\",  \"R2_torque_test\"]:\n",
    "                print(val, end=\": \")\n",
    "                print(\"%5.3f\" % history[val][-1], end=\"\\t\")\n",
    "            print(\"\", end=\"\\r\")\n",
    "        \n",
    "        # stop the process if it start to degenerate\n",
    "        if early_stopping is not None and early_stopping(history[\"loss_test\"][-1]):\n",
    "            break\n",
    "\n",
    "    return history"
   ]
  },
  {
   "cell_type": "markdown",
   "metadata": {
    "ein.tags": "worksheet-0",
    "slideshow": {
     "slide_type": "-"
    }
   },
   "source": [
    "## Input Recurrent NN"
   ]
  },
  {
   "cell_type": "code",
   "execution_count": 15,
   "metadata": {
    "autoscroll": false,
    "collapsed": false,
    "ein.hycell": false,
    "ein.tags": "worksheet-0",
    "slideshow": {
     "slide_type": "-"
    }
   },
   "outputs": [
    {
     "name": "stdout",
     "output_type": "stream",
     "text": [
      "Custom_RNN(\n",
      "  (dropout): Dropout(p=0.5, inplace=False)\n",
      "  (layers): ModuleList(\n",
      "    (0): Linear(in_features=12, out_features=10, bias=True)\n",
      "    (1): Linear(in_features=10, out_features=5, bias=True)\n",
      "    (2): Linear(in_features=5, out_features=2, bias=True)\n",
      "  )\n",
      ")\n"
     ]
    }
   ],
   "source": [
    "class Custom_RNN(torch.nn.Module):\n",
    "\n",
    "    def __init__(self, hiddens, recur_input, recur_output, p_dropout=0.5):\n",
    "        # recur_input in [0, len(hiddens)]\n",
    "        # recur_output in [-1, len(hiddens)]\n",
    "        assert len(hiddens) >= recur_input and recur_input >= 0\n",
    "        assert recur_output <= len(hiddens)\n",
    "\n",
    "        super(Custom_RNN, self).__init__()\n",
    "        input_shape = len(FEATURES)\n",
    "        output_shape = len(TARGET)\n",
    "        \n",
    "        self.recur_input = recur_input\n",
    "        self.recur_output = recur_output\n",
    "        hiddens_in = [input_shape] + hiddens\n",
    "        hiddens_out = hiddens + [output_shape]\n",
    "        \n",
    "        self.previous_size = hiddens_out[recur_output] if recur_output > 0 \\\n",
    "            else input_shape\n",
    "        hiddens_in[recur_input] += self.previous_size\n",
    "\n",
    "        self.dropout = torch.nn.Dropout(p=p_dropout)\n",
    "        self.layers = torch.nn.ModuleList(\n",
    "            [torch.nn.Linear(in_shape, out_shape) \\\n",
    "             for in_shape, out_shape in zip(hiddens_in, hiddens_out)])\n",
    "        self.layers_fn = [torch.nn.functional.relu \\\n",
    "                          for _ in range(len(self.layers) - 1)] + \\\n",
    "            [lambda x: x]\n",
    "\n",
    "    def initialize_prev(self, n=1):\n",
    "        return torch.zeros(n, self.previous_size)\n",
    "\n",
    "    def load_data(self, data, batch_size=1):\n",
    "        X = torch.from_numpy(data[FEATURES].values).float()\n",
    "        Y = torch.from_numpy(data[TARGET].values).float()\n",
    "        N, P = X.shape\n",
    "        K = int(np.floor(N / batch_size))\n",
    "        if K == N:\n",
    "            K = 1\n",
    "        index = np.array(list(range(0, N, K))[0:-1])\n",
    "        prev = self.initialize_prev(len(index))\n",
    "\n",
    "        def next_observation():\n",
    "            nonlocal X, Y, index, K\n",
    "            while index[0] < K:\n",
    "                yield X[index].to(DEVICE), Y[index].to(DEVICE)\n",
    "                index += 1\n",
    "\n",
    "        return prev.to(DEVICE), next_observation\n",
    "\n",
    "    def forward(self, x_new, x_lagged):\n",
    "        out, prev = x_new, x_lagged\n",
    "        for i, (layer, fn) in enumerate(zip(self.layers, self.layers_fn)):\n",
    "            if i == self.recur_input:\n",
    "                out = torch.cat([out, x_lagged], axis=1)\n",
    "            out = fn(layer(out))\n",
    "            out = self.dropout(out)\n",
    "            if i == self.recur_output:\n",
    "                prev = out\n",
    "        return out, prev\n",
    "\n",
    "\n",
    "model = Custom_RNN([10, 5], 0, 2).to(DEVICE)\n",
    "loss_fn = torch.nn.MSELoss()\n",
    "optimizer = torch.optim.Adam(params=model.parameters())\n",
    "print(model)"
   ]
  },
  {
   "cell_type": "markdown",
   "metadata": {
    "ein.tags": "worksheet-0",
    "slideshow": {
     "slide_type": "-"
    }
   },
   "source": [
    "L'output del livello 2 è collegato all'input del livello 0 (contando da 0);\n",
    "per far sì che si iteri sull'input basta mettere come terzo parametro -1"
   ]
  },
  {
   "cell_type": "code",
   "execution_count": 16,
   "metadata": {
    "autoscroll": false,
    "collapsed": false,
    "ein.hycell": false,
    "ein.tags": "worksheet-0",
    "slideshow": {
     "slide_type": "-"
    }
   },
   "outputs": [
    {
     "name": "stdout",
     "output_type": "stream",
     "text": [
      "1\t0:00:32.921352\tloss_train: 0.661\tR2_pm_train: 0.558\tR2_torque_train: 0.951\tloss_test: 0.725\tR2_pm_test: 0.481\tR2_torque_test: 0.964\t\r"
     ]
    },
    {
     "name": "stdout",
     "output_type": "stream",
     "text": [
      "2\t0:00:32.610964\tloss_train: 0.662\tR2_pm_train: 0.572\tR2_torque_train: 0.962\tloss_test: 0.736\tR2_pm_test: 0.493\tR2_torque_test: 0.967\t\r"
     ]
    },
    {
     "name": "stdout",
     "output_type": "stream",
     "text": [
      "3\t0:00:33.269757\tloss_train: 0.668\tR2_pm_train: 0.547\tR2_torque_train: 0.947\tloss_test: 0.742\tR2_pm_test: 0.456\tR2_torque_test: 0.961\t\r"
     ]
    },
    {
     "name": "stdout",
     "output_type": "stream",
     "text": [
      "4\t0:00:36.376189\tloss_train: 0.664\tR2_pm_train: 0.538\tR2_torque_train: 0.940\tloss_test: 0.738\tR2_pm_test: 0.429\tR2_torque_test: 0.951\t\r"
     ]
    },
    {
     "name": "stdout",
     "output_type": "stream",
     "text": [
      "5\t0:00:34.720795\tloss_train: 0.672\tR2_pm_train: 0.515\tR2_torque_train: 0.944\tloss_test: 0.750\tR2_pm_test: 0.389\tR2_torque_test: 0.955\t\r"
     ]
    },
    {
     "name": "stdout",
     "output_type": "stream",
     "text": [
      "6\t0:00:34.523575\tloss_train: 0.663\tR2_pm_train: 0.513\tR2_torque_train: 0.941\tloss_test: 0.737\tR2_pm_test: 0.391\tR2_torque_test: 0.950\t\r"
     ]
    },
    {
     "name": "stdout",
     "output_type": "stream",
     "text": [
      "7\t0:00:34.499047\tloss_train: 0.665\tR2_pm_train: 0.526\tR2_torque_train: 0.938\tloss_test: 0.741\tR2_pm_test: 0.404\tR2_torque_test: 0.947\t\r"
     ]
    },
    {
     "name": "stdout",
     "output_type": "stream",
     "text": [
      "8\t0:00:33.877377\tloss_train: 0.661\tR2_pm_train: 0.543\tR2_torque_train: 0.927\tloss_test: 0.738\tR2_pm_test: 0.419\tR2_torque_test: 0.940\t\r"
     ]
    },
    {
     "name": "stdout",
     "output_type": "stream",
     "text": [
      "9\t0:00:33.925333\tloss_train: 0.660\tR2_pm_train: 0.539\tR2_torque_train: 0.933\tloss_test: 0.737\tR2_pm_test: 0.406\tR2_torque_test: 0.944\t\r"
     ]
    },
    {
     "name": "stdout",
     "output_type": "stream",
     "text": [
      "10\t0:00:35.350168\tloss_train: 0.661\tR2_pm_train: 0.535\tR2_torque_train: 0.933\tloss_test: 0.736\tR2_pm_test: 0.400\tR2_torque_test: 0.946\t\r"
     ]
    },
    {
     "name": "stdout",
     "output_type": "stream",
     "text": [
      "11\t0:00:34.148248\tloss_train: 0.661\tR2_pm_train: 0.551\tR2_torque_train: 0.937\tloss_test: 0.738\tR2_pm_test: 0.420\tR2_torque_test: 0.945\t\r"
     ]
    }
   ],
   "source": [
    "history = train(model, loss_fn, optimizer,\n",
    "                TRAIN_SET, TEST_SET,\n",
    "                EPOCHS, BATCH_SIZE,\n",
    "                early_stopping=stop_early(5, 2))"
   ]
  },
  {
   "cell_type": "code",
   "execution_count": 17,
   "metadata": {
    "autoscroll": false,
    "collapsed": false,
    "ein.hycell": false,
    "ein.tags": "worksheet-0",
    "slideshow": {
     "slide_type": "-"
    }
   },
   "outputs": [
    {
     "data": {
      "image/png": "[encoded data removed]",
      "text/plain": [
       "<Figure size 432x288 with 1 Axes>"
      ]
     },
     "metadata": {},
     "output_type": "display_data"
    },
    {
     "data": {
      "image/png": "[encoded data removed]",
      "text/plain": [
       "<Figure size 432x288 with 1 Axes>"
      ]
     },
     "metadata": {},
     "output_type": "display_data"
    },
    {
     "data": {
      "image/png": "[encoded data removed]",
      "text/plain": [
       "<Figure size 432x288 with 1 Axes>"
      ]
     },
     "metadata": {},
     "output_type": "display_data"
    },
    {
     "data": {
      "image/png": "[encoded data removed]",
      "text/plain": [
       "<Figure size 432x288 with 1 Axes>"
      ]
     },
     "metadata": {},
     "output_type": "display_data"
    },
    {
     "data": {
      "image/png": "[encoded data removed]",
      "text/plain": [
       "<Figure size 432x288 with 1 Axes>"
      ]
     },
     "metadata": {},
     "output_type": "display_data"
    }
   ],
   "source": [
    "plot_history(history)\n",
    "plot_result(model, TEST_SET[0])"
   ]
  }
 ],
 "metadata": {
  "kernelspec": {
   "argv": [
    "/home/fede/.anaconda/bin/python",
    "-m",
    "ipykernel_launcher",
    "-f",
    "{connection_file}"
   ],
   "display_name": "Python 3",
   "env": null,
   "interrupt_mode": "signal",
   "language": "python",
   "metadata": null,
   "name": "python3"
  },
  "language_info": {
   "codemirror_mode": {
    "name": "ipython",
    "version": 3
   },
   "file_extension": ".py",
   "mimetype": "text/x-python",
   "name": "python",
   "nbconvert_exporter": "python",
   "pygments_lexer": "ipython3",
   "version": "3.7.4"
  },
  "name": "Micro tutorial RNN con pythorch.ipynb"
 },
 "nbformat": 4,
 "nbformat_minor": 2
}
