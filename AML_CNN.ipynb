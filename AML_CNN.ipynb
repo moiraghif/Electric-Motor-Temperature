{
  "nbformat": 4,
  "nbformat_minor": 0,
  "metadata": {
    "accelerator": "GPU",
    "colab": {
      "name": "AML_CNN.ipynb",
      "provenance": [],
      "collapsed_sections": [],
      "machine_shape": "hm"
    },
    "kernelspec": {
      "name": "python3",
      "display_name": "Python 3"
    },
    "language_info": {
      "codemirror_mode": {
        "name": "ipython",
        "version": 3
      },
      "file_extension": ".py",
      "mimetype": "text/x-python",
      "name": "python",
      "nbconvert_exporter": "python",
      "pygments_lexer": "ipython3",
      "version": "3.7.5"
    }
  },
  "cells": [
    {
      "cell_type": "markdown",
      "metadata": {
        "id": "Gki-kdSYyMq_",
        "colab_type": "text"
      },
      "source": [
        "```\n",
        "function ConnectButton(){\n",
        "    console.log(\"Connect pushed\"); \n",
        "    document.querySelector(\"#connect\").click() \n",
        "}\n",
        "setInterval(ConnectButton,60000);\n",
        "```"
      ]
    },
    {
      "cell_type": "code",
      "metadata": {
        "colab_type": "code",
        "id": "vb3X0xFRUQXW",
        "outputId": "a36aa297-93d1-4fda-9a02-df877eb374ce",
        "colab": {
          "base_uri": "https://localhost:8080/",
          "height": 124
        }
      },
      "source": [
        "from google.colab import drive\n",
        "drive.mount('/content/drive')"
      ],
      "execution_count": 1,
      "outputs": [
        {
          "output_type": "stream",
          "text": [
            "Go to this URL in a browser: https://accounts.google.com/o/oauth2/auth?client_id=947318989803-6bn6qk8qdgf4n4g3pfee6491hc0brc4i.apps.googleusercontent.com&redirect_uri=urn%3aietf%3awg%3aoauth%3a2.0%3aoob&response_type=code&scope=email%20https%3a%2f%2fwww.googleapis.com%2fauth%2fdocs.test%20https%3a%2f%2fwww.googleapis.com%2fauth%2fdrive%20https%3a%2f%2fwww.googleapis.com%2fauth%2fdrive.photos.readonly%20https%3a%2f%2fwww.googleapis.com%2fauth%2fpeopleapi.readonly\n",
            "\n",
            "Enter your authorization code:\n",
            "··········\n",
            "Mounted at /content/drive\n"
          ],
          "name": "stdout"
        }
      ]
    },
    {
      "cell_type": "code",
      "metadata": {
        "id": "zZko5hYs60sN",
        "colab_type": "code",
        "colab": {}
      },
      "source": [
        "%%capture\n",
        "!pip install --upgrade tqdm\n",
        "!pip install parameter-sherpa"
      ],
      "execution_count": 0,
      "outputs": []
    },
    {
      "cell_type": "code",
      "metadata": {
        "colab_type": "code",
        "id": "SQ6LXKCwUllM",
        "outputId": "86a6c340-02e0-4432-b3f5-2418a83a5901",
        "colab": {
          "base_uri": "https://localhost:8080/",
          "height": 34
        }
      },
      "source": [
        "import pandas as pd\n",
        "import numpy as np\n",
        "\n",
        "import matplotlib.pyplot as plt\n",
        "%matplotlib inline\n",
        "import seaborn as sns\n",
        "\n",
        "import sherpa\n",
        "\n",
        "import torch\n",
        "import torch.nn as nn\n",
        "import torch.nn.functional as F\n",
        "import torch.optim as optim\n",
        "from tqdm import tqdm\n",
        "\n",
        "import logging\n",
        "logger = logging.getLogger()\n",
        "logger.setLevel(logging.CRITICAL)\n",
        "logger.info(\"IS_CRITICAL\")\n",
        "\n",
        "torch.__version__"
      ],
      "execution_count": 3,
      "outputs": [
        {
          "output_type": "execute_result",
          "data": {
            "text/plain": [
              "'1.3.1'"
            ]
          },
          "metadata": {
            "tags": []
          },
          "execution_count": 3
        }
      ]
    },
    {
      "cell_type": "code",
      "metadata": {
        "colab_type": "code",
        "id": "4vLeWHW389VX",
        "colab": {}
      },
      "source": [
        "device = \"cuda\" if torch.cuda.is_available() else \"cpu\""
      ],
      "execution_count": 0,
      "outputs": []
    },
    {
      "cell_type": "code",
      "metadata": {
        "colab_type": "code",
        "id": "VDOxJCCLUwS2",
        "colab": {}
      },
      "source": [
        "path = \"drive/My Drive/AML/\"\n",
        "#path = \"\"\n",
        "\n",
        "df = pd.read_csv(path + \"pmsm_temperature_data.csv\")"
      ],
      "execution_count": 0,
      "outputs": []
    },
    {
      "cell_type": "code",
      "metadata": {
        "colab_type": "code",
        "id": "9nE6HMesVkEX",
        "colab": {}
      },
      "source": [
        "#df.head()"
      ],
      "execution_count": 0,
      "outputs": []
    },
    {
      "cell_type": "code",
      "metadata": {
        "colab_type": "code",
        "id": "o8-7isf4VnKt",
        "colab": {}
      },
      "source": [
        "#plt.figure(figsize=(15,5))\n",
        "#count = pd.DataFrame(df[['profile_id']].groupby('profile_id').size()).reset_index()\n",
        "#count.columns = [\"profile_id\", \"total\"]\n",
        "#sns.barplot(count.profile_id,count.total)\n",
        "#plt.show()"
      ],
      "execution_count": 0,
      "outputs": []
    },
    {
      "cell_type": "code",
      "metadata": {
        "id": "pGtWJpb_66kg",
        "colab_type": "code",
        "colab": {}
      },
      "source": [
        "#count"
      ],
      "execution_count": 0,
      "outputs": []
    },
    {
      "cell_type": "code",
      "metadata": {
        "colab_type": "code",
        "id": "7P2Z5K-2Yv5y",
        "colab": {}
      },
      "source": [
        "#plt.plot(df[df.profile_id==56].pm)\n",
        "#plt.show()"
      ],
      "execution_count": 0,
      "outputs": []
    },
    {
      "cell_type": "code",
      "metadata": {
        "colab_type": "code",
        "id": "QspAjGn-6lFX",
        "colab": {}
      },
      "source": [
        "df_sep = [df[df\n",
        "          .profile_id==profile]\n",
        "          .drop(['profile_id','torque','stator_yoke',\n",
        "                 'stator_tooth','stator_winding'],axis=1)\n",
        "          .reset_index(drop=True) for profile in df.profile_id.unique()]"
      ],
      "execution_count": 0,
      "outputs": []
    },
    {
      "cell_type": "code",
      "metadata": {
        "id": "rw4gyRTEnjHj",
        "colab_type": "code",
        "colab": {}
      },
      "source": [
        "def outputSize(in_size, kernel_size, stride, padding):\n",
        "  output = int((in_size - kernel_size + 2*(padding)) / stride) + 1\n",
        "  return(output)\n",
        "\n",
        "class CNN_Net_2(nn.Module):\n",
        "    def __init__(self, batch, in_c, out, \n",
        "                 filtro1, filtro2,\n",
        "                 lag, \n",
        "                 neuroni1,\n",
        "                 kernel1, kernel2, kernel3, kernel4, \n",
        "                 #padding1, padding2, padding3, padding4, \n",
        "                 stride1, stride2, stride3, stride4):\n",
        "        super(CNN_Net_2, self).__init__()\n",
        "        self.batch_size = 1\n",
        "        self.in_c = in_c\n",
        "        l0 = lag\n",
        "        l1 = outputSize(l0,kernel1,stride1,0)\n",
        "        l2 = outputSize(l1,kernel2,stride2,0)\n",
        "        l3 = outputSize(l2,kernel3,stride3,0)\n",
        "        l4 = outputSize(l3,kernel4,stride4,0)\n",
        "        #print(l4)\n",
        "\n",
        "        self.conv1 = nn.Conv1d(in_channels= in_c, \n",
        "                               out_channels= filtro1, \n",
        "                               kernel_size= kernel1,\n",
        "                               stride= stride1,\n",
        "                               padding=0)    \n",
        "        self.pool1 = nn.MaxPool1d(kernel2,stride=stride2,padding=0) \n",
        "        self.conv2 = nn.Conv1d(filtro1,filtro2,kernel3,stride=stride3,padding=0)\n",
        "        self.pool2 = nn.MaxPool1d(kernel4,stride=stride4,padding=0)\n",
        "        self.fc1 = nn.Linear(filtro2*l4, neuroni1)\n",
        "        self.fc2 = nn.Linear(neuroni1, out)\n",
        "\n",
        "    def forward(self, x):\n",
        "        batch_size, _, _ = x.shape\n",
        "        x =  self.pool1(F.relu(self.conv1(x)))\n",
        "        x = self.pool2(F.relu(self.conv2(x)))\n",
        "        x = x.view(batch_size, self.num_flat_features(x))\n",
        "        x = F.relu(self.fc1(x)) \n",
        "        return  self.fc2(x)\n",
        "\n",
        "    def num_flat_features(self, x):\n",
        "        size = x.size()[1:]  # all dimensions except the batch dimension\n",
        "        num_features = 1\n",
        "        for s in size:       # Get the products\n",
        "            num_features *= s\n",
        "        return num_features"
      ],
      "execution_count": 0,
      "outputs": []
    },
    {
      "cell_type": "code",
      "metadata": {
        "id": "fWFUBqOkoH11",
        "colab_type": "code",
        "outputId": "8aaff995-cdfe-4aee-f681-af829a0d6d93",
        "colab": {
          "base_uri": "https://localhost:8080/",
          "height": 34
        }
      },
      "source": [
        "l0 = 60\n",
        "l1 = outputSize(l0,5,2,0)\n",
        "l2 = outputSize(l1,5,2,0)\n",
        "l3 = outputSize(l2,5,2,0)\n",
        "l4 = outputSize(l3,5,2,0)\n",
        "print(l1,l2,l3,l4)"
      ],
      "execution_count": 9,
      "outputs": [
        {
          "output_type": "stream",
          "text": [
            "28 12 4 1\n"
          ],
          "name": "stdout"
        }
      ]
    },
    {
      "cell_type": "code",
      "metadata": {
        "colab_type": "code",
        "id": "zq9xOY0AVoE8",
        "colab": {}
      },
      "source": [
        "def sliding_window(dataset, target_var, inp, out, shuffle=True):\n",
        "    while True:\n",
        "        for X in dataset:\n",
        "            target = X[[target_var]]\n",
        "            num_features = len(X.columns)\n",
        "            \n",
        "            indice = list(range(inp + out, X.shape[0]))\n",
        "            \n",
        "            if shuffle:\n",
        "                np.random.shuffle(indice)\n",
        "            for i in indice:\n",
        "                features = X.iloc[i-inp-out:i-out,].values.reshape(inp,num_features)\n",
        "                pred = target.iloc[i:i+out]\n",
        "\n",
        "                yield np.array(features), np.array(pred)"
      ],
      "execution_count": 0,
      "outputs": []
    },
    {
      "cell_type": "code",
      "metadata": {
        "id": "HfgsQZYi-yVH",
        "colab_type": "code",
        "colab": {}
      },
      "source": [
        "FEATURES = [0, 1, 2, 3, 4, 5, 6]\n",
        "TARGET = [7]"
      ],
      "execution_count": 0,
      "outputs": []
    },
    {
      "cell_type": "code",
      "metadata": {
        "id": "OuIvEM63-07a",
        "colab_type": "code",
        "colab": {}
      },
      "source": [
        "def dataloader(data, length, shuffle=True, out=1):\n",
        "    while True:\n",
        "    # genera una lista di (i_serie, i_obs)\n",
        "        tuples = [[(df_i, i) for i, x in enumerate(data[df_i]) if i >= length + out]\n",
        "                  for df_i, _ in enumerate(data)]\n",
        "        tuples = sum(tuples, [])  # flattenizza\n",
        "        # shuffle\n",
        "        if shuffle:\n",
        "            np.random.shuffle(tuples)\n",
        "\n",
        "        # yielda le osservazioni\n",
        "        for df_i, i in tuples:\n",
        "            X_lagged = data[df_i][(i - length - out):(i - out), FEATURES + TARGET]\n",
        "            y = data[df_i][(i-out):(i), TARGET]\n",
        "            yield X_lagged, y"
      ],
      "execution_count": 0,
      "outputs": []
    },
    {
      "cell_type": "code",
      "metadata": {
        "id": "P5Zsp_d4oDoi",
        "colab_type": "code",
        "colab": {}
      },
      "source": [
        "train_min = df[~df.profile_id.isin([4, 8, 16, 24, 32, 40, 48, 51, 35, 42])].drop(['profile_id','torque',\n",
        "                                                                                 'stator_yoke','stator_tooth',\n",
        "                                                                                  'stator_winding'], \n",
        "                                                                                 axis=1).min()\n",
        "train_max = df[~df.profile_id.isin([4, 8, 16, 24, 32, 40, 48, 51, 35, 42])].drop(['profile_id','torque',\n",
        "                                                                                 'stator_yoke','stator_tooth',\n",
        "                                                                                  'stator_winding'], \n",
        "                                                                                 axis=1).max()"
      ],
      "execution_count": 0,
      "outputs": []
    },
    {
      "cell_type": "code",
      "metadata": {
        "id": "gBjhn7q5h21R",
        "colab_type": "code",
        "colab": {}
      },
      "source": [
        "df_train = [(df_sep[i] - train_min)/(train_max - train_min)\\\n",
        "            for i in list(range(0,52)) if i not in [4, 8, 16, 24, 32, \n",
        "                                                    40, 48, 51, #val\n",
        "                                                    35, 42]] #test\n",
        "\n",
        "df_val = [(df_sep[i] - train_min)/(train_max - train_min)\\\n",
        "          for i in [4, 8, 16, 24, 32, 40, 48, 51]]\n",
        "\n",
        "df_test = [(df_sep[i] - train_min)/(train_max - train_min) for i in [35, 42]]"
      ],
      "execution_count": 0,
      "outputs": []
    },
    {
      "cell_type": "code",
      "metadata": {
        "id": "anWEGUaapwPs",
        "colab_type": "code",
        "colab": {}
      },
      "source": [
        "#df_train[0]"
      ],
      "execution_count": 0,
      "outputs": []
    },
    {
      "cell_type": "code",
      "metadata": {
        "id": "3T0EvxOkvzEB",
        "colab_type": "code",
        "colab": {}
      },
      "source": [
        "parameters = [sherpa.Continuous('lr',[0.00005,0.05]),\n",
        "              #sherpa.Choice('lag',[60,100,200,500,1000]),\n",
        "              sherpa.Discrete('filtro1',[10,500]),\n",
        "              sherpa.Discrete('filtro2',[10,500]),\n",
        "              sherpa.Discrete('neuroni1',[10,1000]),\n",
        "              sherpa.Discrete('kernel1',[1,5]),\n",
        "              sherpa.Discrete('kernel2',[1,5]),\n",
        "              sherpa.Discrete('kernel3',[1,5]),\n",
        "              sherpa.Discrete('kernel4',[1,5]),\n",
        "              sherpa.Discrete('stride1',[1,2]),\n",
        "              sherpa.Discrete('stride2',[1,2]),\n",
        "              sherpa.Discrete('stride3',[1,2]),\n",
        "              sherpa.Discrete('stride4',[1,2]),\n",
        "              #sherpa.Discrete('padding1',[0,1]),\n",
        "              #sherpa.Discrete('padding2',[0,1]),\n",
        "              #sherpa.Discrete('padding3',[0,1]),\n",
        "              #sherpa.Discrete('padding4',[0,1]),\n",
        "              sherpa.Choice('batch_size',[256, 512, 1024, 2048])]\n",
        "\n",
        "alg = sherpa.algorithms.bayesian_optimization.GPyOpt(max_concurrent=1,\n",
        "                                         model_type='GP',\n",
        "                                         acquisition_type='EI',\n",
        "                                         max_num_trials=100)\n",
        "\n",
        "study = sherpa.Study(parameters=parameters,\n",
        "                     algorithm=alg,\n",
        "                     lower_is_better=True,\n",
        "                     disable_dashboard=True)"
      ],
      "execution_count": 0,
      "outputs": []
    },
    {
      "cell_type": "code",
      "metadata": {
        "id": "KjcWnilcv--D",
        "colab_type": "code",
        "outputId": "25e68329-c2f0-4fde-ae23-6de7f83e4e56",
        "colab": {
          "base_uri": "https://localhost:8080/",
          "height": 542
        }
      },
      "source": [
        "best_score = 99999\n",
        "feature    = 8\n",
        "\n",
        "for trial in study:\n",
        "\n",
        "    look_back  = 60 #int(trial.parameters[\"lag\"])\n",
        "\n",
        "    lstm = CNN_Net_2(batch=int(trial.parameters[\"batch_size\"]),\n",
        "                     in_c=feature,\n",
        "                     out = 1,\n",
        "                     lag = 60, #int(trial.parameters[\"lag\"])\n",
        "                     filtro1=int(trial.parameters[\"filtro1\"]),\n",
        "                     filtro2=int(trial.parameters[\"filtro2\"]),\n",
        "                     neuroni1=int(trial.parameters[\"neuroni1\"]),\n",
        "                     kernel1=int(trial.parameters[\"kernel1\"]),\n",
        "                     kernel2=int(trial.parameters[\"kernel2\"]),\n",
        "                     kernel3=int(trial.parameters[\"kernel3\"]),\n",
        "                     kernel4=int(trial.parameters[\"kernel4\"]),\n",
        "                     stride1=int(trial.parameters[\"stride1\"]),\n",
        "                     stride2=int(trial.parameters[\"stride2\"]),\n",
        "                     stride3=int(trial.parameters[\"stride3\"]),\n",
        "                     stride4=int(trial.parameters[\"stride4\"]),\n",
        "                     #padding1=int(trial.parameters[\"padding1\"]),\n",
        "                     #padding2=int(trial.parameters[\"padding2\"]),\n",
        "                     #padding3=int(trial.parameters[\"padding3\"]),\n",
        "                     #padding4=int(trial.parameters[\"padding4\"])\n",
        "                     ).to(device)\n",
        "                     \n",
        "    losses = []\n",
        "    criterion = torch.nn.MSELoss()\n",
        "    optimizer = torch.optim.Adam(lstm.parameters(), lr=trial.parameters[\"lr\"])\n",
        "\n",
        "    batch_size = int(trial.parameters[\"batch_size\"])\n",
        "\n",
        "    df_length = np.sum([x.shape[0] for x in df_train])\n",
        "\n",
        "    #gen = sliding_window(df_train, \"pm\", look_back, 1)\n",
        "    gen = dataloader([df.values for df in df_train], look_back)\n",
        "    progress_bar = tqdm(range(0, df_length, batch_size))\n",
        "\n",
        "    lstm.train()\n",
        "    for b in progress_bar:\n",
        "        X_train = []\n",
        "        y_train = []\n",
        "        for i in range(batch_size):\n",
        "            try:\n",
        "                X,y = next(gen)\n",
        "                X_train.append(X)\n",
        "                y_train.append(y)\n",
        "            except StopIteration:\n",
        "                #in case the datagen ends, recreate a new a one and continue\n",
        "                #it should not happen though since the the datagen\n",
        "                #should be infinite (theorically), it's more of a precaution\n",
        "                #gen = sliding_window(df_train, \"pm\", look_back, 1)\n",
        "                gen = dataloader([df.values for df in df_train], look_back)\n",
        "\n",
        "                X,y = next(gen)\n",
        "                X_train.append(X)\n",
        "                y_train.append(y)\n",
        "        \n",
        "        inpt = np.array(X_train).reshape(-1, 8, look_back)\n",
        "        target = np.array(y_train)    \n",
        "        x_batch = torch.tensor(inpt,dtype=torch.float32).to(device)  \n",
        "        y_batch = torch.tensor(target,dtype=torch.float32).to(device)\n",
        "        try:\n",
        "            output = lstm(x_batch) \n",
        "            loss = criterion(output.view(-1), y_batch.view(-1))  \n",
        "            #loss = loss_fn(output.view(-1), y_batch.view(-1))  \n",
        "\n",
        "            loss.backward()\n",
        "            optimizer.step()        \n",
        "            optimizer.zero_grad()\n",
        "\n",
        "            losses.append(loss.item())\n",
        "        except:\n",
        "            print(\"something strange happened\")\n",
        "            print(inpt.shape)\n",
        "            print(x_batch.size())\n",
        "            break\n",
        "        if len(losses)>10000:\n",
        "            progress_bar.set_description(\"Epoch:\"+str(int(b/batch_size)+1)+\" Loss:\"+str(round(np.mean(losses[-1000,]),7)))\n",
        "        else:\n",
        "            progress_bar.set_description(\"Epoch:\"+str(int(b/batch_size)+1)+\" Loss:\"+str(round(np.mean(losses),7)))\n",
        "\n",
        "    #test_gen = sliding_window(df_val, \"pm\", look_back, 1)\n",
        "    test_gen = dataloader([df.values for df in df_val], look_back)\n",
        "    batch_size = 510\n",
        "\n",
        "    lstm.eval()\n",
        "    y_test = []\n",
        "    y_pred_all = []\n",
        "\n",
        "    \n",
        "    tot_len = np.sum([x.shape[0] for x in df_val])\n",
        "    for x in range(0, tot_len, batch_size):\n",
        "        X_test = []\n",
        "        for i in range(batch_size):\n",
        "            try:\n",
        "                X,y = next(test_gen)\n",
        "                X_test.append(X)\n",
        "                y_test.append(y)\n",
        "            except:\n",
        "                print(\"You somehow created an exception hahaha!\")\n",
        "                break\n",
        "\n",
        "        inpt = np.array(X_test).reshape(-1, 8, look_back)\n",
        "        x_test_batch = torch.tensor(inpt,dtype=torch.float32).to(device)  \n",
        "        #print(x_test_batch.shape)\n",
        "        y_pred = lstm(x_test_batch)\n",
        "\n",
        "        y_pred_all = np.append(y_pred_all,y_pred.cpu().detach().numpy())\n",
        "\n",
        "    y_test = np.array(y_test).reshape(-1)\n",
        "    score = np.mean((y_test - y_pred_all)**2) #MSE\n",
        "    if score < best_score:\n",
        "        best_score = score\n",
        "        torch.save(lstm, path + \"models/best_model_cnn\")\n",
        "        print(\"New Challanger with MSE on val:\", score, \"and confs:\", trial.parameters)\n",
        "    \n",
        "    #Sherpa PART\n",
        "    study.add_observation(trial, iteration=1, objective=score)\n",
        "    study.finalize(trial)\n",
        "    study.results.to_csv(path + \"results/AutoML_CNN.csv\")"
      ],
      "execution_count": 0,
      "outputs": [
        {
          "output_type": "stream",
          "text": [
            "Epoch:753 Loss:50.5553527: 100%|██████████| 753/753 [00:34<00:00, 22.12it/s]\n"
          ],
          "name": "stderr"
        },
        {
          "output_type": "stream",
          "text": [
            "New Challanger with MSE on val: 0.0011691224890032627 and confs: {'lr': 0.014746477668561608, 'filtro1': 406, 'filtro2': 46, 'neuroni1': 611, 'kernel1': 1, 'kernel2': 1, 'kernel3': 2, 'kernel4': 3, 'stride1': 1, 'stride2': 1, 'stride3': 1, 'stride4': 1, 'batch_size': 1024}\n"
          ],
          "name": "stdout"
        },
        {
          "output_type": "stream",
          "text": [
            "Epoch:3012 Loss:509.8506178: 100%|██████████| 3012/3012 [00:58<00:00, 20.90it/s]\n",
            "Epoch:347 Loss:88682.0177214:  92%|█████████▏| 347/377 [00:40<00:03,  8.49it/s]"
          ],
          "name": "stderr"
        },
        {
          "output_type": "stream",
          "text": [
            "something strange happened\n",
            "(2048, 8, 60)\n",
            "torch.Size([2048, 8, 60])\n",
            "You somehow created an exception hahaha!\n"
          ],
          "name": "stdout"
        },
        {
          "output_type": "error",
          "ename": "RuntimeError",
          "evalue": "ignored",
          "traceback": [
            "\u001b[0;31m---------------------------------------------------------------------------\u001b[0m",
            "\u001b[0;31mRuntimeError\u001b[0m                              Traceback (most recent call last)",
            "\u001b[0;32m<ipython-input-47-20c54b6aad7d>\u001b[0m in \u001b[0;36m<module>\u001b[0;34m()\u001b[0m\n\u001b[1;32m    107\u001b[0m         \u001b[0mx_test_batch\u001b[0m \u001b[0;34m=\u001b[0m \u001b[0mtorch\u001b[0m\u001b[0;34m.\u001b[0m\u001b[0mtensor\u001b[0m\u001b[0;34m(\u001b[0m\u001b[0minpt\u001b[0m\u001b[0;34m,\u001b[0m\u001b[0mdtype\u001b[0m\u001b[0;34m=\u001b[0m\u001b[0mtorch\u001b[0m\u001b[0;34m.\u001b[0m\u001b[0mfloat32\u001b[0m\u001b[0;34m)\u001b[0m\u001b[0;34m.\u001b[0m\u001b[0mto\u001b[0m\u001b[0;34m(\u001b[0m\u001b[0mdevice\u001b[0m\u001b[0;34m)\u001b[0m\u001b[0;34m\u001b[0m\u001b[0;34m\u001b[0m\u001b[0m\n\u001b[1;32m    108\u001b[0m         \u001b[0;31m#print(x_test_batch.shape)\u001b[0m\u001b[0;34m\u001b[0m\u001b[0;34m\u001b[0m\u001b[0;34m\u001b[0m\u001b[0m\n\u001b[0;32m--> 109\u001b[0;31m         \u001b[0my_pred\u001b[0m \u001b[0;34m=\u001b[0m \u001b[0mlstm\u001b[0m\u001b[0;34m(\u001b[0m\u001b[0mx_test_batch\u001b[0m\u001b[0;34m)\u001b[0m\u001b[0;34m\u001b[0m\u001b[0;34m\u001b[0m\u001b[0m\n\u001b[0m\u001b[1;32m    110\u001b[0m \u001b[0;34m\u001b[0m\u001b[0m\n\u001b[1;32m    111\u001b[0m         \u001b[0my_pred_all\u001b[0m \u001b[0;34m=\u001b[0m \u001b[0mnp\u001b[0m\u001b[0;34m.\u001b[0m\u001b[0mappend\u001b[0m\u001b[0;34m(\u001b[0m\u001b[0my_pred_all\u001b[0m\u001b[0;34m,\u001b[0m\u001b[0my_pred\u001b[0m\u001b[0;34m.\u001b[0m\u001b[0mcpu\u001b[0m\u001b[0;34m(\u001b[0m\u001b[0;34m)\u001b[0m\u001b[0;34m.\u001b[0m\u001b[0mdetach\u001b[0m\u001b[0;34m(\u001b[0m\u001b[0;34m)\u001b[0m\u001b[0;34m.\u001b[0m\u001b[0mnumpy\u001b[0m\u001b[0;34m(\u001b[0m\u001b[0;34m)\u001b[0m\u001b[0;34m)\u001b[0m\u001b[0;34m\u001b[0m\u001b[0;34m\u001b[0m\u001b[0m\n",
            "\u001b[0;32m/usr/local/lib/python3.6/dist-packages/torch/nn/modules/module.py\u001b[0m in \u001b[0;36m__call__\u001b[0;34m(self, *input, **kwargs)\u001b[0m\n\u001b[1;32m    539\u001b[0m             \u001b[0mresult\u001b[0m \u001b[0;34m=\u001b[0m \u001b[0mself\u001b[0m\u001b[0;34m.\u001b[0m\u001b[0m_slow_forward\u001b[0m\u001b[0;34m(\u001b[0m\u001b[0;34m*\u001b[0m\u001b[0minput\u001b[0m\u001b[0;34m,\u001b[0m \u001b[0;34m**\u001b[0m\u001b[0mkwargs\u001b[0m\u001b[0;34m)\u001b[0m\u001b[0;34m\u001b[0m\u001b[0;34m\u001b[0m\u001b[0m\n\u001b[1;32m    540\u001b[0m         \u001b[0;32melse\u001b[0m\u001b[0;34m:\u001b[0m\u001b[0;34m\u001b[0m\u001b[0;34m\u001b[0m\u001b[0m\n\u001b[0;32m--> 541\u001b[0;31m             \u001b[0mresult\u001b[0m \u001b[0;34m=\u001b[0m \u001b[0mself\u001b[0m\u001b[0;34m.\u001b[0m\u001b[0mforward\u001b[0m\u001b[0;34m(\u001b[0m\u001b[0;34m*\u001b[0m\u001b[0minput\u001b[0m\u001b[0;34m,\u001b[0m \u001b[0;34m**\u001b[0m\u001b[0mkwargs\u001b[0m\u001b[0;34m)\u001b[0m\u001b[0;34m\u001b[0m\u001b[0;34m\u001b[0m\u001b[0m\n\u001b[0m\u001b[1;32m    542\u001b[0m         \u001b[0;32mfor\u001b[0m \u001b[0mhook\u001b[0m \u001b[0;32min\u001b[0m \u001b[0mself\u001b[0m\u001b[0;34m.\u001b[0m\u001b[0m_forward_hooks\u001b[0m\u001b[0;34m.\u001b[0m\u001b[0mvalues\u001b[0m\u001b[0;34m(\u001b[0m\u001b[0;34m)\u001b[0m\u001b[0;34m:\u001b[0m\u001b[0;34m\u001b[0m\u001b[0;34m\u001b[0m\u001b[0m\n\u001b[1;32m    543\u001b[0m             \u001b[0mhook_result\u001b[0m \u001b[0;34m=\u001b[0m \u001b[0mhook\u001b[0m\u001b[0;34m(\u001b[0m\u001b[0mself\u001b[0m\u001b[0;34m,\u001b[0m \u001b[0minput\u001b[0m\u001b[0;34m,\u001b[0m \u001b[0mresult\u001b[0m\u001b[0;34m)\u001b[0m\u001b[0;34m\u001b[0m\u001b[0;34m\u001b[0m\u001b[0m\n",
            "\u001b[0;32m<ipython-input-38-ff4b738faed8>\u001b[0m in \u001b[0;36mforward\u001b[0;34m(self, x)\u001b[0m\n\u001b[1;32m     34\u001b[0m     \u001b[0;32mdef\u001b[0m \u001b[0mforward\u001b[0m\u001b[0;34m(\u001b[0m\u001b[0mself\u001b[0m\u001b[0;34m,\u001b[0m \u001b[0mx\u001b[0m\u001b[0;34m)\u001b[0m\u001b[0;34m:\u001b[0m\u001b[0;34m\u001b[0m\u001b[0;34m\u001b[0m\u001b[0m\n\u001b[1;32m     35\u001b[0m         \u001b[0mbatch_size\u001b[0m\u001b[0;34m,\u001b[0m \u001b[0m_\u001b[0m\u001b[0;34m,\u001b[0m \u001b[0m_\u001b[0m \u001b[0;34m=\u001b[0m \u001b[0mx\u001b[0m\u001b[0;34m.\u001b[0m\u001b[0mshape\u001b[0m\u001b[0;34m\u001b[0m\u001b[0;34m\u001b[0m\u001b[0m\n\u001b[0;32m---> 36\u001b[0;31m         \u001b[0mx\u001b[0m \u001b[0;34m=\u001b[0m  \u001b[0mself\u001b[0m\u001b[0;34m.\u001b[0m\u001b[0mpool1\u001b[0m\u001b[0;34m(\u001b[0m\u001b[0mF\u001b[0m\u001b[0;34m.\u001b[0m\u001b[0mrelu\u001b[0m\u001b[0;34m(\u001b[0m\u001b[0mself\u001b[0m\u001b[0;34m.\u001b[0m\u001b[0mconv1\u001b[0m\u001b[0;34m(\u001b[0m\u001b[0mx\u001b[0m\u001b[0;34m)\u001b[0m\u001b[0;34m)\u001b[0m\u001b[0;34m)\u001b[0m\u001b[0;34m\u001b[0m\u001b[0;34m\u001b[0m\u001b[0m\n\u001b[0m\u001b[1;32m     37\u001b[0m         \u001b[0mx\u001b[0m \u001b[0;34m=\u001b[0m \u001b[0mself\u001b[0m\u001b[0;34m.\u001b[0m\u001b[0mpool2\u001b[0m\u001b[0;34m(\u001b[0m\u001b[0mF\u001b[0m\u001b[0;34m.\u001b[0m\u001b[0mrelu\u001b[0m\u001b[0;34m(\u001b[0m\u001b[0mself\u001b[0m\u001b[0;34m.\u001b[0m\u001b[0mconv2\u001b[0m\u001b[0;34m(\u001b[0m\u001b[0mx\u001b[0m\u001b[0;34m)\u001b[0m\u001b[0;34m)\u001b[0m\u001b[0;34m)\u001b[0m\u001b[0;34m\u001b[0m\u001b[0;34m\u001b[0m\u001b[0m\n\u001b[1;32m     38\u001b[0m         \u001b[0mx\u001b[0m \u001b[0;34m=\u001b[0m \u001b[0mx\u001b[0m\u001b[0;34m.\u001b[0m\u001b[0mview\u001b[0m\u001b[0;34m(\u001b[0m\u001b[0mbatch_size\u001b[0m\u001b[0;34m,\u001b[0m \u001b[0mself\u001b[0m\u001b[0;34m.\u001b[0m\u001b[0mnum_flat_features\u001b[0m\u001b[0;34m(\u001b[0m\u001b[0mx\u001b[0m\u001b[0;34m)\u001b[0m\u001b[0;34m)\u001b[0m\u001b[0;34m\u001b[0m\u001b[0;34m\u001b[0m\u001b[0m\n",
            "\u001b[0;32m/usr/local/lib/python3.6/dist-packages/torch/nn/modules/module.py\u001b[0m in \u001b[0;36m__call__\u001b[0;34m(self, *input, **kwargs)\u001b[0m\n\u001b[1;32m    539\u001b[0m             \u001b[0mresult\u001b[0m \u001b[0;34m=\u001b[0m \u001b[0mself\u001b[0m\u001b[0;34m.\u001b[0m\u001b[0m_slow_forward\u001b[0m\u001b[0;34m(\u001b[0m\u001b[0;34m*\u001b[0m\u001b[0minput\u001b[0m\u001b[0;34m,\u001b[0m \u001b[0;34m**\u001b[0m\u001b[0mkwargs\u001b[0m\u001b[0;34m)\u001b[0m\u001b[0;34m\u001b[0m\u001b[0;34m\u001b[0m\u001b[0m\n\u001b[1;32m    540\u001b[0m         \u001b[0;32melse\u001b[0m\u001b[0;34m:\u001b[0m\u001b[0;34m\u001b[0m\u001b[0;34m\u001b[0m\u001b[0m\n\u001b[0;32m--> 541\u001b[0;31m             \u001b[0mresult\u001b[0m \u001b[0;34m=\u001b[0m \u001b[0mself\u001b[0m\u001b[0;34m.\u001b[0m\u001b[0mforward\u001b[0m\u001b[0;34m(\u001b[0m\u001b[0;34m*\u001b[0m\u001b[0minput\u001b[0m\u001b[0;34m,\u001b[0m \u001b[0;34m**\u001b[0m\u001b[0mkwargs\u001b[0m\u001b[0;34m)\u001b[0m\u001b[0;34m\u001b[0m\u001b[0;34m\u001b[0m\u001b[0m\n\u001b[0m\u001b[1;32m    542\u001b[0m         \u001b[0;32mfor\u001b[0m \u001b[0mhook\u001b[0m \u001b[0;32min\u001b[0m \u001b[0mself\u001b[0m\u001b[0;34m.\u001b[0m\u001b[0m_forward_hooks\u001b[0m\u001b[0;34m.\u001b[0m\u001b[0mvalues\u001b[0m\u001b[0;34m(\u001b[0m\u001b[0;34m)\u001b[0m\u001b[0;34m:\u001b[0m\u001b[0;34m\u001b[0m\u001b[0;34m\u001b[0m\u001b[0m\n\u001b[1;32m    543\u001b[0m             \u001b[0mhook_result\u001b[0m \u001b[0;34m=\u001b[0m \u001b[0mhook\u001b[0m\u001b[0;34m(\u001b[0m\u001b[0mself\u001b[0m\u001b[0;34m,\u001b[0m \u001b[0minput\u001b[0m\u001b[0;34m,\u001b[0m \u001b[0mresult\u001b[0m\u001b[0;34m)\u001b[0m\u001b[0;34m\u001b[0m\u001b[0;34m\u001b[0m\u001b[0m\n",
            "\u001b[0;32m/usr/local/lib/python3.6/dist-packages/torch/nn/modules/pooling.py\u001b[0m in \u001b[0;36mforward\u001b[0;34m(self, input)\u001b[0m\n\u001b[1;32m     74\u001b[0m         return F.max_pool1d(input, self.kernel_size, self.stride,\n\u001b[1;32m     75\u001b[0m                             \u001b[0mself\u001b[0m\u001b[0;34m.\u001b[0m\u001b[0mpadding\u001b[0m\u001b[0;34m,\u001b[0m \u001b[0mself\u001b[0m\u001b[0;34m.\u001b[0m\u001b[0mdilation\u001b[0m\u001b[0;34m,\u001b[0m \u001b[0mself\u001b[0m\u001b[0;34m.\u001b[0m\u001b[0mceil_mode\u001b[0m\u001b[0;34m,\u001b[0m\u001b[0;34m\u001b[0m\u001b[0;34m\u001b[0m\u001b[0m\n\u001b[0;32m---> 76\u001b[0;31m                             self.return_indices)\n\u001b[0m\u001b[1;32m     77\u001b[0m \u001b[0;34m\u001b[0m\u001b[0m\n\u001b[1;32m     78\u001b[0m \u001b[0;34m\u001b[0m\u001b[0m\n",
            "\u001b[0;32m/usr/local/lib/python3.6/dist-packages/torch/_jit_internal.py\u001b[0m in \u001b[0;36mfn\u001b[0;34m(*args, **kwargs)\u001b[0m\n\u001b[1;32m    136\u001b[0m             \u001b[0;32mreturn\u001b[0m \u001b[0mif_true\u001b[0m\u001b[0;34m(\u001b[0m\u001b[0;34m*\u001b[0m\u001b[0margs\u001b[0m\u001b[0;34m,\u001b[0m \u001b[0;34m**\u001b[0m\u001b[0mkwargs\u001b[0m\u001b[0;34m)\u001b[0m\u001b[0;34m\u001b[0m\u001b[0;34m\u001b[0m\u001b[0m\n\u001b[1;32m    137\u001b[0m         \u001b[0;32melse\u001b[0m\u001b[0;34m:\u001b[0m\u001b[0;34m\u001b[0m\u001b[0;34m\u001b[0m\u001b[0m\n\u001b[0;32m--> 138\u001b[0;31m             \u001b[0;32mreturn\u001b[0m \u001b[0mif_false\u001b[0m\u001b[0;34m(\u001b[0m\u001b[0;34m*\u001b[0m\u001b[0margs\u001b[0m\u001b[0;34m,\u001b[0m \u001b[0;34m**\u001b[0m\u001b[0mkwargs\u001b[0m\u001b[0;34m)\u001b[0m\u001b[0;34m\u001b[0m\u001b[0;34m\u001b[0m\u001b[0m\n\u001b[0m\u001b[1;32m    139\u001b[0m \u001b[0;34m\u001b[0m\u001b[0m\n\u001b[1;32m    140\u001b[0m     \u001b[0;32mif\u001b[0m \u001b[0mif_true\u001b[0m\u001b[0;34m.\u001b[0m\u001b[0m__doc__\u001b[0m \u001b[0;32mis\u001b[0m \u001b[0;32mNone\u001b[0m \u001b[0;32mand\u001b[0m \u001b[0mif_false\u001b[0m\u001b[0;34m.\u001b[0m\u001b[0m__doc__\u001b[0m \u001b[0;32mis\u001b[0m \u001b[0;32mnot\u001b[0m \u001b[0;32mNone\u001b[0m\u001b[0;34m:\u001b[0m\u001b[0;34m\u001b[0m\u001b[0;34m\u001b[0m\u001b[0m\n",
            "\u001b[0;32m/usr/local/lib/python3.6/dist-packages/torch/nn/functional.py\u001b[0m in \u001b[0;36m_max_pool1d\u001b[0;34m(input, kernel_size, stride, padding, dilation, ceil_mode, return_indices)\u001b[0m\n\u001b[1;32m    455\u001b[0m         \u001b[0mstride\u001b[0m \u001b[0;34m=\u001b[0m \u001b[0mtorch\u001b[0m\u001b[0;34m.\u001b[0m\u001b[0mjit\u001b[0m\u001b[0;34m.\u001b[0m\u001b[0mannotate\u001b[0m\u001b[0;34m(\u001b[0m\u001b[0mList\u001b[0m\u001b[0;34m[\u001b[0m\u001b[0mint\u001b[0m\u001b[0;34m]\u001b[0m\u001b[0;34m,\u001b[0m \u001b[0;34m[\u001b[0m\u001b[0;34m]\u001b[0m\u001b[0;34m)\u001b[0m\u001b[0;34m\u001b[0m\u001b[0;34m\u001b[0m\u001b[0m\n\u001b[1;32m    456\u001b[0m     return torch.max_pool1d(\n\u001b[0;32m--> 457\u001b[0;31m         input, kernel_size, stride, padding, dilation, ceil_mode)\n\u001b[0m\u001b[1;32m    458\u001b[0m \u001b[0;34m\u001b[0m\u001b[0m\n\u001b[1;32m    459\u001b[0m max_pool1d = boolean_dispatch(\n",
            "\u001b[0;31mRuntimeError\u001b[0m: non-empty 3D or 4D input tensor expected but got ndim: 4"
          ]
        },
        {
          "output_type": "stream",
          "text": [
            "\n"
          ],
          "name": "stderr"
        }
      ]
    },
    {
      "cell_type": "code",
      "metadata": {
        "id": "iHHb2__EzwYV",
        "colab_type": "code",
        "colab": {}
      },
      "source": [
        "best_model = torch.load(path + \"models/best_model_cnn\")\n",
        "results = pd.read_csv(path + \"results/AutoML_CNN.csv\")\n",
        "results = results[results[\"Status\"]==\"COMPLETED\"]"
      ],
      "execution_count": 0,
      "outputs": []
    },
    {
      "cell_type": "code",
      "metadata": {
        "id": "wD-E06OV2Vhb",
        "colab_type": "code",
        "colab": {}
      },
      "source": [
        "plt.figure(figsize=(15,5))\n",
        "best, = plt.plot(np.minimum.accumulate(np.array(results.Objective)),'*-')\n",
        "#actual, = plt.plot(np.array(results.Objective),'*-')\n",
        "\n",
        "#plt.legend([actual, best],\n",
        "#           ['Calculated','Best Seen']) \n",
        "\n",
        "plt.xlabel('Iterations')\n",
        "plt.ylabel('Best Seen MSE')\n",
        "plt.show()"
      ],
      "execution_count": 0,
      "outputs": []
    },
    {
      "cell_type": "code",
      "metadata": {
        "id": "CUOE0O-R6s-A",
        "colab_type": "code",
        "colab": {}
      },
      "source": [
        "test_gen = dataloader([df_test[0].values], look_back, shuffle=False)\n",
        "\n",
        "batch_size = 510\n",
        "\n",
        "y_test = []\n",
        "y_pred_all = []\n",
        "for x in range(0, df_test[0].shape[0], batch_size):\n",
        "    X_test = []\n",
        "    for i in range(batch_size):\n",
        "        try:\n",
        "            X,y = next(test_gen)\n",
        "            X_test.append(X)\n",
        "            y_test.append(y)\n",
        "        except:\n",
        "            break\n",
        "\n",
        "    inpt = np.array(X_test).reshape(-1, 8, look_back)\n",
        "    x_test_batch = torch.tensor(inpt,dtype=torch.float32).to(device)  \n",
        "    y_pred = best_model(x_test_batch)\n",
        "\n",
        "    y_pred_all = np.append(y_pred_all,y_pred.cpu().detach().numpy())"
      ],
      "execution_count": 0,
      "outputs": []
    },
    {
      "cell_type": "code",
      "metadata": {
        "colab_type": "code",
        "id": "TETtDarx2qU4",
        "colab": {}
      },
      "source": [
        "y_test = np.array(y_test).reshape(-1)\n",
        "#print(y_test.shape)\n",
        "plt.figure(figsize=(10,10))\n",
        "plt.plot(y_test[-10000:])\n",
        "plt.plot(y_pred_all[-10000:])\n",
        "\n",
        "plt.show()"
      ],
      "execution_count": 0,
      "outputs": []
    },
    {
      "cell_type": "code",
      "metadata": {
        "colab_type": "code",
        "id": "awfQ0bE65q-Y",
        "colab": {}
      },
      "source": [
        "np.mean(np.abs((y_test - y_pred_all)/np.abs(y_test)))"
      ],
      "execution_count": 0,
      "outputs": []
    },
    {
      "cell_type": "code",
      "metadata": {
        "id": "FYppM-wv2gTo",
        "colab_type": "code",
        "colab": {}
      },
      "source": [
        ""
      ],
      "execution_count": 0,
      "outputs": []
    },
    {
      "cell_type": "code",
      "metadata": {
        "id": "bcy66DmSnC4q",
        "colab_type": "code",
        "colab": {}
      },
      "source": [
        "def new_loss(w1=1, w2=1):\n",
        "    \"w1 is the weight for lower temperature and w2 for the upper So w1 <= w2\"\n",
        "    def high_low_loss(output, target):\n",
        "        weights = w1 + (w2 - w1)*F.relu(target - 0.5)\n",
        "        return torch.mean(weights*((output - target)**2))\n",
        "    \n",
        "    return high_low_loss"
      ],
      "execution_count": 0,
      "outputs": []
    },
    {
      "cell_type": "code",
      "metadata": {
        "id": "USjLXxfcnCw5",
        "colab_type": "code",
        "colab": {}
      },
      "source": [
        "parameters = [sherpa.Continuous('lr',[0.00005,0.05]),\n",
        "              sherpa.Discrete('lag',[10,1000]),\n",
        "              sherpa.Discrete('filtro1',[10,500]),\n",
        "              sherpa.Discrete('filtro2',[10,500]),\n",
        "              sherpa.Discrete('neuroni1',[10,1000]),\n",
        "              sherpa.Discrete('kernel1',[1,5]),\n",
        "              sherpa.Discrete('kernel2',[1,5]),\n",
        "              sherpa.Discrete('kernel3',[1,5]),\n",
        "              sherpa.Discrete('kernel4',[1,5]),\n",
        "              sherpa.Discrete('stride1',[1,2]),\n",
        "              sherpa.Discrete('stride2',[1,2]),\n",
        "              sherpa.Discrete('stride3',[1,2]),\n",
        "              sherpa.Discrete('stride4',[1,2]),\n",
        "              #sherpa.Discrete('padding1',[0,1]),\n",
        "              #sherpa.Discrete('padding2',[0,1]),\n",
        "              #sherpa.Discrete('padding3',[0,1]),\n",
        "              #sherpa.Discrete('padding4',[0,1]),\n",
        "              sherpa.Choice('batch_size',[256, 512, 1024, 2048])]\n",
        "\n",
        "alg = sherpa.algorithms.bayesian_optimization.GPyOpt(max_concurrent=1,\n",
        "                                         model_type='GP',\n",
        "                                         acquisition_type='EI',\n",
        "                                         max_num_trials=100)\n",
        "\n",
        "study = sherpa.Study(parameters=parameters,\n",
        "                     algorithm=alg,\n",
        "                     lower_is_better=True,\n",
        "                     disable_dashboard=True)"
      ],
      "execution_count": 0,
      "outputs": []
    },
    {
      "cell_type": "code",
      "metadata": {
        "id": "4y390fAGnCop",
        "colab_type": "code",
        "colab": {}
      },
      "source": [
        "best_score = 99999\n",
        "feature    = 8\n",
        "\n",
        "for trial in study:\n",
        "\n",
        "    look_back  = 60 #int(trial.parameters[\"lag\"])\n",
        "\n",
        "    lstm = CNN_Net_2(batch=int(trial.parameters[\"batch_size\"]),\n",
        "                     in_c=feature,\n",
        "                     out = 1,\n",
        "                     lag = 60,\n",
        "                     filtro1=int(trial.parameters[\"filtro1\"]),\n",
        "                     filtro2=int(trial.parameters[\"filtro2\"]),\n",
        "                     neuroni1=int(trial.parameters[\"neuroni1\"]),\n",
        "                     kernel1=int(trial.parameters[\"kernel1\"]),\n",
        "                     kernel2=int(trial.parameters[\"kernel2\"]),\n",
        "                     kernel3=int(trial.parameters[\"kernel3\"]),\n",
        "                     kernel4=int(trial.parameters[\"kernel4\"]),\n",
        "                     stride1=int(trial.parameters[\"stride1\"]),\n",
        "                     stride2=int(trial.parameters[\"stride2\"]),\n",
        "                     stride3=int(trial.parameters[\"stride3\"]),\n",
        "                     stride4=int(trial.parameters[\"stride4\"]),\n",
        "                     #padding1=int(trial.parameters[\"padding1\"]),\n",
        "                     #padding2=int(trial.parameters[\"padding2\"]),\n",
        "                     #padding3=int(trial.parameters[\"padding3\"]),\n",
        "                     #padding4=int(trial.parameters[\"padding4\"])\n",
        "                     ).to(device)\n",
        "                     \n",
        "    losses = []\n",
        "    criterion = new_loss(1,3)\n",
        "    optimizer = torch.optim.Adam(lstm.parameters(), lr=trial.parameters[\"lr\"])\n",
        "\n",
        "    batch_size = int(trial.parameters[\"batch_size\"])\n",
        "\n",
        "    df_length = np.sum([x.shape[0] for x in df_train])\n",
        "\n",
        "    gen = dataloader([df.values for df in df_train], look_back)\n",
        "    progress_bar = tqdm(range(0, df_length, batch_size))\n",
        "\n",
        "    lstm.train()\n",
        "    for b in progress_bar:\n",
        "        X_train = []\n",
        "        y_train = []\n",
        "        for i in range(batch_size):\n",
        "            try:\n",
        "                X,y = next(gen)\n",
        "                X_train.append(X)\n",
        "                y_train.append(y)\n",
        "            except StopIteration:\n",
        "                #in case the datagen ends, recreate a new a one and continue\n",
        "                #it should not happen though since the the datagen\n",
        "                #should be infinite (theorically), it's more of a precaution\n",
        "                #gen = sliding_window(df_train, \"pm\", look_back, 1)\n",
        "                gen = dataloader([df.values for df in df_train], look_back)\n",
        "\n",
        "                X,y = next(gen)\n",
        "                X_train.append(X)\n",
        "                y_train.append(y)\n",
        "        \n",
        "        inpt = np.array(X_train).reshape(-1, 8, look_back)\n",
        "        target = np.array(y_train)    \n",
        "        x_batch = torch.tensor(inpt,dtype=torch.float32).to(device)  \n",
        "        y_batch = torch.tensor(target,dtype=torch.float32).to(device)\n",
        "        try:\n",
        "            output = lstm(x_batch) \n",
        "            loss = criterion(output.view(-1), y_batch.view(-1))  \n",
        "            \n",
        "            loss.backward()\n",
        "            optimizer.step()        \n",
        "            optimizer.zero_grad()\n",
        "\n",
        "            losses.append(loss.item())\n",
        "        except:\n",
        "            print(\"something strange happened\")\n",
        "            print(inpt.shape)\n",
        "            print(x_batch.size())\n",
        "            break\n",
        "        if len(losses)>10000:\n",
        "            progress_bar.set_description(\"Epoch:\"+str(int(b/batch_size)+1)+\" Loss:\"+str(round(np.mean(losses[-1000,]),7)))\n",
        "        else:\n",
        "            progress_bar.set_description(\"Epoch:\"+str(int(b/batch_size)+1)+\" Loss:\"+str(round(np.mean(losses),7)))\n",
        "\n",
        "    test_gen = dataloader([df.values for df in df_val], look_back)\n",
        "    batch_size = 510\n",
        "\n",
        "    lstm.eval()\n",
        "    y_test = []\n",
        "    y_pred_all = []\n",
        "\n",
        "    \n",
        "    tot_len = np.sum([x.shape[0] for x in df_val])\n",
        "    for x in range(0, tot_len, batch_size):\n",
        "        X_test = []\n",
        "        for i in range(batch_size):\n",
        "            try:\n",
        "                X,y = next(test_gen)\n",
        "                X_test.append(X)\n",
        "                y_test.append(y)\n",
        "            except:\n",
        "                print(\"You somehow created an exception hahaha!\")\n",
        "                break\n",
        "\n",
        "        inpt = np.array(X_test).reshape(-1, 8, look_back)\n",
        "        x_test_batch = torch.tensor(inpt,dtype=torch.float32).to(device)  \n",
        "        y_pred = lstm(x_test_batch)\n",
        "\n",
        "        y_pred_all = np.append(y_pred_all,y_pred.cpu().detach().numpy())\n",
        "\n",
        "    y_test = np.array(y_test).reshape(-1)\n",
        "    score = np.mean((y_test - y_pred_all)**2) #MSE\n",
        "    if score < best_score:\n",
        "        best_score = score\n",
        "        torch.save(lstm, path + \"models/best_model_cnn_newLoss\")\n",
        "        print(\"New Challanger with MSE on val:\", score, \"and confs:\", trial.parameters)\n",
        "    \n",
        "    #Sherpa PART\n",
        "    study.add_observation(trial, iteration=1, objective=score)\n",
        "    study.finalize(trial)\n",
        "    study.results.to_csv(path + \"results/AutoML_CNN_newLoss.csv\")"
      ],
      "execution_count": 0,
      "outputs": []
    },
    {
      "cell_type": "code",
      "metadata": {
        "id": "AnXqDGuRnCdF",
        "colab_type": "code",
        "colab": {}
      },
      "source": [
        "best_model = torch.load(path + \"models/best_model_cnn_newLoss\")\n",
        "results = pd.read_csv(path + \"results/AutoML_CNN_newLoss.csv\")\n",
        "results = results[results[\"Status\"]==\"COMPLETED\"]\n",
        "\n",
        "plt.figure(figsize=(15,5))\n",
        "best, = plt.plot(np.minimum.accumulate(np.array(results.Objective)),'*-')\n",
        "#actual, = plt.plot(np.array(results.Objective),'*-')\n",
        "\n",
        "#plt.legend([actual, best],\n",
        "#           ['Calculated','Best Seen']) \n",
        "\n",
        "plt.xlabel('Iterations')\n",
        "plt.ylabel('Best Seen MSE')\n",
        "plt.show()"
      ],
      "execution_count": 0,
      "outputs": []
    },
    {
      "cell_type": "code",
      "metadata": {
        "id": "rB4rb7MFnxxj",
        "colab_type": "code",
        "colab": {}
      },
      "source": [
        "look_back = 60\n",
        "test_gen = dataloader([df_test[0].values], look_back, shuffle=False)\n",
        "\n",
        "batch_size = 510\n",
        "\n",
        "y_test = []\n",
        "y_pred_all = []\n",
        "for x in range(0, df_test[0].shape[0], batch_size):\n",
        "    X_test = []\n",
        "    for i in range(batch_size):\n",
        "        try:\n",
        "            X,y = next(test_gen)\n",
        "            X_test.append(X)\n",
        "            y_test.append(y)\n",
        "        except:\n",
        "            break\n",
        "\n",
        "    inpt = np.array(X_test).reshape(-1, 8, look_back)\n",
        "    x_test_batch = torch.tensor(inpt,dtype=torch.float32).to(device)  \n",
        "    y_pred = best_model(x_test_batch)\n",
        "\n",
        "    y_pred_all = np.append(y_pred_all,y_pred.cpu().detach().numpy())"
      ],
      "execution_count": 0,
      "outputs": []
    },
    {
      "cell_type": "code",
      "metadata": {
        "id": "VMVWptmnnxgA",
        "colab_type": "code",
        "colab": {}
      },
      "source": [
        "y_test = np.array(y_test).reshape(-1)\n",
        "plt.figure(figsize=(10,10))\n",
        "plt.plot(y_test[-10000:])\n",
        "plt.plot(y_pred_all[-10000:])\n",
        "\n",
        "plt.show()"
      ],
      "execution_count": 0,
      "outputs": []
    },
    {
      "cell_type": "code",
      "metadata": {
        "id": "P9LZuXU3n6HI",
        "colab_type": "code",
        "colab": {}
      },
      "source": [
        "np.mean(np.abs((y_test - y_pred_all)/np.abs(y_test)))"
      ],
      "execution_count": 0,
      "outputs": []
    },
    {
      "cell_type": "code",
      "metadata": {
        "id": "jjSJP2CDn5nY",
        "colab_type": "code",
        "colab": {}
      },
      "source": [
        ""
      ],
      "execution_count": 0,
      "outputs": []
    },
    {
      "cell_type": "markdown",
      "metadata": {
        "id": "fW74Bc4pxCW7",
        "colab_type": "text"
      },
      "source": [
        "STATOR"
      ]
    },
    {
      "cell_type": "code",
      "metadata": {
        "id": "TAEnI7LVn9vM",
        "colab_type": "code",
        "colab": {}
      },
      "source": [
        "df_sep = [df[df.profile_id==profile].drop(['profile_id','torque','pm'], \n",
        "                                          axis=1).reset_index(drop=True) for profile in df.profile_id.unique()]"
      ],
      "execution_count": 0,
      "outputs": []
    },
    {
      "cell_type": "code",
      "metadata": {
        "id": "LmFIgkB9xHDR",
        "colab_type": "code",
        "colab": {}
      },
      "source": [
        "FEATURES = [0, 1, 2, 3, 4, 5, 6]\n",
        "TARGET = [7,8,9]"
      ],
      "execution_count": 0,
      "outputs": []
    },
    {
      "cell_type": "code",
      "metadata": {
        "id": "jE2X-yh3xH-y",
        "colab_type": "code",
        "colab": {}
      },
      "source": [
        "train_min = df[~df.profile_id.isin([4, 8, 16, 24, 32, 40, 48, 51, 35, 42])].drop(['profile_id','torque',\n",
        "                                                                                 'pm'], \n",
        "                                                                                 axis=1).min()\n",
        "train_max = df[~df.profile_id.isin([4, 8, 16, 24, 32, 40, 48, 51, 35, 42])].drop(['profile_id','torque',\n",
        "                                                                                 'pm'], \n",
        "                                                                                 axis=1).max()"
      ],
      "execution_count": 0,
      "outputs": []
    },
    {
      "cell_type": "code",
      "metadata": {
        "id": "8g_LAvX-xH4e",
        "colab_type": "code",
        "colab": {}
      },
      "source": [
        "df_train = [(df_sep[i] - train_min)/(train_max - train_min)\\\n",
        "            for i in list(range(0,52)) if i not in [4, 8, 16, 24, 32, \n",
        "                                                    40, 48, 51, #val\n",
        "                                                    35, 42]] #test\n",
        "\n",
        "df_val = [(df_sep[i] - train_min)/(train_max - train_min)\\\n",
        "          for i in [4, 8, 16, 24, 32, 40, 48, 51]]\n",
        "\n",
        "df_test = [(df_sep[i] - train_min)/(train_max - train_min) for i in [35, 42]]"
      ],
      "execution_count": 0,
      "outputs": []
    },
    {
      "cell_type": "code",
      "metadata": {
        "id": "Ko96z6gdxHvn",
        "colab_type": "code",
        "colab": {}
      },
      "source": [
        "parameters = [sherpa.Continuous('lr',[0.00005,0.05]),\n",
        "              #sherpa.Choice('lag',[60,100,200,500,1000]),\n",
        "              sherpa.Discrete('filtro1',[10,500]),\n",
        "              sherpa.Discrete('filtro2',[10,500]),\n",
        "              sherpa.Discrete('neuroni1',[10,1000]),\n",
        "              sherpa.Discrete('kernel1',[1,5]),\n",
        "              sherpa.Discrete('kernel2',[1,5]),\n",
        "              sherpa.Discrete('kernel3',[1,5]),\n",
        "              sherpa.Discrete('kernel4',[1,5]),\n",
        "              sherpa.Discrete('stride1',[1,2]),\n",
        "              sherpa.Discrete('stride2',[1,2]),\n",
        "              sherpa.Discrete('stride3',[1,2]),\n",
        "              sherpa.Discrete('stride4',[1,2]),\n",
        "              #sherpa.Discrete('padding1',[0,1]),\n",
        "              #sherpa.Discrete('padding2',[0,1]),\n",
        "              #sherpa.Discrete('padding3',[0,1]),\n",
        "              #sherpa.Discrete('padding4',[0,1]),\n",
        "              sherpa.Choice('batch_size',[256, 512, 1024, 2048])]\n",
        "\n",
        "alg = sherpa.algorithms.bayesian_optimization.GPyOpt(max_concurrent=1,\n",
        "                                         model_type='GP',\n",
        "                                         acquisition_type='EI',\n",
        "                                         max_num_trials=100)\n",
        "\n",
        "study = sherpa.Study(parameters=parameters,\n",
        "                     algorithm=alg,\n",
        "                     lower_is_better=True,\n",
        "                     disable_dashboard=True)"
      ],
      "execution_count": 0,
      "outputs": []
    },
    {
      "cell_type": "code",
      "metadata": {
        "id": "VWu_qEblxHcQ",
        "colab_type": "code",
        "outputId": "4c9f7a9c-dd21-447c-c703-43032c17ab0b",
        "colab": {
          "base_uri": "https://localhost:8080/",
          "height": 1000
        }
      },
      "source": [
        "look_back = 60\n",
        "best_score = 99999\n",
        "feature = 10\n",
        "\n",
        "for trial in study:\n",
        "\n",
        "    lstm = CNN_Net_2(batch=int(trial.parameters[\"batch_size\"]),\n",
        "                     in_c=feature,\n",
        "                     out = 3,\n",
        "                     lag = 60,\n",
        "                     filtro1=int(trial.parameters[\"filtro1\"]),\n",
        "                     filtro2=int(trial.parameters[\"filtro2\"]),\n",
        "                     neuroni1=int(trial.parameters[\"neuroni1\"]),\n",
        "                     kernel1=int(trial.parameters[\"kernel1\"]),\n",
        "                     kernel2=int(trial.parameters[\"kernel2\"]),\n",
        "                     kernel3=int(trial.parameters[\"kernel3\"]),\n",
        "                     kernel4=int(trial.parameters[\"kernel4\"]),\n",
        "                     stride1=int(trial.parameters[\"stride1\"]),\n",
        "                     stride2=int(trial.parameters[\"stride2\"]),\n",
        "                     stride3=int(trial.parameters[\"stride3\"]),\n",
        "                     stride4=int(trial.parameters[\"stride4\"]),\n",
        "                     #padding1=int(trial.parameters[\"padding1\"]),\n",
        "                     #padding2=int(trial.parameters[\"padding2\"]),\n",
        "                     #padding3=int(trial.parameters[\"padding3\"]),\n",
        "                     #padding4=int(trial.parameters[\"padding4\"])\n",
        "                     ).to(device)\n",
        "                         \n",
        "    losses = []\n",
        "    criterion = torch.nn.MSELoss()\n",
        "    optimizer = torch.optim.Adam(lstm.parameters(), lr=trial.parameters[\"lr\"])\n",
        "\n",
        "    batch_size = int(trial.parameters[\"batch_size\"])\n",
        "\n",
        "    df_length = np.sum([x.shape[0] for x in df_train])\n",
        "\n",
        "    #gen = sliding_window(df_train, \"pm\", look_back, 1)\n",
        "    gen = dataloader([df.values for df in df_train], look_back)\n",
        "    progress_bar = tqdm(range(0, df_length, batch_size))\n",
        "\n",
        "    lstm.train()\n",
        "    for b in progress_bar:\n",
        "        X_train = []\n",
        "        y_train = []\n",
        "        for i in range(batch_size):\n",
        "            try:\n",
        "                X,y = next(gen)\n",
        "                X_train.append(X)\n",
        "                y_train.append(y)\n",
        "            except StopIteration:\n",
        "                #in case the datagen ends, recreate a new a one and continue\n",
        "                #it should not happen though since the the datagen\n",
        "                #should be infinite (theorically), it's more of a precaution\n",
        "                #gen = sliding_window(df_train, \"pm\", look_back, 1)\n",
        "                gen = dataloader([df.values for df in df_train], look_back)\n",
        "\n",
        "                X,y = next(gen)\n",
        "                X_train.append(X)\n",
        "                y_train.append(y)\n",
        "        \n",
        "        inpt = np.array(X_train).reshape(-1, 10, look_back)\n",
        "        target = np.array(y_train)    \n",
        "        x_batch = torch.tensor(inpt,dtype=torch.float32).to(device)  \n",
        "        y_batch = torch.tensor(target,dtype=torch.float32).to(device)\n",
        "        try:\n",
        "            output = lstm(x_batch) \n",
        "            loss = criterion(output.view(batch_size,-1), y_batch.view(batch_size,-1))  \n",
        "\n",
        "            loss.backward()\n",
        "            optimizer.step()        \n",
        "            optimizer.zero_grad()\n",
        "\n",
        "            losses.append(loss.item())\n",
        "        except:\n",
        "            print(\"something strange happened\")\n",
        "            print(inpt.shape)\n",
        "            print(x_batch.size())\n",
        "            break\n",
        "        if len(losses)>10000:\n",
        "            progress_bar.set_description(\"Epoch:\"+str(int(b/batch_size)+1)+\" Loss:\"+str(round(np.mean(losses[-1000,]),7)))\n",
        "        else:\n",
        "            progress_bar.set_description(\"Epoch:\"+str(int(b/batch_size)+1)+\" Loss:\"+str(round(np.mean(losses),7)))\n",
        "\n",
        "    #test_gen = sliding_window(df_val, \"pm\", look_back, 1)\n",
        "    test_gen = dataloader([df.values for df in df_val], look_back)\n",
        "    batch_size = 510\n",
        "\n",
        "    lstm.eval()\n",
        "    y_test = []\n",
        "    y_pred_all = []\n",
        "\n",
        "    \n",
        "    tot_len = np.sum([x.shape[0] for x in df_val])\n",
        "    for x in range(0, tot_len, batch_size):\n",
        "        X_test = []\n",
        "        for i in range(batch_size):\n",
        "            try:\n",
        "                X,y = next(test_gen)\n",
        "                X_test.append(X)\n",
        "                y_test.append(y)\n",
        "            except:\n",
        "                print(\"You somehow created an exception hahaha!\")\n",
        "                break\n",
        "\n",
        "        inpt = np.array(X_test).reshape(-1, 10, look_back)\n",
        "        x_test_batch = torch.tensor(inpt,dtype=torch.float32).to(device)  \n",
        "        y_pred = lstm(x_test_batch)\n",
        "\n",
        "        y_pred_all = np.append(y_pred_all,y_pred.cpu().detach().numpy())\n",
        "\n",
        "    y_test = np.array(y_test).reshape(-1)\n",
        "    score = np.mean((y_test - y_pred_all)**2) #MSE\n",
        "    if score < best_score:\n",
        "        best_score = score\n",
        "        torch.save(lstm, path + \"models/best_model_cnn_stator\")\n",
        "        print(\"New Challanger with MSE on val:\", score, \"and confs:\", trial.parameters)\n",
        "    \n",
        "    #Sherpa PART\n",
        "    study.add_observation(trial, iteration=1, objective=score)\n",
        "    study.finalize(trial)\n",
        "    study.results.to_csv(path + \"results/AutoML_CNN_stator.csv\")"
      ],
      "execution_count": 28,
      "outputs": [
        {
          "output_type": "stream",
          "text": [
            "Epoch:1506 Loss:4545207.0141403: 100%|██████████| 1506/1506 [01:02<00:00, 24.21it/s]\n"
          ],
          "name": "stderr"
        },
        {
          "output_type": "stream",
          "text": [
            "New Challanger with MSE on val: 0.05046101952359372 and confs: {'lr': 0.04020908878205628, 'filtro1': 424, 'filtro2': 492, 'neuroni1': 671, 'kernel1': 4, 'kernel2': 2, 'kernel3': 4, 'kernel4': 1, 'stride1': 1, 'stride2': 1, 'stride3': 1, 'stride4': 1, 'batch_size': 512}\n"
          ],
          "name": "stdout"
        },
        {
          "output_type": "stream",
          "text": [
            "Epoch:753 Loss:1330968.4405356: 100%|██████████| 753/753 [00:44<00:00,  7.87it/s]\n",
            "  0%|          | 0/377 [00:00<?, ?it/s]"
          ],
          "name": "stderr"
        },
        {
          "output_type": "stream",
          "text": [
            "New Challanger with MSE on val: 0.001292594563946028 and confs: {'lr': 0.04207531413921109, 'filtro1': 435, 'filtro2': 228, 'neuroni1': 733, 'kernel1': 2, 'kernel2': 2, 'kernel3': 3, 'kernel4': 1, 'stride1': 1, 'stride2': 1, 'stride3': 1, 'stride4': 1, 'batch_size': 1024}\n"
          ],
          "name": "stdout"
        },
        {
          "output_type": "stream",
          "text": [
            "Epoch:377 Loss:38570.3442127: 100%|██████████| 377/377 [00:26<00:00,  5.76it/s]\n",
            "Epoch:377 Loss:227089.7202836: 100%|██████████| 377/377 [00:33<00:00,  5.19it/s]\n",
            "Epoch:1506 Loss:390.4666274: 100%|██████████| 1506/1506 [00:33<00:00, 45.61it/s]\n",
            "Epoch:753 Loss:28686.0194371: 100%|██████████| 753/753 [00:40<00:00,  7.80it/s]\n",
            "Epoch:3012 Loss:840.2063845: 100%|██████████| 3012/3012 [00:48<00:00, 62.54it/s]\n",
            "Epoch:753 Loss:12.4023711: 100%|██████████| 753/753 [00:41<00:00,  7.88it/s]\n"
          ],
          "name": "stderr"
        },
        {
          "output_type": "stream",
          "text": [
            "New Challanger with MSE on val: 0.0004569198084483304 and confs: {'lr': 0.009891211010298799, 'filtro1': 419, 'filtro2': 368, 'neuroni1': 94, 'kernel1': 3, 'kernel2': 4, 'kernel3': 1, 'kernel4': 4, 'stride1': 1, 'stride2': 1, 'stride3': 1, 'stride4': 1, 'batch_size': 1024}\n"
          ],
          "name": "stdout"
        },
        {
          "output_type": "stream",
          "text": [
            "Epoch:3012 Loss:3.2954224: 100%|██████████| 3012/3012 [00:48<00:00, 61.86it/s]\n",
            "Epoch:3012 Loss:24473.3113791: 100%|██████████| 3012/3012 [00:46<00:00, 64.45it/s]\n",
            "Epoch:1506 Loss:928274.4809648: 100%|██████████| 1506/1506 [01:00<00:00, 24.91it/s]\n",
            "Epoch:1506 Loss:108890.1851208: 100%|██████████| 1506/1506 [00:55<00:00, 27.28it/s]\n",
            "Epoch:753 Loss:3633.5837181: 100%|██████████| 753/753 [00:55<00:00,  6.87it/s]\n"
          ],
          "name": "stderr"
        },
        {
          "output_type": "stream",
          "text": [
            "New Challanger with MSE on val: 0.00023555606229299107 and confs: {'lr': 0.012602690285718808, 'filtro1': 428, 'filtro2': 412, 'neuroni1': 734, 'kernel1': 2, 'kernel2': 1, 'kernel3': 3, 'kernel4': 2, 'stride1': 1, 'stride2': 1, 'stride3': 1, 'stride4': 1, 'batch_size': 1024}\n"
          ],
          "name": "stdout"
        },
        {
          "output_type": "stream",
          "text": [
            "Epoch:3012 Loss:23.7861345: 100%|██████████| 3012/3012 [00:54<00:00, 54.87it/s]\n",
            "Epoch:377 Loss:0.5655205: 100%|██████████| 377/377 [00:23<00:00,  6.05it/s]\n",
            "Epoch:377 Loss:76913.608626: 100%|██████████| 377/377 [00:28<00:00,  5.63it/s]\n",
            "Epoch:3012 Loss:10320.0368047: 100%|██████████| 3012/3012 [00:34<00:00, 86.99it/s]\n",
            "Epoch:377 Loss:0.0440236: 100%|██████████| 377/377 [00:21<00:00,  6.14it/s]\n",
            "Epoch:1506 Loss:28160.6748735: 100%|██████████| 1506/1506 [00:30<00:00, 50.13it/s]\n",
            "Epoch:1506 Loss:1.6619794: 100%|██████████| 1506/1506 [00:32<00:00, 45.90it/s]\n",
            "Epoch:1506 Loss:258.8204671: 100%|██████████| 1506/1506 [00:28<00:00, 51.97it/s]\n",
            "Epoch:1506 Loss:0.2583296: 100%|██████████| 1506/1506 [00:30<00:00, 49.34it/s]\n",
            "Epoch:3012 Loss:31.8497932: 100%|██████████| 3012/3012 [00:31<00:00, 95.00it/s]\n",
            "Epoch:753 Loss:0.7535244: 100%|██████████| 753/753 [00:29<00:00, 25.49it/s]\n",
            "Epoch:3012 Loss:204.9261995: 100%|██████████| 3012/3012 [00:31<00:00, 95.31it/s]\n",
            "Epoch:3012 Loss:1.5031206: 100%|██████████| 3012/3012 [00:29<00:00, 100.87it/s]\n",
            "Epoch:377 Loss:41519.883668: 100%|██████████| 377/377 [00:29<00:00,  5.58it/s]\n",
            "Epoch:3012 Loss:10997.1888503: 100%|██████████| 3012/3012 [00:35<00:00, 85.59it/s]\n",
            "Epoch:1506 Loss:0.1924796: 100%|██████████| 1506/1506 [00:32<00:00, 46.32it/s]\n",
            "Epoch:377 Loss:8229094.1616033: 100%|██████████| 377/377 [00:33<00:00,  5.28it/s]\n",
            "Epoch:753 Loss:0.005075: 100%|██████████| 753/753 [00:25<00:00, 29.44it/s]\n",
            "Epoch:3012 Loss:1621.8351574: 100%|██████████| 3012/3012 [00:35<00:00, 83.84it/s]\n",
            "Epoch:753 Loss:1881.6310613: 100%|██████████| 753/753 [00:36<00:00,  8.50it/s]\n",
            "Epoch:3012 Loss:607582.6783597: 100%|██████████| 3012/3012 [00:56<00:00, 52.92it/s]\n",
            "Epoch:753 Loss:4.8798763: 100%|██████████| 753/753 [00:23<00:00, 12.20it/s]\n",
            "Epoch:753 Loss:74192.7944354: 100%|██████████| 753/753 [00:34<00:00, 21.98it/s]\n",
            "Epoch:753 Loss:0.2496419: 100%|██████████| 753/753 [00:22<00:00, 12.31it/s]\n",
            "Epoch:753 Loss:16.0940579: 100%|██████████| 753/753 [00:27<00:00, 27.81it/s]\n",
            "Epoch:753 Loss:160069.8169544: 100%|██████████| 753/753 [00:25<00:00, 29.10it/s]\n",
            "Epoch:3012 Loss:3.7546844: 100%|██████████| 3012/3012 [00:45<00:00, 65.54it/s]\n",
            "Epoch:377 Loss:0.2864924: 100%|██████████| 377/377 [00:42<00:00,  3.91it/s]\n",
            "Epoch:753 Loss:905.1169488: 100%|██████████| 753/753 [00:41<00:00,  7.95it/s]\n",
            "Epoch:3012 Loss:0.3900926: 100%|██████████| 3012/3012 [00:30<00:00, 98.34it/s]\n",
            "Epoch:377 Loss:24107.3633249: 100%|██████████| 377/377 [00:34<00:00,  5.17it/s]\n",
            "Epoch:377 Loss:2372.1135074: 100%|██████████| 377/377 [00:28<00:00,  5.29it/s]\n",
            "Epoch:753 Loss:16673178.1836472: 100%|██████████| 753/753 [00:44<00:00,  7.71it/s]\n",
            "Epoch:377 Loss:33967316.9510606: 100%|██████████| 377/377 [00:50<00:00,  3.63it/s]\n",
            "Epoch:3012 Loss:0.0016078: 100%|██████████| 3012/3012 [00:33<00:00, 91.19it/s]\n"
          ],
          "name": "stderr"
        },
        {
          "output_type": "stream",
          "text": [
            "New Challanger with MSE on val: 0.00013121983663199322 and confs: {'lr': 0.002747482804628746, 'filtro1': 453.0, 'filtro2': 386.0, 'neuroni1': 120.0, 'kernel1': 4.0, 'kernel2': 5.0, 'kernel3': 1.0, 'kernel4': 1.0, 'stride1': 1.0, 'stride2': 2.0, 'stride3': 2.0, 'stride4': 2.0, 'batch_size': 256.0}\n"
          ],
          "name": "stdout"
        },
        {
          "output_type": "stream",
          "text": [
            "Epoch:1506 Loss:1327.9847969: 100%|██████████| 1506/1506 [00:25<00:00, 59.42it/s]\n",
            "Epoch:3012 Loss:0.0269392: 100%|██████████| 3012/3012 [00:43<00:00, 69.80it/s]\n",
            "Epoch:753 Loss:337.5232434: 100%|██████████| 753/753 [00:40<00:00,  8.00it/s]\n",
            "Epoch:1506 Loss:0.1529778: 100%|██████████| 1506/1506 [00:38<00:00, 16.16it/s]\n",
            "Epoch:1506 Loss:0.0012506: 100%|██████████| 1506/1506 [00:27<00:00, 54.40it/s]\n",
            "Epoch:377 Loss:329013.1840121: 100%|██████████| 377/377 [00:26<00:00,  5.88it/s]\n",
            "Epoch:377 Loss:0.0725213: 100%|██████████| 377/377 [00:33<00:00,  5.32it/s]\n",
            "Epoch:3012 Loss:5.1958534: 100%|██████████| 3012/3012 [00:29<00:00, 103.09it/s]\n",
            "Epoch:753 Loss:131.8583679: 100%|██████████| 753/753 [00:22<00:00, 12.16it/s]\n",
            "Epoch:753 Loss:1687.5852271: 100%|██████████| 753/753 [00:28<00:00, 26.81it/s]\n",
            "Epoch:377 Loss:2340749.4974058: 100%|██████████| 377/377 [00:33<00:00,  5.38it/s]\n",
            "Epoch:753 Loss:16.6480828: 100%|██████████| 753/753 [00:24<00:00, 30.60it/s]\n",
            "Epoch:377 Loss:1067.5089941: 100%|██████████| 377/377 [00:20<00:00,  6.43it/s]\n",
            "Epoch:377 Loss:27.6162543: 100%|██████████| 377/377 [00:22<00:00,  6.10it/s]\n",
            "Epoch:1506 Loss:26.722582: 100%|██████████| 1506/1506 [00:29<00:00, 51.10it/s]\n",
            "Epoch:3012 Loss:0.0252565: 100%|██████████| 3012/3012 [00:30<00:00, 97.44it/s]\n",
            "Epoch:377 Loss:3645.2352526: 100%|██████████| 377/377 [00:37<00:00, 10.14it/s]\n",
            "Epoch:3012 Loss:3677.2077444: 100%|██████████| 3012/3012 [00:48<00:00, 62.56it/s]\n",
            "Epoch:377 Loss:0.1699259: 100%|██████████| 377/377 [00:26<00:00,  5.69it/s]\n",
            "Epoch:377 Loss:310.8400676: 100%|██████████| 377/377 [00:22<00:00,  6.15it/s]\n",
            "Epoch:377 Loss:0.11132: 100%|██████████| 377/377 [00:26<00:00,  5.61it/s]\n",
            "Epoch:753 Loss:442917.5940389: 100%|██████████| 753/753 [00:42<00:00,  7.55it/s]\n",
            "Epoch:377 Loss:39.4736824: 100%|██████████| 377/377 [00:21<00:00,  6.62it/s]\n",
            "Epoch:753 Loss:22.2860252: 100%|██████████| 753/753 [00:23<00:00, 12.21it/s]\n",
            "Epoch:377 Loss:0.3437445: 100%|██████████| 377/377 [00:23<00:00,  5.94it/s]\n",
            "Epoch:377 Loss:0.0087151: 100%|██████████| 377/377 [00:30<00:00,  5.65it/s]\n",
            "Epoch:377 Loss:0.0660229: 100%|██████████| 377/377 [00:19<00:00,  8.49it/s]\n",
            "Epoch:377 Loss:1.5959407: 100%|██████████| 377/377 [00:38<00:00,  5.80it/s]\n",
            "Epoch:753 Loss:12521.9835528: 100%|██████████| 753/753 [00:37<00:00,  8.68it/s]\n",
            "Epoch:377 Loss:11211.4457282: 100%|██████████| 377/377 [00:30<00:00,  5.48it/s]\n",
            "Epoch:753 Loss:2.5722064: 100%|██████████| 753/753 [00:27<00:00,  9.68it/s]\n",
            "Epoch:377 Loss:340.2040839: 100%|██████████| 377/377 [00:22<00:00,  6.36it/s]\n",
            "Epoch:377 Loss:46.0593007: 100%|██████████| 377/377 [00:42<00:00,  3.93it/s]\n",
            "Epoch:753 Loss:8069.843107: 100%|██████████| 753/753 [00:33<00:00, 22.80it/s]\n",
            "Epoch:377 Loss:393.2195869: 100%|██████████| 377/377 [00:42<00:00,  4.05it/s]\n",
            "Epoch:753 Loss:64847.207992: 100%|██████████| 753/753 [00:24<00:00, 12.04it/s]\n",
            "Epoch:753 Loss:87.2809169: 100%|██████████| 753/753 [00:27<00:00, 27.27it/s]\n",
            "Epoch:1506 Loss:228.0342592: 100%|██████████| 1506/1506 [00:25<00:00, 58.14it/s]\n",
            "Epoch:1506 Loss:1509.3317277: 100%|██████████| 1506/1506 [00:31<00:00, 47.50it/s]\n",
            "Epoch:377 Loss:0.052022: 100%|██████████| 377/377 [00:25<00:00,  6.00it/s]\n",
            "Epoch:377 Loss:831.9736752: 100%|██████████| 377/377 [00:27<00:00,  5.58it/s]\n",
            "Epoch:753 Loss:415.6285888: 100%|██████████| 753/753 [00:25<00:00, 29.03it/s]\n",
            "Epoch:753 Loss:40725.0147698: 100%|██████████| 753/753 [00:23<00:00, 12.15it/s]\n",
            "Epoch:3012 Loss:391.04902: 100%|██████████| 3012/3012 [00:39<00:00, 75.53it/s]\n",
            "Epoch:3012 Loss:75.8361484: 100%|██████████| 3012/3012 [00:32<00:00, 41.05it/s]\n",
            "Epoch:1506 Loss:4053.161205: 100%|██████████| 1506/1506 [00:29<00:00, 18.80it/s]\n",
            "Epoch:753 Loss:497.0478214: 100%|██████████| 753/753 [00:31<00:00, 23.56it/s]\n",
            "Epoch:3012 Loss:0.0072145: 100%|██████████| 3012/3012 [00:32<00:00, 91.88it/s]\n",
            "Epoch:3012 Loss:17.4635866: 100%|██████████| 3012/3012 [00:38<00:00, 36.75it/s]\n",
            "Epoch:3012 Loss:0.0562784: 100%|██████████| 3012/3012 [00:34<00:00, 87.46it/s]\n",
            "Epoch:753 Loss:503195.9348228: 100%|██████████| 753/753 [00:38<00:00, 10.19it/s]\n",
            "Epoch:3012 Loss:663.2026456: 100%|██████████| 3012/3012 [00:43<00:00, 68.49it/s]\n"
          ],
          "name": "stderr"
        }
      ]
    },
    {
      "cell_type": "code",
      "metadata": {
        "id": "SqnQwLruxHXZ",
        "colab_type": "code",
        "outputId": "8c84af15-9531-4e3c-a89c-374be9219479",
        "colab": {
          "base_uri": "https://localhost:8080/",
          "height": 334
        }
      },
      "source": [
        "best_model = torch.load(path + \"models/best_model_cnn_stator\")\n",
        "results = pd.read_csv(path + \"results/AutoML_CNN_stator.csv\")\n",
        "results = results[results[\"Status\"]==\"COMPLETED\"]\n",
        "\n",
        "plt.figure(figsize=(15,5))\n",
        "best, = plt.plot(np.minimum.accumulate(np.array(results.Objective)),'*-')\n",
        "#actual, = plt.plot(np.array(results.Objective),'*-')\n",
        "\n",
        "#plt.legend([actual, best],\n",
        "#           ['Calculated','Best Seen']) \n",
        "\n",
        "plt.xlabel('Iterations')\n",
        "plt.ylabel('Best Seen MSE')\n",
        "plt.show()"
      ],
      "execution_count": 14,
      "outputs": [
        {
          "output_type": "display_data",
          "data": {
            "image/png": "[encoded data removed]",
            "text/plain": [
              "<Figure size 1080x360 with 1 Axes>"
            ]
          },
          "metadata": {
            "tags": []
          }
        }
      ]
    },
    {
      "cell_type": "code",
      "metadata": {
        "id": "2p64RO1DxHRU",
        "colab_type": "code",
        "colab": {}
      },
      "source": [
        "look_back=60\n",
        "test_gen = dataloader([df_test[0].values], look_back, shuffle=False)\n",
        "\n",
        "batch_size = 510\n",
        "\n",
        "y_test = []\n",
        "#y_pred_all = []\n",
        "for x in range(0, df_test[0].shape[0], batch_size):\n",
        "    X_test = []\n",
        "    for i in range(batch_size):\n",
        "        try:\n",
        "            X,y = next(test_gen)\n",
        "            X_test.append(X)\n",
        "            y_test.append(y)\n",
        "        except:\n",
        "            break\n",
        "\n",
        "    inpt = np.array(X_test).reshape(-1, 10, look_back)\n",
        "    x_test_batch = torch.tensor(inpt,dtype=torch.float32).to(device)  \n",
        "    y_pred = best_model(x_test_batch)\n",
        "    if x==0:\n",
        "        y_pred_all = y_pred.cpu().detach().numpy()\n",
        "    else:\n",
        "        y_pred_all = np.concatenate((y_pred_all,y_pred.cpu().detach().numpy()))\n",
        "\n",
        "y_test = np.array(y_test).reshape(-1,3)"
      ],
      "execution_count": 0,
      "outputs": []
    },
    {
      "cell_type": "code",
      "metadata": {
        "id": "D7K__7AgyhZh",
        "colab_type": "code",
        "colab": {
          "base_uri": "https://localhost:8080/",
          "height": 592
        },
        "outputId": "e9785d8f-6686-4ac9-a7f2-b3af635b6673"
      },
      "source": [
        "plt.figure(figsize=(15,10))\n",
        "\n",
        "plt.subplot(131)\n",
        "plt.plot(y_test[:,0])\n",
        "plt.plot(y_pred_all[:,0])\n",
        "\n",
        "plt.subplot(132)\n",
        "plt.plot(y_test[:,1])\n",
        "plt.plot(y_pred_all[:,1])\n",
        "\n",
        "plt.subplot(133)\n",
        "plt.plot(y_test[:,2])\n",
        "plt.plot(y_pred_all[:,2])\n",
        "plt.show()"
      ],
      "execution_count": 24,
      "outputs": [
        {
          "output_type": "display_data",
          "data": {
            "image/png": "[encoded data removed]",
            "text/plain": [
              "<Figure size 1080x720 with 3 Axes>"
            ]
          },
          "metadata": {
            "tags": []
          }
        }
      ]
    },
    {
      "cell_type": "code",
      "metadata": {
        "id": "Z1wkOG5ZyhNp",
        "colab_type": "code",
        "colab": {
          "base_uri": "https://localhost:8080/",
          "height": 34
        },
        "outputId": "1b3649d0-4da3-4bde-cde0-eb8c55273b70"
      },
      "source": [
        "np.mean(np.abs((y_test - y_pred_all)/np.abs(y_test))) #MAPE"
      ],
      "execution_count": 25,
      "outputs": [
        {
          "output_type": "execute_result",
          "data": {
            "text/plain": [
              "0.01906875805942185"
            ]
          },
          "metadata": {
            "tags": []
          },
          "execution_count": 25
        }
      ]
    },
    {
      "cell_type": "code",
      "metadata": {
        "id": "G6nafKQWyhCQ",
        "colab_type": "code",
        "colab": {}
      },
      "source": [
        ""
      ],
      "execution_count": 0,
      "outputs": []
    }
  ]
}