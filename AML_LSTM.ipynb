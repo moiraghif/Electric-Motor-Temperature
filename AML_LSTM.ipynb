{
  "nbformat": 4,
  "nbformat_minor": 0,
  "metadata": {
    "accelerator": "GPU",
    "colab": {
      "name": "AML_LSTM.ipynb",
      "provenance": [],
      "collapsed_sections": [],
      "machine_shape": "hm"
    },
    "kernelspec": {
      "display_name": "Python 3",
      "language": "python",
      "name": "python3"
    },
    "language_info": {
      "codemirror_mode": {
        "name": "ipython",
        "version": 3
      },
      "file_extension": ".py",
      "mimetype": "text/x-python",
      "name": "python",
      "nbconvert_exporter": "python",
      "pygments_lexer": "ipython3",
      "version": "3.7.5"
    }
  },
  "cells": [
    {
      "cell_type": "code",
      "metadata": {
        "id": "kpf7Y0TdjySr",
        "colab_type": "code",
        "colab": {}
      },
      "source": [
        "%%capture\n",
        "!pip install parameter-sherpa"
      ],
      "execution_count": 0,
      "outputs": []
    },
    {
      "cell_type": "code",
      "metadata": {
        "id": "u4dLPK-ykEeA",
        "colab_type": "code",
        "colab": {
          "base_uri": "https://localhost:8080/",
          "height": 122
        },
        "outputId": "9bd5a24f-0278-4231-8950-5606d8a3b132"
      },
      "source": [
        "from google.colab import drive\n",
        "drive.mount('/content/drive')"
      ],
      "execution_count": 2,
      "outputs": [
        {
          "output_type": "stream",
          "text": [
            "Go to this URL in a browser: https://accounts.google.com/o/oauth2/auth?client_id=947318989803-6bn6qk8qdgf4n4g3pfee6491hc0brc4i.apps.googleusercontent.com&redirect_uri=urn%3aietf%3awg%3aoauth%3a2.0%3aoob&response_type=code&scope=email%20https%3a%2f%2fwww.googleapis.com%2fauth%2fdocs.test%20https%3a%2f%2fwww.googleapis.com%2fauth%2fdrive%20https%3a%2f%2fwww.googleapis.com%2fauth%2fdrive.photos.readonly%20https%3a%2f%2fwww.googleapis.com%2fauth%2fpeopleapi.readonly\n",
            "\n",
            "Enter your authorization code:\n",
            "··········\n",
            "Mounted at /content/drive\n"
          ],
          "name": "stdout"
        }
      ]
    },
    {
      "cell_type": "code",
      "metadata": {
        "colab_type": "code",
        "id": "SQ6LXKCwUllM",
        "outputId": "ec8dedd8-cb70-491b-e924-599a37cdf964",
        "colab": {
          "base_uri": "https://localhost:8080/",
          "height": 34
        }
      },
      "source": [
        "import pandas as pd\n",
        "import numpy as np\n",
        "\n",
        "import matplotlib.pyplot as plt\n",
        "%matplotlib inline\n",
        "import seaborn as sns\n",
        "\n",
        "import sherpa\n",
        "\n",
        "import torch\n",
        "import torch.nn as nn\n",
        "import torch.nn.functional as F\n",
        "import torch.optim as optim\n",
        "#from tqdm.notebook import tqdm\n",
        "\n",
        "import logging \n",
        "logger = logging.getLogger()\n",
        "logger.setLevel(logging.CRITICAL)\n",
        "logger.info(\"IS_CRITICAL uuuhh\")\n",
        "\n",
        "torch.__version__"
      ],
      "execution_count": 4,
      "outputs": [
        {
          "output_type": "execute_result",
          "data": {
            "text/plain": [
              "'1.3.1'"
            ]
          },
          "metadata": {
            "tags": []
          },
          "execution_count": 4
        }
      ]
    },
    {
      "cell_type": "code",
      "metadata": {
        "colab_type": "code",
        "id": "4vLeWHW389VX",
        "colab": {}
      },
      "source": [
        "device = \"cuda\" if torch.cuda.is_available() else \"cpu\""
      ],
      "execution_count": 0,
      "outputs": []
    },
    {
      "cell_type": "code",
      "metadata": {
        "colab_type": "code",
        "id": "VDOxJCCLUwS2",
        "colab": {}
      },
      "source": [
        "path = \"drive/My Drive/AML/\"\n",
        "#path = \"\"\n",
        "\n",
        "df = pd.read_csv(path + \"pmsm_temperature_data.csv\")"
      ],
      "execution_count": 0,
      "outputs": []
    },
    {
      "cell_type": "code",
      "metadata": {
        "colab_type": "code",
        "id": "9nE6HMesVkEX",
        "outputId": "14aeae5a-840d-41f1-c8a0-b25abe37fda8",
        "colab": {
          "base_uri": "https://localhost:8080/",
          "height": 204
        }
      },
      "source": [
        "df.head()"
      ],
      "execution_count": 7,
      "outputs": [
        {
          "output_type": "execute_result",
          "data": {
            "text/html": [
              "<div>\n",
              "<style scoped>\n",
              "    .dataframe tbody tr th:only-of-type {\n",
              "        vertical-align: middle;\n",
              "    }\n",
              "\n",
              "    .dataframe tbody tr th {\n",
              "        vertical-align: top;\n",
              "    }\n",
              "\n",
              "    .dataframe thead th {\n",
              "        text-align: right;\n",
              "    }\n",
              "</style>\n",
              "<table border=\"1\" class=\"dataframe\">\n",
              "  <thead>\n",
              "    <tr style=\"text-align: right;\">\n",
              "      <th></th>\n",
              "      <th>ambient</th>\n",
              "      <th>coolant</th>\n",
              "      <th>u_d</th>\n",
              "      <th>u_q</th>\n",
              "      <th>motor_speed</th>\n",
              "      <th>torque</th>\n",
              "      <th>i_d</th>\n",
              "      <th>i_q</th>\n",
              "      <th>pm</th>\n",
              "      <th>stator_yoke</th>\n",
              "      <th>stator_tooth</th>\n",
              "      <th>stator_winding</th>\n",
              "      <th>profile_id</th>\n",
              "    </tr>\n",
              "  </thead>\n",
              "  <tbody>\n",
              "    <tr>\n",
              "      <th>0</th>\n",
              "      <td>-0.752143</td>\n",
              "      <td>-1.118446</td>\n",
              "      <td>0.327935</td>\n",
              "      <td>-1.297858</td>\n",
              "      <td>-1.222428</td>\n",
              "      <td>-0.250182</td>\n",
              "      <td>1.029572</td>\n",
              "      <td>-0.245860</td>\n",
              "      <td>-2.522071</td>\n",
              "      <td>-1.831422</td>\n",
              "      <td>-2.066143</td>\n",
              "      <td>-2.018033</td>\n",
              "      <td>4</td>\n",
              "    </tr>\n",
              "    <tr>\n",
              "      <th>1</th>\n",
              "      <td>-0.771263</td>\n",
              "      <td>-1.117021</td>\n",
              "      <td>0.329665</td>\n",
              "      <td>-1.297686</td>\n",
              "      <td>-1.222429</td>\n",
              "      <td>-0.249133</td>\n",
              "      <td>1.029509</td>\n",
              "      <td>-0.245832</td>\n",
              "      <td>-2.522418</td>\n",
              "      <td>-1.830969</td>\n",
              "      <td>-2.064859</td>\n",
              "      <td>-2.017631</td>\n",
              "      <td>4</td>\n",
              "    </tr>\n",
              "    <tr>\n",
              "      <th>2</th>\n",
              "      <td>-0.782892</td>\n",
              "      <td>-1.116681</td>\n",
              "      <td>0.332771</td>\n",
              "      <td>-1.301822</td>\n",
              "      <td>-1.222428</td>\n",
              "      <td>-0.249431</td>\n",
              "      <td>1.029448</td>\n",
              "      <td>-0.245818</td>\n",
              "      <td>-2.522673</td>\n",
              "      <td>-1.830400</td>\n",
              "      <td>-2.064073</td>\n",
              "      <td>-2.017343</td>\n",
              "      <td>4</td>\n",
              "    </tr>\n",
              "    <tr>\n",
              "      <th>3</th>\n",
              "      <td>-0.780935</td>\n",
              "      <td>-1.116764</td>\n",
              "      <td>0.333700</td>\n",
              "      <td>-1.301852</td>\n",
              "      <td>-1.222430</td>\n",
              "      <td>-0.248636</td>\n",
              "      <td>1.032845</td>\n",
              "      <td>-0.246955</td>\n",
              "      <td>-2.521639</td>\n",
              "      <td>-1.830333</td>\n",
              "      <td>-2.063137</td>\n",
              "      <td>-2.017632</td>\n",
              "      <td>4</td>\n",
              "    </tr>\n",
              "    <tr>\n",
              "      <th>4</th>\n",
              "      <td>-0.774043</td>\n",
              "      <td>-1.116775</td>\n",
              "      <td>0.335206</td>\n",
              "      <td>-1.303118</td>\n",
              "      <td>-1.222429</td>\n",
              "      <td>-0.248701</td>\n",
              "      <td>1.031807</td>\n",
              "      <td>-0.246610</td>\n",
              "      <td>-2.521900</td>\n",
              "      <td>-1.830498</td>\n",
              "      <td>-2.062795</td>\n",
              "      <td>-2.018145</td>\n",
              "      <td>4</td>\n",
              "    </tr>\n",
              "  </tbody>\n",
              "</table>\n",
              "</div>"
            ],
            "text/plain": [
              "    ambient   coolant       u_d  ...  stator_tooth  stator_winding  profile_id\n",
              "0 -0.752143 -1.118446  0.327935  ...     -2.066143       -2.018033           4\n",
              "1 -0.771263 -1.117021  0.329665  ...     -2.064859       -2.017631           4\n",
              "2 -0.782892 -1.116681  0.332771  ...     -2.064073       -2.017343           4\n",
              "3 -0.780935 -1.116764  0.333700  ...     -2.063137       -2.017632           4\n",
              "4 -0.774043 -1.116775  0.335206  ...     -2.062795       -2.018145           4\n",
              "\n",
              "[5 rows x 13 columns]"
            ]
          },
          "metadata": {
            "tags": []
          },
          "execution_count": 7
        }
      ]
    },
    {
      "cell_type": "code",
      "metadata": {
        "colab_type": "code",
        "id": "o8-7isf4VnKt",
        "outputId": "38dbb8d5-fc36-44c2-8b48-eb327d013138",
        "colab": {
          "base_uri": "https://localhost:8080/",
          "height": 335
        }
      },
      "source": [
        "plt.figure(figsize=(15,5))\n",
        "count = pd.DataFrame(df[['profile_id']].groupby('profile_id').size()).reset_index()\n",
        "count.columns = [\"profile_id\", \"total\"]\n",
        "sns.barplot(count.profile_id,count.total)\n",
        "plt.show()"
      ],
      "execution_count": 8,
      "outputs": [
        {
          "output_type": "display_data",
          "data": {
            "image/png": "[encoded data removed]",
            "text/plain": [
              "<Figure size 1080x360 with 1 Axes>"
            ]
          },
          "metadata": {
            "tags": []
          }
        }
      ]
    },
    {
      "cell_type": "code",
      "metadata": {
        "colab_type": "code",
        "id": "pGtWJpb_66kg",
        "outputId": "f2c83551-c82d-41b3-b0e9-e86e59de180e",
        "colab": {
          "base_uri": "https://localhost:8080/",
          "height": 1000
        }
      },
      "source": [
        "count"
      ],
      "execution_count": 9,
      "outputs": [
        {
          "output_type": "execute_result",
          "data": {
            "text/html": [
              "<div>\n",
              "<style scoped>\n",
              "    .dataframe tbody tr th:only-of-type {\n",
              "        vertical-align: middle;\n",
              "    }\n",
              "\n",
              "    .dataframe tbody tr th {\n",
              "        vertical-align: top;\n",
              "    }\n",
              "\n",
              "    .dataframe thead th {\n",
              "        text-align: right;\n",
              "    }\n",
              "</style>\n",
              "<table border=\"1\" class=\"dataframe\">\n",
              "  <thead>\n",
              "    <tr style=\"text-align: right;\">\n",
              "      <th></th>\n",
              "      <th>profile_id</th>\n",
              "      <th>total</th>\n",
              "    </tr>\n",
              "  </thead>\n",
              "  <tbody>\n",
              "    <tr>\n",
              "      <th>0</th>\n",
              "      <td>4</td>\n",
              "      <td>33423</td>\n",
              "    </tr>\n",
              "    <tr>\n",
              "      <th>1</th>\n",
              "      <td>6</td>\n",
              "      <td>40387</td>\n",
              "    </tr>\n",
              "    <tr>\n",
              "      <th>2</th>\n",
              "      <td>10</td>\n",
              "      <td>15255</td>\n",
              "    </tr>\n",
              "    <tr>\n",
              "      <th>3</th>\n",
              "      <td>11</td>\n",
              "      <td>7886</td>\n",
              "    </tr>\n",
              "    <tr>\n",
              "      <th>4</th>\n",
              "      <td>20</td>\n",
              "      <td>43970</td>\n",
              "    </tr>\n",
              "    <tr>\n",
              "      <th>5</th>\n",
              "      <td>27</td>\n",
              "      <td>35360</td>\n",
              "    </tr>\n",
              "    <tr>\n",
              "      <th>6</th>\n",
              "      <td>29</td>\n",
              "      <td>21357</td>\n",
              "    </tr>\n",
              "    <tr>\n",
              "      <th>7</th>\n",
              "      <td>30</td>\n",
              "      <td>23862</td>\n",
              "    </tr>\n",
              "    <tr>\n",
              "      <th>8</th>\n",
              "      <td>31</td>\n",
              "      <td>15586</td>\n",
              "    </tr>\n",
              "    <tr>\n",
              "      <th>9</th>\n",
              "      <td>32</td>\n",
              "      <td>20959</td>\n",
              "    </tr>\n",
              "    <tr>\n",
              "      <th>10</th>\n",
              "      <td>36</td>\n",
              "      <td>22608</td>\n",
              "    </tr>\n",
              "    <tr>\n",
              "      <th>11</th>\n",
              "      <td>41</td>\n",
              "      <td>16699</td>\n",
              "    </tr>\n",
              "    <tr>\n",
              "      <th>12</th>\n",
              "      <td>42</td>\n",
              "      <td>16919</td>\n",
              "    </tr>\n",
              "    <tr>\n",
              "      <th>13</th>\n",
              "      <td>43</td>\n",
              "      <td>8442</td>\n",
              "    </tr>\n",
              "    <tr>\n",
              "      <th>14</th>\n",
              "      <td>44</td>\n",
              "      <td>26340</td>\n",
              "    </tr>\n",
              "    <tr>\n",
              "      <th>15</th>\n",
              "      <td>45</td>\n",
              "      <td>17141</td>\n",
              "    </tr>\n",
              "    <tr>\n",
              "      <th>16</th>\n",
              "      <td>46</td>\n",
              "      <td>2179</td>\n",
              "    </tr>\n",
              "    <tr>\n",
              "      <th>17</th>\n",
              "      <td>47</td>\n",
              "      <td>2175</td>\n",
              "    </tr>\n",
              "    <tr>\n",
              "      <th>18</th>\n",
              "      <td>48</td>\n",
              "      <td>21982</td>\n",
              "    </tr>\n",
              "    <tr>\n",
              "      <th>19</th>\n",
              "      <td>49</td>\n",
              "      <td>10815</td>\n",
              "    </tr>\n",
              "    <tr>\n",
              "      <th>20</th>\n",
              "      <td>50</td>\n",
              "      <td>10809</td>\n",
              "    </tr>\n",
              "    <tr>\n",
              "      <th>21</th>\n",
              "      <td>51</td>\n",
              "      <td>6260</td>\n",
              "    </tr>\n",
              "    <tr>\n",
              "      <th>22</th>\n",
              "      <td>52</td>\n",
              "      <td>3725</td>\n",
              "    </tr>\n",
              "    <tr>\n",
              "      <th>23</th>\n",
              "      <td>53</td>\n",
              "      <td>32441</td>\n",
              "    </tr>\n",
              "    <tr>\n",
              "      <th>24</th>\n",
              "      <td>54</td>\n",
              "      <td>10806</td>\n",
              "    </tr>\n",
              "    <tr>\n",
              "      <th>25</th>\n",
              "      <td>55</td>\n",
              "      <td>10806</td>\n",
              "    </tr>\n",
              "    <tr>\n",
              "      <th>26</th>\n",
              "      <td>56</td>\n",
              "      <td>33122</td>\n",
              "    </tr>\n",
              "    <tr>\n",
              "      <th>27</th>\n",
              "      <td>57</td>\n",
              "      <td>14402</td>\n",
              "    </tr>\n",
              "    <tr>\n",
              "      <th>28</th>\n",
              "      <td>58</td>\n",
              "      <td>33381</td>\n",
              "    </tr>\n",
              "    <tr>\n",
              "      <th>29</th>\n",
              "      <td>59</td>\n",
              "      <td>7474</td>\n",
              "    </tr>\n",
              "    <tr>\n",
              "      <th>30</th>\n",
              "      <td>60</td>\n",
              "      <td>14542</td>\n",
              "    </tr>\n",
              "    <tr>\n",
              "      <th>31</th>\n",
              "      <td>61</td>\n",
              "      <td>14515</td>\n",
              "    </tr>\n",
              "    <tr>\n",
              "      <th>32</th>\n",
              "      <td>62</td>\n",
              "      <td>25599</td>\n",
              "    </tr>\n",
              "    <tr>\n",
              "      <th>33</th>\n",
              "      <td>63</td>\n",
              "      <td>16667</td>\n",
              "    </tr>\n",
              "    <tr>\n",
              "      <th>34</th>\n",
              "      <td>64</td>\n",
              "      <td>6249</td>\n",
              "    </tr>\n",
              "    <tr>\n",
              "      <th>35</th>\n",
              "      <td>65</td>\n",
              "      <td>40093</td>\n",
              "    </tr>\n",
              "    <tr>\n",
              "      <th>36</th>\n",
              "      <td>66</td>\n",
              "      <td>36475</td>\n",
              "    </tr>\n",
              "    <tr>\n",
              "      <th>37</th>\n",
              "      <td>67</td>\n",
              "      <td>11134</td>\n",
              "    </tr>\n",
              "    <tr>\n",
              "      <th>38</th>\n",
              "      <td>68</td>\n",
              "      <td>23330</td>\n",
              "    </tr>\n",
              "    <tr>\n",
              "      <th>39</th>\n",
              "      <td>69</td>\n",
              "      <td>15349</td>\n",
              "    </tr>\n",
              "    <tr>\n",
              "      <th>40</th>\n",
              "      <td>70</td>\n",
              "      <td>25676</td>\n",
              "    </tr>\n",
              "    <tr>\n",
              "      <th>41</th>\n",
              "      <td>71</td>\n",
              "      <td>14655</td>\n",
              "    </tr>\n",
              "    <tr>\n",
              "      <th>42</th>\n",
              "      <td>72</td>\n",
              "      <td>15300</td>\n",
              "    </tr>\n",
              "    <tr>\n",
              "      <th>43</th>\n",
              "      <td>73</td>\n",
              "      <td>16785</td>\n",
              "    </tr>\n",
              "    <tr>\n",
              "      <th>44</th>\n",
              "      <td>74</td>\n",
              "      <td>23760</td>\n",
              "    </tr>\n",
              "    <tr>\n",
              "      <th>45</th>\n",
              "      <td>75</td>\n",
              "      <td>13471</td>\n",
              "    </tr>\n",
              "    <tr>\n",
              "      <th>46</th>\n",
              "      <td>76</td>\n",
              "      <td>22187</td>\n",
              "    </tr>\n",
              "    <tr>\n",
              "      <th>47</th>\n",
              "      <td>77</td>\n",
              "      <td>14621</td>\n",
              "    </tr>\n",
              "    <tr>\n",
              "      <th>48</th>\n",
              "      <td>78</td>\n",
              "      <td>8444</td>\n",
              "    </tr>\n",
              "    <tr>\n",
              "      <th>49</th>\n",
              "      <td>79</td>\n",
              "      <td>31153</td>\n",
              "    </tr>\n",
              "    <tr>\n",
              "      <th>50</th>\n",
              "      <td>80</td>\n",
              "      <td>23823</td>\n",
              "    </tr>\n",
              "    <tr>\n",
              "      <th>51</th>\n",
              "      <td>81</td>\n",
              "      <td>17671</td>\n",
              "    </tr>\n",
              "  </tbody>\n",
              "</table>\n",
              "</div>"
            ],
            "text/plain": [
              "    profile_id  total\n",
              "0            4  33423\n",
              "1            6  40387\n",
              "2           10  15255\n",
              "3           11   7886\n",
              "4           20  43970\n",
              "5           27  35360\n",
              "6           29  21357\n",
              "7           30  23862\n",
              "8           31  15586\n",
              "9           32  20959\n",
              "10          36  22608\n",
              "11          41  16699\n",
              "12          42  16919\n",
              "13          43   8442\n",
              "14          44  26340\n",
              "15          45  17141\n",
              "16          46   2179\n",
              "17          47   2175\n",
              "18          48  21982\n",
              "19          49  10815\n",
              "20          50  10809\n",
              "21          51   6260\n",
              "22          52   3725\n",
              "23          53  32441\n",
              "24          54  10806\n",
              "25          55  10806\n",
              "26          56  33122\n",
              "27          57  14402\n",
              "28          58  33381\n",
              "29          59   7474\n",
              "30          60  14542\n",
              "31          61  14515\n",
              "32          62  25599\n",
              "33          63  16667\n",
              "34          64   6249\n",
              "35          65  40093\n",
              "36          66  36475\n",
              "37          67  11134\n",
              "38          68  23330\n",
              "39          69  15349\n",
              "40          70  25676\n",
              "41          71  14655\n",
              "42          72  15300\n",
              "43          73  16785\n",
              "44          74  23760\n",
              "45          75  13471\n",
              "46          76  22187\n",
              "47          77  14621\n",
              "48          78   8444\n",
              "49          79  31153\n",
              "50          80  23823\n",
              "51          81  17671"
            ]
          },
          "metadata": {
            "tags": []
          },
          "execution_count": 9
        }
      ]
    },
    {
      "cell_type": "code",
      "metadata": {
        "colab_type": "code",
        "id": "7P2Z5K-2Yv5y",
        "outputId": "431d3dd0-ee91-496e-d464-d34cffdb0965",
        "colab": {
          "base_uri": "https://localhost:8080/",
          "height": 265
        }
      },
      "source": [
        "plt.plot(df[df.profile_id==56].pm)\n",
        "plt.show()"
      ],
      "execution_count": 10,
      "outputs": [
        {
          "output_type": "display_data",
          "data": {
            "image/png": "[encoded data removed]",
            "text/plain": [
              "<Figure size 432x288 with 1 Axes>"
            ]
          },
          "metadata": {
            "tags": []
          }
        }
      ]
    },
    {
      "cell_type": "code",
      "metadata": {
        "colab_type": "code",
        "id": "QspAjGn-6lFX",
        "colab": {}
      },
      "source": [
        "df_sep = [df[df.profile_id==profile].drop(['profile_id','torque'], axis=1).reset_index(drop=True) for profile in df.profile_id.unique()]"
      ],
      "execution_count": 0,
      "outputs": []
    },
    {
      "cell_type": "code",
      "metadata": {
        "colab_type": "code",
        "id": "RKAQhPBs616V",
        "colab": {}
      },
      "source": [
        "class LSTM_Net(nn.Module):\n",
        "    def __init__(self, features, hidden, h1, h2, out):\n",
        "        super(LSTM_Net, self).__init__()\n",
        "        self.h1 = h1\n",
        "        self.h2 = h2\n",
        "\n",
        "        self.hidden_size = hidden\n",
        "        self.features = features\n",
        "\n",
        "        self.lstm = nn.LSTM(self.features, self.hidden_size, 1, #feature_size, hidden_size, num_layer\n",
        "                            batch_first = True) \n",
        "        self.fc1 = nn.Linear(self.hidden_size, \n",
        "                                h1)\n",
        "        self.out = nn.Linear(h1, out)\n",
        "\n",
        "        if self.h2 != 0:\n",
        "            self.fc2 = nn.Linear(h1, h2)\n",
        "            self.out = nn.Linear(h2, out)\n",
        "        \n",
        "        #we do it stateless so there is no need for the hidden_state\n",
        "        #self.hidden = None #torch.randn(1, ??, self.hidden) #num_layer, batch, hidden_size\n",
        "\n",
        "    def forward(self, x):\n",
        "        batch_size, _, _ = x.shape \n",
        "        \n",
        "        x, _ =  self.lstm(x)\n",
        "        x = F.tanh(x[:,-1].view(batch_size, -1))\n",
        "        \n",
        "        x = F.relu(self.fc1(x))\n",
        "        if self.h2 != 0:\n",
        "            x = F.relu(self.fc2(x))\n",
        "        return self.out(x)"
      ],
      "execution_count": 0,
      "outputs": []
    },
    {
      "cell_type": "code",
      "metadata": {
        "id": "enQEqMT0jqxa",
        "colab_type": "code",
        "colab": {}
      },
      "source": [
        "FEATURES = [0, 1, 2, 3, 4, 5, 6]\n",
        "TARGET = [7]"
      ],
      "execution_count": 0,
      "outputs": []
    },
    {
      "cell_type": "code",
      "metadata": {
        "colab_type": "code",
        "id": "zq9xOY0AVoE8",
        "colab": {}
      },
      "source": [
        "def dataloader(data, length, shuffle=True, out=1):\n",
        "    while True:\n",
        "    # genera una lista di (i_serie, i_obs)\n",
        "        tuples = [[(df_i, i) for i, x in enumerate(data[df_i]) if i >= length + out]\n",
        "                  for df_i, _ in enumerate(data)]\n",
        "        tuples = sum(tuples, [])  # flattenizza\n",
        "        # shuffle\n",
        "        if shuffle:\n",
        "            np.random.shuffle(tuples)\n",
        "\n",
        "        # yielda le osservazioni\n",
        "        for df_i, i in tuples:\n",
        "            X_lagged = data[df_i][(i - length - out):(i - out), FEATURES + TARGET]\n",
        "            y = data[df_i][(i-out):(i), TARGET]\n",
        "            yield X_lagged, y"
      ],
      "execution_count": 0,
      "outputs": []
    },
    {
      "cell_type": "code",
      "metadata": {
        "colab_type": "code",
        "id": "P5Zsp_d4oDoi",
        "colab": {}
      },
      "source": [
        "train_min = df[~df.profile_id.isin([4, 8, 16, 24, 32, 40, 48, 51, 35, 42])].drop(['profile_id','torque'], axis=1).min()\n",
        "train_max = df[~df.profile_id.isin([4, 8, 16, 24, 32, 40, 48, 51, 35, 42])].drop(['profile_id','torque'], axis=1).max()"
      ],
      "execution_count": 0,
      "outputs": []
    },
    {
      "cell_type": "code",
      "metadata": {
        "colab_type": "code",
        "id": "gBjhn7q5h21R",
        "colab": {}
      },
      "source": [
        "df_train = [(df_sep[i] - train_min)/(train_max - train_min)\\\n",
        "            for i in list(range(0,52)) if i not in [4, 8, 16, 24, 32, \n",
        "                                                    40, 48, 51, #val\n",
        "                                                    35, 42]] #test\n",
        "\n",
        "df_val = [(df_sep[i] - train_min)/(train_max - train_min)\\\n",
        "          for i in [4, 8, 16, 24, 32, 40, 48, 51]]\n",
        "\n",
        "df_test = [(df_sep[i] - train_min)/(train_max - train_min) for i in [35, 42]]"
      ],
      "execution_count": 0,
      "outputs": []
    },
    {
      "cell_type": "code",
      "metadata": {
        "colab_type": "code",
        "id": "anWEGUaapwPs",
        "outputId": "f4c5810a-d4c6-4ab8-86d3-6431d9f8c8e1",
        "colab": {
          "base_uri": "https://localhost:8080/",
          "height": 419
        }
      },
      "source": [
        "df_train[0]"
      ],
      "execution_count": 0,
      "outputs": [
        {
          "output_type": "execute_result",
          "data": {
            "text/html": [
              "<div>\n",
              "<style scoped>\n",
              "    .dataframe tbody tr th:only-of-type {\n",
              "        vertical-align: middle;\n",
              "    }\n",
              "\n",
              "    .dataframe tbody tr th {\n",
              "        vertical-align: top;\n",
              "    }\n",
              "\n",
              "    .dataframe thead th {\n",
              "        text-align: right;\n",
              "    }\n",
              "</style>\n",
              "<table border=\"1\" class=\"dataframe\">\n",
              "  <thead>\n",
              "    <tr style=\"text-align: right;\">\n",
              "      <th></th>\n",
              "      <th>ambient</th>\n",
              "      <th>coolant</th>\n",
              "      <th>u_d</th>\n",
              "      <th>u_q</th>\n",
              "      <th>motor_speed</th>\n",
              "      <th>i_d</th>\n",
              "      <th>i_q</th>\n",
              "      <th>pm</th>\n",
              "      <th>stator_yoke</th>\n",
              "      <th>stator_tooth</th>\n",
              "      <th>stator_winding</th>\n",
              "    </tr>\n",
              "  </thead>\n",
              "  <tbody>\n",
              "    <tr>\n",
              "      <th>0</th>\n",
              "      <td>0.677737</td>\n",
              "      <td>0.076232</td>\n",
              "      <td>0.504645</td>\n",
              "      <td>0.154203</td>\n",
              "      <td>0.005085</td>\n",
              "      <td>0.992717</td>\n",
              "      <td>0.494864</td>\n",
              "      <td>0.019217</td>\n",
              "      <td>0.000327</td>\n",
              "      <td>-0.000299</td>\n",
              "      <td>-0.001104</td>\n",
              "    </tr>\n",
              "    <tr>\n",
              "      <th>1</th>\n",
              "      <td>0.676080</td>\n",
              "      <td>0.076582</td>\n",
              "      <td>0.505085</td>\n",
              "      <td>0.154250</td>\n",
              "      <td>0.005084</td>\n",
              "      <td>0.992703</td>\n",
              "      <td>0.494868</td>\n",
              "      <td>0.019154</td>\n",
              "      <td>0.000433</td>\n",
              "      <td>-0.000006</td>\n",
              "      <td>-0.001018</td>\n",
              "    </tr>\n",
              "    <tr>\n",
              "      <th>2</th>\n",
              "      <td>0.675073</td>\n",
              "      <td>0.076665</td>\n",
              "      <td>0.505875</td>\n",
              "      <td>0.153118</td>\n",
              "      <td>0.005085</td>\n",
              "      <td>0.992688</td>\n",
              "      <td>0.494870</td>\n",
              "      <td>0.019108</td>\n",
              "      <td>0.000566</td>\n",
              "      <td>0.000173</td>\n",
              "      <td>-0.000956</td>\n",
              "    </tr>\n",
              "    <tr>\n",
              "      <th>3</th>\n",
              "      <td>0.675242</td>\n",
              "      <td>0.076644</td>\n",
              "      <td>0.506112</td>\n",
              "      <td>0.153110</td>\n",
              "      <td>0.005084</td>\n",
              "      <td>0.993477</td>\n",
              "      <td>0.494689</td>\n",
              "      <td>0.019294</td>\n",
              "      <td>0.000582</td>\n",
              "      <td>0.000386</td>\n",
              "      <td>-0.001018</td>\n",
              "    </tr>\n",
              "    <tr>\n",
              "      <th>4</th>\n",
              "      <td>0.675840</td>\n",
              "      <td>0.076642</td>\n",
              "      <td>0.506495</td>\n",
              "      <td>0.152764</td>\n",
              "      <td>0.005085</td>\n",
              "      <td>0.993236</td>\n",
              "      <td>0.494744</td>\n",
              "      <td>0.019247</td>\n",
              "      <td>0.000543</td>\n",
              "      <td>0.000464</td>\n",
              "      <td>-0.001128</td>\n",
              "    </tr>\n",
              "    <tr>\n",
              "      <th>...</th>\n",
              "      <td>...</td>\n",
              "      <td>...</td>\n",
              "      <td>...</td>\n",
              "      <td>...</td>\n",
              "      <td>...</td>\n",
              "      <td>...</td>\n",
              "      <td>...</td>\n",
              "      <td>...</td>\n",
              "      <td>...</td>\n",
              "      <td>...</td>\n",
              "      <td>...</td>\n",
              "    </tr>\n",
              "    <tr>\n",
              "      <th>33418</th>\n",
              "      <td>0.766887</td>\n",
              "      <td>0.083580</td>\n",
              "      <td>0.501501</td>\n",
              "      <td>0.315405</td>\n",
              "      <td>0.087996</td>\n",
              "      <td>0.992612</td>\n",
              "      <td>0.494884</td>\n",
              "      <td>0.108473</td>\n",
              "      <td>0.020009</td>\n",
              "      <td>0.018006</td>\n",
              "      <td>0.008830</td>\n",
              "    </tr>\n",
              "    <tr>\n",
              "      <th>33419</th>\n",
              "      <td>0.767634</td>\n",
              "      <td>0.083778</td>\n",
              "      <td>0.501554</td>\n",
              "      <td>0.315412</td>\n",
              "      <td>0.087991</td>\n",
              "      <td>0.992622</td>\n",
              "      <td>0.494887</td>\n",
              "      <td>0.108463</td>\n",
              "      <td>0.019999</td>\n",
              "      <td>0.018006</td>\n",
              "      <td>0.008821</td>\n",
              "    </tr>\n",
              "    <tr>\n",
              "      <th>33420</th>\n",
              "      <td>0.769181</td>\n",
              "      <td>0.084036</td>\n",
              "      <td>0.501460</td>\n",
              "      <td>0.315370</td>\n",
              "      <td>0.087991</td>\n",
              "      <td>0.992617</td>\n",
              "      <td>0.494885</td>\n",
              "      <td>0.108287</td>\n",
              "      <td>0.020007</td>\n",
              "      <td>0.018006</td>\n",
              "      <td>0.009058</td>\n",
              "    </tr>\n",
              "    <tr>\n",
              "      <th>33421</th>\n",
              "      <td>0.769674</td>\n",
              "      <td>0.084426</td>\n",
              "      <td>0.501442</td>\n",
              "      <td>0.315271</td>\n",
              "      <td>0.087996</td>\n",
              "      <td>0.992612</td>\n",
              "      <td>0.494884</td>\n",
              "      <td>0.108194</td>\n",
              "      <td>0.019990</td>\n",
              "      <td>0.018006</td>\n",
              "      <td>0.008984</td>\n",
              "    </tr>\n",
              "    <tr>\n",
              "      <th>33422</th>\n",
              "      <td>0.771214</td>\n",
              "      <td>0.084903</td>\n",
              "      <td>0.501387</td>\n",
              "      <td>0.315425</td>\n",
              "      <td>0.087993</td>\n",
              "      <td>0.992620</td>\n",
              "      <td>0.494888</td>\n",
              "      <td>0.108164</td>\n",
              "      <td>0.019969</td>\n",
              "      <td>0.018006</td>\n",
              "      <td>0.008931</td>\n",
              "    </tr>\n",
              "  </tbody>\n",
              "</table>\n",
              "<p>33423 rows × 11 columns</p>\n",
              "</div>"
            ],
            "text/plain": [
              "        ambient   coolant       u_d       u_q  motor_speed       i_d  \\\n",
              "0      0.677737  0.076232  0.504645  0.154203     0.005085  0.992717   \n",
              "1      0.676080  0.076582  0.505085  0.154250     0.005084  0.992703   \n",
              "2      0.675073  0.076665  0.505875  0.153118     0.005085  0.992688   \n",
              "3      0.675242  0.076644  0.506112  0.153110     0.005084  0.993477   \n",
              "4      0.675840  0.076642  0.506495  0.152764     0.005085  0.993236   \n",
              "...         ...       ...       ...       ...          ...       ...   \n",
              "33418  0.766887  0.083580  0.501501  0.315405     0.087996  0.992612   \n",
              "33419  0.767634  0.083778  0.501554  0.315412     0.087991  0.992622   \n",
              "33420  0.769181  0.084036  0.501460  0.315370     0.087991  0.992617   \n",
              "33421  0.769674  0.084426  0.501442  0.315271     0.087996  0.992612   \n",
              "33422  0.771214  0.084903  0.501387  0.315425     0.087993  0.992620   \n",
              "\n",
              "            i_q        pm  stator_yoke  stator_tooth  stator_winding  \n",
              "0      0.494864  0.019217     0.000327     -0.000299       -0.001104  \n",
              "1      0.494868  0.019154     0.000433     -0.000006       -0.001018  \n",
              "2      0.494870  0.019108     0.000566      0.000173       -0.000956  \n",
              "3      0.494689  0.019294     0.000582      0.000386       -0.001018  \n",
              "4      0.494744  0.019247     0.000543      0.000464       -0.001128  \n",
              "...         ...       ...          ...           ...             ...  \n",
              "33418  0.494884  0.108473     0.020009      0.018006        0.008830  \n",
              "33419  0.494887  0.108463     0.019999      0.018006        0.008821  \n",
              "33420  0.494885  0.108287     0.020007      0.018006        0.009058  \n",
              "33421  0.494884  0.108194     0.019990      0.018006        0.008984  \n",
              "33422  0.494888  0.108164     0.019969      0.018006        0.008931  \n",
              "\n",
              "[33423 rows x 11 columns]"
            ]
          },
          "metadata": {
            "tags": []
          },
          "execution_count": 14
        }
      ]
    },
    {
      "cell_type": "code",
      "metadata": {
        "colab_type": "code",
        "id": "vCdl5XVU7TOo",
        "colab": {}
      },
      "source": [
        "parameters = [sherpa.Discrete('lstm_hidden',[40,140]),\n",
        "              sherpa.Discrete('hidden_unit1',[16,64]),\n",
        "              sherpa.Discrete('hidden_unit2',[0,64]),\n",
        "              sherpa.Continuous('lr',[0.0005,0.005]),\n",
        "              sherpa.Choice('batch_size',[512, 1024, 2048])]\n",
        "\n",
        "alg = sherpa.algorithms.bayesian_optimization.GPyOpt(max_concurrent=1,\n",
        "                                         model_type='GP',\n",
        "                                         acquisition_type='EI',\n",
        "                                         max_num_trials=100)\n",
        "\n",
        "study = sherpa.Study(parameters=parameters,\n",
        "                     algorithm=alg,\n",
        "                     lower_is_better=True,\n",
        "                     disable_dashboard=True)"
      ],
      "execution_count": 0,
      "outputs": []
    },
    {
      "cell_type": "code",
      "metadata": {
        "colab_type": "code",
        "id": "5fpvTmjcnXqo",
        "scrolled": true,
        "colab": {}
      },
      "source": [
        "look_back = 60\n",
        "best_score = 99999\n",
        "\n",
        "for trial in study:\n",
        "    lstm = LSTM_Net(features=8, hidden=int(trial.parameters[\"lstm_hidden\"]), \n",
        "                  h1=int(trial.parameters[\"hidden_unit1\"]), \n",
        "                  h2=int(trial.parameters[\"hidden_unit2\"]),out=1).to(device)\n",
        "\n",
        "    losses = []\n",
        "    criterion = torch.nn.MSELoss()\n",
        "    optimizer = torch.optim.Adam(lstm.parameters(), lr=trial.parameters[\"lr\"])\n",
        "\n",
        "    batch_size = int(trial.parameters[\"batch_size\"])\n",
        "\n",
        "    df_length = np.sum([x.shape[0] for x in df_train])\n",
        "\n",
        "    gen = dataloader([df.values for df in df_train], look_back)\n",
        "    progress_bar = tqdm(range(0, df_length, batch_size))\n",
        "\n",
        "    lstm.train()\n",
        "    for b in progress_bar:\n",
        "        X_train = []\n",
        "        y_train = []\n",
        "        for i in range(batch_size):\n",
        "            try:\n",
        "                X,y = next(gen)\n",
        "                X_train.append(X)\n",
        "                y_train.append(y)\n",
        "            except StopIteration:\n",
        "                #in case the datagen ends, recreate a new a one and continue\n",
        "                #it should not happen though since the the datagen\n",
        "                #should be infinite (theorically), it's more of a precaution\n",
        "                gen = dataloader([df.values for df in df_train], look_back)\n",
        "\n",
        "                X,y = next(gen)\n",
        "                X_train.append(X)\n",
        "                y_train.append(y)\n",
        "\n",
        "        inpt = np.array(X_train).reshape(-1, look_back, 8)\n",
        "        target = np.array(y_train)    \n",
        "        x_batch = torch.tensor(inpt,dtype=torch.float32).to(device)  \n",
        "        y_batch = torch.tensor(target,dtype=torch.float32).to(device)\n",
        "        try:\n",
        "            output = lstm(x_batch) \n",
        "            loss = criterion(output.view(-1), y_batch.view(-1))  \n",
        "\n",
        "            loss.backward()\n",
        "            optimizer.step()        \n",
        "            optimizer.zero_grad()\n",
        "\n",
        "            losses.append(loss.item())\n",
        "        except:\n",
        "            print(\"something strange happened\")\n",
        "            print(inpt.shape)\n",
        "            print(x_batch.size())\n",
        "            break\n",
        "        \n",
        "        progress_bar.set_description(\"Epoch:\"+str(int(b/batch_size)+1)+\" Loss:\"+str(round(np.mean(losses),3)))\n",
        "        \n",
        "\n",
        "    test_gen = dataloader([df.values for df in df_val], look_back)\n",
        "    batch_size = 510\n",
        "\n",
        "    lstm.eval()\n",
        "    y_test = []\n",
        "    y_pred_all = []\n",
        "\n",
        "    \n",
        "    tot_len = np.sum([x.shape[0] for x in df_val])\n",
        "    for x in range(0, tot_len, batch_size):\n",
        "        X_test = []\n",
        "        for i in range(batch_size):\n",
        "            try:\n",
        "                X,y = next(test_gen)\n",
        "                X_test.append(X)\n",
        "                y_test.append(y)\n",
        "            except:\n",
        "                print(\"You somehow created an exception hahaha!\")\n",
        "                break\n",
        "\n",
        "        inpt = np.array(X_test).reshape(-1, look_back, 8)\n",
        "        x_test_batch = torch.tensor(inpt,dtype=torch.float32).to(device)  \n",
        "        y_pred = lstm(x_test_batch)\n",
        "\n",
        "        y_pred_all = np.append(y_pred_all,y_pred.cpu().detach().numpy())\n",
        "\n",
        "    y_test = np.array(y_test).reshape(-1)\n",
        "    score = np.mean((y_test - y_pred_all)**2) #MSE\n",
        "    if score < best_score:\n",
        "        best_score = score\n",
        "        torch.save(lstm, path + \"models/best_model_lstm\")\n",
        "        print(\"New Challanger with MSE on val:\", score, \"and confs:\", trial.parameters)\n",
        "    \n",
        "    #Sherpa PART\n",
        "    study.add_observation(trial, iteration=1, objective=score)\n",
        "    study.finalize(trial)\n",
        "    study.results.to_csv(path + \"results/AutoML_LSTM.csv\")"
      ],
      "execution_count": 0,
      "outputs": []
    },
    {
      "cell_type": "code",
      "metadata": {
        "colab_type": "code",
        "id": "iHHb2__EzwYV",
        "colab": {}
      },
      "source": [
        "best_model = torch.load(path + \"models/best_model_lstm\")\n",
        "results = pd.read_csv(path + \"results/AutoML_LSTM.csv\")\n",
        "results = results[results[\"Status\"]==\"COMPLETED\"]"
      ],
      "execution_count": 0,
      "outputs": []
    },
    {
      "cell_type": "code",
      "metadata": {
        "id": "uK4fk5Ayjqx7",
        "colab_type": "code",
        "colab": {},
        "outputId": "aa3b1c4d-2a9e-4734-8fe3-9d6c2896e8a6"
      },
      "source": [
        "results"
      ],
      "execution_count": 0,
      "outputs": [
        {
          "output_type": "execute_result",
          "data": {
            "text/html": [
              "<div>\n",
              "<style scoped>\n",
              "    .dataframe tbody tr th:only-of-type {\n",
              "        vertical-align: middle;\n",
              "    }\n",
              "\n",
              "    .dataframe tbody tr th {\n",
              "        vertical-align: top;\n",
              "    }\n",
              "\n",
              "    .dataframe thead th {\n",
              "        text-align: right;\n",
              "    }\n",
              "</style>\n",
              "<table border=\"1\" class=\"dataframe\">\n",
              "  <thead>\n",
              "    <tr style=\"text-align: right;\">\n",
              "      <th></th>\n",
              "      <th>Unnamed: 0</th>\n",
              "      <th>Trial-ID</th>\n",
              "      <th>Status</th>\n",
              "      <th>Iteration</th>\n",
              "      <th>batch_size</th>\n",
              "      <th>hidden_unit1</th>\n",
              "      <th>hidden_unit2</th>\n",
              "      <th>lr</th>\n",
              "      <th>lstm_hidden</th>\n",
              "      <th>Objective</th>\n",
              "    </tr>\n",
              "  </thead>\n",
              "  <tbody>\n",
              "    <tr>\n",
              "      <th>1</th>\n",
              "      <td>1</td>\n",
              "      <td>1</td>\n",
              "      <td>COMPLETED</td>\n",
              "      <td>1</td>\n",
              "      <td>2048.0</td>\n",
              "      <td>56.0</td>\n",
              "      <td>28.0</td>\n",
              "      <td>0.003868</td>\n",
              "      <td>70.0</td>\n",
              "      <td>0.000012</td>\n",
              "    </tr>\n",
              "    <tr>\n",
              "      <th>3</th>\n",
              "      <td>3</td>\n",
              "      <td>2</td>\n",
              "      <td>COMPLETED</td>\n",
              "      <td>1</td>\n",
              "      <td>1024.0</td>\n",
              "      <td>54.0</td>\n",
              "      <td>3.0</td>\n",
              "      <td>0.004934</td>\n",
              "      <td>57.0</td>\n",
              "      <td>0.000231</td>\n",
              "    </tr>\n",
              "    <tr>\n",
              "      <th>5</th>\n",
              "      <td>5</td>\n",
              "      <td>3</td>\n",
              "      <td>COMPLETED</td>\n",
              "      <td>1</td>\n",
              "      <td>512.0</td>\n",
              "      <td>27.0</td>\n",
              "      <td>0.0</td>\n",
              "      <td>0.004342</td>\n",
              "      <td>117.0</td>\n",
              "      <td>0.000004</td>\n",
              "    </tr>\n",
              "    <tr>\n",
              "      <th>7</th>\n",
              "      <td>7</td>\n",
              "      <td>4</td>\n",
              "      <td>COMPLETED</td>\n",
              "      <td>1</td>\n",
              "      <td>1024.0</td>\n",
              "      <td>28.0</td>\n",
              "      <td>40.0</td>\n",
              "      <td>0.002932</td>\n",
              "      <td>85.0</td>\n",
              "      <td>0.000015</td>\n",
              "    </tr>\n",
              "    <tr>\n",
              "      <th>9</th>\n",
              "      <td>9</td>\n",
              "      <td>5</td>\n",
              "      <td>COMPLETED</td>\n",
              "      <td>1</td>\n",
              "      <td>2048.0</td>\n",
              "      <td>18.0</td>\n",
              "      <td>25.0</td>\n",
              "      <td>0.001691</td>\n",
              "      <td>52.0</td>\n",
              "      <td>0.000101</td>\n",
              "    </tr>\n",
              "    <tr>\n",
              "      <th>...</th>\n",
              "      <td>...</td>\n",
              "      <td>...</td>\n",
              "      <td>...</td>\n",
              "      <td>...</td>\n",
              "      <td>...</td>\n",
              "      <td>...</td>\n",
              "      <td>...</td>\n",
              "      <td>...</td>\n",
              "      <td>...</td>\n",
              "      <td>...</td>\n",
              "    </tr>\n",
              "    <tr>\n",
              "      <th>191</th>\n",
              "      <td>191</td>\n",
              "      <td>96</td>\n",
              "      <td>COMPLETED</td>\n",
              "      <td>1</td>\n",
              "      <td>512.0</td>\n",
              "      <td>31.0</td>\n",
              "      <td>16.0</td>\n",
              "      <td>0.003700</td>\n",
              "      <td>45.0</td>\n",
              "      <td>0.000113</td>\n",
              "    </tr>\n",
              "    <tr>\n",
              "      <th>193</th>\n",
              "      <td>193</td>\n",
              "      <td>97</td>\n",
              "      <td>COMPLETED</td>\n",
              "      <td>1</td>\n",
              "      <td>512.0</td>\n",
              "      <td>36.0</td>\n",
              "      <td>54.0</td>\n",
              "      <td>0.000996</td>\n",
              "      <td>56.0</td>\n",
              "      <td>0.000007</td>\n",
              "    </tr>\n",
              "    <tr>\n",
              "      <th>195</th>\n",
              "      <td>195</td>\n",
              "      <td>98</td>\n",
              "      <td>COMPLETED</td>\n",
              "      <td>1</td>\n",
              "      <td>512.0</td>\n",
              "      <td>62.0</td>\n",
              "      <td>49.0</td>\n",
              "      <td>0.003991</td>\n",
              "      <td>75.0</td>\n",
              "      <td>0.000003</td>\n",
              "    </tr>\n",
              "    <tr>\n",
              "      <th>197</th>\n",
              "      <td>197</td>\n",
              "      <td>99</td>\n",
              "      <td>COMPLETED</td>\n",
              "      <td>1</td>\n",
              "      <td>2048.0</td>\n",
              "      <td>31.0</td>\n",
              "      <td>51.0</td>\n",
              "      <td>0.002966</td>\n",
              "      <td>92.0</td>\n",
              "      <td>0.000023</td>\n",
              "    </tr>\n",
              "    <tr>\n",
              "      <th>199</th>\n",
              "      <td>199</td>\n",
              "      <td>100</td>\n",
              "      <td>COMPLETED</td>\n",
              "      <td>1</td>\n",
              "      <td>1024.0</td>\n",
              "      <td>46.0</td>\n",
              "      <td>14.0</td>\n",
              "      <td>0.000718</td>\n",
              "      <td>47.0</td>\n",
              "      <td>0.000022</td>\n",
              "    </tr>\n",
              "  </tbody>\n",
              "</table>\n",
              "<p>100 rows × 10 columns</p>\n",
              "</div>"
            ],
            "text/plain": [
              "     Unnamed: 0  Trial-ID     Status  Iteration  batch_size  hidden_unit1  \\\n",
              "1             1         1  COMPLETED          1      2048.0          56.0   \n",
              "3             3         2  COMPLETED          1      1024.0          54.0   \n",
              "5             5         3  COMPLETED          1       512.0          27.0   \n",
              "7             7         4  COMPLETED          1      1024.0          28.0   \n",
              "9             9         5  COMPLETED          1      2048.0          18.0   \n",
              "..          ...       ...        ...        ...         ...           ...   \n",
              "191         191        96  COMPLETED          1       512.0          31.0   \n",
              "193         193        97  COMPLETED          1       512.0          36.0   \n",
              "195         195        98  COMPLETED          1       512.0          62.0   \n",
              "197         197        99  COMPLETED          1      2048.0          31.0   \n",
              "199         199       100  COMPLETED          1      1024.0          46.0   \n",
              "\n",
              "     hidden_unit2        lr  lstm_hidden  Objective  \n",
              "1            28.0  0.003868         70.0   0.000012  \n",
              "3             3.0  0.004934         57.0   0.000231  \n",
              "5             0.0  0.004342        117.0   0.000004  \n",
              "7            40.0  0.002932         85.0   0.000015  \n",
              "9            25.0  0.001691         52.0   0.000101  \n",
              "..            ...       ...          ...        ...  \n",
              "191          16.0  0.003700         45.0   0.000113  \n",
              "193          54.0  0.000996         56.0   0.000007  \n",
              "195          49.0  0.003991         75.0   0.000003  \n",
              "197          51.0  0.002966         92.0   0.000023  \n",
              "199          14.0  0.000718         47.0   0.000022  \n",
              "\n",
              "[100 rows x 10 columns]"
            ]
          },
          "metadata": {
            "tags": []
          },
          "execution_count": 16
        }
      ]
    },
    {
      "cell_type": "code",
      "metadata": {
        "id": "RO_rd00mjqx_",
        "colab_type": "code",
        "colab": {},
        "outputId": "c6882dcc-1882-446a-a9bc-240057f8a488"
      },
      "source": [
        "results[results.Objective==np.min(results.Objective)]"
      ],
      "execution_count": 0,
      "outputs": [
        {
          "output_type": "execute_result",
          "data": {
            "text/html": [
              "<div>\n",
              "<style scoped>\n",
              "    .dataframe tbody tr th:only-of-type {\n",
              "        vertical-align: middle;\n",
              "    }\n",
              "\n",
              "    .dataframe tbody tr th {\n",
              "        vertical-align: top;\n",
              "    }\n",
              "\n",
              "    .dataframe thead th {\n",
              "        text-align: right;\n",
              "    }\n",
              "</style>\n",
              "<table border=\"1\" class=\"dataframe\">\n",
              "  <thead>\n",
              "    <tr style=\"text-align: right;\">\n",
              "      <th></th>\n",
              "      <th>Unnamed: 0</th>\n",
              "      <th>Trial-ID</th>\n",
              "      <th>Status</th>\n",
              "      <th>Iteration</th>\n",
              "      <th>batch_size</th>\n",
              "      <th>hidden_unit1</th>\n",
              "      <th>hidden_unit2</th>\n",
              "      <th>lr</th>\n",
              "      <th>lstm_hidden</th>\n",
              "      <th>Objective</th>\n",
              "    </tr>\n",
              "  </thead>\n",
              "  <tbody>\n",
              "    <tr>\n",
              "      <th>103</th>\n",
              "      <td>103</td>\n",
              "      <td>52</td>\n",
              "      <td>COMPLETED</td>\n",
              "      <td>1</td>\n",
              "      <td>512.0</td>\n",
              "      <td>28.0</td>\n",
              "      <td>39.0</td>\n",
              "      <td>0.004536</td>\n",
              "      <td>84.0</td>\n",
              "      <td>0.000002</td>\n",
              "    </tr>\n",
              "  </tbody>\n",
              "</table>\n",
              "</div>"
            ],
            "text/plain": [
              "     Unnamed: 0  Trial-ID     Status  Iteration  batch_size  hidden_unit1  \\\n",
              "103         103        52  COMPLETED          1       512.0          28.0   \n",
              "\n",
              "     hidden_unit2        lr  lstm_hidden  Objective  \n",
              "103          39.0  0.004536         84.0   0.000002  "
            ]
          },
          "metadata": {
            "tags": []
          },
          "execution_count": 17
        }
      ]
    },
    {
      "cell_type": "code",
      "metadata": {
        "colab_type": "code",
        "id": "wD-E06OV2Vhb",
        "colab": {},
        "outputId": "f93a3af5-05f6-4d70-a03b-940a44389100"
      },
      "source": [
        "plt.figure(figsize=(15,5))\n",
        "best, = plt.plot(np.minimum.accumulate(np.array(results.Objective)),'*-')\n",
        "#actual, = plt.plot(np.array(results.Objective),'*-')\n",
        "\n",
        "#plt.legend([actual, best],\n",
        "#           ['Calculated','Best Seen']) \n",
        "\n",
        "plt.xlabel('Iterations')\n",
        "plt.ylabel('Best Seen MSE')\n",
        "plt.show()"
      ],
      "execution_count": 0,
      "outputs": [
        {
          "output_type": "display_data",
          "data": {
            "image/png": "[encoded data removed]",
            "text/plain": [
              "<Figure size 1080x360 with 1 Axes>"
            ]
          },
          "metadata": {
            "tags": [],
            "needs_background": "light"
          }
        }
      ]
    },
    {
      "cell_type": "code",
      "metadata": {
        "colab_type": "code",
        "id": "CUOE0O-R6s-A",
        "colab": {}
      },
      "source": [
        "look_back  = 60\n",
        "\n",
        "test_gen = dataloader([df.values for df in df_test], look_back, shuffle=False)\n",
        "size = np.sum(df.shape[0] for df in df_test)\n",
        "\n",
        "\n",
        "batch_size = 510\n",
        "\n",
        "y_test = []\n",
        "y_pred_all = []\n",
        "for x in range(0, size, batch_size):\n",
        "    X_test = []\n",
        "    for i in range(batch_size):\n",
        "        try:\n",
        "            X,y = next(test_gen)\n",
        "            X_test.append(X)\n",
        "            y_test.append(y)\n",
        "        except:\n",
        "            break\n",
        "    inpt = np.array(X_test).reshape(-1, look_back, 8)\n",
        "    x_test_batch = torch.tensor(inpt,dtype=torch.float32).to(device)  \n",
        "    y_pred = best_model(x_test_batch)\n",
        "\n",
        "    y_pred_all = np.append(y_pred_all,y_pred.cpu().detach().numpy())"
      ],
      "execution_count": 0,
      "outputs": []
    },
    {
      "cell_type": "code",
      "metadata": {
        "colab_type": "code",
        "id": "TETtDarx2qU4",
        "outputId": "679319c2-68f9-4e08-a992-789f665e76ee",
        "scrolled": false,
        "colab": {
          "base_uri": "https://localhost:8080/",
          "height": 592
        }
      },
      "source": [
        "y_test = np.array(y_test).reshape(-1)\n",
        "plt.figure(figsize=(10,10))\n",
        "plt.plot(y_test[:])\n",
        "plt.plot(y_pred_all[:])\n",
        "\n",
        "plt.show()"
      ],
      "execution_count": 0,
      "outputs": [
        {
          "output_type": "display_data",
          "data": {
            "image/png": "[encoded data removed]",
            "text/plain": [
              "<Figure size 720x720 with 1 Axes>"
            ]
          },
          "metadata": {
            "tags": [],
            "needs_background": "light"
          }
        }
      ]
    },
    {
      "cell_type": "code",
      "metadata": {
        "id": "1wuhFnpfjqyP",
        "colab_type": "code",
        "colab": {},
        "outputId": "9b8f60e6-1361-4d4b-ddfd-f51be57e98ff"
      },
      "source": [
        "np.mean(np.abs((y_test - y_pred_all)/np.abs(y_test)))"
      ],
      "execution_count": 0,
      "outputs": [
        {
          "output_type": "execute_result",
          "data": {
            "text/plain": [
              "0.00278195590558353"
            ]
          },
          "metadata": {
            "tags": []
          },
          "execution_count": 22
        }
      ]
    },
    {
      "cell_type": "markdown",
      "metadata": {
        "id": "Z9SdknRxjqyU",
        "colab_type": "text"
      },
      "source": [
        "# New Loss"
      ]
    },
    {
      "cell_type": "code",
      "metadata": {
        "id": "UVKrUnV5jqyV",
        "colab_type": "code",
        "colab": {}
      },
      "source": [
        "def new_loss(w):\n",
        "    def high_low_loss(output, target):\n",
        "        return torch.mean(w*F.relu(output - target)**2 + (1-w)*F.relu(target - output)**2)\n",
        "    \n",
        "    return high_low_loss"
      ],
      "execution_count": 0,
      "outputs": []
    },
    {
      "cell_type": "code",
      "metadata": {
        "id": "VelajxLLjqyZ",
        "colab_type": "code",
        "colab": {}
      },
      "source": [
        "FEATURES = [0, 1, 2, 3, 4, 5, 6]\n",
        "TARGET = [7, 8, 9, 10]"
      ],
      "execution_count": 0,
      "outputs": []
    },
    {
      "cell_type": "code",
      "metadata": {
        "id": "p9inTKmFjqye",
        "colab_type": "code",
        "colab": {}
      },
      "source": [
        "parameters = [sherpa.Discrete('lstm_hidden',[40,140]),\n",
        "              sherpa.Discrete('hidden_unit1',[16,64]),\n",
        "              sherpa.Discrete('hidden_unit2',[0,64]),\n",
        "              sherpa.Continuous('lr',[0.0005,0.005]),\n",
        "              sherpa.Choice('batch_size',[512, 1024, 2048])]\n",
        "\n",
        "alg = sherpa.algorithms.bayesian_optimization.GPyOpt(max_concurrent=1,\n",
        "                                         model_type='GP',\n",
        "                                         acquisition_type='EI',\n",
        "                                         max_num_trials=100)\n",
        "\n",
        "study = sherpa.Study(parameters=parameters,\n",
        "                     algorithm=alg,\n",
        "                     lower_is_better=True,\n",
        "                     disable_dashboard=True)"
      ],
      "execution_count": 0,
      "outputs": []
    },
    {
      "cell_type": "code",
      "metadata": {
        "id": "xHzi5RmHjqyi",
        "colab_type": "code",
        "colab": {
          "base_uri": "https://localhost:8080/",
          "height": 119
        },
        "outputId": "45e1321d-e6e9-4115-c99c-f6e8eef83193"
      },
      "source": [
        "look_back = 60\n",
        "best_score = 99999\n",
        "\n",
        "for trial in study:\n",
        "    lstm = LSTM_Net(features=11, hidden=int(trial.parameters[\"lstm_hidden\"]), \n",
        "                  h1=int(trial.parameters[\"hidden_unit1\"]), \n",
        "                  h2=int(trial.parameters[\"hidden_unit2\"]),out=4).to(device)\n",
        "\n",
        "    losses = []\n",
        "    criterion = torch.nn.MSELoss()\n",
        "    optimizer = torch.optim.Adam(lstm.parameters(), lr=trial.parameters[\"lr\"])\n",
        "\n",
        "    batch_size = int(trial.parameters[\"batch_size\"])\n",
        "\n",
        "    df_length = np.sum([x.shape[0] for x in df_train])\n",
        "\n",
        "    gen = dataloader([df.values for df in df_train], look_back)\n",
        "    progress_bar = range(0, df_length, batch_size)\n",
        "\n",
        "    lstm.train()\n",
        "    for b in progress_bar:\n",
        "        X_train = []\n",
        "        y_train = []\n",
        "        for i in range(batch_size):\n",
        "            try:\n",
        "                X,y = next(gen)\n",
        "                X_train.append(X)\n",
        "                y_train.append(y)\n",
        "            except StopIteration:\n",
        "                #in case the datagen ends, recreate a new a one and continue\n",
        "                #it should not happen though since the the datagen\n",
        "                #should be infinite (theorically), it's more of a precaution\n",
        "                gen = dataloader([df.values for df in df_train], look_back)\n",
        "\n",
        "                X,y = next(gen)\n",
        "                X_train.append(X)\n",
        "                y_train.append(y)\n",
        "\n",
        "        inpt = np.array(X_train).reshape(-1, look_back, 11)\n",
        "        target = np.array(y_train)    \n",
        "        x_batch = torch.tensor(inpt,dtype=torch.float32).to(device)  \n",
        "        y_batch = torch.tensor(target,dtype=torch.float32).to(device)\n",
        "        try:\n",
        "            output = lstm(x_batch) \n",
        "            loss = criterion(output.view(-1), y_batch.view(-1))  \n",
        "\n",
        "            loss.backward()\n",
        "            optimizer.step()        \n",
        "            optimizer.zero_grad()\n",
        "\n",
        "            losses.append(loss.item())\n",
        "        except:\n",
        "            print(\"something strange happened\")\n",
        "            print(inpt.shape)\n",
        "            print(x_batch.size())\n",
        "            break\n",
        "        \n",
        "        #progress_bar.set_description(\"Epoch:\"+str(int(b/batch_size)+1)+\" Loss:\"+str(round(np.mean(losses),3)))\n",
        "        \n",
        "\n",
        "    test_gen = dataloader([df.values for df in df_val], look_back)\n",
        "    batch_size = 510\n",
        "\n",
        "    lstm.eval()\n",
        "    y_test = []\n",
        "    y_pred_all = []\n",
        "\n",
        "    \n",
        "    tot_len = np.sum([x.shape[0] for x in df_val])\n",
        "    for x in range(0, tot_len, batch_size):\n",
        "        X_test = []\n",
        "        for i in range(batch_size):\n",
        "            try:\n",
        "                X,y = next(test_gen)\n",
        "                X_test.append(X)\n",
        "                y_test.append(y)\n",
        "            except:\n",
        "                print(\"You somehow created an exception hahaha!\")\n",
        "                break\n",
        "\n",
        "        inpt = np.array(X_test).reshape(-1, look_back, 11)\n",
        "        x_test_batch = torch.tensor(inpt,dtype=torch.float32).to(device)  \n",
        "        y_pred = lstm(x_test_batch)\n",
        "\n",
        "        y_pred_all = np.append(y_pred_all,y_pred.cpu().detach().numpy())\n",
        "\n",
        "    y_test = np.array(y_test).reshape(-1)\n",
        "    #score = np.mean((y_test - y_pred_all)**2) #MSE\n",
        "    score = np.mean(criterion(torch.tensor(y_pred_all), \n",
        "                              torch.tensor(y_test)).item())\n",
        "    if score < best_score:\n",
        "        best_score = score\n",
        "        torch.save(lstm, path + \"models/best_model_lstm_new_loss\")\n",
        "        print(\"New Challanger with MSE on val:\", score, \"and confs:\", trial.parameters)\n",
        "    \n",
        "    #Sherpa PART\n",
        "    study.add_observation(trial, iteration=1, objective=score)\n",
        "    study.finalize(trial)\n",
        "    study.results.to_csv(path + \"results/AutoML_LSTM_new_loss.csv\")"
      ],
      "execution_count": 24,
      "outputs": [
        {
          "output_type": "stream",
          "text": [
            "New Challanger with MSE on val: 6.34839935142555e-05 and confs: {'lstm_hidden': 47, 'hidden_unit1': 20, 'hidden_unit2': 19, 'lr': 0.004839631935078314, 'batch_size': 1024}\n",
            "New Challanger with MSE on val: 3.793524576091992e-05 and confs: {'lstm_hidden': 88, 'hidden_unit1': 23, 'hidden_unit2': 0, 'lr': 0.0006366874989484619, 'batch_size': 512}\n",
            "New Challanger with MSE on val: 2.0526688322450052e-05 and confs: {'lstm_hidden': 108, 'hidden_unit1': 58, 'hidden_unit2': 41, 'lr': 0.004168414029511609, 'batch_size': 512}\n",
            "New Challanger with MSE on val: 2.0131830851480153e-05 and confs: {'lstm_hidden': 135.0, 'hidden_unit1': 20.0, 'hidden_unit2': 61.0, 'lr': 0.005, 'batch_size': 512.0}\n",
            "New Challanger with MSE on val: 1.9663979966869765e-05 and confs: {'lstm_hidden': 139.0, 'hidden_unit1': 40.0, 'hidden_unit2': 58.0, 'lr': 0.005, 'batch_size': 512.0}\n",
            "New Challanger with MSE on val: 1.7224101946886425e-05 and confs: {'lstm_hidden': 40.0, 'hidden_unit1': 64.0, 'hidden_unit2': 12.0, 'lr': 0.005, 'batch_size': 512.0}\n"
          ],
          "name": "stdout"
        }
      ]
    },
    {
      "cell_type": "code",
      "metadata": {
        "id": "P_qgjGLijqym",
        "colab_type": "code",
        "colab": {
          "base_uri": "https://localhost:8080/",
          "height": 334
        },
        "outputId": "74b16063-cdca-40bb-8de5-0d5c1663ef13"
      },
      "source": [
        "best_model = torch.load(path + \"models/best_model_lstm_new_loss\")\n",
        "results = pd.read_csv(path + \"results/AutoML_LSTM_new_loss.csv\")\n",
        "results = results[results[\"Status\"]==\"COMPLETED\"]\n",
        "\n",
        "plt.figure(figsize=(15,5))\n",
        "best, = plt.plot(np.minimum.accumulate(np.array(results.Objective)),'*-')\n",
        "\n",
        "plt.xlabel('Iterations')\n",
        "plt.ylabel('Best Seen MSE')\n",
        "plt.show()"
      ],
      "execution_count": 25,
      "outputs": [
        {
          "output_type": "display_data",
          "data": {
            "image/png": "[encoded data removed]",
            "text/plain": [
              "<Figure size 1080x360 with 1 Axes>"
            ]
          },
          "metadata": {
            "tags": []
          }
        }
      ]
    },
    {
      "cell_type": "code",
      "metadata": {
        "id": "K9JmblmAjqyq",
        "colab_type": "code",
        "colab": {}
      },
      "source": [
        "look_back  = 60\n",
        "\n",
        "test_gen = dataloader([df.values for df in df_test], look_back, shuffle=False)\n",
        "size = np.sum(df.shape[0] for df in df_test)\n",
        "batch_size = 510\n",
        "\n",
        "y_test = []\n",
        "y_pred_all = []\n",
        "for x in range(0, size, batch_size):\n",
        "    X_test = []\n",
        "    for i in range(batch_size):\n",
        "        try:\n",
        "            X,y = next(test_gen)\n",
        "            X_test.append(X)\n",
        "            y_test.append(y)\n",
        "        except:\n",
        "            break\n",
        "    inpt = np.array(X_test).reshape(-1, look_back, 11)\n",
        "    x_test_batch = torch.tensor(inpt,dtype=torch.float32).to(device)  \n",
        "    y_pred = best_model(x_test_batch)\n",
        "\n",
        "    y_pred_all = np.append(y_pred_all,y_pred.cpu().detach().numpy())\n",
        "\n",
        "y_pred_all = y_pred_all.reshape(-1,4)\n",
        "y_test = np.array(y_test).reshape(-1,4)"
      ],
      "execution_count": 0,
      "outputs": []
    },
    {
      "cell_type": "code",
      "metadata": {
        "id": "K4YoHTCRjqyu",
        "colab_type": "code",
        "colab": {
          "base_uri": "https://localhost:8080/",
          "height": 592
        },
        "outputId": "141c48fa-58e7-48af-fd21-aa374cd2adc9"
      },
      "source": [
        "plt.figure(figsize=(15,10))\n",
        "\n",
        "plt.subplot(221)\n",
        "plt.plot(y_test[:,0])\n",
        "plt.plot(y_pred_all[:,0])\n",
        "\n",
        "plt.subplot(222)\n",
        "plt.plot(y_test[:,1])\n",
        "plt.plot(y_pred_all[:,1])\n",
        "\n",
        "plt.subplot(223)\n",
        "plt.plot(y_test[:,2])\n",
        "plt.plot(y_pred_all[:,2])\n",
        "\n",
        "plt.subplot(224)\n",
        "plt.plot(y_test[:,3])\n",
        "plt.plot(y_pred_all[:,3])\n",
        "plt.show()"
      ],
      "execution_count": 27,
      "outputs": [
        {
          "output_type": "display_data",
          "data": {
            "image/png": "[encoded data removed]",
            "text/plain": [
              "<Figure size 1080x720 with 4 Axes>"
            ]
          },
          "metadata": {
            "tags": []
          }
        }
      ]
    },
    {
      "cell_type": "code",
      "metadata": {
        "id": "y_ukxs8cjqyz",
        "colab_type": "code",
        "colab": {
          "base_uri": "https://localhost:8080/",
          "height": 34
        },
        "outputId": "89426469-fdc1-4c10-b167-6d3f3753bfa0"
      },
      "source": [
        "np.mean(np.abs((y_test - y_pred_all)/np.abs(y_test)))"
      ],
      "execution_count": 28,
      "outputs": [
        {
          "output_type": "execute_result",
          "data": {
            "text/plain": [
              "0.008588503453218559"
            ]
          },
          "metadata": {
            "tags": []
          },
          "execution_count": 28
        }
      ]
    },
    {
      "cell_type": "markdown",
      "metadata": {
        "id": "yLVV86YHjqy2",
        "colab_type": "text"
      },
      "source": [
        "# Stator Variables"
      ]
    },
    {
      "cell_type": "code",
      "metadata": {
        "id": "bPAwvGSsjqy3",
        "colab_type": "code",
        "colab": {}
      },
      "source": [
        "df_sep = [df[df.profile_id==profile].drop(['profile_id','torque','pm'], \n",
        "                                          axis=1).reset_index(drop=True) for profile in df.profile_id.unique()]"
      ],
      "execution_count": 0,
      "outputs": []
    },
    {
      "cell_type": "code",
      "metadata": {
        "id": "Ec9PdRxbjqy8",
        "colab_type": "code",
        "colab": {}
      },
      "source": [
        "FEATURES = [0, 1, 2, 3, 4, 5, 6]\n",
        "TARGET = [7,8,9]\n",
        "\n",
        "train_min = df[~df.profile_id.isin([4, 8, 16, 24, 32, 40, 48, 51, 35, 42])].drop(['profile_id','torque',\n",
        "                                                                                 'pm'], \n",
        "                                                                                 axis=1).min()\n",
        "train_max = df[~df.profile_id.isin([4, 8, 16, 24, 32, 40, 48, 51, 35, 42])].drop(['profile_id','torque',\n",
        "                                                                                 'pm'], \n",
        "                                                                                 axis=1).max()"
      ],
      "execution_count": 0,
      "outputs": []
    },
    {
      "cell_type": "code",
      "metadata": {
        "id": "NMfT0i-Pjqy_",
        "colab_type": "code",
        "colab": {}
      },
      "source": [
        "df_train = [(df_sep[i] - train_min)/(train_max - train_min)\\\n",
        "            for i in list(range(0,52)) if i not in [4, 8, 16, 24, 32, \n",
        "                                                    40, 48, 51, #val\n",
        "                                                    35, 42]] #test\n",
        "\n",
        "df_val = [(df_sep[i] - train_min)/(train_max - train_min)\\\n",
        "          for i in [4, 8, 16, 24, 32, 40, 48, 51]]\n",
        "\n",
        "df_test = [(df_sep[i] - train_min)/(train_max - train_min) for i in [35, 42]]"
      ],
      "execution_count": 0,
      "outputs": []
    },
    {
      "cell_type": "code",
      "metadata": {
        "id": "kjV_nD8FjqzC",
        "colab_type": "code",
        "colab": {}
      },
      "source": [
        "parameters = [sherpa.Discrete('lstm_hidden',[40,140]),\n",
        "              sherpa.Discrete('hidden_unit1',[16,64]),\n",
        "              sherpa.Discrete('hidden_unit2',[0,64]),\n",
        "              sherpa.Continuous('lr',[0.0005,0.005]),\n",
        "              sherpa.Choice('batch_size',[512, 1024, 2048])]\n",
        "\n",
        "alg = sherpa.algorithms.bayesian_optimization.GPyOpt(max_concurrent=1,\n",
        "                                         model_type='GP',\n",
        "                                         acquisition_type='EI',\n",
        "                                         max_num_trials=100)\n",
        "\n",
        "study = sherpa.Study(parameters=parameters,\n",
        "                     algorithm=alg,\n",
        "                     lower_is_better=True,\n",
        "                     disable_dashboard=True)"
      ],
      "execution_count": 0,
      "outputs": []
    },
    {
      "cell_type": "code",
      "metadata": {
        "scrolled": true,
        "id": "6odp2qFZjqzP",
        "colab_type": "code",
        "colab": {}
      },
      "source": [
        "look_back = 60\n",
        "best_score = 99999\n",
        "\n",
        "for trial in study:\n",
        "    lstm = LSTM_Net(features=10, hidden=int(trial.parameters[\"lstm_hidden\"]), \n",
        "                  h1=int(trial.parameters[\"hidden_unit1\"]), \n",
        "                  h2=int(trial.parameters[\"hidden_unit2\"]),out=3).to(device)\n",
        "\n",
        "    losses = []\n",
        "    criterion = torch.nn.MSELoss()\n",
        "    optimizer = torch.optim.Adam(lstm.parameters(), lr=trial.parameters[\"lr\"])\n",
        "\n",
        "    batch_size = int(trial.parameters[\"batch_size\"])\n",
        "\n",
        "    df_length = np.sum([x.shape[0] for x in df_train])\n",
        "\n",
        "    gen = dataloader([df.values for df in df_train], look_back)\n",
        "    progress_bar = tqdm(range(0, df_length, batch_size))\n",
        "\n",
        "    lstm.train()\n",
        "    for b in progress_bar:\n",
        "        X_train = []\n",
        "        y_train = []\n",
        "        for i in range(batch_size):\n",
        "            try:\n",
        "                X,y = next(gen)\n",
        "                X_train.append(X)\n",
        "                y_train.append(y)\n",
        "            except StopIteration:\n",
        "                #in case the datagen ends, recreate a new a one and continue\n",
        "                #it should not happen though since the the datagen\n",
        "                #should be infinite (theorically), it's more of a precaution\n",
        "                gen = dataloader([df.values for df in df_train], look_back)\n",
        "\n",
        "                X,y = next(gen)\n",
        "                X_train.append(X)\n",
        "                y_train.append(y)\n",
        "\n",
        "        inpt = np.array(X_train).reshape(-1, look_back, 10)\n",
        "        target = np.array(y_train)    \n",
        "        x_batch = torch.tensor(inpt,dtype=torch.float32).to(device)  \n",
        "        y_batch = torch.tensor(target,dtype=torch.float32).to(device)\n",
        "        try:\n",
        "            output = lstm(x_batch) \n",
        "            loss = criterion(output.view(batch_size,-1), y_batch.view(batch_size,-1))\n",
        "\n",
        "            loss.backward()\n",
        "            optimizer.step()        \n",
        "            optimizer.zero_grad()\n",
        "\n",
        "            losses.append(loss.item())\n",
        "        except:\n",
        "            print(\"something strange happened\")\n",
        "            print(inpt.shape)\n",
        "            print(x_batch.size())\n",
        "            break\n",
        "        \n",
        "        progress_bar.set_description(\"Epoch:\"+str(int(b/batch_size)+1)+\" Loss:\"+str(round(np.mean(losses),3)))\n",
        "        \n",
        "\n",
        "    test_gen = dataloader([df.values for df in df_val], look_back)\n",
        "    batch_size = 510\n",
        "\n",
        "    lstm.eval()\n",
        "    y_test = []\n",
        "    y_pred_all = []\n",
        "\n",
        "    \n",
        "    tot_len = np.sum([x.shape[0] for x in df_val])\n",
        "    for x in range(0, tot_len, batch_size):\n",
        "        X_test = []\n",
        "        for i in range(batch_size):\n",
        "            try:\n",
        "                X,y = next(test_gen)\n",
        "                X_test.append(X)\n",
        "                y_test.append(y)\n",
        "            except:\n",
        "                print(\"You somehow created an exception hahaha!\")\n",
        "                break\n",
        "\n",
        "        inpt = np.array(X_test).reshape(-1, look_back, 10)\n",
        "        x_test_batch = torch.tensor(inpt,dtype=torch.float32).to(device)  \n",
        "        y_pred = lstm(x_test_batch)\n",
        "\n",
        "        y_pred_all = np.append(y_pred_all,y_pred.cpu().detach().numpy())\n",
        "\n",
        "    y_test = np.array(y_test).reshape(-1)\n",
        "    score = np.mean((y_test - y_pred_all)**2) #MSE\n",
        "    if score < best_score:\n",
        "        best_score = score\n",
        "        torch.save(lstm, path + \"models/best_model_lstm_stator\")\n",
        "        print(\"New Challanger with MSE on val:\", score, \"and confs:\", trial.parameters)\n",
        "    \n",
        "    #Sherpa PART\n",
        "    study.add_observation(trial, iteration=1, objective=score)\n",
        "    study.finalize(trial)\n",
        "    study.results.to_csv(path + \"results/AutoML_LSTM_stator.csv\")"
      ],
      "execution_count": 0,
      "outputs": []
    },
    {
      "cell_type": "code",
      "metadata": {
        "id": "xxOPQ1yWjqzS",
        "colab_type": "code",
        "colab": {},
        "outputId": "7dbe5161-1361-4388-fa65-958e6525879f"
      },
      "source": [
        "best_model = torch.load(path + \"models/best_model_lstm_stator\")\n",
        "results = pd.read_csv(path + \"results/AutoML_LSTM_stator.csv\")\n",
        "results = results[results[\"Status\"]==\"COMPLETED\"]\n",
        "\n",
        "plt.figure(figsize=(15,5))\n",
        "best, = plt.plot(np.minimum.accumulate(np.array(results.Objective)),'*-')\n",
        "#actual, = plt.plot(np.array(results.Objective),'*-')\n",
        "\n",
        "#plt.legend([actual, best],\n",
        "#           ['Calculated','Best Seen']) \n",
        "\n",
        "plt.xlabel('Iterations')\n",
        "plt.ylabel('Best Seen MSE')\n",
        "plt.show()"
      ],
      "execution_count": 0,
      "outputs": [
        {
          "output_type": "display_data",
          "data": {
            "image/png": "[encoded data removed]",
            "text/plain": [
              "<Figure size 1080x360 with 1 Axes>"
            ]
          },
          "metadata": {
            "tags": [],
            "needs_background": "light"
          }
        }
      ]
    },
    {
      "cell_type": "code",
      "metadata": {
        "id": "7_AhQZ1tjqzW",
        "colab_type": "code",
        "colab": {}
      },
      "source": [
        "look_back  = 60\n",
        "\n",
        "test_gen = dataloader([df.values for df in df_test], look_back, shuffle=False)\n",
        "size = np.sum(df.shape[0] for df in df_test)\n",
        "batch_size = 510\n",
        "\n",
        "y_test = []\n",
        "#y_pred_all = []\n",
        "for x in range(0, size, batch_size):\n",
        "    X_test = []\n",
        "    for i in range(batch_size):\n",
        "        try:\n",
        "            X,y = next(test_gen)\n",
        "            X_test.append(X)\n",
        "            y_test.append(y)\n",
        "        except:\n",
        "            break\n",
        "\n",
        "    inpt = np.array(X_test).reshape(-1, look_back, 10)\n",
        "    x_test_batch = torch.tensor(inpt,dtype=torch.float32).to(device)  \n",
        "    y_pred = best_model(x_test_batch)\n",
        "    if x==0:\n",
        "        y_pred_all = y_pred.cpu().detach().numpy()\n",
        "    else:\n",
        "        y_pred_all = np.concatenate((y_pred_all,y_pred.cpu().detach().numpy()))\n",
        "\n",
        "y_test = np.array(y_test).reshape(-1,3)"
      ],
      "execution_count": 0,
      "outputs": []
    },
    {
      "cell_type": "code",
      "metadata": {
        "id": "3g1Nha49jqzZ",
        "colab_type": "code",
        "colab": {},
        "outputId": "51b09c72-9de8-4151-997f-759a512cdad7"
      },
      "source": [
        "plt.figure(figsize=(15,10))\n",
        "\n",
        "plt.subplot(131)\n",
        "plt.plot(y_test[:,0])\n",
        "plt.plot(y_pred_all[:,0])\n",
        "\n",
        "plt.subplot(132)\n",
        "plt.plot(y_test[:,1])\n",
        "plt.plot(y_pred_all[:,1])\n",
        "\n",
        "plt.subplot(133)\n",
        "plt.plot(y_test[:,2])\n",
        "plt.plot(y_pred_all[:,2])\n",
        "plt.show()"
      ],
      "execution_count": 0,
      "outputs": [
        {
          "output_type": "display_data",
          "data": {
            "image/png": "[encoded data removed]",
            "text/plain": [
              "<Figure size 1080x720 with 3 Axes>"
            ]
          },
          "metadata": {
            "tags": [],
            "needs_background": "light"
          }
        }
      ]
    },
    {
      "cell_type": "code",
      "metadata": {
        "id": "Kh3MJq_Djqzd",
        "colab_type": "code",
        "colab": {},
        "outputId": "98c5a340-97e3-4c8c-f6c8-9795437e6620"
      },
      "source": [
        "np.mean(np.abs((y_test - y_pred_all)/np.abs(y_test))) #MAPE"
      ],
      "execution_count": 0,
      "outputs": [
        {
          "output_type": "execute_result",
          "data": {
            "text/plain": [
              "0.006537875819265328"
            ]
          },
          "metadata": {
            "tags": []
          },
          "execution_count": 36
        }
      ]
    },
    {
      "cell_type": "code",
      "metadata": {
        "id": "ePQs_dyLjqzi",
        "colab_type": "code",
        "colab": {}
      },
      "source": [
        ""
      ],
      "execution_count": 0,
      "outputs": []
    }
  ]
}